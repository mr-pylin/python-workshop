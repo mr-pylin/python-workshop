{
 "cells": [
  {
   "cell_type": "markdown",
   "metadata": {},
   "source": [
    "📝 **Author:** Amirhossein Heydari - 📧 **Email:** <amirhosseinheydari78@gmail.com> - 📍 **Origin:** [mr-pylin/python-workshop](https://github.com/mr-pylin/python-workshop)\n",
    "\n",
    "---\n"
   ]
  },
  {
   "cell_type": "markdown",
   "metadata": {},
   "source": [
    "**Table of contents**<a id='toc0_'></a>    \n",
    "- [Iterables](#toc1_)    \n",
    "- [Indexing](#toc2_)    \n",
    "  - [Manipulate Elements using Indexing](#toc2_1_)    \n",
    "- [Slicing](#toc3_)    \n",
    "  - [Manipulate Elements using Slicing](#toc3_1_)    \n",
    "\n",
    "<!-- vscode-jupyter-toc-config\n",
    "\tnumbering=false\n",
    "\tanchor=true\n",
    "\tflat=false\n",
    "\tminLevel=1\n",
    "\tmaxLevel=6\n",
    "\t/vscode-jupyter-toc-config -->\n",
    "<!-- THIS CELL WILL BE REPLACED ON TOC UPDATE. DO NOT WRITE YOUR TEXT IN THIS CELL -->"
   ]
  },
  {
   "cell_type": "markdown",
   "metadata": {},
   "source": [
    "# <a id='toc1_'></a>[Iterables](#toc0_)\n",
    "\n",
    "- An iterable is an object in Python that can be iterated (looped) over\n",
    "- This means it can return its members one at a time\n",
    "- Common Iterables:\n",
    "  - Strings: e.g., `\"hello\"`\n",
    "  - Lists: e.g., `[1, 2, 3]`\n",
    "  - Tuples: e.g., `(4, 5, 6)`\n",
    "  - Dictionaries: `{'yek': 'one'}`\n",
    "  - Sets: e.g., `{7, 8, 9}`\n"
   ]
  },
  {
   "cell_type": "markdown",
   "metadata": {},
   "source": [
    "# <a id='toc2_'></a>[Indexing](#toc0_)\n",
    "\n",
    "- Indexing is the process of accessing individual elements of an iterable using their position or index, starting from 0\n"
   ]
  },
  {
   "cell_type": "code",
   "execution_count": null,
   "metadata": {},
   "outputs": [],
   "source": [
    "my_list = [10, 20, 30, 40]\n",
    "\n",
    "# index\n",
    "index_1 = my_list[0]\n",
    "index_2 = my_list[1]\n",
    "index_3 = my_list[2]\n",
    "index_4 = my_list[3]\n",
    "index_5 = my_list[-4]\n",
    "index_6 = my_list[-3]\n",
    "index_7 = my_list[-2]\n",
    "index_8 = my_list[-1]\n",
    "\n",
    "# log\n",
    "print(f\"my_list[0]  : {index_1}\")\n",
    "print(f\"my_list[1]  : {index_2}\")\n",
    "print(f\"my_list[2]  : {index_3}\")\n",
    "print(f\"my_list[3]  : {index_4}\")\n",
    "print(f\"my_list[-4] : {index_5}\")\n",
    "print(f\"my_list[-3] : {index_6}\")\n",
    "print(f\"my_list[-2] : {index_7}\")\n",
    "print(f\"my_list[-1] : {index_8}\")"
   ]
  },
  {
   "cell_type": "code",
   "execution_count": null,
   "metadata": {},
   "outputs": [],
   "source": [
    "my_list_2 = [[1, 2, 3], [4, 5, 6], [7, 8, 9]]\n",
    "\n",
    "# index\n",
    "index_1 = my_list_2[0]\n",
    "index_2 = my_list_2[1]\n",
    "index_3 = my_list_2[0][0]\n",
    "index_4 = my_list_2[1][0]\n",
    "index_5 = my_list_2[2][2]\n",
    "index_6 = my_list_2[-1][1]\n",
    "index_7 = my_list_2[-2][0]\n",
    "\n",
    "# log\n",
    "print(f\"my_list_2[0]     : {index_1}\")\n",
    "print(f\"my_list_2[1]     : {index_2}\")\n",
    "print(f\"my_list_2[0][0]  : {index_3}\")\n",
    "print(f\"my_list_2[1][0]  : {index_4}\")\n",
    "print(f\"my_list_2[2][2]  : {index_5}\")\n",
    "print(f\"my_list_2[-1][1] : {index_6}\")\n",
    "print(f\"my_list_2[-2][0] : {index_7}\")"
   ]
  },
  {
   "cell_type": "code",
   "execution_count": null,
   "metadata": {},
   "outputs": [],
   "source": [
    "my_tuple = (\"a\", \"b\", \"c\", \"d\")\n",
    "\n",
    "# index\n",
    "index_1 = my_tuple[0]\n",
    "index_2 = my_tuple[-4]\n",
    "index_3 = my_tuple[1]\n",
    "index_4 = my_tuple[3]\n",
    "\n",
    "# log\n",
    "print(f\"my_tuple[0]  : {index_1}\")\n",
    "print(f\"my_tuple[-4] : {index_2}\")\n",
    "print(f\"my_tuple[1]  : {index_3}\")\n",
    "print(f\"my_tuple[3]  : {index_4}\")"
   ]
  },
  {
   "cell_type": "code",
   "execution_count": null,
   "metadata": {},
   "outputs": [],
   "source": [
    "my_string = \"Python\"\n",
    "\n",
    "# index\n",
    "index_1 = my_string[0]\n",
    "index_2 = my_string[1]\n",
    "index_3 = my_string[2]\n",
    "index_4 = my_string[-2]\n",
    "\n",
    "# log\n",
    "print(f\"my_string[0]  : {index_1}\")\n",
    "print(f\"my_string[1]  : {index_2}\")\n",
    "print(f\"my_string[2]  : {index_3}\")\n",
    "print(f\"my_string[-2] : {index_4}\")"
   ]
  },
  {
   "cell_type": "markdown",
   "metadata": {},
   "source": [
    "## <a id='toc2_1_'></a>[Manipulate Elements using Indexing](#toc0_)\n",
    "\n",
    "- Only mutable objects can be modified using indexing.\n"
   ]
  },
  {
   "cell_type": "code",
   "execution_count": null,
   "metadata": {},
   "outputs": [],
   "source": [
    "# list is a mutable object\n",
    "my_list_3 = [1, 2, 3, 4, 5, 6]\n",
    "\n",
    "# manipulate elements\n",
    "my_list_3[0] = 9\n",
    "my_list_3[-2] = 9\n",
    "\n",
    "# log\n",
    "print(f\"new my_list_3 : {my_list_3}\")"
   ]
  },
  {
   "cell_type": "code",
   "execution_count": null,
   "metadata": {},
   "outputs": [],
   "source": [
    "# string is an immutable object\n",
    "my_string_2 = \"Hello\"\n",
    "\n",
    "# manipulating elements\n",
    "my_string_2[0] = \"A\"  # TypeError: 'str' object does not support item assignment"
   ]
  },
  {
   "cell_type": "markdown",
   "metadata": {},
   "source": [
    "# <a id='toc3_'></a>[Slicing](#toc0_)\n",
    "\n",
    "- Slicing is the process of accessing a subset or a \"slice\" of an iterable\n",
    "- It allows you to extract a portion of the iterable by specifying a start, stop, and optionally a step\n"
   ]
  },
  {
   "cell_type": "code",
   "execution_count": null,
   "metadata": {},
   "outputs": [],
   "source": [
    "my_list = [10, 20, 30, 40, 50, 60]\n",
    "\n",
    "# slice\n",
    "slice_1 = my_list[1:4]\n",
    "slice_2 = my_list[:3]\n",
    "slice_3 = my_list[3:]\n",
    "slice_4 = my_list[::2]\n",
    "slice_5 = my_list[::-1]\n",
    "\n",
    "# log\n",
    "print(f\"my_list[1:4]  : {slice_1}\")\n",
    "print(f\"my_list[:3]   : {slice_2}\")\n",
    "print(f\"my_list[3:]   : {slice_3}\")\n",
    "print(f\"my_list[::2]  : {slice_4}\")\n",
    "print(f\"my_list[::-1] : {slice_5}\")"
   ]
  },
  {
   "cell_type": "code",
   "execution_count": null,
   "metadata": {},
   "outputs": [],
   "source": [
    "my_list_2 = [[1, 2, 3], [4, 5, 6], [7, 8, 9]]\n",
    "\n",
    "# slice\n",
    "slice_1 = my_list_2[0:2]\n",
    "slice_2 = my_list_2[0][0:2]\n",
    "slice_3 = my_list_2[0][1:]\n",
    "slice_4 = my_list_2[-1][:1]\n",
    "slice_5 = my_list_2[::-1]\n",
    "\n",
    "# log\n",
    "print(f\"my_list_2[0:2]        : {slice_1}\")\n",
    "print(f\"my_list_2[0][0:2]     : {slice_2}\")\n",
    "print(f\"my_list_2[0][1:]      : {slice_3}\")\n",
    "print(f\"my_list_2[-1][:1]     : {slice_4}\")\n",
    "print(f\"my_list_2[::-1][::-1] : {slice_5}\")"
   ]
  },
  {
   "cell_type": "code",
   "execution_count": null,
   "metadata": {},
   "outputs": [],
   "source": [
    "my_tuple = (1, 2, 3, 4, 5, 6)\n",
    "\n",
    "# slice\n",
    "slice_1 = my_tuple[1:4]\n",
    "slice_2 = my_tuple[:3]\n",
    "slice_3 = my_tuple[3:]\n",
    "slice_4 = my_tuple[::2]\n",
    "slice_5 = my_tuple[::-1]\n",
    "\n",
    "# log\n",
    "print(f\"my_tuple[1:4]  : {slice_1}\")\n",
    "print(f\"my_tuple[:3]   : {slice_2}\")\n",
    "print(f\"my_tuple[3:]   : {slice_3}\")\n",
    "print(f\"my_tuple[::2]  : {slice_4}\")\n",
    "print(f\"my_tuple[::-1] : {slice_5}\")"
   ]
  },
  {
   "cell_type": "code",
   "execution_count": null,
   "metadata": {},
   "outputs": [],
   "source": [
    "my_string = \"Dreaming, after all, is a form of planning.\"\n",
    "\n",
    "# slice\n",
    "slice_1 = my_string[1:5]\n",
    "slice_2 = my_string[:6]\n",
    "slice_3 = my_string[7:]\n",
    "slice_4 = my_string[::2]\n",
    "slice_5 = my_string[::-1]\n",
    "\n",
    "# log\n",
    "print(f\"my_string[1:5]  : {slice_1}\")\n",
    "print(f\"my_string[:6]   : {slice_2}\")\n",
    "print(f\"my_string[7:]   : {slice_3}\")\n",
    "print(f\"my_string[::2]  : {slice_4}\")\n",
    "print(f\"my_string[::-1] : {slice_5}\")"
   ]
  },
  {
   "cell_type": "markdown",
   "metadata": {},
   "source": [
    "## <a id='toc3_1_'></a>[Manipulate Elements using Slicing](#toc0_)\n",
    "\n",
    "- Only mutable objects can be modified using slicing.\n"
   ]
  },
  {
   "cell_type": "code",
   "execution_count": null,
   "metadata": {},
   "outputs": [],
   "source": [
    "# list is a mutable object\n",
    "my_list_3 = [1, 2, 3, 4, 5, 6]\n",
    "\n",
    "# manipulate elements\n",
    "my_list_3[:2] = (0, 0)\n",
    "my_list_3[2:] = [1]\n",
    "\n",
    "# log\n",
    "print(f\"new my_list_3 : {my_list_3}\")"
   ]
  },
  {
   "cell_type": "code",
   "execution_count": null,
   "metadata": {},
   "outputs": [],
   "source": [
    "# string is an immutable object\n",
    "my_string_2 = \"Hello\"\n",
    "\n",
    "# manipulating elements\n",
    "my_string_2[:2] = \"A\"  # TypeError: 'str' object does not support item assignment"
   ]
  }
 ],
 "metadata": {
  "author_email": "AmirhosseinHeydari78@gmail.com",
  "author_github": "https://github.com/mr-pylin",
  "author_name": "Amirhossein Heydari",
  "kernelspec": {
   "display_name": "Python 3",
   "language": "python",
   "name": "python3"
  },
  "language_info": {
   "codemirror_mode": {
    "name": "ipython",
    "version": 3
   },
   "file_extension": ".py",
   "mimetype": "text/x-python",
   "name": "python",
   "nbconvert_exporter": "python",
   "pygments_lexer": "ipython3",
   "version": "3.12.3"
  },
  "origin_repo": "https://github.com/mr-pylin/python-workshop"
 },
 "nbformat": 4,
 "nbformat_minor": 2
}
