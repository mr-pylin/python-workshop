{
 "cells": [
  {
   "cell_type": "markdown",
   "metadata": {},
   "source": [
    "<div style=\"display: flex; justify-content: space-between; align-items: center;\">\n",
    "    <div style=\"text-align: left; flex: 4\">\n",
    "        <strong>Author:</strong> Amirhossein Heydari — \n",
    "        📧 <a href=\"mailto:amirhosseinheydari78@gmail.com\">amirhosseinheydari78@gmail.com</a> — \n",
    "        🐙 <a href=\"https://github.com/mr-pylin/python-workshop\" target=\"_blank\" rel=\"noopener\">github.com/mr-pylin</a>\n",
    "    </div>\n",
    "    <div style=\"text-align: right; flex: 1;\">\n",
    "        <a href=\"https://www.python.org/\" target=\"_blank\" rel=\"noopener noreferrer\">\n",
    "            <img src=\"../assets/images/python/logo/python-logo-inkscape.svg\" \n",
    "                 alt=\"Python Logo\"\n",
    "                 style=\"max-height: 48px; width: auto;\">\n",
    "        </a>\n",
    "    </div>\n",
    "</div>\n",
    "<hr>\n"
   ]
  },
  {
   "cell_type": "markdown",
   "metadata": {},
   "source": [
    "**Table of contents**<a id='toc0_'></a>    \n",
    "- [Data Structures](#toc1_)    \n",
    "  - [Primitive Data Structures](#toc1_1_)    \n",
    "    - [Integer (`int`)](#toc1_1_1_)    \n",
    "    - [Float (`float`)](#toc1_1_2_)    \n",
    "    - [Complex (`complex`)](#toc1_1_3_)    \n",
    "    - [Boolean (`bool`)](#toc1_1_4_)    \n",
    "    - [String (`str`)](#toc1_1_5_)    \n",
    "      - [Escape Characters](#toc1_1_5_1_)    \n",
    "      - [String Concatenation vs. String Interpolation](#toc1_1_5_2_)    \n",
    "  - [Non-Primitive Data Structures](#toc1_2_)    \n",
    "    - [List](#toc1_2_1_)    \n",
    "    - [Tuple](#toc1_2_2_)    \n",
    "    - [Set](#toc1_2_3_)    \n",
    "    - [Dictionary](#toc1_2_4_)    \n",
    "    - [Frozen Set (`frozenset`)](#toc1_2_5_)    \n",
    "    - [Byte Array (`bytearray`)](#toc1_2_6_)    \n",
    "    - [Bytes (`bytes`)](#toc1_2_7_)    \n",
    "\n",
    "<!-- vscode-jupyter-toc-config\n",
    "\tnumbering=false\n",
    "\tanchor=true\n",
    "\tflat=false\n",
    "\tminLevel=1\n",
    "\tmaxLevel=6\n",
    "\t/vscode-jupyter-toc-config -->\n",
    "<!-- THIS CELL WILL BE REPLACED ON TOC UPDATE. DO NOT WRITE YOUR TEXT IN THIS CELL -->"
   ]
  },
  {
   "cell_type": "markdown",
   "metadata": {},
   "source": [
    "# <a id='toc1_'></a>[Data Structures](#toc0_)\n",
    "\n",
    "- A data structure is a specialized format for organizing, processing, retrieving, and storing data.\n"
   ]
  },
  {
   "cell_type": "markdown",
   "metadata": {},
   "source": [
    "## <a id='toc1_1_'></a>[Primitive Data Structures](#toc0_)\n",
    "\n",
    "- Primitive data structures are the most basic data types available in Python\n"
   ]
  },
  {
   "cell_type": "markdown",
   "metadata": {},
   "source": [
    "### <a id='toc1_1_1_'></a>[Integer (`int`)](#toc0_)\n",
    "\n",
    "- Whole numbers without a fractional part\n",
    "- Example: `int_var = 5`\n",
    "- Integer Methods: [number-methods.ipynb](./builtins/number-methods.ipynb)\n",
    "- Doc: [docs.python.org/3/library/functions.html#int](https://docs.python.org/3/library/functions.html#int)\n"
   ]
  },
  {
   "cell_type": "code",
   "execution_count": null,
   "metadata": {},
   "outputs": [],
   "source": [
    "# integer (int)\n",
    "age = 25\n",
    "year = 2024\n",
    "\n",
    "# log\n",
    "print(f\"age  : {age}\")\n",
    "print(f\"year : {year}\")"
   ]
  },
  {
   "cell_type": "code",
   "execution_count": null,
   "metadata": {},
   "outputs": [],
   "source": [
    "# integer details\n",
    "type_age = type(age)\n",
    "id_age = id(age)\n",
    "\n",
    "type_year = type(year)\n",
    "id_year = id(year)\n",
    "\n",
    "# log\n",
    "print(f\"type(age)  : {type_age}\")\n",
    "print(f\"id(age)    : {id_age}\")\n",
    "print(f\"type(year) : {type_year}\")\n",
    "print(f\"id(year)   : {id_year}\")"
   ]
  },
  {
   "cell_type": "markdown",
   "metadata": {},
   "source": [
    "### <a id='toc1_1_2_'></a>[Float (`float`)](#toc0_)\n",
    "\n",
    "- Numbers with a fractional part\n",
    "- Example: `float_var = 5.7`\n",
    "- Float Methods: [number-methods.ipynb](./builtins/number-methods.ipynb)\n",
    "- Doc: [docs.python.org/3/library/functions.html#float](https://docs.python.org/3/library/functions.html#float)\n"
   ]
  },
  {
   "cell_type": "code",
   "execution_count": null,
   "metadata": {},
   "outputs": [],
   "source": [
    "# float (float)\n",
    "temperature = 36.6\n",
    "pi = 3.14159\n",
    "\n",
    "# log\n",
    "print(f\"temperature : {temperature}\")\n",
    "print(f\"pi          : {pi}\")"
   ]
  },
  {
   "cell_type": "code",
   "execution_count": null,
   "metadata": {},
   "outputs": [],
   "source": [
    "# float details\n",
    "type_temperature = type(temperature)\n",
    "id_temperature = id(temperature)\n",
    "\n",
    "type_pi = type(pi)\n",
    "id_pi = id(pi)\n",
    "\n",
    "# log\n",
    "print(f\"type(temperature) : {type_temperature}\")\n",
    "print(f\"id(temperature)   : {id_temperature}\")\n",
    "print(f\"type(pi)          : {type_pi}\")\n",
    "print(f\"id(pi)            : {id_pi}\")"
   ]
  },
  {
   "cell_type": "markdown",
   "metadata": {},
   "source": [
    "### <a id='toc1_1_3_'></a>[Complex (`complex`)](#toc0_)\n",
    "\n",
    "- Represents complex numbers\n",
    "- Example: `complex_var = 3 + 4j`\n",
    "- Complex Methods: [number-methods.ipynb](./builtins/number-methods.ipynb)\n",
    "- Doc: [docs.python.org/3/library/functions.html#complex](https://docs.python.org/3/library/functions.html#complex)\n"
   ]
  },
  {
   "cell_type": "code",
   "execution_count": null,
   "metadata": {},
   "outputs": [],
   "source": [
    "# complex (complex)\n",
    "complex_number = 2 + 3j\n",
    "another_complex = 5 - 2j\n",
    "\n",
    "# log\n",
    "print(f\"complex_number  : {complex_number}\")\n",
    "print(f\"another_complex : {another_complex}\")"
   ]
  },
  {
   "cell_type": "code",
   "execution_count": null,
   "metadata": {},
   "outputs": [],
   "source": [
    "# complex details\n",
    "type_complex_number = type(complex_number)\n",
    "id_complex_number = id(complex_number)\n",
    "\n",
    "type_another_complex = type(another_complex)\n",
    "id_another_complex = id(another_complex)\n",
    "\n",
    "# log\n",
    "print(f\"type(complex_number)  : {type_complex_number}\")\n",
    "print(f\"id(complex_number)    : {id_complex_number}\")\n",
    "print(f\"type(another_complex) : {type_another_complex}\")\n",
    "print(f\"id(another_complex)   : {id_another_complex}\")"
   ]
  },
  {
   "cell_type": "markdown",
   "metadata": {},
   "source": [
    "### <a id='toc1_1_4_'></a>[Boolean (`bool`)](#toc0_)\n",
    "\n",
    "- Represents `True` or `False`\n",
    "- Example: `bool_var = True`\n",
    "- Doc: [docs.python.org/3/c-api/bool.html#boolean-objects](https://docs.python.org/3/c-api/bool.html#boolean-objects)\n"
   ]
  },
  {
   "cell_type": "code",
   "execution_count": null,
   "metadata": {},
   "outputs": [],
   "source": [
    "# boolean (bool)\n",
    "is_student = True\n",
    "has_passed = False\n",
    "\n",
    "# log\n",
    "print(f\"is_student : {is_student}\")\n",
    "print(f\"has_passed : {has_passed}\")"
   ]
  },
  {
   "cell_type": "code",
   "execution_count": null,
   "metadata": {},
   "outputs": [],
   "source": [
    "# boolean details\n",
    "type_is_student = type(is_student)\n",
    "id_is_student = id(is_student)\n",
    "\n",
    "type_has_passed = type(has_passed)\n",
    "id_has_passed = id(has_passed)\n",
    "\n",
    "# log\n",
    "print(f\"type(is_student) : {type_is_student}\")\n",
    "print(f\"id(is_student)   : {id_is_student}\")\n",
    "print(f\"type(has_passed) : {type_has_passed}\")\n",
    "print(f\"id(has_passed)   : {id_has_passed}\")"
   ]
  },
  {
   "cell_type": "markdown",
   "metadata": {},
   "source": [
    "### <a id='toc1_1_5_'></a>[String (`str`)](#toc0_)\n",
    "\n",
    "- Sequence of characters\n",
    "- Example: `str_var = \"Hello\"`\n",
    "- String Methods: [string-methods.ipynb](./builtins/string-methods.ipynb)\n",
    "- Doc: [docs.python.org/3/library/string.html#module-string](https://docs.python.org/3/library/string.html#module-string)\n"
   ]
  },
  {
   "cell_type": "code",
   "execution_count": null,
   "metadata": {},
   "outputs": [],
   "source": [
    "# string (str)\n",
    "name = \"Alice\"\n",
    "greeting = \"Hello, World!\"\n",
    "\n",
    "# log\n",
    "print(f\"name     : {name}\")\n",
    "print(f\"greeting : {greeting}\")"
   ]
  },
  {
   "cell_type": "code",
   "execution_count": null,
   "metadata": {},
   "outputs": [],
   "source": [
    "# string details\n",
    "type_name = type(name)\n",
    "id_name = id(name)\n",
    "len_name = len(name)\n",
    "\n",
    "type_greeting = type(greeting)\n",
    "id_greeting = id(greeting)\n",
    "len_greeting = len(greeting)\n",
    "\n",
    "# log\n",
    "print(f\"type(name)     : {type_name}\")\n",
    "print(f\"id(name)       : {id_name}\")\n",
    "print(f\"len(name)      : {len_name}\")\n",
    "print(f\"type(greeting) : {type_greeting}\")\n",
    "print(f\"id(greeting)   : {id_greeting}\")\n",
    "print(f\"len(greeting)  : {len_greeting}\")"
   ]
  },
  {
   "cell_type": "markdown",
   "metadata": {},
   "source": [
    "#### <a id='toc1_1_5_1_'></a>[Escape Characters](#toc0_)\n",
    "\n",
    "- Escape sequences are used in strings to represent characters that are difficult or impossible to express directly\n",
    "- They are preceded by a backslash (`\\`) to indicate that the following character or sequence of characters has a special meaning\n",
    "- Doc: [docs.python.org/3/reference/lexical_analysis.html#escape-sequences](https://docs.python.org/3/reference/lexical_analysis.html#escape-sequences)\n",
    "\n",
    "<table style=\"width: 48%; float: left; margin-right: 2%;\">\n",
    "  <thead>\n",
    "    <tr>\n",
    "      <th style=\"width: 30%;\">Escape Sequence</th>\n",
    "      <th style=\"width: 70%;\">Meaning</th>\n",
    "    </tr>\n",
    "  </thead>\n",
    "  <tbody>\n",
    "    <tr>\n",
    "      <td style=\"font-family: monospace;\">\\</td>\n",
    "      <td>Backslash and newline ignored</td>\n",
    "    </tr>\n",
    "    <tr>\n",
    "      <td style=\"font-family: monospace;\">\\\\</td>\n",
    "      <td>Backslash (<span style=\"font-family: monospace;\">\\</span>)</td>\n",
    "    </tr>\n",
    "    <tr>\n",
    "      <td style=\"font-family: monospace;\">\\'</td>\n",
    "      <td>Single quote (<span style=\"font-family: monospace;\">'</span>)</td>\n",
    "    </tr>\n",
    "    <tr>\n",
    "      <td style=\"font-family: monospace;\">\\\"</td>\n",
    "      <td>Double quote (<span style=\"font-family: monospace;\">\"</span>)</td>\n",
    "    </tr>\n",
    "    <tr>\n",
    "      <td style=\"font-family: monospace;\">\\a</td>\n",
    "      <td>ASCII Bell (BEL)</td>\n",
    "    </tr>\n",
    "    <tr>\n",
    "      <td style=\"font-family: monospace;\">\\b</td>\n",
    "      <td>ASCII Backspace (BS)</td>\n",
    "    </tr>\n",
    "    <tr>\n",
    "      <td style=\"font-family: monospace;\">\\f</td>\n",
    "      <td>ASCII Formfeed (FF)</td>\n",
    "    </tr>\n",
    "    <tr>\n",
    "      <td style=\"font-family: monospace;\">\\n</td>\n",
    "      <td>ASCII Linefeed (LF)</td>\n",
    "    </tr>\n",
    "  </tbody>\n",
    "</table>\n",
    "\n",
    "<table style=\"width: 48%; float: left;\">\n",
    "  <thead>\n",
    "    <tr>\n",
    "      <th style=\"width: 30%;\">Escape Sequence</th>\n",
    "      <th style=\"width: 70%;\">Meaning</th>\n",
    "    </tr>\n",
    "  </thead>\n",
    "  <tbody>\n",
    "    <tr>\n",
    "      <td style=\"font-family: monospace;\">\\r</td>\n",
    "      <td>ASCII Carriage Return (CR)</td>\n",
    "    </tr>\n",
    "    <tr>\n",
    "      <td style=\"font-family: monospace;\">\\t</td>\n",
    "      <td>ASCII Horizontal Tab (TAB)</td>\n",
    "    </tr>\n",
    "    <tr>\n",
    "      <td style=\"font-family: monospace;\">\\v</td>\n",
    "      <td>ASCII Vertical Tab (VT)</td>\n",
    "    </tr>\n",
    "    <tr>\n",
    "      <td style=\"font-family: monospace;\">\\ooo</td>\n",
    "      <td>Character with octal value ooo</td>\n",
    "    </tr>\n",
    "    <tr>\n",
    "      <td style=\"font-family: monospace;\">\\xhh</td>\n",
    "      <td>Character with hex value hh</td>\n",
    "    </tr>\n",
    "    <tr>\n",
    "      <td style=\"font-family: monospace;\">\\N{name}</td>\n",
    "      <td>Character named name in the Unicode database</td>\n",
    "    </tr>\n",
    "    <tr>\n",
    "      <td style=\"font-family: monospace;\">\\uxxxx</td>\n",
    "      <td>Character with 16-bit hex value xxxx</td>\n",
    "    </tr>\n",
    "    <tr>\n",
    "      <td style=\"font-family: monospace;\">\\Uxxxxxxxx</td>\n",
    "      <td>Character with 32-bit hex value xxxxxxxx</td>\n",
    "    </tr>\n",
    "  </tbody>\n",
    "</table>\n"
   ]
  },
  {
   "cell_type": "code",
   "execution_count": null,
   "metadata": {},
   "outputs": [],
   "source": [
    "quote_example1 = 'She said, \"Hello, how are you?\"'\n",
    "quote_example2 = \"It's a beautiful day!\"\n",
    "\n",
    "# log\n",
    "print(quote_example1)\n",
    "print(quote_example2)"
   ]
  },
  {
   "cell_type": "code",
   "execution_count": null,
   "metadata": {},
   "outputs": [],
   "source": [
    "multiline_string = \"First line\\nSecond line\\nThird line\"\n",
    "\n",
    "# log\n",
    "print(multiline_string)"
   ]
  },
  {
   "cell_type": "code",
   "execution_count": null,
   "metadata": {},
   "outputs": [],
   "source": [
    "tabbed_string = \"Name\\tAge\\tLocation\\nAlice\\t30\\tNew York\\nBob\\t25\\tSan Francisco\"\n",
    "\n",
    "# log\n",
    "print(tabbed_string)"
   ]
  },
  {
   "cell_type": "code",
   "execution_count": null,
   "metadata": {},
   "outputs": [],
   "source": [
    "file_path = \"C:\\\\Users\\\\Username\\\\Documents\\\\file.txt\"\n",
    "\n",
    "# log\n",
    "print(file_path)"
   ]
  },
  {
   "cell_type": "code",
   "execution_count": null,
   "metadata": {},
   "outputs": [],
   "source": [
    "alert_example = \"Alert! \\a\"\n",
    "\n",
    "# log (the system may produce a beep sound)\n",
    "print(alert_example)"
   ]
  },
  {
   "cell_type": "code",
   "execution_count": null,
   "metadata": {},
   "outputs": [],
   "source": [
    "unicode_hex = \"Café\\u00e9\"\n",
    "\n",
    "# log\n",
    "print(unicode_hex)"
   ]
  },
  {
   "cell_type": "code",
   "execution_count": null,
   "metadata": {},
   "outputs": [],
   "source": [
    "emoji_example = \"Smile: \\U0001f600\"\n",
    "\n",
    "# log\n",
    "print(emoji_example)"
   ]
  },
  {
   "cell_type": "markdown",
   "metadata": {},
   "source": [
    "#### <a id='toc1_1_5_2_'></a>[String Concatenation vs. String Interpolation](#toc0_)\n",
    "\n",
    "- String concatenation involves joining strings together using the `+` operator or `space`\n",
    "- String interpolation inserts values into a string at placeholders\n",
    "  1. f-strings (Formatted String Literals) [Python 3.6+]\n",
    "      - Use `f\"{variable}\"` syntax to embed expressions inside string literals.\n",
    "  1. str.format()\n",
    "      - Use the `str.format()` method with curly braces `{}` as placeholders.\n",
    "  1. `%` Operator (Old Style)\n",
    "      - This is an older method using the `%` operator, similar to C-style string formatting.\n",
    "\n",
    "**Performance Considerations**:\n",
    "\n",
    "- For small-scale operations, the performance difference between concatenation and interpolation is negligible\n",
    "- For larger strings or inside loops, f-strings tend to be the fastest, followed by str.format() and then concatenation\n",
    "\n",
    "---\n",
    "\n",
    "📝 **Docs**:\n",
    "\n",
    "- Formatted String Literals: [docs.python.org/3/tutorial/inputoutput.html#tut-f-strings](https://docs.python.org/3/tutorial/inputoutput.html#tut-f-strings)\n",
    "- `str.format()`: [docs.python.org/3/library/stdtypes.html#str.format](https://docs.python.org/3/library/stdtypes.html#str.format)\n",
    "- `%` Operator: [docs.python.org/3/library/stdtypes.html#printf-style-string-formatting](https://docs.python.org/3/library/stdtypes.html#printf-style-string-formatting)\n"
   ]
  },
  {
   "cell_type": "markdown",
   "metadata": {},
   "source": [
    "## <a id='toc1_2_'></a>[Non-Primitive Data Structures](#toc0_)\n",
    "\n",
    "- Non-primitive data structures are more complex and are built using primitive data structures\n"
   ]
  },
  {
   "cell_type": "markdown",
   "metadata": {},
   "source": [
    "### <a id='toc1_2_1_'></a>[List](#toc0_)\n",
    "\n",
    "- Ordered and [mutable](https://docs.python.org/3/library/stdtypes.html#mutable-sequence-types) collection of items\n",
    "- Example: `list_var = [1, 2, 3]`\n",
    "- List Methods: [list-methods.ipynb](./builtins/list-methods.ipynb)\n",
    "- Doc: [docs.python.org/3/library/stdtypes.html#lists](https://docs.python.org/3/library/stdtypes.html#lists)\n",
    "- Tutorial: [docs.python.org/3/tutorial/datastructures.html#more-on-lists](https://docs.python.org/3/tutorial/datastructures.html#more-on-lists)\n"
   ]
  },
  {
   "cell_type": "code",
   "execution_count": null,
   "metadata": {},
   "outputs": [],
   "source": [
    "numbers = [1, 2, 3, 4, 5]\n",
    "fruits = [\"apple\", \"banana\", \"cherry\"]\n",
    "mixed_list = [1, \"hello\", 3.14, True]\n",
    "matrix = [[1, 2, 3], [4, 5, 6], [7, 8, 9]]\n",
    "\n",
    "# log\n",
    "print(f\"numbers    : {numbers}\")\n",
    "print(f\"fruits     : {fruits}\")\n",
    "print(f\"mixed_list : {mixed_list}\")\n",
    "print(f\"matrix     : {matrix}\")"
   ]
  },
  {
   "cell_type": "code",
   "execution_count": null,
   "metadata": {},
   "outputs": [],
   "source": [
    "# list details\n",
    "type_mixed_list = type(mixed_list)\n",
    "id_mixed_list = id(mixed_list)\n",
    "len_mixed_list = len(mixed_list)\n",
    "\n",
    "type_matrix = type(matrix)\n",
    "id_matrix = id(matrix)\n",
    "len_matrix = len(matrix)\n",
    "\n",
    "# log\n",
    "print(f\"type(mixed_list) : {type_mixed_list}\")\n",
    "print(f\"id(mixed_list)   : {id_mixed_list}\")\n",
    "print(f\"len(mixed_list)  : {len_mixed_list}\")\n",
    "print(f\"type(matrix)     : {type_matrix}\")\n",
    "print(f\"id(matrix)       : {id_matrix}\")\n",
    "print(f\"len(matrix)      : {len_matrix}\")"
   ]
  },
  {
   "cell_type": "markdown",
   "metadata": {},
   "source": [
    "### <a id='toc1_2_2_'></a>[Tuple](#toc0_)\n",
    "\n",
    "- Ordered and [immutable](https://docs.python.org/3/library/stdtypes.html#immutable-sequence-types) collection of items\n",
    "- Example: `tuple_var = (1, 2, 3)`\n",
    "- Tuple Methods: [tuple-methods.ipynb](./builtins/tuple-methods.ipynb)\n",
    "- Doc: [docs.python.org/3/library/stdtypes.html#tuples](https://docs.python.org/3/library/stdtypes.html#tuples)\n",
    "- Tutorial: [docs.python.org/3/tutorial/datastructures.html#tuples-and-sequences](https://docs.python.org/3/tutorial/datastructures.html#tuples-and-sequences)\n"
   ]
  },
  {
   "cell_type": "code",
   "execution_count": null,
   "metadata": {},
   "outputs": [],
   "source": [
    "point = (1, 2)\n",
    "colors = (\"red\", \"green\", \"blue\")\n",
    "data = (1, \"hello\", 3.14, False)\n",
    "nested_tuple = ((1, 2), (3, 4), (5, 6))\n",
    "\n",
    "# log\n",
    "print(f\"point        : {point}\")\n",
    "print(f\"colors       : {colors}\")\n",
    "print(f\"data         : {data}\")\n",
    "print(f\"nested_tuple : {nested_tuple}\")"
   ]
  },
  {
   "cell_type": "code",
   "execution_count": null,
   "metadata": {},
   "outputs": [],
   "source": [
    "# tuple details\n",
    "type_data = type(data)\n",
    "id_data = id(data)\n",
    "len_data = len(data)\n",
    "\n",
    "type_nested_tuple = type(nested_tuple)\n",
    "id_nested_tuple = id(nested_tuple)\n",
    "len_nested_tuple = len(nested_tuple)\n",
    "\n",
    "# log\n",
    "print(f\"type(data)         : {type_data}\")\n",
    "print(f\"id(data)           : {id_data}\")\n",
    "print(f\"len(data)          : {len_data}\")\n",
    "print(f\"type(nested_tuple) : {type_nested_tuple}\")\n",
    "print(f\"id(nested_tuple)   : {id_nested_tuple}\")\n",
    "print(f\"len(nested_tuple)  : {len_nested_tuple}\")"
   ]
  },
  {
   "cell_type": "markdown",
   "metadata": {},
   "source": [
    "### <a id='toc1_2_3_'></a>[Set](#toc0_)\n",
    "\n",
    "- Unordered collection of unique items\n",
    "- Example: `set_var = {1, 2, 3}`\n",
    "- Set Methods: [set-methods.ipynb](./builtins/set-methods.ipynb)\n",
    "- Doc: [docs.python.org/3/library/stdtypes.html#set](https://docs.python.org/3/library/stdtypes.html#set)\n",
    "- Tutorial: [docs.python.org/3/tutorial/datastructures.html#sets](https://docs.python.org/3/tutorial/datastructures.html#sets)\n"
   ]
  },
  {
   "cell_type": "code",
   "execution_count": null,
   "metadata": {},
   "outputs": [],
   "source": [
    "numbers = {1, 2, 3, 4, 5}\n",
    "unique_fruits = {\"apple\", \"banana\", \"cherry\"}\n",
    "mixed_set = {1, \"hello\", 3.14, (1, 2)}\n",
    "\n",
    "# log\n",
    "print(f\"numbers       : {numbers}\")\n",
    "print(f\"unique_fruits : {unique_fruits}\")\n",
    "print(f\"mixed_set     : {mixed_set}\")"
   ]
  },
  {
   "cell_type": "code",
   "execution_count": null,
   "metadata": {},
   "outputs": [],
   "source": [
    "# set details\n",
    "type_data = type(data)\n",
    "id_data = id(data)\n",
    "len_data = len(data)\n",
    "\n",
    "type_nested_tuple = type(nested_tuple)\n",
    "id_nested_tuple = id(nested_tuple)\n",
    "len_nested_tuple = len(nested_tuple)\n",
    "\n",
    "# log\n",
    "print(f\"type(data)         : {type_data}\")\n",
    "print(f\"id(data)           : {id_data}\")\n",
    "print(f\"len(data)          : {len_data}\")\n",
    "print(f\"type(nested_tuple) : {type_nested_tuple}\")\n",
    "print(f\"id(nested_tuple)   : {id_nested_tuple}\")\n",
    "print(f\"len(nested_tuple)  : {len_nested_tuple}\")"
   ]
  },
  {
   "cell_type": "markdown",
   "metadata": {},
   "source": [
    "### <a id='toc1_2_4_'></a>[Dictionary](#toc0_)\n",
    "\n",
    "- Collections of key-value pairs, ordered from Python v3.7+\n",
    "- Example: `dict_var = {\"key1\": \"value1\", \"key2\": \"value2\"}`\n",
    "- Dictionary Methods: [dictionary-methods.ipynb](./builtins/dictionary-methods.ipynb)\n",
    "- Doc: [docs.python.org/3/library/stdtypes.html#mapping-types-dict](https://docs.python.org/3/library/stdtypes.html#mapping-types-dict)\n",
    "- Tutorial: [docs.python.org/3/tutorial/datastructures.html#dictionaries](https://docs.python.org/3/tutorial/datastructures.html#dictionaries)\n"
   ]
  },
  {
   "cell_type": "code",
   "execution_count": null,
   "metadata": {},
   "outputs": [],
   "source": [
    "ages = {\"Alice\": 30, \"Bob\": 25, \"Charlie\": 35}\n",
    "info = {1: \"one\", \"two\": 2, 3.0: \"three\"}\n",
    "nested_dict = {\"person\": {\"name\": \"Alice\", \"age\": 30}, \"city\": \"New York\"}\n",
    "student_courses = {\"Alice\": [\"Math\", \"Science\"], \"Bob\": [\"English\", \"History\"]}\n",
    "\n",
    "# log\n",
    "print(f\"ages            : {ages}\")\n",
    "print(f\"info            : {info}\")\n",
    "print(f\"nested_dict     : {nested_dict}\")\n",
    "print(f\"student_courses : {student_courses}\")"
   ]
  },
  {
   "cell_type": "code",
   "execution_count": null,
   "metadata": {},
   "outputs": [],
   "source": [
    "# dictionary details\n",
    "type_ages = type(ages)\n",
    "id_ages = id(ages)\n",
    "len_ages = len(ages)\n",
    "\n",
    "type_nested_dict = type(nested_dict)\n",
    "id_nested_dict = id(nested_dict)\n",
    "len_nested_dict = len(nested_dict)\n",
    "\n",
    "# log\n",
    "print(f\"type(ages)        : {type_ages}\")\n",
    "print(f\"id(ages)          : {id_ages}\")\n",
    "print(f\"len(ages)         : {len_ages}\")\n",
    "print(f\"type(nested_dict) : {type_nested_dict}\")\n",
    "print(f\"id(nested_dict)   : {id_nested_dict}\")\n",
    "print(f\"len(nested_dict)  : {len_nested_dict}\")"
   ]
  },
  {
   "cell_type": "markdown",
   "metadata": {},
   "source": [
    "### <a id='toc1_2_5_'></a>[Frozen Set (`frozenset`)](#toc0_)\n",
    "\n",
    "- [Immutable](https://docs.python.org/3/library/stdtypes.html#immutable-sequence-types) sets\n",
    "- Example: `frozenset_var = frozenset([1, 2, 3])`\n",
    "- Doc: [docs.python.org/3/library/stdtypes.html#frozenset](https://docs.python.org/3/library/stdtypes.html#frozenset)\n"
   ]
  },
  {
   "cell_type": "code",
   "execution_count": null,
   "metadata": {},
   "outputs": [],
   "source": [
    "frozenset1 = frozenset([1, 2, 3, 4, 5])\n",
    "frozenset2 = frozenset([\"apple\", \"banana\", \"cherry\"])\n",
    "frozenset3 = frozenset([1, \"hello\", 3.14, (1, 2)])\n",
    "\n",
    "# log\n",
    "print(f\"frozenset1: {frozenset1}\")\n",
    "print(f\"frozenset2: {frozenset2}\")\n",
    "print(f\"frozenset3: {frozenset3}\")"
   ]
  },
  {
   "cell_type": "markdown",
   "metadata": {},
   "source": [
    "### <a id='toc1_2_6_'></a>[Byte Array (`bytearray`)](#toc0_)\n",
    "\n",
    "- [Mutable](https://docs.python.org/3/library/stdtypes.html#mutable-sequence-types) sequences of bytes\n",
    "- Example: `bytearray_var = bytearray(b\"Hello\")`\n",
    "- Doc: [docs.python.org/3/library/stdtypes.html#bytearray](https://docs.python.org/3/library/stdtypes.html#bytearray)\n"
   ]
  },
  {
   "cell_type": "code",
   "execution_count": null,
   "metadata": {},
   "outputs": [],
   "source": [
    "byte_array1 = bytearray([65, 66, 67])  # corresponds to ASCII 'A', 'B', 'C'\n",
    "byte_array2 = bytearray(\"hello\", \"utf-8\")\n",
    "byte_array3 = bytearray(10)  # creates a bytearray with 10 zero bytes\n",
    "\n",
    "# log\n",
    "print(f\"byte_array1: {byte_array1}\")\n",
    "print(f\"byte_array2: {byte_array2}\")\n",
    "print(f\"byte_array3: {byte_array3}\")"
   ]
  },
  {
   "cell_type": "markdown",
   "metadata": {},
   "source": [
    "### <a id='toc1_2_7_'></a>[Bytes (`bytes`)](#toc0_)\n",
    "\n",
    "- [Immutable](https://docs.python.org/3/library/stdtypes.html#immutable-sequence-types) sequences of bytes\n",
    "- Example: `bytes_var = b\"Hello\"`\n",
    "- Doc: [docs.python.org/3/library/stdtypes.html#bytes](https://docs.python.org/3/library/stdtypes.html#bytes)\n"
   ]
  },
  {
   "cell_type": "code",
   "execution_count": null,
   "metadata": {},
   "outputs": [],
   "source": [
    "bytes1 = bytes(\"hello\", \"utf-8\")\n",
    "bytes2 = bytes([65, 66, 67])  # corresponds to ASCII 'A', 'B', 'C'\n",
    "bytes3 = bytes()  # creates an empty bytes object\n",
    "\n",
    "# log\n",
    "print(f\"bytes1: {bytes1}\")\n",
    "print(f\"bytes2: {bytes2}\")\n",
    "print(f\"bytes3: {bytes3}\")"
   ]
  }
 ],
 "metadata": {
  "author_email": "AmirhosseinHeydari78@gmail.com",
  "author_github": "https://github.com/mr-pylin",
  "author_name": "Amirhossein Heydari",
  "kernelspec": {
   "display_name": "Python 3",
   "language": "python",
   "name": "python3"
  },
  "language_info": {
   "codemirror_mode": {
    "name": "ipython",
    "version": 3
   },
   "file_extension": ".py",
   "mimetype": "text/x-python",
   "name": "python",
   "nbconvert_exporter": "python",
   "pygments_lexer": "ipython3",
   "version": "3.12.3"
  },
  "origin_repo": "https://github.com/mr-pylin/python-workshop"
 },
 "nbformat": 4,
 "nbformat_minor": 2
}
