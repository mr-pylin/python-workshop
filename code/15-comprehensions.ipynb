{
 "cells": [
  {
   "cell_type": "markdown",
   "metadata": {},
   "source": [
    "📝 **Author:** Amirhossein Heydari - 📧 **Email:** <amirhosseinheydari78@gmail.com> - 📍 **Origin:** [mr-pylin/python-workshop](https://github.com/mr-pylin/python-workshop)\n",
    "\n",
    "---\n"
   ]
  },
  {
   "cell_type": "markdown",
   "metadata": {},
   "source": [
    "**Table of contents**<a id='toc0_'></a>    \n",
    "- [Comprehensions](#toc1_)    \n",
    "  - [List Comprehensions](#toc1_1_)    \n",
    "    - [Simple List Comprehension](#toc1_1_1_)    \n",
    "    - [List Comprehension With If Condition](#toc1_1_2_)    \n",
    "    - [List Comprehension With If-Else Condition](#toc1_1_3_)    \n",
    "    - [Nested List Comprehension](#toc1_1_4_)    \n",
    "  - [Set Comprehensions](#toc1_2_)    \n",
    "  - [Dictionary Comprehensions](#toc1_3_)    \n",
    "  - [Generator Comprehensions](#toc1_4_)    \n",
    "    - [Passing to Functions](#toc1_4_1_)    \n",
    "    - [Converting to Other Data Structures](#toc1_4_2_)    \n",
    "  - [yield keyword in functions](#toc1_5_)    \n",
    "\n",
    "<!-- vscode-jupyter-toc-config\n",
    "\tnumbering=false\n",
    "\tanchor=true\n",
    "\tflat=false\n",
    "\tminLevel=1\n",
    "\tmaxLevel=6\n",
    "\t/vscode-jupyter-toc-config -->\n",
    "<!-- THIS CELL WILL BE REPLACED ON TOC UPDATE. DO NOT WRITE YOUR TEXT IN THIS CELL -->"
   ]
  },
  {
   "cell_type": "markdown",
   "metadata": {},
   "source": [
    "# <a id='toc1_'></a>[Comprehensions](#toc0_)\n",
    "\n",
    "- Comprehensions provide a concise way to create lists, dictionaries, sets, or even generators using an elegant syntax.\n",
    "- They allow us to replace traditional loops with a single line that is both readable and efficient.\n",
    "\n",
    "❓ **Why Use Comprehensions?**\n",
    "\n",
    "- **Conciseness**: They allow you to write code in a single line instead of multiple loops.\n",
    "- **Readability**: A well-structured comprehension can be easier to understand than a loop with nested conditions.\n",
    "- **Performance**: Comprehensions are optimized for performance and can be more efficient in terms of both time and space than equivalent loops.\n",
    "\n",
    "✍️ **Tips and Tricks**:\n",
    "\n",
    "- Avoid overly complex comprehensions\n",
    "  - They can become unreadable if you try to fit too much logic into a single line.\n",
    "  - In those cases, it's better to use traditional `for` loops for clarity.\n",
    "- Use comprehensions for small-to-medium sized data\n",
    "  - Comprehensions create a list in memory.\n",
    "  - If you're working with very large datasets, consider using `generator` expressions instead for better memory efficiency.\n",
    "\n",
    "📝 **Docs**:\n",
    "\n",
    "- List Comprehensions: [docs.python.org/3/tutorial/datastructures.html#list-comprehensions](https://docs.python.org/3/tutorial/datastructures.html#list-comprehensions)\n",
    "- Nested List Comprehensions: [docs.python.org/3/tutorial/datastructures.html#nested-list-comprehensions](https://docs.python.org/3/tutorial/datastructures.html#nested-list-comprehensions)\n",
    "- Generator expressions: [docs.python.org/3/reference/expressions.html#generator-expressions](https://docs.python.org/3/reference/expressions.html#generator-expressions)\n",
    "- Yield expressions: [docs.python.org/3/reference/expressions.html#yield-expressions](https://docs.python.org/3/reference/expressions.html#yield-expressions)\n",
    "- Displays for lists, sets and dictionaries: [docs.python.org/3/reference/expressions.html#displays-for-lists-sets-and-dictionaries](https://docs.python.org/3/reference/expressions.html#displays-for-lists-sets-and-dictionaries)\n",
    "\n",
    "🐍 **PEP**:\n",
    "\n",
    "- List Comprehensions [[PEP 202](https://peps.python.org/pep-0202/)]\n",
    "- Inlined comprehensions [[PEP 709](https://peps.python.org/pep-0709/)]\n"
   ]
  },
  {
   "cell_type": "markdown",
   "metadata": {},
   "source": [
    "## <a id='toc1_1_'></a>[List Comprehensions](#toc0_)\n"
   ]
  },
  {
   "cell_type": "markdown",
   "metadata": {},
   "source": [
    "### <a id='toc1_1_1_'></a>[Simple List Comprehension](#toc0_)\n",
    "\n",
    "**Syntax**:\n",
    "\n",
    "```python\n",
    "    [expression for item in iterable]\n",
    "```\n"
   ]
  },
  {
   "cell_type": "code",
   "execution_count": null,
   "metadata": {},
   "outputs": [],
   "source": [
    "squares = [x**2 for x in range(10)]\n",
    "\n",
    "# log\n",
    "print(f\"squares : {squares}\")"
   ]
  },
  {
   "cell_type": "markdown",
   "metadata": {},
   "source": [
    "### <a id='toc1_1_2_'></a>[List Comprehension With If Condition](#toc0_)\n",
    "\n",
    "**Syntax**:\n",
    "\n",
    "```python\n",
    "    [expression for item in iterable if condition]\n",
    "```\n"
   ]
  },
  {
   "cell_type": "code",
   "execution_count": null,
   "metadata": {},
   "outputs": [],
   "source": [
    "even_squares = [x**2 for x in range(10) if x % 2 == 0]\n",
    "\n",
    "# log\n",
    "print(even_squares)"
   ]
  },
  {
   "cell_type": "markdown",
   "metadata": {},
   "source": [
    "### <a id='toc1_1_3_'></a>[List Comprehension With If-Else Condition](#toc0_)\n",
    "\n",
    "**Syntax**:\n",
    "\n",
    "```python\n",
    "    [expression_if_true if condition else expression_if_false for item in iterable]\n",
    "```\n"
   ]
  },
  {
   "cell_type": "code",
   "execution_count": null,
   "metadata": {},
   "outputs": [],
   "source": [
    "squares_or_negatives = [x**2 if x % 2 == 0 else -x for x in range(10)]\n",
    "\n",
    "# log\n",
    "print(squares_or_negatives)"
   ]
  },
  {
   "cell_type": "markdown",
   "metadata": {},
   "source": [
    "### <a id='toc1_1_4_'></a>[Nested List Comprehension](#toc0_)\n"
   ]
  },
  {
   "cell_type": "code",
   "execution_count": null,
   "metadata": {},
   "outputs": [],
   "source": [
    "matrix = [[1, 2, 3], [4, 5, 6], [7, 8, 9]]\n",
    "flat_list = [num for row in matrix for num in row]\n",
    "\n",
    "# log\n",
    "print(flat_list)"
   ]
  },
  {
   "cell_type": "markdown",
   "metadata": {},
   "source": [
    "## <a id='toc1_2_'></a>[Set Comprehensions](#toc0_)\n",
    "\n",
    "Same as List Comprehension but using `{}` rather than `[]`.\n"
   ]
  },
  {
   "cell_type": "code",
   "execution_count": null,
   "metadata": {},
   "outputs": [],
   "source": [
    "squares = {x**2 for x in range(10)}\n",
    "\n",
    "# log\n",
    "print(squares)"
   ]
  },
  {
   "cell_type": "code",
   "execution_count": null,
   "metadata": {},
   "outputs": [],
   "source": [
    "sentence = \"Python comprehensions are powerful\"\n",
    "vowels = {char for char in sentence.lower() if char in \"aeiou\"}\n",
    "\n",
    "# log\n",
    "print(vowels)"
   ]
  },
  {
   "cell_type": "code",
   "execution_count": null,
   "metadata": {},
   "outputs": [],
   "source": [
    "squares_or_negatives = {x**2 if x % 2 == 0 else -x for x in range(10)}\n",
    "\n",
    "# log\n",
    "print(squares_or_negatives)"
   ]
  },
  {
   "cell_type": "markdown",
   "metadata": {},
   "source": [
    "## <a id='toc1_3_'></a>[Dictionary Comprehensions](#toc0_)\n",
    "\n",
    "Same as List Comprehension but using `{}` rather than `[]`.\n"
   ]
  },
  {
   "cell_type": "code",
   "execution_count": null,
   "metadata": {},
   "outputs": [],
   "source": [
    "original_dict = {\"a\": 1, \"b\": 2, \"c\": 3}\n",
    "reversed_dict = {v: k for k, v in original_dict.items()}\n",
    "\n",
    "# log\n",
    "print(reversed_dict)"
   ]
  },
  {
   "cell_type": "code",
   "execution_count": null,
   "metadata": {},
   "outputs": [],
   "source": [
    "num_dict = {x: (x**2, x**3) for x in range(1, 6)}\n",
    "\n",
    "# log\n",
    "print(num_dict)"
   ]
  },
  {
   "cell_type": "code",
   "execution_count": null,
   "metadata": {},
   "outputs": [],
   "source": [
    "even_squares = {x: x**2 for x in range(10) if x % 2 == 0}\n",
    "\n",
    "# log\n",
    "print(even_squares)"
   ]
  },
  {
   "cell_type": "code",
   "execution_count": null,
   "metadata": {},
   "outputs": [],
   "source": [
    "even_or_none = {x: x**2 if x % 2 == 0 else None for x in range(10)}\n",
    "\n",
    "# log\n",
    "print(even_or_none)"
   ]
  },
  {
   "cell_type": "code",
   "execution_count": null,
   "metadata": {},
   "outputs": [],
   "source": [
    "nested_dict = {x: {y: y**2 for y in range(x + 1)} for x in range(3)}\n",
    "\n",
    "# log\n",
    "print(nested_dict)"
   ]
  },
  {
   "cell_type": "markdown",
   "metadata": {},
   "source": [
    "## <a id='toc1_4_'></a>[Generator Comprehensions](#toc0_)\n",
    "\n",
    "- Generator expressions provide a compact and memory-efficient way to generate items on the fly, one at a time, rather than storing them all in memory.\n",
    "- Generators are typically used in a loop or with functions that consume iterators like `sum()`, `max()`, `min()`, etc.\n",
    "- They are similar to list comprehensions but use `()` instead of `[]`.\n",
    "\n",
    "✍️ **Key Features**:\n",
    "\n",
    "- Lazy Evaluation:\n",
    "  - Items are produced one at a time when requested, which makes generator expressions memory-efficient.\n",
    "  - This is ideal for large datasets or streams of data.\n",
    "- No Intermediate Data Structure:\n",
    "  - Generator expressions don’t create the entire data in memory.\n",
    "  - They return an iterator-like object that produces values on demand.\n",
    "\n",
    "❓ **When to Use**:\n",
    "\n",
    "- Large Data:\n",
    "  - When you're working with a large amount of data or data streams, use generator expressions to avoid loading everything into memory.\n",
    "- Infinite Sequences:\n",
    "  - If the iterable has an unbounded size (e.g., an infinite sequence), use a generator expression since it can process items on-demand.\n"
   ]
  },
  {
   "cell_type": "code",
   "execution_count": null,
   "metadata": {},
   "outputs": [],
   "source": [
    "gen = (x**2 for x in range(5))\n",
    "\n",
    "# log\n",
    "print(f\"gen : {gen}\")"
   ]
  },
  {
   "cell_type": "code",
   "execution_count": null,
   "metadata": {},
   "outputs": [],
   "source": [
    "gen = (x**2 for x in range(5))\n",
    "\n",
    "# log\n",
    "for value in gen:\n",
    "    print(value)"
   ]
  },
  {
   "cell_type": "code",
   "execution_count": null,
   "metadata": {},
   "outputs": [],
   "source": [
    "gen = (x**2 for x in range(5))\n",
    "\n",
    "# manual iterating over an iterable\n",
    "print(next(gen))\n",
    "print(next(gen))\n",
    "print(next(gen))\n",
    "print(next(gen))\n",
    "print(next(gen))"
   ]
  },
  {
   "cell_type": "markdown",
   "metadata": {},
   "source": [
    "### <a id='toc1_4_1_'></a>[Passing to Functions](#toc0_)\n"
   ]
  },
  {
   "cell_type": "code",
   "execution_count": null,
   "metadata": {},
   "outputs": [],
   "source": [
    "total = sum(x for x in range(10))\n",
    "\n",
    "# log\n",
    "print(total)"
   ]
  },
  {
   "cell_type": "markdown",
   "metadata": {},
   "source": [
    "### <a id='toc1_4_2_'></a>[Converting to Other Data Structures](#toc0_)\n"
   ]
  },
  {
   "cell_type": "code",
   "execution_count": null,
   "metadata": {},
   "outputs": [],
   "source": [
    "gen = (x * x for x in range(5))\n",
    "list_gen = list(gen)\n",
    "\n",
    "# log\n",
    "print(gen)\n",
    "print(list_gen)"
   ]
  },
  {
   "cell_type": "markdown",
   "metadata": {},
   "source": [
    "## <a id='toc1_5_'></a>[yield keyword in functions](#toc0_)\n",
    "\n",
    "- the yield keyword is used to create generators, which allow you to iterate over data lazily.\n",
    "\n",
    "✍️ **Key Concepts**:\n",
    "\n",
    "- Function Becomes a Generator\n",
    "  - When a function contains a yield statement, it becomes a generator function.\n",
    "  - Instead of returning a value and exiting, it pauses its execution, saving its state.\n",
    "  - The next time the generator is called (typically using `next()` or a loop), it resumes where it left off.\n",
    "- Lazy Evaluation\n",
    "  - Generators yield values one at a time, which is memory efficient\n",
    "  - Especially when dealing with large datasets, the items are computed as needed.\n",
    "- Maintains State\n",
    "  - The function retains its execution state (variables, position, etc.) between successive calls.\n",
    "  - It doesn't start fresh on every call, unlike normal functions.\n"
   ]
  },
  {
   "cell_type": "code",
   "execution_count": null,
   "metadata": {},
   "outputs": [],
   "source": [
    "def count_up_to(n: int):\n",
    "    count = 1\n",
    "    while count <= n:\n",
    "        yield count\n",
    "        count += 1"
   ]
  },
  {
   "cell_type": "code",
   "execution_count": null,
   "metadata": {},
   "outputs": [],
   "source": [
    "# create a generator\n",
    "gen = count_up_to(5)\n",
    "\n",
    "# log\n",
    "for num in gen:\n",
    "    print(num)"
   ]
  },
  {
   "cell_type": "code",
   "execution_count": null,
   "metadata": {},
   "outputs": [],
   "source": [
    "# create a generator\n",
    "gen = count_up_to(5)\n",
    "\n",
    "# log\n",
    "print(next(gen))\n",
    "print(next(gen))\n",
    "print(next(gen))\n",
    "print(next(gen))\n",
    "print(next(gen))"
   ]
  },
  {
   "cell_type": "code",
   "execution_count": null,
   "metadata": {},
   "outputs": [],
   "source": [
    "# calling next() more than the length of sequence -> StopIteration Exception\n",
    "next(gen)"
   ]
  }
 ],
 "metadata": {
  "author_email": "AmirhosseinHeydari78@gmail.com",
  "author_github": "https://github.com/mr-pylin",
  "author_name": "Amirhossein Heydari",
  "kernelspec": {
   "display_name": "Python 3",
   "language": "python",
   "name": "python3"
  },
  "language_info": {
   "codemirror_mode": {
    "name": "ipython",
    "version": 3
   },
   "file_extension": ".py",
   "mimetype": "text/x-python",
   "name": "python",
   "nbconvert_exporter": "python",
   "pygments_lexer": "ipython3",
   "version": "3.12.3"
  },
  "origin_repo": "https://github.com/mr-pylin/python-workshop"
 },
 "nbformat": 4,
 "nbformat_minor": 2
}
