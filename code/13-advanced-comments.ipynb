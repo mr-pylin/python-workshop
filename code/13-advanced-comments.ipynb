{
 "cells": [
  {
   "cell_type": "markdown",
   "metadata": {},
   "source": [
    "<div style=\"display: flex; justify-content: space-between; align-items: center;\">\n",
    "    <div style=\"text-align: left; flex: 4\">\n",
    "        <strong>Author:</strong> Amirhossein Heydari — \n",
    "        📧 <a href=\"mailto:amirhosseinheydari78@gmail.com\">amirhosseinheydari78@gmail.com</a> — \n",
    "        🐙 <a href=\"https://github.com/mr-pylin/python-workshop\" target=\"_blank\" rel=\"noopener\">github.com/mr-pylin</a>\n",
    "    </div>\n",
    "    <div style=\"text-align: right; flex: 1;\">\n",
    "        <a href=\"https://www.python.org/\" target=\"_blank\" rel=\"noopener noreferrer\">\n",
    "            <img src=\"../assets/images/python/logo/python-logo-inkscape.svg\" \n",
    "                 alt=\"Python Logo\"\n",
    "                 style=\"max-height: 48px; width: auto;\">\n",
    "        </a>\n",
    "    </div>\n",
    "</div>\n",
    "<hr>\n"
   ]
  },
  {
   "cell_type": "markdown",
   "metadata": {},
   "source": [
    "**Table of contents**<a id='toc0_'></a>    \n",
    "- [Advanced Comments](#toc1_)    \n",
    "  - [Inline Comments](#toc1_1_)    \n",
    "  - [Block Comments](#toc1_2_)    \n",
    "  - [Type Hints](#toc1_3_)    \n",
    "    - [Type Hints for Variables](#toc1_3_1_)    \n",
    "    - [Type Hints for Functions](#toc1_3_2_)    \n",
    "    - [Type Hints with Class Methods](#toc1_3_3_)    \n",
    "    - [Advance Type Hinting](#toc1_3_4_)    \n",
    "      - [Using \"typing\" package](#toc1_3_4_1_)    \n",
    "      - [Built-In Type Hinting](#toc1_3_4_2_)    \n",
    "  - [Docstrings](#toc1_4_)    \n",
    "      - [Accessing docstrings](#toc1_4_1_1_)    \n",
    "    - [Module Docstrings](#toc1_4_2_)    \n",
    "  - [Section Headers (for larger files)](#toc1_5_)    \n",
    "  - [Special Comments](#toc1_6_)    \n",
    "\n",
    "<!-- vscode-jupyter-toc-config\n",
    "\tnumbering=false\n",
    "\tanchor=true\n",
    "\tflat=false\n",
    "\tminLevel=1\n",
    "\tmaxLevel=6\n",
    "\t/vscode-jupyter-toc-config -->\n",
    "<!-- THIS CELL WILL BE REPLACED ON TOC UPDATE. DO NOT WRITE YOUR TEXT IN THIS CELL -->"
   ]
  },
  {
   "cell_type": "markdown",
   "metadata": {},
   "source": [
    "# <a id='toc1_'></a>[Advanced Comments](#toc0_)\n"
   ]
  },
  {
   "cell_type": "markdown",
   "metadata": {},
   "source": [
    "## <a id='toc1_1_'></a>[Inline Comments](#toc0_)\n",
    "\n",
    "- Inline comments are brief explanations written on the same line as code, separated by at least two spaces.\n",
    "- They should be used judiciously to clarify non-obvious implementation details or reasoning.\n",
    "- Key principles:\n",
    "  - **Minimalism**: Only use when necessary (clear code > comments)\n",
    "  - **Relevance**: Explain why, not what (the code should be self-documenting)\n",
    "  - **Formatting**: Always use `#` + space, keep under 72 chars when possible\n",
    "\n",
    "🐍 **PEP**:\n",
    "- PEP 8 - Style Guide [[PEP 8](https://peps.python.org/pep-0008/)]\n"
   ]
  },
  {
   "cell_type": "code",
   "execution_count": null,
   "metadata": {},
   "outputs": [],
   "source": [
    "x = 10  # initialize x with value 10"
   ]
  },
  {
   "cell_type": "code",
   "execution_count": null,
   "metadata": {},
   "outputs": [],
   "source": [
    "age = 20\n",
    "if age >= 18:  # check if person is adult\n",
    "    print(\"Adult\")\n",
    "else:\n",
    "    print(\"Minor\")"
   ]
  },
  {
   "cell_type": "code",
   "execution_count": null,
   "metadata": {},
   "outputs": [],
   "source": [
    "for i in range(3):\n",
    "    print(i)  # print current loop index i"
   ]
  },
  {
   "cell_type": "markdown",
   "metadata": {},
   "source": [
    "## <a id='toc1_2_'></a>[Block Comments](#toc0_)\n",
    "\n",
    "- Block comments are used to describe complex logic, algorithms, or sections of code.\n",
    "- They are written as multiple lines starting with `#` and are typically placed before the code they explain.\n",
    "- Best practices:\n",
    "  - **Alignment**: Each line should start with `#` and a single space.\n",
    "  - **Content**: Explain the purpose, not the implementation (unless non-obvious).\n",
    "  - **Length**: Keep to 72-79 characters per line (PEP 8 line length recommendation).\n",
    "  - **Spacing**: Separate from code by one blank line above and below (unless grouping related lines).\n",
    "\n",
    "🐍 **PEP**:\n",
    "- PEP 8 - Style Guide [[PEP 8](https://peps.python.org/pep-0008/)]\n"
   ]
  },
  {
   "cell_type": "code",
   "execution_count": null,
   "metadata": {},
   "outputs": [],
   "source": [
    "# check the sign of the number:\n",
    "# if positive, print \"Positive\"\n",
    "# if zero, print \"Zero\"\n",
    "# otherwise, print \"Negative\"\n",
    "num = -3\n",
    "if num > 0:\n",
    "    print(\"Positive\")\n",
    "elif num == 0:\n",
    "    print(\"Zero\")\n",
    "else:\n",
    "    print(\"Negative\")"
   ]
  },
  {
   "cell_type": "code",
   "execution_count": null,
   "metadata": {},
   "outputs": [],
   "source": [
    "# loop over the numbers 0 to 4\n",
    "# and print each number on a new line.\n",
    "for i in range(5):\n",
    "    print(i)"
   ]
  },
  {
   "cell_type": "markdown",
   "metadata": {},
   "source": [
    "## <a id='toc1_3_'></a>[Type Hints](#toc0_)\n",
    "\n",
    "- Type hints (introduced in Python 3.5+) annotate expected types for variables, parameters, and return values\n",
    "- Key benefits:\n",
    "  - **Improved readability**: Explicit type expectations\n",
    "  - **Better tooling**: Enables static type checking (mypy, pyright, IDEs)\n",
    "  - **Documentation**: Serves as machine-readable docs\n",
    "  - **Early error detection**: Catches type mismatches before runtime\n",
    "\n",
    "📝 **Doc**:\n",
    "\n",
    "- Function Annotations: [docs.python.org/3/tutorial/controlflow.html#function-annotations](https://docs.python.org/3/tutorial/controlflow.html#function-annotations)\n",
    "- typing Module: [docs.python.org/3/library/typing.html](https://docs.python.org/3/library/typing.html)\n",
    "- mypy Documentation: [mypy.readthedocs.io](https://mypy.readthedocs.io/)\n",
    "\n",
    "🐍 **PEP**:\n",
    "\n",
    "- Type Hints [[PEP 484](https://peps.python.org/pep-0484/)]\n",
    "- PEP 585 - Type Hinting Generics [[PEP 585](https://peps.python.org/pep-0585/)]\n",
    "- PEP 604 - Union Operator [[PEP 604](https://peps.python.org/pep-0604/)]\n"
   ]
  },
  {
   "cell_type": "markdown",
   "metadata": {},
   "source": [
    "### <a id='toc1_3_1_'></a>[Type Hints for Variables](#toc0_)\n"
   ]
  },
  {
   "cell_type": "code",
   "execution_count": null,
   "metadata": {},
   "outputs": [],
   "source": [
    "username: str = \"alice\"\n",
    "age: int = 25\n",
    "balance: float = 100.75\n",
    "is_active: bool = True\n",
    "\n",
    "# log\n",
    "print(f\"username  : {username}\")\n",
    "print(f\"age       : {age}\")\n",
    "print(f\"balance   : {balance}\")\n",
    "print(f\"is_active : {is_active}\")"
   ]
  },
  {
   "cell_type": "code",
   "execution_count": null,
   "metadata": {},
   "outputs": [],
   "source": [
    "# type hints are optional!\n",
    "number: int = [\"a\", \"b\"]\n",
    "\n",
    "# log\n",
    "print(f\"number       : {number}\")\n",
    "print(f\"type(number) : {type(number)}\")"
   ]
  },
  {
   "cell_type": "markdown",
   "metadata": {},
   "source": [
    "### <a id='toc1_3_2_'></a>[Type Hints for Functions](#toc0_)\n"
   ]
  },
  {
   "cell_type": "code",
   "execution_count": null,
   "metadata": {},
   "outputs": [],
   "source": [
    "def greet(name: str, age: int) -> str:\n",
    "    return f\"Hello, {name}. You are {age} years old.\"\n",
    "\n",
    "\n",
    "message = greet(\"Alice\", 25)\n",
    "\n",
    "# log\n",
    "print(message)"
   ]
  },
  {
   "cell_type": "markdown",
   "metadata": {},
   "source": [
    "### <a id='toc1_3_3_'></a>[Type Hints with Class Methods](#toc0_)\n",
    "\n",
    "⚠️ Note: classes are covered in future notebooks.\n"
   ]
  },
  {
   "cell_type": "code",
   "execution_count": null,
   "metadata": {},
   "outputs": [],
   "source": [
    "# define a class\n",
    "class Person:\n",
    "    def __init__(self, name: str, age: int) -> None:\n",
    "        self.name = name\n",
    "        self.age = age\n",
    "\n",
    "    def greet(self) -> str:\n",
    "        return f\"Hello, my name is {self.name} and I am {self.age} years old.\"\n",
    "\n",
    "\n",
    "# initialize an object of class <Person>\n",
    "person = Person(\"Alice\", 25)\n",
    "\n",
    "# log\n",
    "print(person.greet())"
   ]
  },
  {
   "cell_type": "markdown",
   "metadata": {},
   "source": [
    "### <a id='toc1_3_4_'></a>[Advance Type Hinting](#toc0_)\n"
   ]
  },
  {
   "cell_type": "markdown",
   "metadata": {},
   "source": [
    "#### <a id='toc1_3_4_1_'></a>[Using \"typing\" package](#toc0_)\n",
    "\n",
    "- Mostly used in python v3.9-\n",
    "- Good practice to maintain backward compatibility for python v3.9+\n",
    "- some type hints e.g. `Callable` and `Iterator` are still not available in native built-in types.\n"
   ]
  },
  {
   "cell_type": "code",
   "execution_count": null,
   "metadata": {},
   "outputs": [],
   "source": [
    "# import necessary dependencies\n",
    "from typing import List, Tuple, Set, Dict, Optional, Union, Callable, Any, Iterator"
   ]
  },
  {
   "cell_type": "code",
   "execution_count": null,
   "metadata": {},
   "outputs": [],
   "source": [
    "# <numbers> is a list of integers\n",
    "# returned value is a list of integers\n",
    "def double_numbers(numbers: List[int]) -> List[int]:\n",
    "    return [x * 2 for x in numbers]\n",
    "\n",
    "\n",
    "# log\n",
    "print(double_numbers([1, 2, 3]))"
   ]
  },
  {
   "cell_type": "code",
   "execution_count": null,
   "metadata": {},
   "outputs": [],
   "source": [
    "# <age> is a dictionary with string keys and integer values\n",
    "# returned value is None\n",
    "def print_ages(ages: Dict[str, int]) -> None:\n",
    "    for name, age in ages.items():\n",
    "        print(f\"{name} is {age} years old.\")\n",
    "\n",
    "\n",
    "# log\n",
    "user_ages = {\"Alice\": 25, \"Bob\": 30}\n",
    "print_ages(user_ages)"
   ]
  },
  {
   "cell_type": "code",
   "execution_count": null,
   "metadata": {},
   "outputs": [],
   "source": [
    "# <name> can be a string or None\n",
    "# returned value is str\n",
    "def greet_optional(name: Optional[str] = None) -> str:\n",
    "    if name:\n",
    "        return f\"Hello, {name}!\"\n",
    "    return \"Hello, stranger!\"\n",
    "\n",
    "\n",
    "# Example usage:\n",
    "print(greet_optional(\"Alice\"))\n",
    "print(greet_optional())"
   ]
  },
  {
   "cell_type": "code",
   "execution_count": null,
   "metadata": {},
   "outputs": [],
   "source": [
    "# <a> and <b> can be either int or float\n",
    "# returned value can be either int or float\n",
    "def add(a: Union[int, float], b: Union[int, float]) -> Union[int, float]:\n",
    "    return a + b\n",
    "\n",
    "\n",
    "# log\n",
    "print(add(5, 10))\n",
    "print(add(3.5, 2.5))"
   ]
  },
  {
   "cell_type": "code",
   "execution_count": null,
   "metadata": {},
   "outputs": [],
   "source": [
    "# <task> accepts another function (with no arguments, no return)\n",
    "# returned value is None\n",
    "def execute_task(task: Callable[[], None]) -> None:\n",
    "    task()\n",
    "\n",
    "\n",
    "# returned value is None\n",
    "def sample_task() -> None:\n",
    "    print(\"Task executed!\")\n",
    "\n",
    "\n",
    "# log\n",
    "execute_task(sample_task)"
   ]
  },
  {
   "cell_type": "code",
   "execution_count": null,
   "metadata": {},
   "outputs": [],
   "source": [
    "# <point> accepts a tuple of two integers\n",
    "# returned value is int\n",
    "def calculate_distance(point: Tuple[int, int]) -> int:\n",
    "    x, y = point\n",
    "    return x + y\n",
    "\n",
    "\n",
    "# log\n",
    "distance = calculate_distance((10, 20))\n",
    "print(distance)"
   ]
  },
  {
   "cell_type": "code",
   "execution_count": null,
   "metadata": {},
   "outputs": [],
   "source": [
    "# <data> accepts any type of argument\n",
    "# returned value is None\n",
    "def show_data(data: Any) -> None:\n",
    "    print(f\"Data: {data}\")\n",
    "\n",
    "\n",
    "# log\n",
    "show_data(123)\n",
    "show_data(\"Hello!\")"
   ]
  },
  {
   "cell_type": "code",
   "execution_count": null,
   "metadata": {},
   "outputs": [],
   "source": [
    "# type alias for a list of tuples representing coordinates\n",
    "Coordinates = List[Tuple[int, int]]\n",
    "\n",
    "\n",
    "# <points> accepts a list of tuples of two integers\n",
    "# returned value is None\n",
    "def print_coordinates(points: Coordinates) -> None:\n",
    "    for x, y in points:\n",
    "        print(f\"X: {x}, Y: {y}\")\n",
    "\n",
    "\n",
    "# log\n",
    "points = [(1, 2), (3, 4)]\n",
    "print_coordinates(points)"
   ]
  },
  {
   "cell_type": "code",
   "execution_count": null,
   "metadata": {},
   "outputs": [],
   "source": [
    "# <n> accepts int value\n",
    "# returned value yields a sequence of int\n",
    "def generate_numbers(n: int) -> Iterator[int]:\n",
    "    for i in range(n):\n",
    "        yield i\n",
    "\n",
    "\n",
    "# log\n",
    "for number in generate_numbers(5):\n",
    "    print(number)"
   ]
  },
  {
   "cell_type": "markdown",
   "metadata": {},
   "source": [
    "#### <a id='toc1_3_4_2_'></a>[Built-In Type Hinting](#toc0_)\n",
    "\n",
    "- Native type hint syntax introduced in Python v3.9 and later\n"
   ]
  },
  {
   "cell_type": "code",
   "execution_count": null,
   "metadata": {},
   "outputs": [],
   "source": [
    "# <numbers> accepts a list of integers\n",
    "# returned value is a list of integers\n",
    "def double_numbers(numbers: list[int]) -> list[int]:\n",
    "    return [x * 2 for x in numbers]\n",
    "\n",
    "\n",
    "# log\n",
    "print(double_numbers([1, 2, 3]))"
   ]
  },
  {
   "cell_type": "code",
   "execution_count": null,
   "metadata": {},
   "outputs": [],
   "source": [
    "# <point> accepts a tuple of two integers\n",
    "# returned value is int\n",
    "def calculate_distance(point: tuple[int, int]) -> int:\n",
    "    x, y = point\n",
    "    return x + y\n",
    "\n",
    "\n",
    "# log\n",
    "distance = calculate_distance((10, 20))\n",
    "print(distance)"
   ]
  },
  {
   "cell_type": "code",
   "execution_count": null,
   "metadata": {},
   "outputs": [],
   "source": [
    "# <ages> accepts a dictionary with string keys and integer values\n",
    "# returned value is None\n",
    "def print_ages(ages: dict[str, int]) -> None:\n",
    "    for name, age in ages.items():\n",
    "        print(f\"{name} is {age} years old.\")\n",
    "\n",
    "\n",
    "# log\n",
    "user_ages = {\"Alice\": 25, \"Bob\": 30}\n",
    "print_ages(user_ages)"
   ]
  },
  {
   "cell_type": "code",
   "execution_count": null,
   "metadata": {},
   "outputs": [],
   "source": [
    "# <name> can be a string or None\n",
    "# returned value is str\n",
    "def greet_optional(name: str | None = None) -> str:\n",
    "    if name:\n",
    "        return f\"Hello, {name}!\"\n",
    "    return \"Hello, stranger!\"\n",
    "\n",
    "\n",
    "# log\n",
    "print(greet_optional(\"Alice\"))\n",
    "print(greet_optional())"
   ]
  },
  {
   "cell_type": "code",
   "execution_count": null,
   "metadata": {},
   "outputs": [],
   "source": [
    "# <a> and <b> can be either int or float\n",
    "# returned value is either int or float\n",
    "def add(a: int | float, b: int | float) -> int | float:\n",
    "    return a + b\n",
    "\n",
    "\n",
    "# log\n",
    "print(add(5, 10))\n",
    "print(add(3.5, 2.5))"
   ]
  },
  {
   "cell_type": "code",
   "execution_count": null,
   "metadata": {},
   "outputs": [],
   "source": [
    "# <data> accepts any type of argument\n",
    "# returned value is None\n",
    "def show_data(data: any) -> None:\n",
    "    print(f\"Data: {data}\")\n",
    "\n",
    "\n",
    "# log\n",
    "show_data(123)\n",
    "show_data(\"Hello!\")"
   ]
  },
  {
   "cell_type": "code",
   "execution_count": null,
   "metadata": {},
   "outputs": [],
   "source": [
    "# type alias for a list of tuples representing coordinates\n",
    "Coordinates = list[tuple[int, int]]\n",
    "\n",
    "\n",
    "# <points> accepts a list of tuples of two integers\n",
    "# returned value is None\n",
    "def print_coordinates(points: Coordinates) -> None:\n",
    "    for x, y in points:\n",
    "        print(f\"X: {x}, Y: {y}\")\n",
    "\n",
    "\n",
    "# log\n",
    "points = [(1, 2), (3, 4)]\n",
    "print_coordinates(points)"
   ]
  },
  {
   "cell_type": "markdown",
   "metadata": {},
   "source": [
    "## <a id='toc1_4_'></a>[Docstrings](#toc0_)\n",
    "\n",
    "- Docstrings are string literals that occur as the first statement in a module, class, method, or function.\n",
    "- Docstrings are enclosed in triple quotes (`\"\"\"` or `'''`), allowing for multi-line comments.\n",
    "- **Importance of Docstrings:**\n",
    "  - **Readability**: They improve the readability of the code by providing clear explanations.\n",
    "  - **Documentation**: Tools like [Sphinx](https://www.writethedocs.org/guide/tools/sphinx/) can automatically generate documentation from docstrings.\n",
    "  - **Interactive Help**: Functions and classes with docstrings can be accessed using the `help()` function in Python.\n",
    "- **Style Requirements:**\n",
    "  - **First word must be capitalized** (unless it's an identifier that must be lowercase)\n",
    "  - **End with period** for full sentences (PEP 257 requirement)\n",
    "  - **One-line docstrings** should have closing quotes on same line\n",
    "- **Main styles:**\n",
    "  - **One-line**: For simple, obvious functionality\n",
    "  - **Multi-line**: For complex functions/classes (Google/Numpy style common)\n",
    "\n",
    "🏗️ **Structure of a Docstring**\n",
    "\n",
    "```python\n",
    "def function_name(param1: type, param2: type = default) -> return_type:\n",
    "    \"\"\"Short one-line description ending with a period.\n",
    "\n",
    "    Extended summary (if needed) over multiple paragraphs.\n",
    "    Blank line between summary and extended description.\n",
    "\n",
    "    Args:\n",
    "        param1 (type): Description of param1. Should mention any default values if they exist.\n",
    "        param2 (type): Description of param2. (Default: default_value)\n",
    "\n",
    "    Returns:\n",
    "        return_type: Description of the return value.\n",
    "            Use \"None\" if no return.\n",
    "\n",
    "    Raises:\n",
    "        ValueError: When something goes wrong that's value-related.\n",
    "        TypeError: When wrong type is passed.\n",
    "\n",
    "    Examples:\n",
    "        >>> function_name(value1, value2)\n",
    "        expected_output\n",
    "    \"\"\"\n",
    "    pass\n",
    "```\n",
    "\n",
    "📝 **Doc**:\n",
    "- Documentation Strings: [docs.python.org/3/tutorial/controlflow.html#documentation-strings](https://docs.python.org/3/tutorial/controlflow.html#documentation-strings)\n",
    "\n",
    "🐍 **PEP**:\n",
    "- Docstring Conventions [[PEP 257](https://peps.python.org/pep-0257/)]\n"
   ]
  },
  {
   "cell_type": "code",
   "execution_count": null,
   "metadata": {},
   "outputs": [],
   "source": [
    "def add(a: int, b: int) -> int:\n",
    "    \"\"\"\n",
    "    Add two integers.\n",
    "\n",
    "    Parameters:\n",
    "    a (int): The first integer to add.\n",
    "    b (int): The second integer to add.\n",
    "\n",
    "    Returns:\n",
    "    int: The sum of a and b.\n",
    "\n",
    "    Example:\n",
    "    >>> add(2, 3)\n",
    "    5\n",
    "    \"\"\"\n",
    "    return a + b\n",
    "\n",
    "\n",
    "# log\n",
    "print(add(2, 3))"
   ]
  },
  {
   "cell_type": "code",
   "execution_count": null,
   "metadata": {},
   "outputs": [],
   "source": [
    "class Dog:\n",
    "    \"\"\"\n",
    "    A class to represent a dog.\n",
    "\n",
    "    Attributes:\n",
    "    name (str): The name of the dog.\n",
    "    age (int): The age of the dog.\n",
    "\n",
    "    Methods:\n",
    "    bark(): Prints a bark sound.\n",
    "    \"\"\"\n",
    "\n",
    "    def __init__(self, name: str, age: int) -> None:\n",
    "        self.name = name\n",
    "        self.age = age\n",
    "\n",
    "    def bark(self) -> None:\n",
    "        \"\"\"Prints 'Woof!'.\"\"\"\n",
    "        print(\"Woof!\")\n",
    "\n",
    "\n",
    "# initialize an object\n",
    "dog = Dog(\"Rex\", 3)\n",
    "\n",
    "# log\n",
    "dog.bark()"
   ]
  },
  {
   "cell_type": "markdown",
   "metadata": {},
   "source": [
    "#### <a id='toc1_4_1_1_'></a>[Accessing docstrings](#toc0_)\n",
    "\n",
    "You can access a function's or class's docstring using the `.__doc__` attribute or the `help()` function.\n"
   ]
  },
  {
   "cell_type": "code",
   "execution_count": null,
   "metadata": {},
   "outputs": [],
   "source": [
    "print(add.__doc__)"
   ]
  },
  {
   "cell_type": "code",
   "execution_count": null,
   "metadata": {},
   "outputs": [],
   "source": [
    "help(add)"
   ]
  },
  {
   "cell_type": "markdown",
   "metadata": {},
   "source": [
    "### <a id='toc1_4_2_'></a>[Module Docstrings](#toc0_)\n",
    "\n",
    "- Module docstrings appear at the top of Python files and describe the module's purpose\n",
    "- They should be the first executable statement in the file (after shebang if present)\n",
    "- Key components to include:\n",
    "  - **Module purpose**: High-level description of functionality\n",
    "  - **Key features**: Main classes/functions provided\n",
    "  - **Usage examples**: Brief examples if helpful\n",
    "  - **Dependencies**: Important external requirements\n",
    "  - **Author/Copyright**: For significant modules\n",
    "\n",
    "🐍 **PEP**:\n",
    "- PEP 8 - Style Guide [[PEP 8](https://peps.python.org/pep-0008/)]\n",
    "- PEP 257 - Docstring Conventions [[PEP 257](https://peps.python.org/pep-0257/)]\n"
   ]
  },
  {
   "cell_type": "code",
   "execution_count": null,
   "metadata": {},
   "outputs": [],
   "source": [
    "\"\"\"\n",
    "This module demonstrates simple math operations.\n",
    "\"\"\"\n",
    "\n",
    "def add(a, b):\n",
    "    return a + b\n",
    "\n",
    "print(add(3, 4))"
   ]
  },
  {
   "cell_type": "code",
   "execution_count": null,
   "metadata": {},
   "outputs": [],
   "source": [
    "\"\"\"\n",
    "Module: greetings.py\n",
    "Purpose: Functions to greet users.\n",
    "Author: Amirhossein\n",
    "\"\"\"\n",
    "\n",
    "def greet(name):\n",
    "    print(f\"Hello, {name}!\")\n",
    "\n",
    "greet(\"Bob\")"
   ]
  },
  {
   "cell_type": "code",
   "execution_count": null,
   "metadata": {},
   "outputs": [],
   "source": [
    "\"\"\"\n",
    "This module contains utilities for basic string manipulation.\n",
    "\n",
    "Usage:\n",
    "    Call the `reverse_string(s)` function with a string argument.\n",
    "\"\"\"\n",
    "\n",
    "def reverse_string(s):\n",
    "    return s[::-1]\n",
    "\n",
    "print(reverse_string(\"hello\"))"
   ]
  },
  {
   "cell_type": "code",
   "execution_count": null,
   "metadata": {},
   "outputs": [],
   "source": [
    "\"\"\"\n",
    "Simple Calculator Module\n",
    "Version: 1.0\n",
    "Date: 2025-06-02\n",
    "\n",
    "Contains basic arithmetic functions.\n",
    "\"\"\"\n",
    "\n",
    "def multiply(x, y):\n",
    "    return x * y\n",
    "\n",
    "print(multiply(5, 6))"
   ]
  },
  {
   "cell_type": "markdown",
   "metadata": {},
   "source": [
    "## <a id='toc1_5_'></a>[Section Headers (for larger files)](#toc0_)\n",
    "\n",
    "- Section headers visually separate logical blocks of code within a file\n",
    "- Used in larger files to improve readability and organization\n",
    "- Common conventions:\n",
    "  - **Consistent length**: Typically match the length of the header text\n",
    "  - **Clear labeling**: Use descriptive names for each section\n",
    "  - **Visibility**: Stand out from surrounding code\n",
    "  - **Spacing**: Include blank lines before and after\n",
    "\n",
    "🐍 **PEP**:\n",
    "- PEP 8 - Style Guide [[PEP 8](https://peps.python.org/pep-0008/)]\n"
   ]
  },
  {
   "cell_type": "code",
   "execution_count": null,
   "metadata": {},
   "outputs": [],
   "source": [
    "# ============================\n",
    "# SECTION: Variable Declarations\n",
    "# ============================\n",
    "\n",
    "x = 10\n",
    "y = 20\n",
    "print(x, y)"
   ]
  },
  {
   "cell_type": "code",
   "execution_count": null,
   "metadata": {},
   "outputs": [],
   "source": [
    "# ===================\n",
    "# SECTION: Functions\n",
    "# ===================\n",
    "\n",
    "def greet(name):\n",
    "    print(\"Hello,\", name)\n",
    "\n",
    "greet(\"Alice\")"
   ]
  },
  {
   "cell_type": "markdown",
   "metadata": {},
   "source": [
    "## <a id='toc1_6_'></a>[Special Comments](#toc0_)\n",
    "\n",
    "- Special comments highlight temporary or noteworthy code sections\n",
    "- Conventional tags help tools/IDEs detect and organize technical debt\n",
    "- Common standardized tags:\n",
    "  - **`TODO`**: Planned improvements or features\n",
    "  - **`FIXME`**: Known bugs/issues needing correction\n",
    "  - **`NOTE`**: Important implementation details\n",
    "  - **`HACK`**: Temporary/ugly workarounds\n",
    "  - **`OPTIMIZE`**: Performance improvement opportunities\n",
    "  - **`REVIEW`**: Code needing later inspection\n",
    "\n",
    "📝 **Doc**:\n",
    "- Conventional Comments Spec: [conventionalcomments.org](https://conventionalcomments.org/)\n",
    "\n",
    "🐍 **PEP**:\n",
    "- PEP 8 - Style Guide [[PEP 8](https://peps.python.org/pep-0008/)]\n"
   ]
  },
  {
   "cell_type": "code",
   "execution_count": null,
   "metadata": {},
   "outputs": [],
   "source": [
    "def greet(name):\n",
    "    # TODO: add support for greeting in different languages\n",
    "    print(\"Hello,\", name)\n",
    "\n",
    "greet(\"Alice\")"
   ]
  },
  {
   "cell_type": "code",
   "execution_count": null,
   "metadata": {},
   "outputs": [],
   "source": [
    "def divide(a, b):\n",
    "    # FIXME: handle division by zero properly\n",
    "    return a / b\n",
    "\n",
    "print(divide(10, 2))"
   ]
  },
  {
   "cell_type": "code",
   "execution_count": null,
   "metadata": {},
   "outputs": [],
   "source": [
    "def calculate_area(radius):\n",
    "    # NOTE: assumes radius is a positive number\n",
    "    area = 3.14 * radius * radius\n",
    "    return area\n",
    "\n",
    "print(calculate_area(5))"
   ]
  },
  {
   "cell_type": "code",
   "execution_count": null,
   "metadata": {},
   "outputs": [],
   "source": [
    "def get_default_value():\n",
    "    # HACK: returning hardcoded value until config is ready\n",
    "    return 42\n",
    "\n",
    "print(get_default_value())"
   ]
  },
  {
   "cell_type": "code",
   "execution_count": null,
   "metadata": {},
   "outputs": [],
   "source": [
    "def process_data(data):\n",
    "    # TODO: optimize this function for large datasets\n",
    "    # FIXME: handle empty list input to avoid errors\n",
    "    if not data:\n",
    "        return None\n",
    "    return sum(data) / len(data)\n",
    "\n",
    "print(process_data([1, 2, 3]))"
   ]
  }
 ],
 "metadata": {
  "author_email": "AmirhosseinHeydari78@gmail.com",
  "author_github": "https://github.com/mr-pylin",
  "author_name": "Amirhossein Heydari",
  "kernelspec": {
   "display_name": "python-workshop-f9jLw-mV-py3.12",
   "language": "python",
   "name": "python3"
  },
  "language_info": {
   "codemirror_mode": {
    "name": "ipython",
    "version": 3
   },
   "file_extension": ".py",
   "mimetype": "text/x-python",
   "name": "python",
   "nbconvert_exporter": "python",
   "pygments_lexer": "ipython3",
   "version": "3.12.8"
  },
  "origin_repo": "https://github.com/mr-pylin/python-workshop"
 },
 "nbformat": 4,
 "nbformat_minor": 2
}
