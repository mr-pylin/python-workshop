{
 "cells": [
  {
   "cell_type": "markdown",
   "metadata": {},
   "source": [
    "📝 **Author:** Amirhossein Heydari - 📧 **Email:** <amirhosseinheydari78@gmail.com> - 📍 **Origin:** [mr-pylin/python-workshop](https://github.com/mr-pylin/python-workshop)\n",
    "\n",
    "---\n"
   ]
  },
  {
   "cell_type": "markdown",
   "metadata": {},
   "source": [
    "**Table of contents**<a id='toc0_'></a>    \n",
    "- [Special Methods](#toc1_)    \n",
    "  - [Object Initialization and Representation](#toc1_1_)    \n",
    "  - [Attribute Access](#toc1_2_)    \n",
    "  - [Containers and Iterators](#toc1_3_)    \n",
    "  - [Arithmetic Operations](#toc1_4_)    \n",
    "  - [Comparison Operations](#toc1_5_)    \n",
    "  - [Context Management](#toc1_6_)    \n",
    "  - [Callable Objects](#toc1_7_)    \n",
    "  - [Type Conversion](#toc1_8_)    \n",
    "\n",
    "<!-- vscode-jupyter-toc-config\n",
    "\tnumbering=false\n",
    "\tanchor=true\n",
    "\tflat=false\n",
    "\tminLevel=1\n",
    "\tmaxLevel=6\n",
    "\t/vscode-jupyter-toc-config -->\n",
    "<!-- THIS CELL WILL BE REPLACED ON TOC UPDATE. DO NOT WRITE YOUR TEXT IN THIS CELL -->"
   ]
  },
  {
   "cell_type": "markdown",
   "metadata": {},
   "source": [
    "# <a id='toc1_'></a>[Special Methods](#toc0_)\n",
    "\n",
    "- Python special methods are also known as \"magic methods\" or \"dunder methods\".\n",
    "- They allow you to define how objects of your class should behave in various scenarios.\n",
    "- These methods are implicitly invoked by Python when you perform certain operations on objects, such as addition, comparison, or type conversion.\n",
    "\n",
    "📃 **A list of Common Special Methods**:\n",
    "\n",
    "<table cellpadding=\"8\" style=\"margin: 0 auto;\">\n",
    "  <thead>\n",
    "    <tr>\n",
    "      <th>Category</th>\n",
    "      <th>Special Method</th>\n",
    "      <th>Description</th>\n",
    "    </tr>\n",
    "  </thead>\n",
    "  <tbody>\n",
    "    <tr>\n",
    "      <td rowspan=\"4\">Object Initialization and Representation</td>\n",
    "      <td style=\"font-family: monospace;\">__init__(self, ...)</td>\n",
    "      <td>Initializes a new instance of a class.</td>\n",
    "    </tr>\n",
    "    <tr>\n",
    "      <td style=\"font-family: monospace;\">__new__(cls, ...)</td>\n",
    "      <td>Controls the creation of a new instance.</td>\n",
    "    </tr>\n",
    "    <tr>\n",
    "      <td style=\"font-family: monospace;\">__repr__(self)</td>\n",
    "      <td>Defines the \"official\" string representation (used by <code>repr()</code>).</td>\n",
    "    </tr>\n",
    "    <tr>\n",
    "      <td style=\"font-family: monospace;\">__str__(self)</td>\n",
    "      <td>Defines the \"informal\" string representation (used by <code>str()</code>).</td>\n",
    "    </tr>\n",
    "    <tr>\n",
    "      <td rowspan=\"4\">Attribute Access</td>\n",
    "      <td style=\"font-family: monospace;\">__getattr__(self, name)</td>\n",
    "      <td>Called when accessing non-existent attributes.</td>\n",
    "    </tr>\n",
    "    <tr>\n",
    "      <td style=\"font-family: monospace;\">__getattribute__(self, name)</td>\n",
    "      <td>Controls attribute access for all attributes.</td>\n",
    "    </tr>\n",
    "    <tr>\n",
    "      <td style=\"font-family: monospace;\">__setattr__(self, name, value)</td>\n",
    "      <td>Controls setting of attributes.</td>\n",
    "    </tr>\n",
    "    <tr>\n",
    "      <td style=\"font-family: monospace;\">__delattr__(self, name)</td>\n",
    "      <td>Controls deletion of attributes.</td>\n",
    "    </tr>\n",
    "    <tr>\n",
    "      <td rowspan=\"4\">Containers and Iterators</td>\n",
    "      <td style=\"font-family: monospace;\">__len__(self)</td>\n",
    "      <td>Returns the length of a container (used by <code>len()</code>).</td>\n",
    "    </tr>\n",
    "    <tr>\n",
    "      <td style=\"font-family: monospace;\">__getitem__(self, key)</td>\n",
    "      <td>Defines behavior for indexing (<code>self[key]</code>).</td>\n",
    "    </tr>\n",
    "    <tr>\n",
    "      <td style=\"font-family: monospace;\">__iter__(self)</td>\n",
    "      <td>Returns an iterator object (used in loops).</td>\n",
    "    </tr>\n",
    "    <tr>\n",
    "      <td style=\"font-family: monospace;\">__next__(self)</td>\n",
    "      <td>Defines behavior for getting the next item in an iterator.</td>\n",
    "    </tr>\n",
    "    <tr>\n",
    "      <td rowspan=\"4\">Arithmetic Operations</td>\n",
    "      <td style=\"font-family: monospace;\">__add__(self, other)</td>\n",
    "      <td>Defines addition (+).</td>\n",
    "    </tr>\n",
    "    <tr>\n",
    "      <td style=\"font-family: monospace;\">__sub__(self, other)</td>\n",
    "      <td>Defines subtraction (-).</td>\n",
    "    </tr>\n",
    "    <tr>\n",
    "      <td style=\"font-family: monospace;\">__mul__(self, other)</td>\n",
    "      <td>Defines multiplication (*).</td>\n",
    "    </tr>\n",
    "    <tr>\n",
    "      <td style=\"font-family: monospace;\">__truediv__(self, other)</td>\n",
    "      <td>Defines true division (/).</td>\n",
    "    </tr>\n",
    "    <tr>\n",
    "      <td rowspan=\"4\">Comparison Operations</td>\n",
    "      <td style=\"font-family: monospace;\">__eq__(self, other)</td>\n",
    "      <td>Defines equality (==).</td>\n",
    "    </tr>\n",
    "    <tr>\n",
    "      <td style=\"font-family: monospace;\">__ne__(self, other)</td>\n",
    "      <td>Defines inequality (!=).</td>\n",
    "    </tr>\n",
    "    <tr>\n",
    "      <td style=\"font-family: monospace;\">__lt__(self, other)</td>\n",
    "      <td>Defines less than (&lt;).</td>\n",
    "    </tr>\n",
    "    <tr>\n",
    "      <td style=\"font-family: monospace;\">__gt__(self, other)</td>\n",
    "      <td>Defines greater than (&gt;).</td>\n",
    "    </tr>\n",
    "    <tr>\n",
    "      <td rowspan=\"2\">Context Management</td>\n",
    "      <td style=\"font-family: monospace;\">__enter__(self)</td>\n",
    "      <td>Called when entering a context (used with '<code>with</code>').</td>\n",
    "    </tr>\n",
    "    <tr>\n",
    "      <td style=\"font-family: monospace;\">__exit__(self, exc_type, exc_value, traceback)</td>\n",
    "      <td>Called when exiting a context.</td>\n",
    "    </tr>\n",
    "    <tr>\n",
    "      <td>Callable Objects</td>\n",
    "      <td style=\"font-family: monospace;\">__call__(self, ...)</td>\n",
    "      <td>Allows an instance to be called as a function.</td>\n",
    "    </tr>\n",
    "    <tr>\n",
    "      <td>Type Conversion</td>\n",
    "      <td style=\"font-family: monospace;\">__int__(self)</td>\n",
    "      <td>Defines behavior for <code>int()</code>.</td>\n",
    "    </tr>\n",
    "  </tbody>\n",
    "</table>\n",
    "\n",
    "📝 **Docs**:\n",
    "\n",
    "- Special method names: [docs.python.org/3/reference/datamodel.html#special-method-names](https://docs.python.org/3/reference/datamodel.html#special-method-names)\n",
    "\n",
    "🐍 **PEP**:\n",
    "\n",
    "- Making Types Look More Like Classes [[PEP 252](https://peps.python.org/pep-0252/)]\n",
    "- Module `__getattr__` and `__dir__` [[PEP 562](https://peps.python.org/pep-0562/)]\n",
    "- Metaclasses in Python 3000 [[PEP 3115](https://peps.python.org/pep-3115/)]\n"
   ]
  },
  {
   "cell_type": "markdown",
   "metadata": {},
   "source": [
    "## <a id='toc1_1_'></a>[Object Initialization and Representation](#toc0_)\n"
   ]
  },
  {
   "cell_type": "code",
   "execution_count": null,
   "metadata": {},
   "outputs": [
    {
     "name": "stdout",
     "output_type": "stream",
     "text": [
      "creating a new instance of MyClass\n",
      "initializing the instance\n",
      "Alice, 30 years old\n"
     ]
    }
   ],
   "source": [
    "class Person:\n",
    "    def __new__(cls, *args, **kwargs):\n",
    "        print(\"creating a new instance of MyClass\")\n",
    "        instance = super().__new__(cls)\n",
    "        return instance\n",
    "\n",
    "    def __init__(self, name, age):\n",
    "        print(\"initializing the instance\")\n",
    "        self.name = name\n",
    "        self.age = age\n",
    "\n",
    "    def __str__(self) -> str:\n",
    "        return f\"{self.name}, {self.age} years old\"\n",
    "\n",
    "\n",
    "# initialization\n",
    "p = Person(\"Alice\", 30)\n",
    "\n",
    "# log\n",
    "print(p)"
   ]
  },
  {
   "cell_type": "markdown",
   "metadata": {},
   "source": [
    "## <a id='toc1_2_'></a>[Attribute Access](#toc0_)\n"
   ]
  },
  {
   "cell_type": "code",
   "execution_count": null,
   "metadata": {},
   "outputs": [
    {
     "name": "stdout",
     "output_type": "stream",
     "text": [
      "Hello\n",
      "Attribute <attr2d> not found\n"
     ]
    }
   ],
   "source": [
    "class MyObject:\n",
    "\n",
    "    def __getattr__(self, name):\n",
    "        return self.__dict__.get(name, f\"Attribute <{name}> not found\")\n",
    "\n",
    "    def __setattr__(self, name, value):\n",
    "        self.__dict__[name] = value\n",
    "\n",
    "\n",
    "# initialization\n",
    "obj = MyObject()\n",
    "\n",
    "obj.attr1 = \"Hello\"\n",
    "\n",
    "# log\n",
    "print(obj.attr1)\n",
    "print(obj.attr2d)"
   ]
  },
  {
   "cell_type": "markdown",
   "metadata": {},
   "source": [
    "## <a id='toc1_3_'></a>[Containers and Iterators](#toc0_)\n"
   ]
  },
  {
   "cell_type": "code",
   "execution_count": null,
   "metadata": {},
   "outputs": [
    {
     "name": "stdout",
     "output_type": "stream",
     "text": [
      "3\n",
      "1\n",
      "1\n",
      "2\n",
      "3\n"
     ]
    }
   ],
   "source": [
    "class MyList:\n",
    "    def __init__(self, items):\n",
    "        self.items = items\n",
    "\n",
    "    def __len__(self):\n",
    "        return len(self.items)\n",
    "\n",
    "    def __getitem__(self, index):\n",
    "        return self.items[index]\n",
    "\n",
    "    def __iter__(self):\n",
    "        return iter(self.items)\n",
    "\n",
    "\n",
    "# initialization\n",
    "my_list = MyList([1, 2, 3])\n",
    "\n",
    "# log\n",
    "print(len(my_list))\n",
    "print(my_list[0])\n",
    "for item in my_list:\n",
    "    print(item)"
   ]
  },
  {
   "cell_type": "markdown",
   "metadata": {},
   "source": [
    "## <a id='toc1_4_'></a>[Arithmetic Operations](#toc0_)\n"
   ]
  },
  {
   "cell_type": "code",
   "execution_count": null,
   "metadata": {},
   "outputs": [
    {
     "name": "stdout",
     "output_type": "stream",
     "text": [
      "(3, 4)\n",
      "(6, 9)\n",
      "(3, 4)\n"
     ]
    }
   ],
   "source": [
    "class Vector:\n",
    "    def __init__(self, x, y):\n",
    "        self.x = x\n",
    "        self.y = y\n",
    "\n",
    "    def __add__(self, other):\n",
    "        return Vector(self.x + other.x, self.y + other.y)\n",
    "\n",
    "    def __mul__(self, scalar):\n",
    "        return Vector(self.x * scalar, self.y * scalar)\n",
    "\n",
    "    def __iadd__(self, other):\n",
    "        self.x += other.x\n",
    "        self.y += other.y\n",
    "        return self\n",
    "\n",
    "    def __str__(self):\n",
    "        return f\"({self.x}, {self.y})\"\n",
    "\n",
    "\n",
    "# initialization\n",
    "v1 = Vector(2, 3)\n",
    "v2 = Vector(1, 1)\n",
    "\n",
    "# log\n",
    "print(v1 + v2)\n",
    "print(v1 * 3)\n",
    "v1 += v2\n",
    "print(v1)"
   ]
  },
  {
   "cell_type": "markdown",
   "metadata": {},
   "source": [
    "## <a id='toc1_5_'></a>[Comparison Operations](#toc0_)\n"
   ]
  },
  {
   "cell_type": "code",
   "execution_count": null,
   "metadata": {},
   "outputs": [
    {
     "name": "stdout",
     "output_type": "stream",
     "text": [
      "False\n",
      "True\n",
      "False\n"
     ]
    }
   ],
   "source": [
    "class Book:\n",
    "    def __init__(self, title, pages):\n",
    "        self.title = title\n",
    "        self.pages = pages\n",
    "\n",
    "    def __eq__(self, other):\n",
    "        return self.pages == other.pages\n",
    "\n",
    "    def __lt__(self, other):\n",
    "        return self.pages < other.pages\n",
    "\n",
    "    def __gt__(self, other):\n",
    "        return self.pages > other.pages\n",
    "\n",
    "\n",
    "# initialization\n",
    "book1 = Book(\"Book A\", 100)\n",
    "book2 = Book(\"Book B\", 150)\n",
    "\n",
    "# log\n",
    "print(book1 == book2)\n",
    "print(book1 < book2)\n",
    "print(book1 > book2)"
   ]
  },
  {
   "cell_type": "markdown",
   "metadata": {},
   "source": [
    "## <a id='toc1_6_'></a>[Context Management](#toc0_)\n"
   ]
  },
  {
   "cell_type": "code",
   "execution_count": null,
   "metadata": {},
   "outputs": [],
   "source": [
    "class FileManager:\n",
    "    def __init__(self, filename, mode):\n",
    "        self.filename = filename\n",
    "        self.mode = mode\n",
    "\n",
    "    def __enter__(self):\n",
    "        self.file = open(self.filename, self.mode)\n",
    "        return self.file\n",
    "\n",
    "    def __exit__(self, exc_type, exc_value, traceback):\n",
    "        self.file.close()\n",
    "\n",
    "\n",
    "# log\n",
    "with FileManager(\"../assets/texts/file2.txt\", \"w\") as f:\n",
    "    f.write(\"Hello, World!\")"
   ]
  },
  {
   "cell_type": "markdown",
   "metadata": {},
   "source": [
    "## <a id='toc1_7_'></a>[Callable Objects](#toc0_)\n"
   ]
  },
  {
   "cell_type": "code",
   "execution_count": null,
   "metadata": {},
   "outputs": [
    {
     "name": "stdout",
     "output_type": "stream",
     "text": [
      "15\n"
     ]
    }
   ],
   "source": [
    "class Adder:\n",
    "    def __init__(self, increment):\n",
    "        self.increment = increment\n",
    "\n",
    "    def __call__(self, num):\n",
    "        return num + self.increment\n",
    "\n",
    "\n",
    "# initialization\n",
    "add_five = Adder(5)\n",
    "\n",
    "# log\n",
    "print(add_five(10))"
   ]
  },
  {
   "cell_type": "markdown",
   "metadata": {},
   "source": [
    "## <a id='toc1_8_'></a>[Type Conversion](#toc0_)\n"
   ]
  },
  {
   "cell_type": "code",
   "execution_count": 32,
   "metadata": {},
   "outputs": [
    {
     "name": "stdout",
     "output_type": "stream",
     "text": [
      "100\n",
      "100.5\n"
     ]
    }
   ],
   "source": [
    "class Distance:\n",
    "    def __init__(self, meters):\n",
    "        self.meters = meters\n",
    "\n",
    "    def __int__(self):\n",
    "        return int(self.meters)\n",
    "\n",
    "    def __float__(self):\n",
    "        return float(self.meters)\n",
    "\n",
    "\n",
    "# initialization\n",
    "d = Distance(100.5)\n",
    "\n",
    "# log\n",
    "print(int(d))\n",
    "print(float(d))"
   ]
  }
 ],
 "metadata": {
  "author_email": "AmirhosseinHeydari78@gmail.com",
  "author_github": "https://github.com/mr-pylin",
  "author_name": "Amirhossein Heydari",
  "kernelspec": {
   "display_name": "Python 3",
   "language": "python",
   "name": "python3"
  },
  "language_info": {
   "codemirror_mode": {
    "name": "ipython",
    "version": 3
   },
   "file_extension": ".py",
   "mimetype": "text/x-python",
   "name": "python",
   "nbconvert_exporter": "python",
   "pygments_lexer": "ipython3",
   "version": "3.12.3"
  },
  "origin_repo": "https://github.com/mr-pylin/python-workshop"
 },
 "nbformat": 4,
 "nbformat_minor": 2
}
