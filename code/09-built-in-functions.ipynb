{
 "cells": [
  {
   "cell_type": "markdown",
   "metadata": {},
   "source": [
    "<div style=\"display: flex; justify-content: space-between; align-items: center;\">\n",
    "    <div style=\"text-align: left; flex: 4\">\n",
    "        <strong>Author:</strong> Amirhossein Heydari — \n",
    "        📧 <a href=\"mailto:amirhosseinheydari78@gmail.com\">amirhosseinheydari78@gmail.com</a> — \n",
    "        🐙 <a href=\"https://github.com/mr-pylin/python-workshop\" target=\"_blank\" rel=\"noopener\">github.com/mr-pylin</a>\n",
    "    </div>\n",
    "    <div style=\"text-align: right; flex: 1;\">\n",
    "        <a href=\"https://www.python.org/\" target=\"_blank\" rel=\"noopener noreferrer\">\n",
    "            <img src=\"../assets/images/python/logo/python-logo-inkscape.svg\" \n",
    "                 alt=\"Python Logo\"\n",
    "                 style=\"max-height: 48px; width: auto;\">\n",
    "        </a>\n",
    "    </div>\n",
    "</div>\n",
    "<hr>\n"
   ]
  },
  {
   "cell_type": "markdown",
   "metadata": {},
   "source": [
    "**Table of contents**<a id='toc0_'></a>    \n",
    "- [Built-in Functions](#toc1_)    \n",
    "  - [Types of Built-in Functions](#toc1_1_)    \n",
    "    - [Type Conversion](#toc1_1_1_)    \n",
    "    - [Mathematical Operations](#toc1_1_2_)    \n",
    "    - [String Operations](#toc1_1_3_)    \n",
    "    - [Iterables and Collections](#toc1_1_4_)    \n",
    "    - [Input/Output Operations](#toc1_1_5_)    \n",
    "    - [Logical/Comparison Operations](#toc1_1_6_)    \n",
    "    - [Object and Attribute Management](#toc1_1_7_)    \n",
    "\n",
    "<!-- vscode-jupyter-toc-config\n",
    "\tnumbering=false\n",
    "\tanchor=true\n",
    "\tflat=false\n",
    "\tminLevel=1\n",
    "\tmaxLevel=6\n",
    "\t/vscode-jupyter-toc-config -->\n",
    "<!-- THIS CELL WILL BE REPLACED ON TOC UPDATE. DO NOT WRITE YOUR TEXT IN THIS CELL -->"
   ]
  },
  {
   "cell_type": "markdown",
   "metadata": {},
   "source": [
    "# <a id='toc1_'></a>[Built-in Functions](#toc0_)\n",
    "\n",
    "- A collection of built-in functions that are always available and can be used without any import or setup\n",
    "- These functions perform a wide range of tasks, from data type conversions to input/output operations\n",
    "\n",
    "🔢 **All Built-in Functions**\n",
    "\n",
    "<table style=\"font-family: monospace; margin: 0 auto;\">\n",
    "  <tbody>\n",
    "    <tr>\n",
    "      <td>abs()</td>\n",
    "      <td>aiter()</td>\n",
    "      <td>all()</td>\n",
    "      <td>anext()</td>\n",
    "      <td>any()</td>\n",
    "      <td>ascii()</td>\n",
    "      <td>bin()</td>\n",
    "    </tr>\n",
    "    <tr>\n",
    "      <td>bool()</td>\n",
    "      <td>breakpoint()</td>\n",
    "      <td>bytearray()</td>\n",
    "      <td>bytes()</td>\n",
    "      <td>callable()</td>\n",
    "      <td>chr()</td>\n",
    "      <td>classmethod()</td>\n",
    "    </tr>\n",
    "    <tr>\n",
    "      <td>compile()</td>\n",
    "      <td>complex()</td>\n",
    "      <td>delattr()</td>\n",
    "      <td>dict()</td>\n",
    "      <td>dir()</td>\n",
    "      <td>divmod()</td>\n",
    "      <td>enumerate()</td>\n",
    "    </tr>\n",
    "    <tr>\n",
    "      <td>eval()</td>\n",
    "      <td>exec()</td>\n",
    "      <td>filter()</td>\n",
    "      <td>float()</td>\n",
    "      <td>format()</td>\n",
    "      <td>frozenset()</td>\n",
    "      <td>getattr()</td>\n",
    "    </tr>\n",
    "    <tr>\n",
    "      <td>globals()</td>\n",
    "      <td>hasattr()</td>\n",
    "      <td>hash()</td>\n",
    "      <td>help()</td>\n",
    "      <td>hex()</td>\n",
    "      <td>id()</td>\n",
    "      <td>input()</td>\n",
    "    </tr>\n",
    "    <tr>\n",
    "      <td>int()</td>\n",
    "      <td>isinstance()</td>\n",
    "      <td>issubclass()</td>\n",
    "      <td>iter()</td>\n",
    "      <td>len()</td>\n",
    "      <td>list()</td>\n",
    "      <td>locals()</td>\n",
    "    </tr>\n",
    "    <tr>\n",
    "      <td>map()</td>\n",
    "      <td>max()</td>\n",
    "      <td>memoryview()</td>\n",
    "      <td>min()</td>\n",
    "      <td>next()</td>\n",
    "      <td>object()</td>\n",
    "      <td>oct()</td>\n",
    "    </tr>\n",
    "    <tr>\n",
    "      <td>open()</td>\n",
    "      <td>ord()</td>\n",
    "      <td>pow()</td>\n",
    "      <td>print()</td>\n",
    "      <td>property()</td>\n",
    "      <td>range()</td>\n",
    "      <td>repr()</td>\n",
    "    </tr>\n",
    "    <tr>\n",
    "      <td>reversed()</td>\n",
    "      <td>round()</td>\n",
    "      <td>set()</td>\n",
    "      <td>setattr()</td>\n",
    "      <td>slice()</td>\n",
    "      <td>sorted()</td>\n",
    "      <td>staticmethod()</td>\n",
    "    </tr>\n",
    "    <tr>\n",
    "      <td>str()</td>\n",
    "      <td>sum()</td>\n",
    "      <td>super()</td>\n",
    "      <td>tuple()</td>\n",
    "      <td>type()</td>\n",
    "      <td>vars()</td>\n",
    "      <td>zip()</td>\n",
    "    </tr>\n",
    "    <tr>\n",
    "      <td>__import__()</td>\n",
    "      <td></td>\n",
    "      <td></td>\n",
    "      <td></td>\n",
    "      <td></td>\n",
    "      <td></td>\n",
    "      <td></td>\n",
    "    </tr>\n",
    "  </tbody>\n",
    "</table>\n",
    "\n",
    "---\n",
    "\n",
    "📝 **Docs**:\n",
    "\n",
    "- Built-in Functions: [docs.python.org/3/library/functions.html#built-in-functions](https://docs.python.org/3/library/functions.html#built-in-functions)\n",
    "- Built-in Types: [docs.python.org/3/library/stdtypes.html](https://docs.python.org/3/library/stdtypes.html)\n"
   ]
  },
  {
   "cell_type": "markdown",
   "metadata": {},
   "source": [
    "## <a id='toc1_1_'></a>[Types of Built-in Functions](#toc0_)\n"
   ]
  },
  {
   "cell_type": "markdown",
   "metadata": {},
   "source": [
    "### <a id='toc1_1_1_'></a>[Type Conversion](#toc0_)\n",
    "\n",
    "- Convert between different data types\n",
    "- Examples: `int()`, `float()`, `str()`, `list()`, ...\n"
   ]
  },
  {
   "cell_type": "code",
   "execution_count": null,
   "metadata": {},
   "outputs": [],
   "source": [
    "result = int(\"123\")\n",
    "\n",
    "# log\n",
    "print(result)"
   ]
  },
  {
   "cell_type": "code",
   "execution_count": null,
   "metadata": {},
   "outputs": [],
   "source": [
    "result = float(\"3.14\")\n",
    "\n",
    "# log\n",
    "print(result)"
   ]
  },
  {
   "cell_type": "code",
   "execution_count": null,
   "metadata": {},
   "outputs": [],
   "source": [
    "result = str(123)\n",
    "\n",
    "# log\n",
    "print(result)"
   ]
  },
  {
   "cell_type": "markdown",
   "metadata": {},
   "source": [
    "### <a id='toc1_1_2_'></a>[Mathematical Operations](#toc0_)\n",
    "\n",
    "- Perform basic math and numerical operations\n",
    "- Examples: `abs()`, `sum()`, `round()`, `min()`, `max()`, `pow()`, ...\n"
   ]
  },
  {
   "cell_type": "code",
   "execution_count": null,
   "metadata": {},
   "outputs": [],
   "source": [
    "result = abs(-5)\n",
    "\n",
    "# log\n",
    "print(result)"
   ]
  },
  {
   "cell_type": "code",
   "execution_count": null,
   "metadata": {},
   "outputs": [],
   "source": [
    "result = sum([1, 2, 3, 4])\n",
    "\n",
    "# log\n",
    "print(result)"
   ]
  },
  {
   "cell_type": "code",
   "execution_count": null,
   "metadata": {},
   "outputs": [],
   "source": [
    "result = pow(2, 3)  # 2 ** 3\n",
    "\n",
    "# log\n",
    "print(result)"
   ]
  },
  {
   "cell_type": "markdown",
   "metadata": {},
   "source": [
    "### <a id='toc1_1_3_'></a>[String Operations](#toc0_)\n",
    "\n",
    "- Perform operations on strings\n",
    "- Examples: `len()`, `ord()`, `chr()`, `format()`, ...\n"
   ]
  },
  {
   "cell_type": "code",
   "execution_count": null,
   "metadata": {},
   "outputs": [],
   "source": [
    "result = len(\"Hello, World!\")\n",
    "\n",
    "# log\n",
    "print(result)"
   ]
  },
  {
   "cell_type": "code",
   "execution_count": null,
   "metadata": {},
   "outputs": [],
   "source": [
    "result = ord(\"A\")\n",
    "\n",
    "# log\n",
    "print(result)"
   ]
  },
  {
   "cell_type": "code",
   "execution_count": null,
   "metadata": {},
   "outputs": [],
   "source": [
    "result = chr(65)\n",
    "\n",
    "# log\n",
    "print(result)"
   ]
  },
  {
   "cell_type": "markdown",
   "metadata": {},
   "source": [
    "### <a id='toc1_1_4_'></a>[Iterables and Collections](#toc0_)\n",
    "\n",
    "- Handle and manipulate iterables like lists, tuples, and sets\n",
    "- Examples: `len()`, `range()`, `enumerate()`, `map()`, `zip()`, `zip()`, ...\n"
   ]
  },
  {
   "cell_type": "code",
   "execution_count": null,
   "metadata": {},
   "outputs": [],
   "source": [
    "for i in range(1, 6):\n",
    "    print(i)"
   ]
  },
  {
   "cell_type": "code",
   "execution_count": null,
   "metadata": {},
   "outputs": [],
   "source": [
    "for index, value in enumerate([\"apple\", \"banana\", \"cherry\"]):\n",
    "    print(index, value)"
   ]
  },
  {
   "cell_type": "code",
   "execution_count": null,
   "metadata": {},
   "outputs": [],
   "source": [
    "names = [\"Alice\", \"Bob\", \"Charlie\"]\n",
    "scores = [85, 90, 95]\n",
    "\n",
    "result = list(zip(names, scores))\n",
    "\n",
    "# log\n",
    "print(result)"
   ]
  },
  {
   "cell_type": "markdown",
   "metadata": {},
   "source": [
    "### <a id='toc1_1_5_'></a>[Input/Output Operations](#toc0_)\n",
    "\n",
    "- Handle input/output operations\n",
    "- Examples: `print()`, `input()`, `open()`\n"
   ]
  },
  {
   "cell_type": "code",
   "execution_count": null,
   "metadata": {},
   "outputs": [],
   "source": [
    "print(\"Hello, World!\")"
   ]
  },
  {
   "cell_type": "code",
   "execution_count": null,
   "metadata": {},
   "outputs": [],
   "source": [
    "name = input(\"Enter your name: \")\n",
    "print(f\"Hello, {name}!\")"
   ]
  },
  {
   "cell_type": "code",
   "execution_count": null,
   "metadata": {},
   "outputs": [],
   "source": [
    "with open(\"../assets/texts/file1.txt\", \"w\") as f:\n",
    "    f.write(\"Hello, File!\")"
   ]
  },
  {
   "cell_type": "markdown",
   "metadata": {},
   "source": [
    "### <a id='toc1_1_6_'></a>[Logical/Comparison Operations](#toc0_)\n",
    "\n",
    "- Perform logical and comparison checks\n",
    "- Examples: `all()`, `any()`, `isinstance()`, `issubclass()`\n"
   ]
  },
  {
   "cell_type": "code",
   "execution_count": null,
   "metadata": {},
   "outputs": [],
   "source": [
    "result = all([True, True, False])\n",
    "\n",
    "# log\n",
    "print(result)"
   ]
  },
  {
   "cell_type": "code",
   "execution_count": null,
   "metadata": {},
   "outputs": [],
   "source": [
    "result = any([False, False, True])\n",
    "\n",
    "# log\n",
    "print(result)"
   ]
  },
  {
   "cell_type": "code",
   "execution_count": null,
   "metadata": {},
   "outputs": [],
   "source": [
    "result = isinstance(5, int)\n",
    "\n",
    "# log\n",
    "print(result)"
   ]
  },
  {
   "cell_type": "markdown",
   "metadata": {},
   "source": [
    "### <a id='toc1_1_7_'></a>[Object and Attribute Management](#toc0_)\n",
    "\n",
    "- Work with objects and attributes\n",
    "- Examples: `getattr`, `setattr`, `hasattr`, `dir`\n"
   ]
  },
  {
   "cell_type": "code",
   "execution_count": null,
   "metadata": {},
   "outputs": [],
   "source": [
    "class Person:\n",
    "    name = \"John\"\n",
    "\n",
    "\n",
    "p = Person()\n",
    "result = getattr(p, \"name\")\n",
    "print(result)"
   ]
  },
  {
   "cell_type": "code",
   "execution_count": null,
   "metadata": {},
   "outputs": [],
   "source": [
    "class Person:\n",
    "    pass\n",
    "\n",
    "\n",
    "p = Person()\n",
    "setattr(p, \"age\", 30)\n",
    "print(p.age)"
   ]
  },
  {
   "cell_type": "code",
   "execution_count": null,
   "metadata": {},
   "outputs": [],
   "source": [
    "result = dir(list)\n",
    "print(result)"
   ]
  }
 ],
 "metadata": {
  "author_email": "AmirhosseinHeydari78@gmail.com",
  "author_github": "https://github.com/mr-pylin",
  "author_name": "Amirhossein Heydari",
  "kernelspec": {
   "display_name": "Python 3",
   "language": "python",
   "name": "python3"
  },
  "language_info": {
   "codemirror_mode": {
    "name": "ipython",
    "version": 3
   },
   "file_extension": ".py",
   "mimetype": "text/x-python",
   "name": "python",
   "nbconvert_exporter": "python",
   "pygments_lexer": "ipython3",
   "version": "3.12.3"
  },
  "origin_repo": "https://github.com/mr-pylin/python-workshop"
 },
 "nbformat": 4,
 "nbformat_minor": 2
}
