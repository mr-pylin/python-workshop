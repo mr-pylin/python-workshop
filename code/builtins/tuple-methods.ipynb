{
  "cells": [
    {
      "cell_type": "markdown",
      "metadata": {},
      "source": [
        "<div style=\"display: flex; justify-content: space-between; align-items: center;\">\n",
        "    <div style=\"text-align: left; flex: 4\">\n",
        "        <strong>Author:</strong> Amirhossein Heydari — \n",
        "        📧 <a href=\"mailto:amirhosseinheydari78@gmail.com\">amirhosseinheydari78@gmail.com</a> — \n",
        "        🐙 <a href=\"https://github.com/mr-pylin/python-workshop\" target=\"_blank\" rel=\"noopener\">github.com/mr-pylin</a>\n",
        "    </div>\n",
        "    <div style=\"text-align: right; flex: 1;\">\n",
        "        <a href=\"https://www.python.org/\" target=\"_blank\" rel=\"noopener noreferrer\">\n",
        "            <img src=\"../../assets/images/python/logo/python-logo-inkscape.svg\" \n",
        "                 alt=\"Python Logo\"\n",
        "                 style=\"max-height: 48px; width: auto;\">\n",
        "        </a>\n",
        "    </div>\n",
        "</div>\n",
        "<hr>\n"
      ]
    },
    {
      "cell_type": "markdown",
      "metadata": {},
      "source": [
        "**Table of contents**<a id='toc0_'></a>    \n",
        "- [Tuple Methods](#toc1_)    \n",
        "\n",
        "<!-- vscode-jupyter-toc-config\n",
        "\tnumbering=false\n",
        "\tanchor=true\n",
        "\tflat=false\n",
        "\tminLevel=1\n",
        "\tmaxLevel=6\n",
        "\t/vscode-jupyter-toc-config -->\n",
        "<!-- THIS CELL WILL BE REPLACED ON TOC UPDATE. DO NOT WRITE YOUR TEXT IN THIS CELL -->"
      ]
    },
    {
      "cell_type": "markdown",
      "metadata": {},
      "source": [
        "# <a id='toc1_'></a>[Tuple Methods](#toc0_)\n",
        "\n",
        "- Tuples are fundamental data structures in Python that allow you to store collections of items.\n",
        "- Tuples can store heterogeneous data types.\n",
        "- Tuples are [immutable](https://docs.python.org/3/library/stdtypes.html#immutable-sequence-types) objects whose state or contents cannot be changed after they are created.\n",
        "\n",
        "🔢 **Table of Methods**\n",
        "\n",
        "<table style=\"font-family: monospace; margin: 0 auto;\">\n",
        "  <tbody>\n",
        "    <tr>\n",
        "      <td>tuple.index()</td>\n",
        "      <td>tuple.count()</td>\n",
        "    </tr>\n",
        "  </tbody>\n",
        "</table>\n",
        "\n",
        "---\n",
        "\n",
        "📝 **Docs**:\n",
        "\n",
        "- Tuple: [docs.python.org/3/library/stdtypes.html#tuple](https://docs.python.org/3/library/stdtypes.html#tuple)\n",
        "- Tuples and Sequences: [docs.python.org/3/tutorial/datastructures.html#tuples-and-sequences](https://docs.python.org/3/tutorial/datastructures.html#tuples-and-sequences)\n"
      ]
    },
    {
      "cell_type": "code",
      "execution_count": null,
      "metadata": {},
      "outputs": [],
      "source": [
        "my_tuple = (1, 2, 3, 2)\n",
        "index = my_tuple.index(2)\n",
        "\n",
        "# log\n",
        "print(index)"
      ]
    },
    {
      "cell_type": "code",
      "execution_count": null,
      "metadata": {},
      "outputs": [],
      "source": [
        "my_tuple = (1, 2, 3, 2, 2)\n",
        "count = my_tuple.count(2)\n",
        "\n",
        "# log\n",
        "print(count)"
      ]
    }
  ],
  "metadata": {
    "author_email": "AmirhosseinHeydari78@gmail.com",
    "author_github": "https://github.com/mr-pylin",
    "author_name": "Amirhossein Heydari",
    "kernelspec": {
      "display_name": "Python 3",
      "language": "python",
      "name": "python3"
    },
    "language_info": {
      "codemirror_mode": {
        "name": "ipython",
        "version": 3
      },
      "file_extension": ".py",
      "mimetype": "text/x-python",
      "name": "python",
      "nbconvert_exporter": "python",
      "pygments_lexer": "ipython3",
      "version": "3.12.3"
    },
    "origin_repo": "https://github.com/mr-pylin/python-workshop"
  },
  "nbformat": 4,
  "nbformat_minor": 2
}
