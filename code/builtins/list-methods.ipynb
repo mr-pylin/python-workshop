{
  "cells": [
    {
      "cell_type": "markdown",
      "metadata": {},
      "source": [
        "📝 **Author:** Amirhossein Heydari - 📧 **Email:** <amirhosseinheydari78@gmail.com> - 📍 **Origin:** [mr-pylin/python-workshop](https://github.com/mr-pylin/python-workshop)\n",
        "\n",
        "---\n"
      ]
    },
    {
      "cell_type": "markdown",
      "metadata": {},
      "source": [
        "**Table of contents**<a id='toc0_'></a>    \n",
        "- [List Methods](#toc1_)    \n",
        "\n",
        "<!-- vscode-jupyter-toc-config\n",
        "\tnumbering=false\n",
        "\tanchor=true\n",
        "\tflat=false\n",
        "\tminLevel=1\n",
        "\tmaxLevel=6\n",
        "\t/vscode-jupyter-toc-config -->\n",
        "<!-- THIS CELL WILL BE REPLACED ON TOC UPDATE. DO NOT WRITE YOUR TEXT IN THIS CELL -->"
      ]
    },
    {
      "cell_type": "markdown",
      "metadata": {},
      "source": [
        "# <a id='toc1_'></a>[List Methods](#toc0_)\n",
        "\n",
        "- Lists are fundamental data structures in Python that allow you to store collections of items.\n",
        "- Lists can store heterogeneous data types.\n",
        "- Lists are [mutable](https://docs.python.org/3/library/stdtypes.html#built-in-types) objects whose state or contents can be changed after they are created.\n",
        "\n",
        "🔢 **Table of Methods**\n",
        "\n",
        "<table style=\"font-family: monospace; margin: 0 auto;\">\n",
        "  <tbody>\n",
        "    <tr>\n",
        "      <td>list.append()</td>\n",
        "      <td>list.extend()</td>\n",
        "      <td>list.insert()</td>\n",
        "      <td>list.remove()</td>\n",
        "    </tr>\n",
        "    <tr>\n",
        "      <td>list.pop()</td>\n",
        "      <td>list.clear()</td>\n",
        "      <td>list.index()</td>\n",
        "      <td>list.count()</td>\n",
        "    </tr>\n",
        "    <tr>\n",
        "      <td>list.sort()</td>\n",
        "      <td>list.reverse()</td>\n",
        "      <td>list.copy()</td>\n",
        "      <td></td>\n",
        "    </tr>\n",
        "  </tbody>\n",
        "</table>\n",
        "\n",
        "---\n",
        "\n",
        "📝 **Docs**:\n",
        "\n",
        "- List: [docs.python.org/3/library/stdtypes.html#list](https://docs.python.org/3/library/stdtypes.html#list)\n",
        "- List Methods: [docs.python.org/3/tutorial/datastructures.html#more-on-lists](https://docs.python.org/3/tutorial/datastructures.html#more-on-lists)\n"
      ]
    },
    {
      "cell_type": "code",
      "execution_count": null,
      "metadata": {},
      "outputs": [],
      "source": [
        "my_list = [1, 2, 3]\n",
        "my_list.append(4)\n",
        "\n",
        "# log\n",
        "print(my_list)"
      ]
    },
    {
      "cell_type": "code",
      "execution_count": null,
      "metadata": {},
      "outputs": [],
      "source": [
        "my_list = [1, 2, 3]\n",
        "my_list.extend([4, 5])\n",
        "\n",
        "# log\n",
        "print(my_list)"
      ]
    },
    {
      "cell_type": "code",
      "execution_count": null,
      "metadata": {},
      "outputs": [],
      "source": [
        "my_list = [1, 2, 3]\n",
        "my_list.insert(1, 9)\n",
        "\n",
        "# log\n",
        "print(my_list)"
      ]
    },
    {
      "cell_type": "code",
      "execution_count": null,
      "metadata": {},
      "outputs": [],
      "source": [
        "my_list = [1, 2, 3, 2]\n",
        "my_list.remove(2)\n",
        "\n",
        "# log\n",
        "print(my_list)"
      ]
    },
    {
      "cell_type": "code",
      "execution_count": null,
      "metadata": {},
      "outputs": [],
      "source": [
        "my_list = [1, 2, 3]\n",
        "popped_item = my_list.pop()\n",
        "\n",
        "# log\n",
        "print(popped_item)\n",
        "print(my_list)"
      ]
    },
    {
      "cell_type": "code",
      "execution_count": null,
      "metadata": {},
      "outputs": [],
      "source": [
        "my_list = [1, 2, 3]\n",
        "my_list.clear()\n",
        "\n",
        "# log\n",
        "print(my_list)"
      ]
    },
    {
      "cell_type": "code",
      "execution_count": null,
      "metadata": {},
      "outputs": [],
      "source": [
        "my_list = [1, 2, 3, 2]\n",
        "index = my_list.index(2)\n",
        "\n",
        "# log\n",
        "print(index)"
      ]
    },
    {
      "cell_type": "code",
      "execution_count": null,
      "metadata": {},
      "outputs": [],
      "source": [
        "my_list = [1, 2, 3, 2, 2]\n",
        "count = my_list.count(2)\n",
        "\n",
        "# log\n",
        "print(count)"
      ]
    },
    {
      "cell_type": "code",
      "execution_count": null,
      "metadata": {},
      "outputs": [],
      "source": [
        "my_list = [3, 1, 2]\n",
        "my_list.sort()\n",
        "\n",
        "# log\n",
        "print(my_list)"
      ]
    },
    {
      "cell_type": "code",
      "execution_count": null,
      "metadata": {},
      "outputs": [],
      "source": [
        "my_list = [1, 2, 3]\n",
        "my_list.reverse()\n",
        "\n",
        "# log\n",
        "print(my_list)"
      ]
    },
    {
      "cell_type": "code",
      "execution_count": null,
      "metadata": {},
      "outputs": [],
      "source": [
        "my_list = [1, 2, 3]\n",
        "new_list = my_list.copy()\n",
        "\n",
        "# log\n",
        "print(new_list)"
      ]
    }
  ],
  "metadata": {
    "author_email": "AmirhosseinHeydari78@gmail.com",
    "author_github": "https://github.com/mr-pylin",
    "author_name": "Amirhossein Heydari",
    "kernelspec": {
      "display_name": "Python 3",
      "language": "python",
      "name": "python3"
    },
    "language_info": {
      "codemirror_mode": {
        "name": "ipython",
        "version": 3
      },
      "file_extension": ".py",
      "mimetype": "text/x-python",
      "name": "python",
      "nbconvert_exporter": "python",
      "pygments_lexer": "ipython3",
      "version": "3.12.3"
    },
    "origin_repo": "https://github.com/mr-pylin/python-workshop"
  },
  "nbformat": 4,
  "nbformat_minor": 2
}
