{
  "cells": [
    {
      "cell_type": "markdown",
      "metadata": {},
      "source": [
        "📝 **Author:** Amirhossein Heydari - 📧 **Email:** <amirhosseinheydari78@gmail.com> - 📍 **Origin:** [mr-pylin/python-workshop](https://github.com/mr-pylin/python-workshop)\n",
        "\n",
        "---\n"
      ]
    },
    {
      "cell_type": "markdown",
      "metadata": {},
      "source": [
        "**Table of contents**<a id='toc0_'></a>    \n",
        "- [Dictionary Methods](#toc1_)    \n",
        "\n",
        "<!-- vscode-jupyter-toc-config\n",
        "\tnumbering=false\n",
        "\tanchor=true\n",
        "\tflat=false\n",
        "\tminLevel=1\n",
        "\tmaxLevel=6\n",
        "\t/vscode-jupyter-toc-config -->\n",
        "<!-- THIS CELL WILL BE REPLACED ON TOC UPDATE. DO NOT WRITE YOUR TEXT IN THIS CELL -->"
      ]
    },
    {
      "cell_type": "markdown",
      "metadata": {},
      "source": [
        "# <a id='toc1_'></a>[Dictionary Methods](#toc0_)\n",
        "\n",
        "- Dictionaries map keys to values and allow you to retrieve, update, or delete data using keys.\n",
        "- Dictionaries support fast lookups which means checking whether an element exists in a set is highly efficient (time complexity of `O(1)`).\n",
        "- Dictionaries are [mutable](https://docs.python.org/3/library/stdtypes.html#built-in-types) objects whose state or contents can be changed after they are created.\n",
        "\n",
        "🔢 **Table of Methods**\n",
        "\n",
        "<table style=\"font-family: monospace; margin: 0 auto;\">\n",
        "  <tbody>\n",
        "    <tr>\n",
        "      <td>dict.clear()</td>\n",
        "      <td>dict.copy()</td>\n",
        "      <td>dict.fromkeys()</td>\n",
        "      <td>dict.get()</td>\n",
        "    </tr>\n",
        "    <tr>\n",
        "      <td>dict.items()</td>\n",
        "      <td>dict.keys()</td>\n",
        "      <td>dict.pop()</td>\n",
        "      <td>dict.popitem()</td>\n",
        "    </tr>\n",
        "    <tr>\n",
        "      <td>dict.setdefault()</td>\n",
        "      <td>dict.update()</td>\n",
        "      <td>dict.values()</td>\n",
        "      <td></td>\n",
        "    </tr>\n",
        "  </tbody>\n",
        "</table>\n",
        "\n",
        "---\n",
        "\n",
        "📝 **Docs**:\n",
        "\n",
        "- Dictionary: [docs.python.org/3/library/stdtypes.html#dict](https://docs.python.org/3/library/stdtypes.html#dict)\n",
        "- Dictionary Methods: [docs.python.org/3/tutorial/datastructures.html#dictionaries](https://docs.python.org/3/tutorial/datastructures.html#dictionaries)\n"
      ]
    },
    {
      "cell_type": "code",
      "execution_count": null,
      "metadata": {},
      "outputs": [],
      "source": [
        "my_set = {1, 2, 3, 4}"
      ]
    },
    {
      "cell_type": "code",
      "execution_count": null,
      "metadata": {},
      "outputs": [],
      "source": [
        "# add(): add an element to the set\n",
        "my_set.add(5)\n",
        "\n",
        "# log\n",
        "print(my_set)"
      ]
    },
    {
      "cell_type": "code",
      "execution_count": null,
      "metadata": {},
      "outputs": [],
      "source": [
        "# update(): add multiple elements to the set\n",
        "my_set.update([6, 7])\n",
        "\n",
        "# log\n",
        "print(my_set)"
      ]
    },
    {
      "cell_type": "code",
      "execution_count": null,
      "metadata": {},
      "outputs": [],
      "source": [
        "# remove(): remove an element, raises KeyError if not found\n",
        "my_set.remove(3)\n",
        "\n",
        "# log\n",
        "print(my_set)"
      ]
    },
    {
      "cell_type": "code",
      "execution_count": null,
      "metadata": {},
      "outputs": [],
      "source": [
        "# discard(): remove an element, does not raise an error if not found\n",
        "my_set.discard(10)  # No error raised\n",
        "\n",
        "# log\n",
        "print(my_set)"
      ]
    },
    {
      "cell_type": "code",
      "execution_count": null,
      "metadata": {},
      "outputs": [],
      "source": [
        "# union(): combine two sets (returns a new set)\n",
        "set1 = {1, 2, 3}\n",
        "set2 = {3, 4, 5}\n",
        "union_set = set1.union(set2)\n",
        "\n",
        "# log\n",
        "print(union_set)"
      ]
    },
    {
      "cell_type": "code",
      "execution_count": null,
      "metadata": {},
      "outputs": [],
      "source": [
        "# intersection(): find common elements between two sets\n",
        "intersection_set = set1.intersection(set2)\n",
        "\n",
        "# log\n",
        "print(intersection_set)"
      ]
    },
    {
      "cell_type": "code",
      "execution_count": null,
      "metadata": {},
      "outputs": [],
      "source": [
        "# difference(): elements in the first set but not in the second\n",
        "difference_set = set1.difference(set2)\n",
        "\n",
        "# log\n",
        "print(difference_set)"
      ]
    },
    {
      "cell_type": "code",
      "execution_count": null,
      "metadata": {},
      "outputs": [],
      "source": [
        "# issubset(): check if one set is a subset of another\n",
        "print(set1.issubset({1, 2, 3, 4}))"
      ]
    },
    {
      "cell_type": "code",
      "execution_count": null,
      "metadata": {},
      "outputs": [],
      "source": [
        "# issuperset(): check if one set is a superset of another\n",
        "print({1, 2, 3, 4}.issuperset(set1))"
      ]
    },
    {
      "cell_type": "code",
      "execution_count": null,
      "metadata": {},
      "outputs": [],
      "source": [
        "my_dict = {\"name\": \"Alice\", \"age\": 25, \"city\": \"New York\"}"
      ]
    },
    {
      "cell_type": "code",
      "execution_count": null,
      "metadata": {},
      "outputs": [],
      "source": [
        "# keys(): return all keys of the dictionary\n",
        "keys = my_dict.keys()\n",
        "\n",
        "# log\n",
        "print(keys)"
      ]
    },
    {
      "cell_type": "code",
      "execution_count": null,
      "metadata": {},
      "outputs": [],
      "source": [
        "# values(): return all values of the dictionary\n",
        "values = my_dict.values()\n",
        "\n",
        "# log\n",
        "print(values)"
      ]
    },
    {
      "cell_type": "code",
      "execution_count": null,
      "metadata": {},
      "outputs": [],
      "source": [
        "# items(): return all key-value pairs\n",
        "items = my_dict.items()\n",
        "\n",
        "# log\n",
        "print(items)"
      ]
    },
    {
      "cell_type": "code",
      "execution_count": null,
      "metadata": {},
      "outputs": [],
      "source": [
        "# get(): retrieve a value by key, returns None if key not found\n",
        "age = my_dict.get(\"age\")\n",
        "print(age)\n",
        "nonexistent_value = my_dict.get(\"salary\", \"Not Available\")\n",
        "print(nonexistent_value)"
      ]
    },
    {
      "cell_type": "code",
      "execution_count": null,
      "metadata": {},
      "outputs": [],
      "source": [
        "# pop(): remove a key and return its value\n",
        "age = my_dict.pop(\"age\")\n",
        "\n",
        "# log\n",
        "print(age)\n",
        "print(my_dict)"
      ]
    },
    {
      "cell_type": "code",
      "execution_count": null,
      "metadata": {},
      "outputs": [],
      "source": [
        "# update(): update the dictionary with another dictionary or key-value pairs\n",
        "my_dict.update({\"age\": 26, \"city\": \"San Francisco\"})\n",
        "\n",
        "# log\n",
        "print(my_dict)"
      ]
    },
    {
      "cell_type": "code",
      "execution_count": null,
      "metadata": {},
      "outputs": [],
      "source": [
        "# setdefault(): get the value of a key, set it if key does not exist\n",
        "location = my_dict.setdefault(\"location\", \"Unknown\")\n",
        "\n",
        "# log\n",
        "print(location)\n",
        "print(my_dict)"
      ]
    },
    {
      "cell_type": "code",
      "execution_count": null,
      "metadata": {},
      "outputs": [],
      "source": [
        "# popitem(): remove and return the last key-value pair (insertion order)\n",
        "last_item = my_dict.popitem()\n",
        "\n",
        "# log\n",
        "print(last_item)"
      ]
    },
    {
      "cell_type": "code",
      "execution_count": null,
      "metadata": {},
      "outputs": [],
      "source": [
        "# clear(): remove all items from the dictionary\n",
        "my_dict.clear()\n",
        "\n",
        "# log\n",
        "print(my_dict)"
      ]
    }
  ],
  "metadata": {
    "author_email": "AmirhosseinHeydari78@gmail.com",
    "author_github": "https://github.com/mr-pylin",
    "author_name": "Amirhossein Heydari",
    "kernelspec": {
      "display_name": "Python 3",
      "language": "python",
      "name": "python3"
    },
    "language_info": {
      "codemirror_mode": {
        "name": "ipython",
        "version": 3
      },
      "file_extension": ".py",
      "mimetype": "text/x-python",
      "name": "python",
      "nbconvert_exporter": "python",
      "pygments_lexer": "ipython3",
      "version": "3.12.3"
    },
    "origin_repo": "https://github.com/mr-pylin/python-workshop"
  },
  "nbformat": 4,
  "nbformat_minor": 2
}
