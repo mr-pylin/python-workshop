{
  "cells": [
    {
      "cell_type": "markdown",
      "metadata": {},
      "source": [
        "<div style=\"display: flex; justify-content: space-between; align-items: center;\">\n",
        "    <div style=\"text-align: left; flex: 4\">\n",
        "        <strong>Author:</strong> Amirhossein Heydari — \n",
        "        📧 <a href=\"mailto:amirhosseinheydari78@gmail.com\">amirhosseinheydari78@gmail.com</a> — \n",
        "        🐙 <a href=\"https://github.com/mr-pylin/python-workshop\" target=\"_blank\" rel=\"noopener\">github.com/mr-pylin</a>\n",
        "    </div>\n",
        "    <div style=\"text-align: right; flex: 1;\">\n",
        "        <a href=\"https://www.python.org/\" target=\"_blank\" rel=\"noopener noreferrer\">\n",
        "            <img src=\"../../assets/images/python/logo/python-logo-inkscape.svg\" \n",
        "                 alt=\"Python Logo\"\n",
        "                 style=\"max-height: 48px; width: auto;\">\n",
        "        </a>\n",
        "    </div>\n",
        "</div>\n",
        "<hr>\n"
      ]
    },
    {
      "cell_type": "markdown",
      "metadata": {},
      "source": [
        "**Table of contents**<a id='toc0_'></a>    \n",
        "- [Set Methods](#toc1_)    \n",
        "\n",
        "<!-- vscode-jupyter-toc-config\n",
        "\tnumbering=false\n",
        "\tanchor=true\n",
        "\tflat=false\n",
        "\tminLevel=1\n",
        "\tmaxLevel=6\n",
        "\t/vscode-jupyter-toc-config -->\n",
        "<!-- THIS CELL WILL BE REPLACED ON TOC UPDATE. DO NOT WRITE YOUR TEXT IN THIS CELL -->"
      ]
    },
    {
      "cell_type": "markdown",
      "metadata": {},
      "source": [
        "# <a id='toc1_'></a>[Set Methods](#toc0_)\n",
        "\n",
        "- Sets are unordered collections of unique elements, and support set theory operations like union, intersection, difference, etc.\n",
        "- Sets support fast lookups which means checking whether an element exists in a set is highly efficient (time complexity of `O(1)`).\n",
        "- Sets are [mutable](https://docs.python.org/3/library/stdtypes.html#built-in-types) objects whose state or contents can be changed after they are created.\n",
        "\n",
        "🔢 **Table of Methods**\n",
        "\n",
        "<table style=\"font-family: monospace; margin: 0 auto;\">\n",
        "  <tbody>\n",
        "    <tr>\n",
        "      <td>set.add()</td>\n",
        "      <td>set.clear()</td>\n",
        "      <td>set.copy()</td>\n",
        "      <td>set.difference()</td>\n",
        "    </tr>\n",
        "    <tr>\n",
        "      <td>set.difference_update()</td>\n",
        "      <td>set.discard()</td>\n",
        "      <td>set.intersection()</td>\n",
        "      <td>set.intersection_update()</td>\n",
        "    </tr>\n",
        "    <tr>\n",
        "      <td>set.isdisjoint()</td>\n",
        "      <td>set.issubset()</td>\n",
        "      <td>set.issuperset()</td>\n",
        "      <td>set.pop()</td>\n",
        "    </tr>\n",
        "    <tr>\n",
        "      <td>set.remove()</td>\n",
        "      <td>set.symmetric_difference()</td>\n",
        "      <td>set.symmetric_difference_update()</td>\n",
        "      <td>set.union()</td>\n",
        "    </tr>\n",
        "    <tr>\n",
        "      <td>set.update()</td>\n",
        "      <td></td>\n",
        "      <td></td>\n",
        "      <td></td>\n",
        "    </tr>\n",
        "  </tbody>\n",
        "</table>\n",
        "\n",
        "---\n",
        "\n",
        "📝 **Docs**:\n",
        "\n",
        "- Set: [docs.python.org/3/library/stdtypes.html#set](https://docs.python.org/3/library/stdtypes.html#set)\n",
        "- Set Methods: [docs.python.org/3/tutorial/datastructures.html#sets](https://docs.python.org/3/tutorial/datastructures.html#sets)\n"
      ]
    },
    {
      "cell_type": "code",
      "execution_count": null,
      "metadata": {},
      "outputs": [],
      "source": [
        "my_set = {1, 2, 3, 4}"
      ]
    },
    {
      "cell_type": "code",
      "execution_count": null,
      "metadata": {},
      "outputs": [],
      "source": [
        "# add(): add an element to the set\n",
        "my_set.add(5)\n",
        "\n",
        "# log\n",
        "print(my_set)"
      ]
    },
    {
      "cell_type": "code",
      "execution_count": null,
      "metadata": {},
      "outputs": [],
      "source": [
        "# update(): add multiple elements to the set\n",
        "my_set.update([6, 7])\n",
        "\n",
        "# log\n",
        "print(my_set)"
      ]
    },
    {
      "cell_type": "code",
      "execution_count": null,
      "metadata": {},
      "outputs": [],
      "source": [
        "# remove(): remove an element, raises KeyError if not found\n",
        "my_set.remove(3)\n",
        "\n",
        "# log\n",
        "print(my_set)"
      ]
    },
    {
      "cell_type": "code",
      "execution_count": null,
      "metadata": {},
      "outputs": [],
      "source": [
        "# discard(): remove an element, does not raise an error if not found\n",
        "my_set.discard(10)  # No error raised\n",
        "\n",
        "# log\n",
        "print(my_set)"
      ]
    },
    {
      "cell_type": "code",
      "execution_count": null,
      "metadata": {},
      "outputs": [],
      "source": [
        "# union(): combine two sets (returns a new set)\n",
        "set1 = {1, 2, 3}\n",
        "set2 = {3, 4, 5}\n",
        "union_set = set1.union(set2)\n",
        "\n",
        "# log\n",
        "print(union_set)"
      ]
    },
    {
      "cell_type": "code",
      "execution_count": null,
      "metadata": {},
      "outputs": [],
      "source": [
        "# intersection(): find common elements between two sets\n",
        "intersection_set = set1.intersection(set2)\n",
        "\n",
        "# log\n",
        "print(intersection_set)"
      ]
    },
    {
      "cell_type": "code",
      "execution_count": null,
      "metadata": {},
      "outputs": [],
      "source": [
        "# difference(): elements in the first set but not in the second\n",
        "difference_set = set1.difference(set2)\n",
        "\n",
        "# log\n",
        "print(difference_set)"
      ]
    },
    {
      "cell_type": "code",
      "execution_count": null,
      "metadata": {},
      "outputs": [],
      "source": [
        "# issubset(): check if one set is a subset of another\n",
        "print(set1.issubset({1, 2, 3, 4}))"
      ]
    },
    {
      "cell_type": "code",
      "execution_count": null,
      "metadata": {},
      "outputs": [],
      "source": [
        "# issuperset(): check if one set is a superset of another\n",
        "print({1, 2, 3, 4}.issuperset(set1))"
      ]
    }
  ],
  "metadata": {
    "author_email": "AmirhosseinHeydari78@gmail.com",
    "author_github": "https://github.com/mr-pylin",
    "author_name": "Amirhossein Heydari",
    "kernelspec": {
      "display_name": "Python 3",
      "language": "python",
      "name": "python3"
    },
    "language_info": {
      "codemirror_mode": {
        "name": "ipython",
        "version": 3
      },
      "file_extension": ".py",
      "mimetype": "text/x-python",
      "name": "python",
      "nbconvert_exporter": "python",
      "pygments_lexer": "ipython3",
      "version": "3.12.3"
    },
    "origin_repo": "https://github.com/mr-pylin/python-workshop"
  },
  "nbformat": 4,
  "nbformat_minor": 2
}
