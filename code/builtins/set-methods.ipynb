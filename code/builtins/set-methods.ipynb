{
  "cells": [
    {
      "cell_type": "markdown",
      "metadata": {},
      "source": [
        "\ud83d\udcdd **Author:** Amirhossein Heydari - \ud83d\udce7 **Email:** <amirhosseinheydari78@gmail.com> - \ud83d\udccd **Origin:** [mr-pylin/python-workshop](https://github.com/mr-pylin/python-workshop)\n",
        "\n",
        "---\n"
      ]
    },
    {
      "cell_type": "markdown",
      "metadata": {},
      "source": [
        "**Table of contents**<a id='toc0_'></a>    \n",
        "- [Set Methods](#toc1_)    \n",
        "\n",
        "<!-- vscode-jupyter-toc-config\n",
        "\tnumbering=false\n",
        "\tanchor=true\n",
        "\tflat=false\n",
        "\tminLevel=1\n",
        "\tmaxLevel=6\n",
        "\t/vscode-jupyter-toc-config -->\n",
        "<!-- THIS CELL WILL BE REPLACED ON TOC UPDATE. DO NOT WRITE YOUR TEXT IN THIS CELL -->"
      ]
    },
    {
      "cell_type": "markdown",
      "metadata": {},
      "source": [
        "# <a id='toc1_'></a>[Set Methods](#toc0_)\n",
        "\n",
        "- Sets are unordered collections of unique elements, and support set theory operations like union, intersection, difference, etc.\n",
        "- Sets support fast lookups which means checking whether an element exists in a set is highly efficient (time complexity of `O(1)`).\n",
        "- Sets are [mutable](https://docs.python.org/3/library/stdtypes.html#built-in-types) objects whose state or contents can be changed after they are created.\n",
        "\n",
        "\ud83d\udd22 **Table of Methods**\n",
        "\n",
        "<table style=\"font-family: monospace; margin: 0 auto;\">\n",
        "  <tbody>\n",
        "    <tr>\n",
        "      <td>set.add()</td>\n",
        "      <td>set.clear()</td>\n",
        "      <td>set.copy()</td>\n",
        "      <td>set.difference()</td>\n",
        "    </tr>\n",
        "    <tr>\n",
        "      <td>set.difference_update()</td>\n",
        "      <td>set.discard()</td>\n",
        "      <td>set.intersection()</td>\n",
        "      <td>set.intersection_update()</td>\n",
        "    </tr>\n",
        "    <tr>\n",
        "      <td>set.isdisjoint()</td>\n",
        "      <td>set.issubset()</td>\n",
        "      <td>set.issuperset()</td>\n",
        "      <td>set.pop()</td>\n",
        "    </tr>\n",
        "    <tr>\n",
        "      <td>set.remove()</td>\n",
        "      <td>set.symmetric_difference()</td>\n",
        "      <td>set.symmetric_difference_update()</td>\n",
        "      <td>set.union()</td>\n",
        "    </tr>\n",
        "    <tr>\n",
        "      <td>set.update()</td>\n",
        "      <td></td>\n",
        "      <td></td>\n",
        "      <td></td>\n",
        "    </tr>\n",
        "  </tbody>\n",
        "</table>\n",
        "\n",
        "---\n",
        "\n",
        "\ud83d\udcdd **Docs**:\n",
        "\n",
        "- Set: [docs.python.org/3/library/stdtypes.html#set](https://docs.python.org/3/library/stdtypes.html#set)\n",
        "- Set Methods: [docs.python.org/3/tutorial/datastructures.html#sets](https://docs.python.org/3/tutorial/datastructures.html#sets)\n"
      ]
    },
    {
      "cell_type": "code",
      "execution_count": 1,
      "metadata": {},
      "outputs": [],
      "source": [
        "my_set = {1, 2, 3, 4}"
      ]
    },
    {
      "cell_type": "code",
      "execution_count": 2,
      "metadata": {},
      "outputs": [
        {
          "name": "stdout",
          "output_type": "stream",
          "text": [
            "{1, 2, 3, 4, 5}\n"
          ]
        }
      ],
      "source": [
        "# add(): add an element to the set\n",
        "my_set.add(5)\n",
        "\n",
        "# log\n",
        "print(my_set)"
      ]
    },
    {
      "cell_type": "code",
      "execution_count": 3,
      "metadata": {},
      "outputs": [
        {
          "name": "stdout",
          "output_type": "stream",
          "text": [
            "{1, 2, 3, 4, 5, 6, 7}\n"
          ]
        }
      ],
      "source": [
        "# update(): add multiple elements to the set\n",
        "my_set.update([6, 7])\n",
        "\n",
        "# log\n",
        "print(my_set)"
      ]
    },
    {
      "cell_type": "code",
      "execution_count": 4,
      "metadata": {},
      "outputs": [
        {
          "name": "stdout",
          "output_type": "stream",
          "text": [
            "{1, 2, 4, 5, 6, 7}\n"
          ]
        }
      ],
      "source": [
        "# remove(): remove an element, raises KeyError if not found\n",
        "my_set.remove(3)\n",
        "\n",
        "# log\n",
        "print(my_set)"
      ]
    },
    {
      "cell_type": "code",
      "execution_count": 5,
      "metadata": {},
      "outputs": [
        {
          "name": "stdout",
          "output_type": "stream",
          "text": [
            "{1, 2, 4, 5, 6, 7}\n"
          ]
        }
      ],
      "source": [
        "# discard(): remove an element, does not raise an error if not found\n",
        "my_set.discard(10)  # No error raised\n",
        "\n",
        "# log\n",
        "print(my_set)"
      ]
    },
    {
      "cell_type": "code",
      "execution_count": 6,
      "metadata": {},
      "outputs": [
        {
          "name": "stdout",
          "output_type": "stream",
          "text": [
            "{1, 2, 3, 4, 5}\n"
          ]
        }
      ],
      "source": [
        "# union(): combine two sets (returns a new set)\n",
        "set1 = {1, 2, 3}\n",
        "set2 = {3, 4, 5}\n",
        "union_set = set1.union(set2)\n",
        "\n",
        "# log\n",
        "print(union_set)"
      ]
    },
    {
      "cell_type": "code",
      "execution_count": 7,
      "metadata": {},
      "outputs": [
        {
          "name": "stdout",
          "output_type": "stream",
          "text": [
            "{3}\n"
          ]
        }
      ],
      "source": [
        "# intersection(): find common elements between two sets\n",
        "intersection_set = set1.intersection(set2)\n",
        "\n",
        "# log\n",
        "print(intersection_set)"
      ]
    },
    {
      "cell_type": "code",
      "execution_count": 8,
      "metadata": {},
      "outputs": [
        {
          "name": "stdout",
          "output_type": "stream",
          "text": [
            "{1, 2}\n"
          ]
        }
      ],
      "source": [
        "# difference(): elements in the first set but not in the second\n",
        "difference_set = set1.difference(set2)\n",
        "\n",
        "# log\n",
        "print(difference_set)"
      ]
    },
    {
      "cell_type": "code",
      "execution_count": 9,
      "metadata": {},
      "outputs": [
        {
          "name": "stdout",
          "output_type": "stream",
          "text": [
            "True\n"
          ]
        }
      ],
      "source": [
        "# issubset(): check if one set is a subset of another\n",
        "print(set1.issubset({1, 2, 3, 4}))"
      ]
    },
    {
      "cell_type": "code",
      "execution_count": 10,
      "metadata": {},
      "outputs": [
        {
          "name": "stdout",
          "output_type": "stream",
          "text": [
            "True\n"
          ]
        }
      ],
      "source": [
        "# issuperset(): check if one set is a superset of another\n",
        "print({1, 2, 3, 4}.issuperset(set1))"
      ]
    }
  ],
  "metadata": {
    "kernelspec": {
      "display_name": "Python 3",
      "language": "python",
      "name": "python3"
    },
    "language_info": {
      "codemirror_mode": {
        "name": "ipython",
        "version": 3
      },
      "file_extension": ".py",
      "mimetype": "text/x-python",
      "name": "python",
      "nbconvert_exporter": "python",
      "pygments_lexer": "ipython3",
      "version": "3.12.3"
    },
    "author_name": "Amirhossein Heydari",
    "author_email": "AmirhosseinHeydari78@gmail.com",
    "author_github": "https://github.com/mr-pylin",
    "origin_repo": "https://github.com/mr-pylin/python-workshop"
  },
  "nbformat": 4,
  "nbformat_minor": 2
}