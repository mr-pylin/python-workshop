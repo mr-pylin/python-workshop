{
 "cells": [
  {
   "cell_type": "markdown",
   "metadata": {},
   "source": [
    "<div style=\"display: flex; justify-content: space-between; align-items: center;\">\n",
    "    <div style=\"text-align: left; flex: 4\">\n",
    "        <strong>Author:</strong> Amirhossein Heydari — \n",
    "        📧 <a href=\"mailto:amirhosseinheydari78@gmail.com\">amirhosseinheydari78@gmail.com</a> — \n",
    "        🐙 <a href=\"https://github.com/mr-pylin/python-workshop\" target=\"_blank\" rel=\"noopener\">github.com/mr-pylin</a>\n",
    "    </div>\n",
    "    <div style=\"text-align: right; flex: 1;\">\n",
    "        <a href=\"https://www.python.org/\" target=\"_blank\" rel=\"noopener noreferrer\">\n",
    "            <img src=\"../assets/images/python/logo/python-logo-inkscape.svg\" \n",
    "                 alt=\"Python Logo\"\n",
    "                 style=\"max-height: 48px; width: auto;\">\n",
    "        </a>\n",
    "    </div>\n",
    "</div>\n",
    "<hr>\n"
   ]
  },
  {
   "cell_type": "markdown",
   "metadata": {},
   "source": [
    "**Table of contents**<a id='toc0_'></a>    \n",
    "- [Namespace](#toc1_)    \n",
    "  - [built-in identifiers](#toc1_1_)    \n",
    "  - [global and local identifiers](#toc1_2_)    \n",
    "- [Scope](#toc2_)    \n",
    "    - [How Python Searches For An Identifier](#toc2_1_1_)    \n",
    "- [Global and Nonlocal Keywords](#toc3_)    \n",
    "    - [Global Keyword](#toc3_1_1_)    \n",
    "    - [Nonlocal Keyword](#toc3_1_2_)    \n",
    "\n",
    "<!-- vscode-jupyter-toc-config\n",
    "\tnumbering=false\n",
    "\tanchor=true\n",
    "\tflat=false\n",
    "\tminLevel=1\n",
    "\tmaxLevel=6\n",
    "\t/vscode-jupyter-toc-config -->\n",
    "<!-- THIS CELL WILL BE REPLACED ON TOC UPDATE. DO NOT WRITE YOUR TEXT IN THIS CELL -->"
   ]
  },
  {
   "cell_type": "markdown",
   "metadata": {},
   "source": [
    "# <a id='toc1_'></a>[Namespace](#toc0_)\n",
    "\n",
    "- It is like a \"container\" where a name (variable, function, object) is stored.\n",
    "- It's essentially a dictionary of `variable names` and their `associated objects`.\n",
    "\n",
    "**Types of Namespaces:**\n",
    "\n",
    "- Built-in Namespace: Stores Python's built-in functions and exceptions (e.g., `len()`, `print()`).\n",
    "- Global Namespace: Stores variables defined at the top-level of a module or script.\n",
    "- Local Namespace: Created inside functions. Contains variables defined within a function.\n",
    "\n",
    "📝 **Doc**:\n",
    "\n",
    "- Scopes and Namespaces: [docs.python.org/3/tutorial/classes.html#python-scopes-and-namespaces](https://docs.python.org/3/tutorial/classes.html#python-scopes-and-namespaces)\n"
   ]
  },
  {
   "cell_type": "code",
   "execution_count": null,
   "metadata": {},
   "outputs": [],
   "source": [
    "# built-in namespace\n",
    "print(len([1, 2, 3]))  # 'print' and 'len' belong to the built-in namespace"
   ]
  },
  {
   "cell_type": "code",
   "execution_count": null,
   "metadata": {},
   "outputs": [],
   "source": [
    "# global namespace\n",
    "x = 10  # x is in the global namespace"
   ]
  },
  {
   "cell_type": "code",
   "execution_count": null,
   "metadata": {},
   "outputs": [],
   "source": [
    "def foo():\n",
    "    # local namespace\n",
    "    y = 5  # y is in the local namespace of the function foo()\n",
    "    print(y)"
   ]
  },
  {
   "cell_type": "markdown",
   "metadata": {},
   "source": [
    "## <a id='toc1_1_'></a>[built-in identifiers](#toc0_)\n"
   ]
  },
  {
   "cell_type": "code",
   "execution_count": null,
   "metadata": {},
   "outputs": [],
   "source": [
    "print(dir(__builtins__))"
   ]
  },
  {
   "cell_type": "markdown",
   "metadata": {},
   "source": [
    "## <a id='toc1_2_'></a>[global and local identifiers](#toc0_)\n"
   ]
  },
  {
   "cell_type": "code",
   "execution_count": null,
   "metadata": {},
   "outputs": [],
   "source": [
    "x = 10\n",
    "\n",
    "\n",
    "def foo():\n",
    "    y = 20\n",
    "    print(f\"locals : {locals()}\")\n",
    "\n",
    "\n",
    "foo()\n",
    "print(f\"globals: {globals()}\")"
   ]
  },
  {
   "cell_type": "markdown",
   "metadata": {},
   "source": [
    "# <a id='toc2_'></a>[Scope](#toc0_)\n",
    "\n",
    "- It is the region of the code where a namespace is directly accessible.\n",
    "- It defines where you can access a particular name (variable, function, ...)\n",
    "\n",
    "**Types of Scopes (LEGB Rule)**:\n",
    "\n",
    "- Local Scope: Inside the function.\n",
    "- Enclosing Scope: Inside nested functions (the function that contains another function).\n",
    "- Global Scope: Variables declared in the global scope (outside all functions).\n",
    "- Built-in Scope: Variables in Python's built-in namespace (like `len()`, `print()`).\n",
    "\n",
    "📝 **Doc**:\n",
    "\n",
    "- Scopes and Namespaces: [docs.python.org/3/tutorial/classes.html#python-scopes-and-namespaces](https://docs.python.org/3/tutorial/classes.html#python-scopes-and-namespaces)\n"
   ]
  },
  {
   "cell_type": "code",
   "execution_count": null,
   "metadata": {},
   "outputs": [],
   "source": [
    "x = \"global\"\n",
    "\n",
    "\n",
    "def outer():\n",
    "    x = \"enclosing\"\n",
    "\n",
    "    def inner():\n",
    "        x = \"local\"\n",
    "        print(x)  # accessing local scope\n",
    "\n",
    "    inner()\n",
    "    print(x)  # accessing enclosing scope\n",
    "\n",
    "\n",
    "outer()\n",
    "print(x)  # accessing global scope"
   ]
  },
  {
   "cell_type": "markdown",
   "metadata": {},
   "source": [
    "### <a id='toc2_1_1_'></a>[How Python Searches For An Identifier](#toc0_)\n",
    "\n",
    "- Local: Python looks in the innermost function (local scope).\n",
    "- Enclosing: If not found in local, it looks in the enclosing function (nested function) scope.\n",
    "- Global: If not found in enclosing, it checks the global scope (module level).\n",
    "- Built-in: If nothing is found, it checks Python's built-in namespace.\n",
    "\n",
    "<figure style=\"text-align: center;\">\n",
    "  <img src=\"../assets/images/original/vectors/scope/scope.svg\" alt=\"scope.svg\" style=\"width: 75%;\">\n",
    "  <figcaption style=\"text-align:center;\">Scope</figcaption>\n",
    "</figure>\n"
   ]
  },
  {
   "cell_type": "code",
   "execution_count": null,
   "metadata": {},
   "outputs": [],
   "source": [
    "x = \"global\"\n",
    "\n",
    "\n",
    "def outer():\n",
    "    x = \"enclosing\"\n",
    "\n",
    "    def inner():\n",
    "        x = \"local\"\n",
    "\n",
    "        print(\"inside inner function :\", x)\n",
    "\n",
    "    inner()\n",
    "    print(\"inside outer function :\", x)\n",
    "\n",
    "\n",
    "outer()\n",
    "print(\"in global scope :\", x)"
   ]
  },
  {
   "cell_type": "code",
   "execution_count": null,
   "metadata": {},
   "outputs": [],
   "source": [
    "x = \"global\"\n",
    "\n",
    "\n",
    "def outer():\n",
    "    x = \"enclosing\"\n",
    "\n",
    "    def inner():\n",
    "        print(\"inside inner function :\", x)\n",
    "\n",
    "    inner()\n",
    "    print(\"inside outer function :\", x)\n",
    "\n",
    "\n",
    "outer()\n",
    "print(\"in global scope :\", x)"
   ]
  },
  {
   "cell_type": "code",
   "execution_count": null,
   "metadata": {},
   "outputs": [],
   "source": [
    "x = \"global\"\n",
    "\n",
    "\n",
    "def outer():\n",
    "    def inner():\n",
    "        x = \"local\"\n",
    "\n",
    "        print(\"inside inner function :\", x)\n",
    "\n",
    "    inner()\n",
    "    print(\"inside outer function :\", x)\n",
    "\n",
    "\n",
    "outer()\n",
    "print(\"in global scope :\", x)"
   ]
  },
  {
   "cell_type": "code",
   "execution_count": null,
   "metadata": {},
   "outputs": [],
   "source": [
    "x = \"global\"\n",
    "\n",
    "\n",
    "def outer():\n",
    "    def inner():\n",
    "        print(\"inside inner function :\", x)\n",
    "\n",
    "    inner()\n",
    "    print(\"inside outer function :\", x)\n",
    "\n",
    "\n",
    "outer()\n",
    "print(\"in global scope :\", x)"
   ]
  },
  {
   "cell_type": "code",
   "execution_count": null,
   "metadata": {},
   "outputs": [],
   "source": [
    "def outer():\n",
    "    def inner():\n",
    "        print(\"inside inner function :\", y)\n",
    "\n",
    "    inner()\n",
    "    print(\"inside outer function :\", y)\n",
    "\n",
    "\n",
    "outer()\n",
    "print(\"in global scope :\", y)"
   ]
  },
  {
   "cell_type": "markdown",
   "metadata": {},
   "source": [
    "# <a id='toc3_'></a>[Global and Nonlocal Keywords](#toc0_)\n"
   ]
  },
  {
   "cell_type": "markdown",
   "metadata": {},
   "source": [
    "### <a id='toc3_1_1_'></a>[Global Keyword](#toc0_)\n",
    "\n",
    "- The `global` keyword is used to refer to a variable that is defined in the global scope from within a function.\n",
    "- It allows you to **modify** a global variable inside a function, rather than creating a local one.\n",
    "- Be cautious with `global` as overusing it can make your code harder to manage.\n",
    "\n",
    "📝 **Doc**:\n",
    "\n",
    "- The global statement: [docs.python.org/3.12/reference/simple_stmts.html#the-global-statement](https://docs.python.org/3.12/reference/simple_stmts.html#the-global-statement)\n"
   ]
  },
  {
   "cell_type": "code",
   "execution_count": null,
   "metadata": {},
   "outputs": [],
   "source": [
    "# without <global>\n",
    "x = 10\n",
    "\n",
    "\n",
    "def change_x():\n",
    "    x = 5\n",
    "    print(\"inside function:\", x)\n",
    "\n",
    "\n",
    "change_x()\n",
    "print(\"outside function:\", x)"
   ]
  },
  {
   "cell_type": "code",
   "execution_count": null,
   "metadata": {},
   "outputs": [],
   "source": [
    "# with <global>\n",
    "x = 10\n",
    "\n",
    "\n",
    "def change_x():\n",
    "    global x\n",
    "    x = 5\n",
    "    print(\"inside function:\", x)\n",
    "\n",
    "\n",
    "change_x()\n",
    "print(\"outside function:\", x)"
   ]
  },
  {
   "cell_type": "code",
   "execution_count": null,
   "metadata": {},
   "outputs": [],
   "source": [
    "x = 10\n",
    "\n",
    "\n",
    "def change_x():\n",
    "    global x  # using global to modify x is mandatory otherwise UnboundLocalError happens\n",
    "    x += 1\n",
    "\n",
    "\n",
    "change_x()\n",
    "print(\"outside function:\", x)"
   ]
  },
  {
   "cell_type": "markdown",
   "metadata": {},
   "source": [
    "### <a id='toc3_1_2_'></a>[Nonlocal Keyword](#toc0_)\n",
    "\n",
    "- The `nonlocal` keyword is used in nested functions.\n",
    "- It allows you to modify a variable that is not local to the current function but is found in the enclosing (outer) function's scope.\n",
    "- It does not affect the global scope.\n",
    "\n",
    "📝 **Doc**:\n",
    "\n",
    "- The nonlocal statement: [docs.python.org/3.12/reference/simple_stmts.html#the-nonlocal-statement](https://docs.python.org/3.12/reference/simple_stmts.html#the-nonlocal-statement)\n",
    "\n",
    "🐍 **PEP**:\n",
    "\n",
    "- Access to Names in Outer Scopes [[PEP 3104](https://peps.python.org/pep-3104/)]\n"
   ]
  },
  {
   "cell_type": "code",
   "execution_count": null,
   "metadata": {},
   "outputs": [],
   "source": [
    "# without <nonlocal>\n",
    "def outer():\n",
    "    x = \"outer variable\"\n",
    "\n",
    "    def inner():\n",
    "        x = \"inner variable\"\n",
    "        print(\"inside inner:\", x)\n",
    "\n",
    "    inner()\n",
    "    print(\"inside outer:\", x)\n",
    "\n",
    "\n",
    "outer()"
   ]
  },
  {
   "cell_type": "code",
   "execution_count": null,
   "metadata": {},
   "outputs": [],
   "source": [
    "# with <nonlocal>\n",
    "def outer():\n",
    "    x = \"outer variable\"\n",
    "\n",
    "    def inner():\n",
    "        nonlocal x\n",
    "        x = \"inner variable\"\n",
    "        print(\"inside inner:\", x)\n",
    "\n",
    "    inner()\n",
    "    print(\"inside outer:\", x)\n",
    "\n",
    "\n",
    "outer()"
   ]
  },
  {
   "cell_type": "code",
   "execution_count": null,
   "metadata": {},
   "outputs": [],
   "source": [
    "# with <nonlocal>\n",
    "def outer():\n",
    "    x = \"outer variable\"\n",
    "\n",
    "    def inner():\n",
    "        nonlocal x  # using nonlocal to modify x is mandatory otherwise UnboundLocalError happens\n",
    "        x += \".\"\n",
    "\n",
    "    inner()\n",
    "    print(\"inside outer:\", x)\n",
    "\n",
    "\n",
    "outer()"
   ]
  }
 ],
 "metadata": {
  "author_email": "AmirhosseinHeydari78@gmail.com",
  "author_github": "https://github.com/mr-pylin",
  "author_name": "Amirhossein Heydari",
  "kernelspec": {
   "display_name": "Python 3",
   "language": "python",
   "name": "python3"
  },
  "language_info": {
   "codemirror_mode": {
    "name": "ipython",
    "version": 3
   },
   "file_extension": ".py",
   "mimetype": "text/x-python",
   "name": "python",
   "nbconvert_exporter": "python",
   "pygments_lexer": "ipython3",
   "version": "3.12.3"
  },
  "origin_repo": "https://github.com/mr-pylin/python-workshop"
 },
 "nbformat": 4,
 "nbformat_minor": 2
}
