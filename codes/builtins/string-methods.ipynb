{
 "cells": [
  {
   "cell_type": "markdown",
   "metadata": {},
   "source": [
    "📝 **Author:** Amirhossein Heydari - 📧 **Email:** AmirhosseinHeydari78@gmail.com - 📍 **Linktree:** [linktr.ee/mr_pylin](https://linktr.ee/mr_pylin)\n",
    "\n",
    "---"
   ]
  },
  {
   "cell_type": "markdown",
   "metadata": {},
   "source": [
    "# String Methods\n",
    "   - String methods are functions that are associated with string objects in Python\n",
    "   - Methods operate on an instance of a string, modifying or interacting with the string in some way\n",
    "   - These methods are called using the dot notation (`.`) on the string object\n",
    "\n",
    "<table style=\"font-family: monospace; margin: 0 auto;\">\n",
    "   <tbody>\n",
    "      <tr>\n",
    "         <td>str.capitalize()</td>\n",
    "         <td>str.casefold()</td>\n",
    "         <td>str.center()</td>\n",
    "         <td>str.count()</td>\n",
    "         <td>str.encode()</td>\n",
    "      </tr>\n",
    "      <tr>\n",
    "         <td>str.endswith()</td>\n",
    "         <td>str.expandtabs()</td>\n",
    "         <td>str.find()</td>\n",
    "         <td>str.format()</td>\n",
    "         <td>str.format_map()</td>\n",
    "      </tr>\n",
    "      <tr>\n",
    "         <td>str.index()</td>\n",
    "         <td>str.isalnum()</td>\n",
    "         <td>str.isalpha()</td>\n",
    "         <td>str.isascii()</td>\n",
    "         <td>str.isdecimal()</td>\n",
    "      </tr>\n",
    "      <tr>\n",
    "         <td>str.isdigit()</td>\n",
    "         <td>str.isidentifier()</td>\n",
    "         <td>str.islower()</td>\n",
    "         <td>str.isnumeric()</td>\n",
    "         <td>str.isprintable()</td>\n",
    "      </tr>\n",
    "      <tr>\n",
    "         <td>str.isspace()</td>\n",
    "         <td>str.istitle()</td>\n",
    "         <td>str.isupper()</td>\n",
    "         <td>str.join()</td>\n",
    "         <td>str.ljust()</td>\n",
    "      </tr>\n",
    "      <tr>\n",
    "         <td>str.lower()</td>\n",
    "         <td>str.lstrip()</td>\n",
    "         <td>str.maketrans()</td>\n",
    "         <td>str.partition()</td>\n",
    "         <td>str.removeprefix()</td>\n",
    "      </tr>\n",
    "      <tr>\n",
    "         <td>str.removesuffix()</td>\n",
    "         <td>str.replace()</td>\n",
    "         <td>str.rfind()</td>\n",
    "         <td>str.rindex()</td>\n",
    "         <td>str.rjust()</td>\n",
    "      </tr>\n",
    "      <tr>\n",
    "         <td>str.rpartition()</td>\n",
    "         <td>str.rsplit()</td>\n",
    "         <td>str.rstrip()</td>\n",
    "         <td>str.split()</td>\n",
    "         <td>str.splitlines()</td>\n",
    "      </tr>\n",
    "      <tr>\n",
    "         <td>str.startswith()</td>\n",
    "         <td>str.strip()</td>\n",
    "         <td>str.swapcase()</td>\n",
    "         <td>str.title()</td>\n",
    "         <td>str.translate()</td>\n",
    "      </tr>\n",
    "      <tr>\n",
    "         <td>str.upper()</td>\n",
    "         <td>str.zfill()</td>\n",
    "         <td></td>\n",
    "         <td></td>\n",
    "         <td></td>\n",
    "      </tr>\n",
    "   </tbody>\n",
    "</table>\n",
    "\n",
    "---\n",
    "\n",
    "📝 **Docs**:\n",
    "   - String Methods: [docs.python.org/3/library/stdtypes.html#string-methods](https://docs.python.org/3/library/stdtypes.html#string-methods)"
   ]
  },
  {
   "cell_type": "markdown",
   "metadata": {},
   "source": [
    "## Types of String Methods"
   ]
  },
  {
   "cell_type": "markdown",
   "metadata": {},
   "source": [
    "### Case Conversion Methods\n",
    "   - Convert the case of the string.\n",
    "   - Examples: `upper()`, `lower()`, `capitalize()`, `title()`."
   ]
  },
  {
   "cell_type": "code",
   "execution_count": 45,
   "metadata": {},
   "outputs": [
    {
     "name": "stdout",
     "output_type": "stream",
     "text": [
      "HELLO\n"
     ]
    }
   ],
   "source": [
    "my_string = \"hello\"\n",
    "result = my_string.upper()\n",
    "\n",
    "# log\n",
    "print(result)"
   ]
  },
  {
   "cell_type": "code",
   "execution_count": 46,
   "metadata": {},
   "outputs": [
    {
     "name": "stdout",
     "output_type": "stream",
     "text": [
      "hello\n"
     ]
    }
   ],
   "source": [
    "my_string = \"HELLO\"\n",
    "result = my_string.lower()\n",
    "\n",
    "# log\n",
    "print(result)"
   ]
  },
  {
   "cell_type": "code",
   "execution_count": 47,
   "metadata": {},
   "outputs": [
    {
     "name": "stdout",
     "output_type": "stream",
     "text": [
      "Python programming\n"
     ]
    }
   ],
   "source": [
    "my_string = \"python programming\"\n",
    "result = my_string.capitalize()\n",
    "\n",
    "# log\n",
    "print(result)"
   ]
  },
  {
   "cell_type": "code",
   "execution_count": 48,
   "metadata": {},
   "outputs": [
    {
     "name": "stdout",
     "output_type": "stream",
     "text": [
      "Python Programming\n"
     ]
    }
   ],
   "source": [
    "my_string = \"python programming\"\n",
    "result = my_string.title()\n",
    "\n",
    "# log\n",
    "print(result)"
   ]
  },
  {
   "cell_type": "markdown",
   "metadata": {},
   "source": [
    "### Whitespace and Padding\n",
    "   - Remove or add spaces to the string.\n",
    "   - Examples: `strip()`, `lstrip()`, `rstrip()`, `center()`, `ljust()`, `rjust()`."
   ]
  },
  {
   "cell_type": "code",
   "execution_count": 49,
   "metadata": {},
   "outputs": [
    {
     "name": "stdout",
     "output_type": "stream",
     "text": [
      "hello\n"
     ]
    }
   ],
   "source": [
    "my_string = \"   hello   \"\n",
    "result = my_string.strip()\n",
    "\n",
    "# log\n",
    "print(result)"
   ]
  },
  {
   "cell_type": "code",
   "execution_count": 50,
   "metadata": {},
   "outputs": [
    {
     "name": "stdout",
     "output_type": "stream",
     "text": [
      "hello\n"
     ]
    }
   ],
   "source": [
    "my_string = \"   hello\"\n",
    "result = my_string.lstrip()\n",
    "\n",
    "# log\n",
    "print(result)"
   ]
  },
  {
   "cell_type": "code",
   "execution_count": 51,
   "metadata": {},
   "outputs": [
    {
     "name": "stdout",
     "output_type": "stream",
     "text": [
      "hello\n"
     ]
    }
   ],
   "source": [
    "my_string = \"hello   \"\n",
    "result = my_string.rstrip()\n",
    "\n",
    "# log\n",
    "print(result)"
   ]
  },
  {
   "cell_type": "code",
   "execution_count": 52,
   "metadata": {},
   "outputs": [
    {
     "name": "stdout",
     "output_type": "stream",
     "text": [
      "  hello   \n"
     ]
    }
   ],
   "source": [
    "my_string = \"hello\"\n",
    "result = my_string.center(10)\n",
    "\n",
    "# log\n",
    "print(result)"
   ]
  },
  {
   "cell_type": "code",
   "execution_count": 53,
   "metadata": {},
   "outputs": [
    {
     "name": "stdout",
     "output_type": "stream",
     "text": [
      "hello     \n"
     ]
    }
   ],
   "source": [
    "my_string = \"hello\"\n",
    "result = my_string.ljust(10)\n",
    "\n",
    "# log\n",
    "print(result)"
   ]
  },
  {
   "cell_type": "code",
   "execution_count": 54,
   "metadata": {},
   "outputs": [
    {
     "name": "stdout",
     "output_type": "stream",
     "text": [
      "     hello\n"
     ]
    }
   ],
   "source": [
    "my_string = \"hello\"\n",
    "result = my_string.rjust(10)\n",
    "\n",
    "# log\n",
    "print(result)"
   ]
  },
  {
   "cell_type": "markdown",
   "metadata": {},
   "source": [
    "### Search and Replace\n",
    "   - Find or replace specific substrings.\n",
    "   - Examples: `find()`, `replace()`, `startswith()`, `endswith().`"
   ]
  },
  {
   "cell_type": "code",
   "execution_count": 55,
   "metadata": {},
   "outputs": [
    {
     "name": "stdout",
     "output_type": "stream",
     "text": [
      "6\n"
     ]
    }
   ],
   "source": [
    "my_string = \"hello world\"\n",
    "result = my_string.find(\"world\")\n",
    "\n",
    "# log\n",
    "print(result)"
   ]
  },
  {
   "cell_type": "code",
   "execution_count": 56,
   "metadata": {},
   "outputs": [
    {
     "name": "stdout",
     "output_type": "stream",
     "text": [
      "hello Python\n"
     ]
    }
   ],
   "source": [
    "my_string = \"hello world\"\n",
    "result = my_string.replace(\"world\", \"Python\")\n",
    "\n",
    "# log\n",
    "print(result)"
   ]
  },
  {
   "cell_type": "code",
   "execution_count": 57,
   "metadata": {},
   "outputs": [
    {
     "name": "stdout",
     "output_type": "stream",
     "text": [
      "True\n"
     ]
    }
   ],
   "source": [
    "my_string = \"hello world\"\n",
    "result = my_string.startswith(\"hello\")\n",
    "\n",
    "# log\n",
    "print(result)"
   ]
  },
  {
   "cell_type": "code",
   "execution_count": 58,
   "metadata": {},
   "outputs": [
    {
     "name": "stdout",
     "output_type": "stream",
     "text": [
      "True\n"
     ]
    }
   ],
   "source": [
    "my_string = \"hello world\"\n",
    "result = my_string.endswith(\"world\")\n",
    "\n",
    "# log\n",
    "print(result)"
   ]
  },
  {
   "cell_type": "markdown",
   "metadata": {},
   "source": [
    "### String Splitting and Joining\n",
    "   - Break strings into parts or combine them.\n",
    "   - Examples: `split()`, `rsplit()`, `join()`."
   ]
  },
  {
   "cell_type": "code",
   "execution_count": 59,
   "metadata": {},
   "outputs": [
    {
     "name": "stdout",
     "output_type": "stream",
     "text": [
      "['apple', 'banana', 'cherry']\n"
     ]
    }
   ],
   "source": [
    "my_string = \"apple,banana,cherry\"\n",
    "result = my_string.split(\",\")\n",
    "\n",
    "# log\n",
    "print(result)"
   ]
  },
  {
   "cell_type": "code",
   "execution_count": 60,
   "metadata": {},
   "outputs": [
    {
     "name": "stdout",
     "output_type": "stream",
     "text": [
      "['apple,banana', 'cherry']\n"
     ]
    }
   ],
   "source": [
    "my_string = \"apple,banana,cherry\"\n",
    "result = my_string.rsplit(\",\", 1)\n",
    "\n",
    "# log\n",
    "print(result)"
   ]
  },
  {
   "cell_type": "code",
   "execution_count": 61,
   "metadata": {},
   "outputs": [
    {
     "name": "stdout",
     "output_type": "stream",
     "text": [
      "apple, banana, cherry\n"
     ]
    }
   ],
   "source": [
    "my_list = [\"apple\", \"banana\", \"cherry\"]\n",
    "result = \", \".join(my_list)\n",
    "\n",
    "# log\n",
    "print(result)"
   ]
  },
  {
   "cell_type": "markdown",
   "metadata": {},
   "source": [
    "### Character Type Checking\n",
    "   - Check if the string has specific types of characters (like digits, alphabet, etc.).\n",
    "   - Examples: `isalpha()`, `isdigit()`, `islower()`, `isupper()`."
   ]
  },
  {
   "cell_type": "code",
   "execution_count": 62,
   "metadata": {},
   "outputs": [
    {
     "name": "stdout",
     "output_type": "stream",
     "text": [
      "True\n"
     ]
    }
   ],
   "source": [
    "my_string = \"Hello\"\n",
    "result = my_string.isalpha()\n",
    "\n",
    "# log\n",
    "print(result)"
   ]
  },
  {
   "cell_type": "code",
   "execution_count": 63,
   "metadata": {},
   "outputs": [
    {
     "name": "stdout",
     "output_type": "stream",
     "text": [
      "True\n"
     ]
    }
   ],
   "source": [
    "my_string = \"12345\"\n",
    "result = my_string.isdigit()\n",
    "\n",
    "# log\n",
    "print(result)"
   ]
  },
  {
   "cell_type": "code",
   "execution_count": 64,
   "metadata": {},
   "outputs": [
    {
     "name": "stdout",
     "output_type": "stream",
     "text": [
      "True\n"
     ]
    }
   ],
   "source": [
    "my_string = \"hello\"\n",
    "result = my_string.islower()\n",
    "\n",
    "# log\n",
    "print(result)"
   ]
  },
  {
   "cell_type": "code",
   "execution_count": 65,
   "metadata": {},
   "outputs": [
    {
     "name": "stdout",
     "output_type": "stream",
     "text": [
      "True\n"
     ]
    }
   ],
   "source": [
    "my_string = \"HELLO\"\n",
    "result = my_string.isupper()\n",
    "\n",
    "# log\n",
    "print(result)"
   ]
  }
 ],
 "metadata": {
  "kernelspec": {
   "display_name": "Python 3",
   "language": "python",
   "name": "python3"
  },
  "language_info": {
   "codemirror_mode": {
    "name": "ipython",
    "version": 3
   },
   "file_extension": ".py",
   "mimetype": "text/x-python",
   "name": "python",
   "nbconvert_exporter": "python",
   "pygments_lexer": "ipython3",
   "version": "3.12.3"
  }
 },
 "nbformat": 4,
 "nbformat_minor": 2
}
