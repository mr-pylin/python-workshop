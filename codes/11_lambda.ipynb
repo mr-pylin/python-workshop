{
 "cells": [
  {
   "cell_type": "markdown",
   "metadata": {},
   "source": [
    "📝 **Author:** Amirhossein Heydari - 📧 **Email:** AmirhosseinHeydari78@gmail.com - 📍 **Linktree:** [linktr.ee/mr_pylin](https://linktr.ee/mr_pylin)\n",
    "\n",
    "---"
   ]
  },
  {
   "cell_type": "markdown",
   "metadata": {},
   "source": [
    "# Lambda Functions\n",
    "   - Lambda functions in Python are anonymous, inline functions defined using the `lambda` keyword.\n",
    "   - They can only contain a single expression, not multiple statements.\n",
    "   - Lambdas are commonly used in functional programming tools like `map()`, `filter()`, or `sorted()` where you need a short function.\n",
    "   - By \"Anonymous\", meaning they don't have a name and are typically used in places where a short, simple function is needed for a limited scope.\n",
    "\n",
    "**Syntax**:\n",
    "   - ```python\n",
    "     lambda parameters: expression\n",
    "     ```\n",
    "\n",
    "**List of built-in Python functions that commonly accept a lambda function as an argument**:\n",
    "<table style=\"font-family: monospace; margin: 0 auto;\">\n",
    "   <tbody>\n",
    "      <tr>\n",
    "         <td>sorted()</td>\n",
    "         <td>filter()</td>\n",
    "         <td>map()</td>\n",
    "         <td>reduce()</td>\n",
    "      </tr>\n",
    "      <tr>\n",
    "         <td>max()</td>\n",
    "         <td>min()</td>\n",
    "         <td></td>\n",
    "         <td></td>\n",
    "      </tr>\n",
    "   </tbody>\n",
    "</table>\n",
    "\n",
    "📝 **Docs**:\n",
    "   - Lambdas: [docs.python.org/3/reference/expressions.html#lambda](https://docs.python.org/3/reference/expressions.html#lambda)\n",
    "   - lambda Expressions: [docs.python.org/3/tutorial/controlflow.html#lambda-expressions](https://docs.python.org/3/tutorial/controlflow.html#lambda-expressions)\n",
    "   - Higher-order functions: [docs.python.org/3/library/functools.html](https://docs.python.org/3/library/functools.html)\n",
    "   - sorted(): [docs.python.org/3/library/functions.html#sorted](https://docs.python.org/3/library/functions.html#sorted)\n",
    "   - filter(): [docs.python.org/3/library/functions.html#filter](https://docs.python.org/3/library/functions.html#filter)\n",
    "   - map(): [docs.python.org/3/library/functions.html#map](https://docs.python.org/3/library/functions.html#map)\n",
    "   - reduce(): [docs.python.org/3/library/functools.html#functools.reduce](https://docs.python.org/3/library/functools.html#functools.reduce)\n",
    "   - min(): [docs.python.org/3/library/functions.html#min](https://docs.python.org/3/library/functions.html#min)\n",
    "   - max(): [docs.python.org/3/library/functions.html#max](https://docs.python.org/3/library/functions.html#max)\n",
    "   - Sorting Techniques: [docs.python.org/3/howto/sorting.html#sorting-techniques](https://docs.python.org/3/howto/sorting.html#sorting-techniques)"
   ]
  },
  {
   "cell_type": "code",
   "execution_count": 9,
   "metadata": {},
   "outputs": [
    {
     "name": "stdout",
     "output_type": "stream",
     "text": [
      "my name is James\n"
     ]
    }
   ],
   "source": [
    "# a normal function\n",
    "def foo_1(name):\n",
    "    print(f\"my name is {name}\")\n",
    "\n",
    "\n",
    "# log\n",
    "foo_1(\"James\")"
   ]
  },
  {
   "cell_type": "code",
   "execution_count": 10,
   "metadata": {},
   "outputs": [
    {
     "name": "stdout",
     "output_type": "stream",
     "text": [
      "my name is James\n"
     ]
    }
   ],
   "source": [
    "# a lambda function\n",
    "foo_2 = lambda name: print(f\"my name is {name}\")\n",
    "\n",
    "# log\n",
    "foo_2(\"James\")"
   ]
  },
  {
   "cell_type": "markdown",
   "metadata": {},
   "source": [
    "## Using Lambda Functions with Higher-Order Functions\n",
    "   - Lambda functions are useful when used with higher-order functions, such as `map()`, `filter()`, `sorted()`, and `reduce()`.\n",
    "   - Higher-order functions are functions that take other functions as arguments or return them as results.\n",
    "   - In the context of functional programming (FP), the use of lambda functions and higher-order functions promotes `declarative code` by focusing on `what` should be done rather than `how`."
   ]
  },
  {
   "cell_type": "markdown",
   "metadata": {},
   "source": [
    "### sorted()"
   ]
  },
  {
   "cell_type": "code",
   "execution_count": 1,
   "metadata": {},
   "outputs": [
    {
     "name": "stdout",
     "output_type": "stream",
     "text": [
      "['kiwi', 'apple', 'grape', 'banana']\n"
     ]
    }
   ],
   "source": [
    "words = [\"apple\", \"banana\", \"kiwi\", \"grape\"]\n",
    "sorted_words = sorted(words, key=lambda x: len(x))\n",
    "\n",
    "# log\n",
    "print(sorted_words)"
   ]
  },
  {
   "cell_type": "code",
   "execution_count": 6,
   "metadata": {},
   "outputs": [
    {
     "name": "stdout",
     "output_type": "stream",
     "text": [
      "[[4, 5], [3, 6], [2, 7], [1, 8]]\n"
     ]
    }
   ],
   "source": [
    "numbers = [[1, 8], [2, 7], [3, 6], [4, 5]]\n",
    "sorted_numbers = sorted(numbers, key=lambda x: x[1])\n",
    "\n",
    "# log\n",
    "print(sorted_numbers)"
   ]
  },
  {
   "cell_type": "code",
   "execution_count": 4,
   "metadata": {},
   "outputs": [
    {
     "name": "stdout",
     "output_type": "stream",
     "text": [
      "[{'name': 'Alice', 'age': 25}, {'name': 'Charlie', 'age': 25}, {'name': 'Bob', 'age': 30}]\n"
     ]
    }
   ],
   "source": [
    "people = [\n",
    "    {\"name\": \"Bob\", \"age\": 30},\n",
    "    {\"name\": \"Charlie\", \"age\": 25},\n",
    "    {\"name\": \"Alice\", \"age\": 25},\n",
    "]\n",
    "sorted_people = sorted(people, key=lambda x: (x[\"age\"], x[\"name\"]))\n",
    "\n",
    "# log\n",
    "print(sorted_people)"
   ]
  },
  {
   "cell_type": "markdown",
   "metadata": {},
   "source": [
    "### filter()"
   ]
  },
  {
   "cell_type": "code",
   "execution_count": 14,
   "metadata": {},
   "outputs": [
    {
     "name": "stdout",
     "output_type": "stream",
     "text": [
      "[1, 3, 5]\n"
     ]
    }
   ],
   "source": [
    "numbers = [1, 2, 3, 4, 5, 6]\n",
    "odd_numbers = list(filter(lambda x: x % 2 != 0, numbers))\n",
    "\n",
    "# log\n",
    "print(odd_numbers)"
   ]
  },
  {
   "cell_type": "code",
   "execution_count": 15,
   "metadata": {},
   "outputs": [
    {
     "name": "stdout",
     "output_type": "stream",
     "text": [
      "[{'name': 'Alice', 'age': 25}, {'name': 'Charlie', 'age': 30}]\n"
     ]
    }
   ],
   "source": [
    "people = [{\"name\": \"Alice\", \"age\": 25}, {\"name\": \"Bob\", \"age\": 17}, {\"name\": \"Charlie\", \"age\": 30}]\n",
    "adults = list(filter(lambda x: x[\"age\"] >= 18, people))\n",
    "\n",
    "# log\n",
    "print(adults)"
   ]
  },
  {
   "cell_type": "markdown",
   "metadata": {},
   "source": [
    "### map()"
   ]
  },
  {
   "cell_type": "code",
   "execution_count": 11,
   "metadata": {},
   "outputs": [
    {
     "name": "stdout",
     "output_type": "stream",
     "text": [
      "[2, 4, 6, 8]\n"
     ]
    }
   ],
   "source": [
    "numbers = [1, 2, 3, 4]\n",
    "doubled = list(map(lambda x: x * 2, numbers))\n",
    "\n",
    "# log\n",
    "print(doubled)"
   ]
  },
  {
   "cell_type": "code",
   "execution_count": 13,
   "metadata": {},
   "outputs": [
    {
     "name": "stdout",
     "output_type": "stream",
     "text": [
      "[5, 7, 9]\n"
     ]
    }
   ],
   "source": [
    "list1 = [\"1\", \"2\", \"3\"]\n",
    "list2 = [\"4\", \"5\", \"6\"]\n",
    "summed = list(map(lambda x, y: int(x) + int(y), list1, list2))\n",
    "\n",
    "# log\n",
    "print(summed)"
   ]
  },
  {
   "cell_type": "markdown",
   "metadata": {},
   "source": [
    "### reduce()"
   ]
  },
  {
   "cell_type": "code",
   "execution_count": 22,
   "metadata": {},
   "outputs": [],
   "source": [
    "# import dependencies\n",
    "from functools import reduce"
   ]
  },
  {
   "cell_type": "code",
   "execution_count": 18,
   "metadata": {},
   "outputs": [
    {
     "name": "stdout",
     "output_type": "stream",
     "text": [
      "10\n"
     ]
    }
   ],
   "source": [
    "numbers = [1, 2, 3, 4]\n",
    "total = reduce(lambda x, y: x + y, numbers)\n",
    "\n",
    "# log\n",
    "print(total)"
   ]
  },
  {
   "cell_type": "code",
   "execution_count": 19,
   "metadata": {},
   "outputs": [
    {
     "name": "stdout",
     "output_type": "stream",
     "text": [
      "24\n"
     ]
    }
   ],
   "source": [
    "numbers = [1, 2, 3, 4]\n",
    "product = reduce(lambda x, y: x * y, numbers)\n",
    "\n",
    "# log\n",
    "print(product)  # Output: 24"
   ]
  },
  {
   "cell_type": "code",
   "execution_count": 20,
   "metadata": {},
   "outputs": [
    {
     "name": "stdout",
     "output_type": "stream",
     "text": [
      "7\n"
     ]
    }
   ],
   "source": [
    "numbers = [1, 5, 3, 7, 2]\n",
    "max_value = reduce(lambda x, y: x if x > y else y, numbers)\n",
    "\n",
    "# log\n",
    "print(max_value)"
   ]
  },
  {
   "cell_type": "markdown",
   "metadata": {},
   "source": [
    "### min() and max()"
   ]
  },
  {
   "cell_type": "code",
   "execution_count": null,
   "metadata": {},
   "outputs": [],
   "source": [
    "words = [\"apple\", \"banana\", \"kiwi\", \"grape\"]\n",
    "shortest_word = min(words, key=lambda x: len(x))\n",
    "\n",
    "# log\n",
    "print(shortest_word)"
   ]
  },
  {
   "cell_type": "code",
   "execution_count": 21,
   "metadata": {},
   "outputs": [
    {
     "name": "stdout",
     "output_type": "stream",
     "text": [
      "{'name': 'Bob', 'age': 35}\n"
     ]
    }
   ],
   "source": [
    "people = [{\"name\": \"Alice\", \"age\": 25}, {\"name\": \"Bob\", \"age\": 35}, {\"name\": \"Charlie\", \"age\": 30}]\n",
    "oldest_person = max(people, key=lambda x: x[\"age\"])\n",
    "\n",
    "# log\n",
    "print(oldest_person)"
   ]
  }
 ],
 "metadata": {
  "author_email": "AmirhosseinHeydari78@gmail.com",
  "author_github": "https://github.com/mr-pylin",
  "author_name": "Amirhossein Heydari",
  "kernelspec": {
   "display_name": "Python 3",
   "language": "python",
   "name": "python3"
  },
  "language_info": {
   "codemirror_mode": {
    "name": "ipython",
    "version": 3
   },
   "file_extension": ".py",
   "mimetype": "text/x-python",
   "name": "python",
   "nbconvert_exporter": "python",
   "pygments_lexer": "ipython3",
   "version": "3.12.3"
  },
  "origin_repo": "https://github.com/mr-pylin/python-workshop"
 },
 "nbformat": 4,
 "nbformat_minor": 2
}
