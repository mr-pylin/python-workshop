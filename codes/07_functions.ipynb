{
 "cells": [
  {
   "cell_type": "markdown",
   "metadata": {},
   "source": [
    "📝 **Author:** Amirhossein Heydari - 📧 **Email:** amirhosseinheydari78@gmail.com - 📍 **Linktree:** [linktr.ee/mr_pylin](https://linktr.ee/mr_pylin)\n",
    "\n",
    "---"
   ]
  },
  {
   "cell_type": "markdown",
   "metadata": {},
   "source": [
    "# Functions\n",
    "   - Functions allow you to encapsulate reusable code blocks that can be executed when called.\n",
    "   - Functions can take inputs (parameters) and return outputs (values), helping to structure and organize code.\n",
    "\n",
    "🗂️ **Types of functions**:\n",
    "   - Built-in Functions:\n",
    "      - Predefined functions such as `len()`, `print()`, and `range()`.\n",
    "   - User-defined Functions:\n",
    "      - Functions that you define using the `def` keyword.\n",
    "   - [Anonymous Functions](./10_lambda.ipynb) (`lambda`):\n",
    "      - Short, one-liner functions defined using the `lambda` keyword.\n",
    "\n",
    "🔤 **Basic Syntax**\n",
    "   ```python\n",
    "      def my_function(param1, param2):\n",
    "         # Code block to execute\n",
    "         return param1 + param2\n",
    "   ```\n",
    "\n",
    "---\n",
    "\n",
    "📝 **Docs**:\n",
    "   - Function Definition: [docs.python.org/3/tutorial/controlflow.html#defining-functions](https://docs.python.org/3/tutorial/controlflow.html#defining-functions)\n",
    "   - Function Parameters: [docs.python.org/3/tutorial/controlflow.html#more-on-defining-functions](https://docs.python.org/3/tutorial/controlflow.html#more-on-defining-functions)\n",
    "   - Types of Arguments: [docs.python.org/3/glossary.html#term-argument](https://docs.python.org/3/glossary.html#term-argument)\n",
    "   - Scope of Variables: [docs.python.org/3/tutorial/classes.html#python-scopes-and-namespaces](https://docs.python.org/3/tutorial/classes.html#python-scopes-and-namespaces)"
   ]
  },
  {
   "cell_type": "markdown",
   "metadata": {},
   "source": [
    "## Basics\n",
    "\n",
    "**Define a function**\n",
    "```python\n",
    "    def <function_name>(<parameters>):\n",
    "        <statement(s)>\n",
    "```\n",
    "\n",
    "**Call a function**\n",
    "```python\n",
    "    <function_name>(<arguments>)\n",
    "```"
   ]
  },
  {
   "cell_type": "code",
   "execution_count": 54,
   "metadata": {},
   "outputs": [
    {
     "name": "stdout",
     "output_type": "stream",
     "text": [
      "Hello\n"
     ]
    }
   ],
   "source": [
    "# a function to print \"Hello\"\n",
    "def hello():\n",
    "    print(\"Hello\")\n",
    "\n",
    "# log\n",
    "hello()"
   ]
  },
  {
   "cell_type": "code",
   "execution_count": 55,
   "metadata": {},
   "outputs": [
    {
     "name": "stdout",
     "output_type": "stream",
     "text": [
      "Hello Amir\n",
      "Hello Michael\n",
      "Hello Sara\n"
     ]
    }
   ],
   "source": [
    "# a function to greet a person named <name>\n",
    "def greet(name):\n",
    "    print(f\"Hello {name}\")\n",
    "\n",
    "# log\n",
    "greet('Amir')\n",
    "greet('Michael')\n",
    "greet(name='Sara')"
   ]
  },
  {
   "cell_type": "code",
   "execution_count": 56,
   "metadata": {},
   "outputs": [
    {
     "name": "stdout",
     "output_type": "stream",
     "text": [
      "1+2=3\n",
      "3+4=7\n",
      "3+1=4\n",
      "3+1=4\n"
     ]
    }
   ],
   "source": [
    "# a function to calculate and print the a + b\n",
    "def add(a, b):\n",
    "    print(f\"{a}+{b}={a+b}\")\n",
    "\n",
    "# log\n",
    "add(1, 2)\n",
    "add(3, b=4)\n",
    "add(a=3, b=1)\n",
    "add(b=1, a=3)"
   ]
  },
  {
   "cell_type": "markdown",
   "metadata": {},
   "source": [
    "## Handle Returned values\n",
    "✍️ **Note**: A function always returns value even without having `return` section and returns `None` in this case."
   ]
  },
  {
   "cell_type": "code",
   "execution_count": 57,
   "metadata": {},
   "outputs": [
    {
     "name": "stdout",
     "output_type": "stream",
     "text": [
      "Amir\n",
      "None\n"
     ]
    }
   ],
   "source": [
    "# define a function\n",
    "def foo(a):\n",
    "    print(a)\n",
    "\n",
    "\n",
    "# function call\n",
    "result_1 = foo('Amir')\n",
    "\n",
    "# log\n",
    "print(result_1)"
   ]
  },
  {
   "cell_type": "code",
   "execution_count": 58,
   "metadata": {},
   "outputs": [
    {
     "name": "stdout",
     "output_type": "stream",
     "text": [
      "Hello Amir, what's up?\n"
     ]
    }
   ],
   "source": [
    "# define a function\n",
    "def hello_2(name):\n",
    "    return f\"Hello {name}, what's up?\"\n",
    "\n",
    "\n",
    "# function call\n",
    "result_2 = hello_2('Amir')\n",
    "\n",
    "# log\n",
    "print(result_2)"
   ]
  },
  {
   "cell_type": "code",
   "execution_count": 59,
   "metadata": {},
   "outputs": [
    {
     "name": "stdout",
     "output_type": "stream",
     "text": [
      "the result is: 6\n"
     ]
    }
   ],
   "source": [
    "# define a function\n",
    "def subtract(a, b):\n",
    "    return a - b\n",
    "\n",
    "\n",
    "# function call\n",
    "result_3 = subtract(10, 4)\n",
    "\n",
    "# log\n",
    "print(f\"the result is: {result_3}\")"
   ]
  },
  {
   "cell_type": "code",
   "execution_count": 60,
   "metadata": {},
   "outputs": [
    {
     "name": "stdout",
     "output_type": "stream",
     "text": [
      "10 / 2 = 5.0\n"
     ]
    }
   ],
   "source": [
    "# define a function\n",
    "def division(a, b):\n",
    "    div = a / b\n",
    "    return a, b, div\n",
    "\n",
    "\n",
    "# function call\n",
    "num_1, num_2, result_4 = division(10, 2)\n",
    "\n",
    "# log\n",
    "print(f\"{num_1} / {num_2} = {result_4}\")"
   ]
  },
  {
   "cell_type": "markdown",
   "metadata": {},
   "source": [
    "🗂️ **Types of parameters**\n",
    "   - Positional-Only Parameters\n",
    "      - These parameters can only be passed by position and not by keyword\n",
    "      - The slash (`/`) separates positional-only parameters from the rest\n",
    "   - Positional-or-Keyword Parameters\n",
    "      - These parameters can be passed either by position or by keyword\n",
    "      - This is the default type if no `/` or `*` is used\n",
    "   - Variable Positional Parameters (`*args`)\n",
    "      - These parameters collect any additional positional arguments into a `tuple`\n",
    "      - Useful when you want to accept an arbitrary number of positional arguments\n",
    "   - Keyword-Only Parameters\n",
    "      - These parameters must be passed by keyword and cannot be passed by position\n",
    "      - The asterisk (`*`) separates positional-or-keyword parameters from keyword-only parameters\n",
    "   - Variable Keyword Parameters (`**kwargs`)\n",
    "      - These parameters collect any additional keyword arguments into a dictionary\n",
    "      - Useful when you want to accept an arbitrary number of keyword arguments\n",
    "   - Default Arguments\n",
    "      - These parameters have default values that are used if no value is provided in the function call.\n",
    "      - They must appear after all non-default parameters in the function definition.\n",
    "\n",
    "✍️ **Notes**:\n",
    "   - Parameters: Defined in the function definition\n",
    "   - Arguments: Passed during the function call\n",
    "   - positional parameters are always before keyword parameters\n",
    "\n",
    "🔤 **Rule of Thumb**\n",
    "```python\n",
    "   def func_1(pos1, pos2, *args, kwd1, kwd2, **kwargs)\n",
    "   def func_2(pos1, pos2, /, pos_or_kwd, *, kwd1, kwd2, **kwargs)\n",
    "```"
   ]
  },
  {
   "cell_type": "code",
   "execution_count": 69,
   "metadata": {},
   "outputs": [
    {
     "name": "stdout",
     "output_type": "stream",
     "text": [
      "Jane from Nepal whose id is 0\n",
      "Frank from Finland whose id is 22\n",
      "Monica from USA whose id is 1\n"
     ]
    }
   ],
   "source": [
    "def info(name, /, country, id=0):\n",
    "    print(f\"{name} from {country} whose id is {id}\")\n",
    "\n",
    "\n",
    "# function call\n",
    "info('Jane', 'Nepal')\n",
    "info('Frank', 'Finland', 22)\n",
    "info('Monica', id=1, country='USA')"
   ]
  },
  {
   "cell_type": "code",
   "execution_count": 62,
   "metadata": {},
   "outputs": [
    {
     "name": "stdout",
     "output_type": "stream",
     "text": [
      "pos1: 1\n",
      "pos2: 2\n",
      "pos_or_kwd: 3\n",
      "args: (4, 5)\n",
      "kwd1: a\n",
      "kwd2: b\n",
      "kwargs: {'extra1': 'extra', 'extra2': 'stuff'}\n"
     ]
    }
   ],
   "source": [
    "def example(pos1, pos2, /, pos_or_kwd, *args, kwd1, kwd2, **kwargs):\n",
    "    print(f\"pos1: {pos1}\")\n",
    "    print(f\"pos2: {pos2}\")\n",
    "    print(f\"pos_or_kwd: {pos_or_kwd}\")\n",
    "    print(f\"args: {args}\")\n",
    "    print(f\"kwd1: {kwd1}\")\n",
    "    print(f\"kwd2: {kwd2}\")\n",
    "    print(f\"kwargs: {kwargs}\")\n",
    "\n",
    "\n",
    "# function call\n",
    "example(1, 2, 3, 4, 5, kwd1=\"a\", kwd2=\"b\", extra1=\"extra\", extra2=\"stuff\")"
   ]
  },
  {
   "cell_type": "markdown",
   "metadata": {},
   "source": [
    "## All In One Example"
   ]
  },
  {
   "cell_type": "code",
   "execution_count": 64,
   "metadata": {},
   "outputs": [],
   "source": [
    "def calculate_average(scores):\n",
    "    if not scores:\n",
    "        return 0.0\n",
    "    return sum(scores) / len(scores)"
   ]
  },
  {
   "cell_type": "code",
   "execution_count": 65,
   "metadata": {},
   "outputs": [],
   "source": [
    "def format_user_info(name, age, city = None, *hobbies, **extra_info):\n",
    "\n",
    "    # calculate a hypothetical score based on age and number of hobbies\n",
    "    score = (age + len(hobbies)) * 10\n",
    "    average_score = calculate_average([score])  # Example usage of another function\n",
    "\n",
    "    # create a basic info string\n",
    "    info = f\"Name: {name}\\nAge: {age}\\n\"\n",
    "    if city:\n",
    "        info += f\"City: {city}\\n\"\n",
    "    if hobbies:\n",
    "        info += f\"Hobbies: {', '.join(hobbies)}\\n\"\n",
    "\n",
    "    # add extra info if provided\n",
    "    if extra_info:\n",
    "        extra_info_str = ', '.join(f\"{key}: {value}\" for key, value in extra_info.items())\n",
    "        info += f\"Additional Info: {extra_info_str}\\n\"\n",
    "\n",
    "    # append average score\n",
    "    info += f\"Average Score: {average_score:.2f}\"\n",
    "\n",
    "    return info"
   ]
  },
  {
   "cell_type": "code",
   "execution_count": 66,
   "metadata": {},
   "outputs": [
    {
     "name": "stdout",
     "output_type": "stream",
     "text": [
      "Name: Alice\n",
      "Age: 30\n",
      "City: New York\n",
      "Hobbies: Reading, Traveling, Cooking\n",
      "Additional Info: profession: Engineer, interests: Music\n",
      "Average Score: 330.00\n"
     ]
    }
   ],
   "source": [
    "# function call\n",
    "user_info = format_user_info(\n",
    "    \"Alice\",\n",
    "    30,\n",
    "    \"New York\",\n",
    "    \"Reading\", \"Traveling\", \"Cooking\",\n",
    "    profession=\"Engineer\",\n",
    "    interests=\"Music\"\n",
    ")\n",
    "\n",
    "# log\n",
    "print(user_info)"
   ]
  }
 ],
 "metadata": {
  "kernelspec": {
   "display_name": "Python 3",
   "language": "python",
   "name": "python3"
  },
  "language_info": {
   "codemirror_mode": {
    "name": "ipython",
    "version": 3
   },
   "file_extension": ".py",
   "mimetype": "text/x-python",
   "name": "python",
   "nbconvert_exporter": "python",
   "pygments_lexer": "ipython3",
   "version": "3.12.3"
  }
 },
 "nbformat": 4,
 "nbformat_minor": 2
}
