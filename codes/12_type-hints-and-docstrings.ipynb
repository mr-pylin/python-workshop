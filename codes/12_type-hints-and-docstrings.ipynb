{
 "cells": [
  {
   "cell_type": "markdown",
   "metadata": {},
   "source": [
    "📝 **Author:** Amirhossein Heydari - 📧 **Email:** amirhosseinheydari78@gmail.com - 📍 **Linktree:** [linktr.ee/mr_pylin](https://linktr.ee/mr_pylin)\n",
    "\n",
    "---"
   ]
  },
  {
   "cell_type": "markdown",
   "metadata": {},
   "source": [
    "# Type Hints\n",
    "   - Type hints (introduced in Python 3.5) provide a way to annotate the types of variables, function arguments, and return values.\n",
    "   - They are optional and do not affect the runtime behavior of your code. Instead, they help with:\n",
    "      - **Code readability**: Making it easier to understand what types are expected and returned.\n",
    "      - **Static analysis**: Tools like mypy, IDEs, and linters can check for type consistency.\n",
    "      - **Documentation**: Type hints act as in-line documentation for function arguments and returns.\n",
    "\n",
    "📝 **Doc**:\n",
    "   - Function Annotations: [docs.python.org/3/tutorial/controlflow.html#function-annotations](https://docs.python.org/3/tutorial/controlflow.html#function-annotations)\n",
    "   - Support for type hints: [docs.python.org/3/library/typing.html](https://docs.python.org/3/library/typing.html)\n",
    "\n",
    "🐍 **PEP**:\n",
    "   - Type Hints [[PEP 484](https://peps.python.org/pep-0484/)]"
   ]
  },
  {
   "cell_type": "markdown",
   "metadata": {},
   "source": [
    "## Type Hints for Variables"
   ]
  },
  {
   "cell_type": "code",
   "execution_count": 36,
   "metadata": {},
   "outputs": [
    {
     "name": "stdout",
     "output_type": "stream",
     "text": [
      "username  : alice\n",
      "age       : 25\n",
      "balance   : 100.75\n",
      "is_active : True\n"
     ]
    }
   ],
   "source": [
    "username: str = \"alice\"\n",
    "age: int = 25\n",
    "balance: float = 100.75\n",
    "is_active: bool = True\n",
    "\n",
    "# log\n",
    "print(f\"username  : {username}\")\n",
    "print(f\"age       : {age}\")\n",
    "print(f\"balance   : {balance}\")\n",
    "print(f\"is_active : {is_active}\")"
   ]
  },
  {
   "cell_type": "code",
   "execution_count": 37,
   "metadata": {},
   "outputs": [
    {
     "name": "stdout",
     "output_type": "stream",
     "text": [
      "number       : ['a', 'b']\n",
      "type(number) : <class 'list'>\n"
     ]
    }
   ],
   "source": [
    "# type hints are optional!\n",
    "number: int = ['a', 'b']\n",
    "\n",
    "# log\n",
    "print(f\"number       : {number}\")\n",
    "print(f\"type(number) : {type(number)}\")"
   ]
  },
  {
   "cell_type": "markdown",
   "metadata": {},
   "source": [
    "## Type Hints for Functions"
   ]
  },
  {
   "cell_type": "code",
   "execution_count": 38,
   "metadata": {},
   "outputs": [
    {
     "name": "stdout",
     "output_type": "stream",
     "text": [
      "Hello, Alice. You are 25 years old.\n"
     ]
    }
   ],
   "source": [
    "def greet(name: str, age: int) -> str:\n",
    "    return f\"Hello, {name}. You are {age} years old.\"\n",
    "\n",
    "message = greet(\"Alice\", 25)\n",
    "\n",
    "# log\n",
    "print(message)"
   ]
  },
  {
   "cell_type": "markdown",
   "metadata": {},
   "source": [
    "## Type Hints with Class Methods\n",
    "⚠️ Note: classes are covered in future notebooks."
   ]
  },
  {
   "cell_type": "code",
   "execution_count": 39,
   "metadata": {},
   "outputs": [
    {
     "name": "stdout",
     "output_type": "stream",
     "text": [
      "Hello, my name is Alice and I am 25 years old.\n"
     ]
    }
   ],
   "source": [
    "# define a class\n",
    "class Person:\n",
    "    def __init__(self, name: str, age: int) -> None:\n",
    "        self.name = name\n",
    "        self.age = age\n",
    "\n",
    "    def greet(self) -> str:\n",
    "        return f\"Hello, my name is {self.name} and I am {self.age} years old.\"\n",
    "\n",
    "# initialize an object of class <Person>\n",
    "person = Person(\"Alice\", 25)\n",
    "\n",
    "# log\n",
    "print(person.greet())"
   ]
  },
  {
   "cell_type": "markdown",
   "metadata": {},
   "source": [
    "## Advance Type Hinting"
   ]
  },
  {
   "cell_type": "markdown",
   "metadata": {},
   "source": [
    "### Using \"typing\" package\n",
    "   - Mostly used in python v3.9-\n",
    "   - Good practice to maintain backward compatibility for python v3.9+\n",
    "   - some type hints e.g. `Callable` and `Iterator` are still not available in native built-in types."
   ]
  },
  {
   "cell_type": "code",
   "execution_count": 40,
   "metadata": {},
   "outputs": [],
   "source": [
    "# import necessary dependencies\n",
    "from typing import List, Tuple, Set, Dict, Optional, Union, Callable, Any, Iterator"
   ]
  },
  {
   "cell_type": "code",
   "execution_count": 41,
   "metadata": {},
   "outputs": [
    {
     "name": "stdout",
     "output_type": "stream",
     "text": [
      "[2, 4, 6]\n"
     ]
    }
   ],
   "source": [
    "# <numbers> is a list of integers\n",
    "# returned value is a list of integers\n",
    "def double_numbers(numbers: List[int]) -> List[int]:\n",
    "    return [x * 2 for x in numbers]\n",
    "\n",
    "# log\n",
    "print(double_numbers([1, 2, 3]))"
   ]
  },
  {
   "cell_type": "code",
   "execution_count": 42,
   "metadata": {},
   "outputs": [
    {
     "name": "stdout",
     "output_type": "stream",
     "text": [
      "Alice is 25 years old.\n",
      "Bob is 30 years old.\n"
     ]
    }
   ],
   "source": [
    "# <age> is a dictionary with string keys and integer values\n",
    "# returned value is None\n",
    "def print_ages(ages: Dict[str, int]) -> None:\n",
    "    for name, age in ages.items():\n",
    "        print(f\"{name} is {age} years old.\")\n",
    "\n",
    "# log\n",
    "user_ages = {\"Alice\": 25, \"Bob\": 30}\n",
    "print_ages(user_ages)"
   ]
  },
  {
   "cell_type": "code",
   "execution_count": 43,
   "metadata": {},
   "outputs": [
    {
     "name": "stdout",
     "output_type": "stream",
     "text": [
      "Hello, Alice!\n",
      "Hello, stranger!\n"
     ]
    }
   ],
   "source": [
    "# <name> can be a string or None\n",
    "# returned value is str\n",
    "def greet_optional(name: Optional[str] = None) -> str:\n",
    "    if name:\n",
    "        return f\"Hello, {name}!\"\n",
    "    return \"Hello, stranger!\"\n",
    "\n",
    "# Example usage:\n",
    "print(greet_optional(\"Alice\"))\n",
    "print(greet_optional())"
   ]
  },
  {
   "cell_type": "code",
   "execution_count": 44,
   "metadata": {},
   "outputs": [
    {
     "name": "stdout",
     "output_type": "stream",
     "text": [
      "15\n",
      "6.0\n"
     ]
    }
   ],
   "source": [
    "# <a> and <b> can be either int or float\n",
    "# returned value can be either int or float \n",
    "def add(a: Union[int, float], b: Union[int, float]) -> Union[int, float]:\n",
    "    return a + b\n",
    "\n",
    "# log\n",
    "print(add(5, 10))\n",
    "print(add(3.5, 2.5))"
   ]
  },
  {
   "cell_type": "code",
   "execution_count": 45,
   "metadata": {},
   "outputs": [
    {
     "name": "stdout",
     "output_type": "stream",
     "text": [
      "Task executed!\n"
     ]
    }
   ],
   "source": [
    "# <task> accepts another function (with no arguments, no return)\n",
    "# returned value is None\n",
    "def execute_task(task: Callable[[], None]) -> None:\n",
    "    task()\n",
    "\n",
    "# returned value is None\n",
    "def sample_task() -> None:\n",
    "    print(\"Task executed!\")\n",
    "\n",
    "# log\n",
    "execute_task(sample_task)"
   ]
  },
  {
   "cell_type": "code",
   "execution_count": 46,
   "metadata": {},
   "outputs": [
    {
     "name": "stdout",
     "output_type": "stream",
     "text": [
      "30\n"
     ]
    }
   ],
   "source": [
    "# <point> accepts a tuple of two integers\n",
    "# returned value is int\n",
    "def calculate_distance(point: Tuple[int, int]) -> int:\n",
    "    x, y = point\n",
    "    return x + y\n",
    "\n",
    "# log\n",
    "distance = calculate_distance((10, 20))\n",
    "print(distance)"
   ]
  },
  {
   "cell_type": "code",
   "execution_count": 47,
   "metadata": {},
   "outputs": [
    {
     "name": "stdout",
     "output_type": "stream",
     "text": [
      "Data: 123\n",
      "Data: Hello!\n"
     ]
    }
   ],
   "source": [
    "# <data> accepts any type of argument\n",
    "# returned value is None\n",
    "def show_data(data: Any) -> None:\n",
    "    print(f\"Data: {data}\")\n",
    "\n",
    "# log\n",
    "show_data(123)\n",
    "show_data(\"Hello!\")"
   ]
  },
  {
   "cell_type": "code",
   "execution_count": 48,
   "metadata": {},
   "outputs": [
    {
     "name": "stdout",
     "output_type": "stream",
     "text": [
      "X: 1, Y: 2\n",
      "X: 3, Y: 4\n"
     ]
    }
   ],
   "source": [
    "# type alias for a list of tuples representing coordinates\n",
    "Coordinates = List[Tuple[int, int]]\n",
    "\n",
    "# <points> accepts a list of tuples of two integers\n",
    "# returned value is None\n",
    "def print_coordinates(points: Coordinates) -> None:\n",
    "    for x, y in points:\n",
    "        print(f\"X: {x}, Y: {y}\")\n",
    "\n",
    "# log\n",
    "points = [(1, 2), (3, 4)]\n",
    "print_coordinates(points)"
   ]
  },
  {
   "cell_type": "code",
   "execution_count": 49,
   "metadata": {},
   "outputs": [
    {
     "name": "stdout",
     "output_type": "stream",
     "text": [
      "0\n",
      "1\n",
      "2\n",
      "3\n",
      "4\n"
     ]
    }
   ],
   "source": [
    "# <n> accepts int value\n",
    "# returned value yields a sequence of int\n",
    "def generate_numbers(n: int) -> Iterator[int]:\n",
    "    for i in range(n):\n",
    "        yield i\n",
    "\n",
    "# log\n",
    "for number in generate_numbers(5):\n",
    "    print(number)"
   ]
  },
  {
   "cell_type": "markdown",
   "metadata": {},
   "source": [
    "### Built-In Type Hinting\n",
    "   - Native type hint syntax introduced in Python v3.9 and later"
   ]
  },
  {
   "cell_type": "code",
   "execution_count": 50,
   "metadata": {},
   "outputs": [
    {
     "name": "stdout",
     "output_type": "stream",
     "text": [
      "[2, 4, 6]\n"
     ]
    }
   ],
   "source": [
    "# <numbers> accepts a list of integers\n",
    "# returned value is a list of integers\n",
    "def double_numbers(numbers: list[int]) -> list[int]:\n",
    "    return [x * 2 for x in numbers]\n",
    "\n",
    "# log\n",
    "print(double_numbers([1, 2, 3]))"
   ]
  },
  {
   "cell_type": "code",
   "execution_count": 51,
   "metadata": {},
   "outputs": [
    {
     "name": "stdout",
     "output_type": "stream",
     "text": [
      "30\n"
     ]
    }
   ],
   "source": [
    "# <point> accepts a tuple of two integers\n",
    "# returned value is int\n",
    "def calculate_distance(point: tuple[int, int]) -> int:\n",
    "    x, y = point\n",
    "    return x + y\n",
    "\n",
    "# log\n",
    "distance = calculate_distance((10, 20))\n",
    "print(distance)"
   ]
  },
  {
   "cell_type": "code",
   "execution_count": 52,
   "metadata": {},
   "outputs": [
    {
     "name": "stdout",
     "output_type": "stream",
     "text": [
      "Alice is 25 years old.\n",
      "Bob is 30 years old.\n"
     ]
    }
   ],
   "source": [
    "# <ages> accepts a dictionary with string keys and integer values\n",
    "# returned value is None\n",
    "def print_ages(ages: dict[str, int]) -> None:\n",
    "    for name, age in ages.items():\n",
    "        print(f\"{name} is {age} years old.\")\n",
    "\n",
    "# log\n",
    "user_ages = {\"Alice\": 25, \"Bob\": 30}\n",
    "print_ages(user_ages)"
   ]
  },
  {
   "cell_type": "code",
   "execution_count": 53,
   "metadata": {},
   "outputs": [
    {
     "name": "stdout",
     "output_type": "stream",
     "text": [
      "Hello, Alice!\n",
      "Hello, stranger!\n"
     ]
    }
   ],
   "source": [
    "# <name> can be a string or None\n",
    "# returned value is str\n",
    "def greet_optional(name: str | None = None) -> str:\n",
    "    if name:\n",
    "        return f\"Hello, {name}!\"\n",
    "    return \"Hello, stranger!\"\n",
    "\n",
    "# log\n",
    "print(greet_optional(\"Alice\"))\n",
    "print(greet_optional())"
   ]
  },
  {
   "cell_type": "code",
   "execution_count": 54,
   "metadata": {},
   "outputs": [
    {
     "name": "stdout",
     "output_type": "stream",
     "text": [
      "15\n",
      "6.0\n"
     ]
    }
   ],
   "source": [
    "# <a> and <b> can be either int or float\n",
    "# returned value is either int or float\n",
    "def add(a: int | float, b: int | float) -> int | float:\n",
    "    return a + b\n",
    "\n",
    "# log\n",
    "print(add(5, 10))\n",
    "print(add(3.5, 2.5))"
   ]
  },
  {
   "cell_type": "code",
   "execution_count": 55,
   "metadata": {},
   "outputs": [
    {
     "name": "stdout",
     "output_type": "stream",
     "text": [
      "Data: 123\n",
      "Data: Hello!\n"
     ]
    }
   ],
   "source": [
    "# <data> accepts any type of argument\n",
    "# returned value is None\n",
    "def show_data(data: any) -> None:\n",
    "    print(f\"Data: {data}\")\n",
    "\n",
    "# log\n",
    "show_data(123)\n",
    "show_data(\"Hello!\")"
   ]
  },
  {
   "cell_type": "code",
   "execution_count": 56,
   "metadata": {},
   "outputs": [
    {
     "name": "stdout",
     "output_type": "stream",
     "text": [
      "X: 1, Y: 2\n",
      "X: 3, Y: 4\n"
     ]
    }
   ],
   "source": [
    "# type alias for a list of tuples representing coordinates\n",
    "Coordinates = list[tuple[int, int]]\n",
    "\n",
    "# <points> accepts a list of tuples of two integers\n",
    "# returned value is None\n",
    "def print_coordinates(points: Coordinates) -> None:\n",
    "    for x, y in points:\n",
    "        print(f\"X: {x}, Y: {y}\")\n",
    "\n",
    "# log\n",
    "points = [(1, 2), (3, 4)]\n",
    "print_coordinates(points)"
   ]
  },
  {
   "cell_type": "markdown",
   "metadata": {},
   "source": [
    "# Docstrings\n",
    "   - Docstrings are string literals that occur as the first statement in a module, class, method, or function.\n",
    "   - Docstrings are enclosed in triple quotes (`\"\"\"` or `'''`), allowing for multi-line comments.\n",
    "   - Importance of Docstrings:\n",
    "      - **Readability**: They improve the readability of the code by providing clear explanations.\n",
    "      - **Documentation**: Tools like [Sphinx](https://www.writethedocs.org/guide/tools/sphinx/) can automatically generate documentation from docstrings.\n",
    "      - **Interactive Help**: Functions and classes with docstrings can be accessed using the `help()` function in Python.\n",
    "\n",
    "🏗️ **Basic Structure of a Docstring**\n",
    "   - **Brief Description**: A short summary of what the function or class does.\n",
    "   - **Parameters**: Descriptions of the function’s parameters, including types.\n",
    "   - **Return Values**: What the function returns, including types.\n",
    "   - **Exceptions**: Any exceptions that may be raised.\n",
    "   \n",
    "\n",
    "📝 **Doc**:\n",
    "   - Documentation Strings: [docs.python.org/3/tutorial/controlflow.html#documentation-strings](https://docs.python.org/3/tutorial/controlflow.html#documentation-strings)\n",
    "\n",
    "🐍 **PEP**:\n",
    "   - Docstring Conventions [[PEP 257](https://peps.python.org/pep-0257/)]"
   ]
  },
  {
   "cell_type": "code",
   "execution_count": 57,
   "metadata": {},
   "outputs": [
    {
     "name": "stdout",
     "output_type": "stream",
     "text": [
      "5\n"
     ]
    }
   ],
   "source": [
    "def add(a: int, b: int) -> int:\n",
    "    \"\"\"\n",
    "    Add two integers.\n",
    "\n",
    "    Parameters:\n",
    "    a (int): The first integer to add.\n",
    "    b (int): The second integer to add.\n",
    "\n",
    "    Returns:\n",
    "    int: The sum of a and b.\n",
    "\n",
    "    Example:\n",
    "    >>> add(2, 3)\n",
    "    5\n",
    "    \"\"\"\n",
    "    return a + b\n",
    "\n",
    "# log\n",
    "print(add(2, 3))"
   ]
  },
  {
   "cell_type": "code",
   "execution_count": 59,
   "metadata": {},
   "outputs": [
    {
     "name": "stdout",
     "output_type": "stream",
     "text": [
      "Woof!\n"
     ]
    }
   ],
   "source": [
    "class Dog:\n",
    "    \"\"\"\n",
    "    A class to represent a dog.\n",
    "\n",
    "    Attributes:\n",
    "    name (str): The name of the dog.\n",
    "    age (int): The age of the dog.\n",
    "\n",
    "    Methods:\n",
    "    bark(): Prints a bark sound.\n",
    "    \"\"\"\n",
    "    \n",
    "    def __init__(self, name: str, age: int) -> None:\n",
    "        self.name = name\n",
    "        self.age = age\n",
    "\n",
    "    def bark(self) -> None:\n",
    "        \"\"\"Prints 'Woof!'.\"\"\"\n",
    "        print(\"Woof!\")\n",
    "\n",
    "# initialize an object\n",
    "dog = Dog('Rex', 3)\n",
    "\n",
    "# log\n",
    "dog.bark()"
   ]
  },
  {
   "cell_type": "markdown",
   "metadata": {},
   "source": [
    "### Accessing docstrings\n",
    "You can access a function's or class's docstring using the `.__doc__` attribute or the `help()` function."
   ]
  },
  {
   "cell_type": "code",
   "execution_count": 60,
   "metadata": {},
   "outputs": [
    {
     "name": "stdout",
     "output_type": "stream",
     "text": [
      "\n",
      "    Add two integers.\n",
      "\n",
      "    Parameters:\n",
      "    a (int): The first integer to add.\n",
      "    b (int): The second integer to add.\n",
      "\n",
      "    Returns:\n",
      "    int: The sum of a and b.\n",
      "\n",
      "    Example:\n",
      "    >>> add(2, 3)\n",
      "    5\n",
      "    \n"
     ]
    }
   ],
   "source": [
    "print(add.__doc__)"
   ]
  },
  {
   "cell_type": "code",
   "execution_count": 62,
   "metadata": {},
   "outputs": [
    {
     "name": "stdout",
     "output_type": "stream",
     "text": [
      "Help on function add in module __main__:\n",
      "\n",
      "add(a: int, b: int) -> int\n",
      "    Add two integers.\n",
      "\n",
      "    Parameters:\n",
      "    a (int): The first integer to add.\n",
      "    b (int): The second integer to add.\n",
      "\n",
      "    Returns:\n",
      "    int: The sum of a and b.\n",
      "\n",
      "    Example:\n",
      "    >>> add(2, 3)\n",
      "    5\n",
      "\n"
     ]
    }
   ],
   "source": [
    "help(add)"
   ]
  }
 ],
 "metadata": {
  "kernelspec": {
   "display_name": "Python 3",
   "language": "python",
   "name": "python3"
  },
  "language_info": {
   "codemirror_mode": {
    "name": "ipython",
    "version": 3
   },
   "file_extension": ".py",
   "mimetype": "text/x-python",
   "name": "python",
   "nbconvert_exporter": "python",
   "pygments_lexer": "ipython3",
   "version": "3.12.3"
  }
 },
 "nbformat": 4,
 "nbformat_minor": 2
}
