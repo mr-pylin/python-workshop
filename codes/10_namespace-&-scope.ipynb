{
 "cells": [
  {
   "cell_type": "markdown",
   "metadata": {},
   "source": [
    "📝 **Author:** Amirhossein Heydari - 📧 **Email:** AmirhosseinHeydari78@gmail.com - 📍 **Linktree:** [linktr.ee/mr_pylin](https://linktr.ee/mr_pylin)\n",
    "\n",
    "---"
   ]
  },
  {
   "cell_type": "markdown",
   "metadata": {},
   "source": [
    "# Namespace\n",
    "   - It is like a \"container\" where a name (variable, function, object) is stored.\n",
    "   - It's essentially a dictionary of `variable names` and their `associated objects`.\n",
    "\n",
    "**Types of Namespaces:**\n",
    "   - Built-in Namespace: Stores Python's built-in functions and exceptions (e.g., `len()`, `print()`).\n",
    "   - Global Namespace: Stores variables defined at the top-level of a module or script.\n",
    "   - Local Namespace: Created inside functions. Contains variables defined within a function.\n",
    "\n",
    "📝 **Doc**:\n",
    "   - Scopes and Namespaces: [docs.python.org/3/tutorial/classes.html#python-scopes-and-namespaces](https://docs.python.org/3/tutorial/classes.html#python-scopes-and-namespaces)"
   ]
  },
  {
   "cell_type": "code",
   "execution_count": 38,
   "metadata": {},
   "outputs": [
    {
     "name": "stdout",
     "output_type": "stream",
     "text": [
      "3\n"
     ]
    }
   ],
   "source": [
    "# built-in namespace\n",
    "print(len([1, 2, 3]))  # 'print' and 'len' belong to the built-in namespace"
   ]
  },
  {
   "cell_type": "code",
   "execution_count": 39,
   "metadata": {},
   "outputs": [],
   "source": [
    "# global namespace\n",
    "x = 10  # x is in the global namespace"
   ]
  },
  {
   "cell_type": "code",
   "execution_count": 40,
   "metadata": {},
   "outputs": [],
   "source": [
    "def foo():\n",
    "    # local namespace\n",
    "    y = 5  # y is in the local namespace of the function foo()\n",
    "    print(y)"
   ]
  },
  {
   "cell_type": "markdown",
   "metadata": {},
   "source": [
    "### built-in identifiers"
   ]
  },
  {
   "cell_type": "code",
   "execution_count": 41,
   "metadata": {},
   "outputs": [
    {
     "name": "stdout",
     "output_type": "stream",
     "text": [
      "['ArithmeticError', 'AssertionError', 'AttributeError', 'BaseException', 'BaseExceptionGroup', 'BlockingIOError', 'BrokenPipeError', 'BufferError', 'BytesWarning', 'ChildProcessError', 'ConnectionAbortedError', 'ConnectionError', 'ConnectionRefusedError', 'ConnectionResetError', 'DeprecationWarning', 'EOFError', 'Ellipsis', 'EncodingWarning', 'EnvironmentError', 'Exception', 'ExceptionGroup', 'False', 'FileExistsError', 'FileNotFoundError', 'FloatingPointError', 'FutureWarning', 'GeneratorExit', 'IOError', 'ImportError', 'ImportWarning', 'IndentationError', 'IndexError', 'InterruptedError', 'IsADirectoryError', 'KeyError', 'KeyboardInterrupt', 'LookupError', 'MemoryError', 'ModuleNotFoundError', 'NameError', 'None', 'NotADirectoryError', 'NotImplemented', 'NotImplementedError', 'OSError', 'OverflowError', 'PendingDeprecationWarning', 'PermissionError', 'ProcessLookupError', 'RecursionError', 'ReferenceError', 'ResourceWarning', 'RuntimeError', 'RuntimeWarning', 'StopAsyncIteration', 'StopIteration', 'SyntaxError', 'SyntaxWarning', 'SystemError', 'SystemExit', 'TabError', 'TimeoutError', 'True', 'TypeError', 'UnboundLocalError', 'UnicodeDecodeError', 'UnicodeEncodeError', 'UnicodeError', 'UnicodeTranslateError', 'UnicodeWarning', 'UserWarning', 'ValueError', 'Warning', 'WindowsError', 'ZeroDivisionError', '__IPYTHON__', '__build_class__', '__debug__', '__doc__', '__import__', '__loader__', '__name__', '__package__', '__spec__', 'abs', 'aiter', 'all', 'anext', 'any', 'ascii', 'bin', 'bool', 'breakpoint', 'bytearray', 'bytes', 'callable', 'chr', 'classmethod', 'compile', 'complex', 'copyright', 'credits', 'delattr', 'dict', 'dir', 'display', 'divmod', 'enumerate', 'eval', 'exec', 'execfile', 'filter', 'float', 'format', 'frozenset', 'get_ipython', 'getattr', 'globals', 'hasattr', 'hash', 'help', 'hex', 'id', 'input', 'int', 'isinstance', 'issubclass', 'iter', 'len', 'license', 'list', 'locals', 'map', 'max', 'memoryview', 'min', 'next', 'object', 'oct', 'open', 'ord', 'pow', 'print', 'property', 'range', 'repr', 'reversed', 'round', 'runfile', 'set', 'setattr', 'slice', 'sorted', 'staticmethod', 'str', 'sum', 'super', 'tuple', 'type', 'vars', 'zip']\n"
     ]
    }
   ],
   "source": [
    "print(dir(__builtins__))"
   ]
  },
  {
   "cell_type": "markdown",
   "metadata": {},
   "source": [
    "### global and local identifiers"
   ]
  },
  {
   "cell_type": "code",
   "execution_count": 42,
   "metadata": {},
   "outputs": [
    {
     "name": "stdout",
     "output_type": "stream",
     "text": [
      "locals : {'y': 20}\n",
      "globals: {'__name__': '__main__', '__doc__': 'Automatically created module for IPython interactive environment', '__package__': None, '__loader__': None, '__spec__': None, '__builtin__': <module 'builtins' (built-in)>, '__builtins__': <module 'builtins' (built-in)>, '_ih': ['', 'x = \"global\"\\n\\ndef outer():\\n    x = \"enclosing\"\\n    \\n    def inner():\\n        x = \"local\"\\n        \\n        print(\"inside inner function:\", x)\\n    \\n    inner()\\n    print(\"inside outer function:\", x)\\n\\nouter()\\nprint(\"in global scope:\", x)', 'x = \"global\"\\n\\ndef outer():\\n    x = \"enclosing\"\\n    \\n    def inner():\\n        x = \"local\"\\n        \\n        print(\"inside inner function :\", x)\\n    \\n    inner()\\n    print(\"inside outer function :\", x)\\n\\nouter()\\nprint(\"in global scope :\", x)', 'x = \"global\"\\n\\ndef outer():\\n    x = \"enclosing\"\\n    \\n    def inner():\\n        print(\"inside inner function :\", x)\\n    \\n    inner()\\n    print(\"inside outer function :\", x)\\n\\nouter()\\nprint(\"in global scope :\", x)', 'x = \"global\"\\n\\ndef outer():\\n    def inner():\\n        x = \"local\"\\n        \\n        print(\"inside inner function :\", x)\\n    \\n    inner()\\n    print(\"inside outer function :\", x)\\n\\nouter()\\nprint(\"in global scope :\", x)', 'x = \"global\"\\n\\ndef outer():\\n    def inner():\\n        print(\"inside inner function :\", x)\\n    \\n    inner()\\n    print(\"inside outer function :\", x)\\n\\nouter()\\nprint(\"in global scope :\", x)', 'def outer():\\n    def inner():\\n        print(\"inside inner function :\", y)\\n    \\n    inner()\\n    print(\"inside outer function :\", y)\\n\\nouter()\\nprint(\"in global scope :\", y)', '# example: without using <global>\\nx = 10\\n\\ndef change_x():\\n    x = 5\\n    print(\"Inside function:\", x)\\n\\nchange_x()\\n\\nprint(\"Outside function:\", x)', '# with <global>\\nx = 10\\n\\ndef change_x():\\n    global x\\n    x = 5\\n    print(\"Inside function:\", x)\\n\\nchange_x()\\n\\nprint(\"Outside function:\", x)', '# with <global>\\nx = 10\\n\\ndef change_x():\\n    global x  # using global here is mandatory\\n    x += 1\\n\\nchange_x()\\n\\nprint(\"Outside function:\", x)', '# with <global>\\nx = 10\\n\\ndef change_x():\\n    # global x  # using global here is mandatory\\n    x += 1\\n\\nchange_x()\\n\\nprint(\"Outside function:\", x)', '# with <global>\\nx = 10\\n\\ndef change_x():\\n    global x  # using global here is mandatory otherwise UnboundLocalError happens\\n    x += 1\\n\\nchange_x()\\n\\nprint(\"Outside function:\", x)', 'x = 10\\n\\ndef change_x():\\n    global x  # using global to modify x is mandatory otherwise UnboundLocalError happens\\n    x += 1\\n\\nchange_x()\\n\\nprint(\"outside function:\", x)', '# with <global>\\nx = 10\\n\\ndef change_x():\\n    global x\\n    x = 5\\n    print(\"inside function:\", x)\\n\\nchange_x()\\n\\nprint(\"outside function:\", x)', '# without <nonlocal>\\ndef outer():\\n    x = \"outer variable\"\\n    \\n    def inner():\\n        x = \"inner variable\"\\n        print(\"inside inner:\", x)\\n    \\n    inner()\\n    print(\"inside outer:\", x)\\n\\nouter()', '# with <nonlocal>\\ndef outer():\\n    x = \"outer variable\"\\n    \\n    def inner():\\n        nonlocal x\\n        x = \"inner variable\"\\n        print(\"inside inner:\", x)\\n    \\n    inner()\\n    print(\"inside outer:\", x)\\n\\nouter()', '# with <nonlocal>\\ndef outer():\\n    x = \"outer variable\"\\n    \\n    def inner():\\n        # nonlocal x\\n        x += \".\"\\n        print(\"inside inner:\", x)\\n    \\n    inner()\\n    print(\"inside outer:\", x)\\n\\nouter()', '# with <nonlocal>\\ndef outer():\\n    x = \"outer variable\"\\n    \\n    def inner():\\n        nonlocal x  # using nonlocal to modify x is mandatory otherwise UnboundLocalError happens\\n        x += \".\"\\n        print(\"inside inner:\", x)\\n    \\n    inner()\\n    print(\"inside outer:\", x)\\n\\nouter()', '### global identifiers', 'print(__builtins__)', 'print(dir(__builtins__))', 'print(dir(globals))', 'print(dir(globals))\\nprint(globals())', 'print(__builtins__())', 'print(__builtins__', 'print(__builtins__)', 'print(dir(locals))\\nprint(locals())', 'def foo():\\n    x = 10\\n    print(dir(locals))\\n    print(locals())\\n\\nfoo()', \"def foo():\\n    x = 10\\n    print('x' in dir(locals))\\n    print(locals())\\n\\nfoo()\", 'def foo():\\n    x = 10\\n    print(locals())\\n\\nfoo()', 'def foo():\\n    x = 10\\n    y = 20\\n    print(locals())\\n\\nfoo()', 'x = 10\\ndef foo():\\n    y = 20\\n    print(locals())\\n\\nfoo()', 'x = 10\\ndef foo():\\n    y = 20\\n    print(locals())\\n\\nfoo()\\nprint(globals())', \"x = 10\\ndef foo():\\n    y = 20\\n    print(locals())\\n\\nfoo()\\nprint(globals()['y'])\", \"x = 10\\ndef foo():\\n    y = 20\\n    print(locals())\\n\\nfoo()\\nprint(globals()['x'])\", 'x = 10\\ndef foo():\\n    y = 20\\n    print(locals())\\n\\nfoo()\\nprint(globals())', 'x = 10\\ndef foo():\\n    y = 20\\n    print(f\"locals : {locals()}\")\\n\\nfoo()\\nprint(globals: {globals()})', 'x = 10\\ndef foo():\\n    y = 20\\n    print(f\"locals : {locals()}\")\\n\\nfoo()\\nprint(f\"globals: {globals()}\")', \"# built-in namespace\\nprint(len([1, 2, 3]))  # 'print' and 'len' belong to the built-in namespace\", '# global namespace\\nx = 10  # x is in the global namespace', 'def foo():\\n    # local namespace\\n    y = 5  # y is in the local namespace of the function foo()\\n    print(y)', 'print(dir(__builtins__))', 'x = 10\\ndef foo():\\n    y = 20\\n    print(f\"locals : {locals()}\")\\n\\nfoo()\\nprint(f\"globals: {globals()}\")'], '_oh': {}, '_dh': [WindowsPath('c:/Users/amirh/Desktop/GitHub/python-workshop/codes')], 'In': ['', 'x = \"global\"\\n\\ndef outer():\\n    x = \"enclosing\"\\n    \\n    def inner():\\n        x = \"local\"\\n        \\n        print(\"inside inner function:\", x)\\n    \\n    inner()\\n    print(\"inside outer function:\", x)\\n\\nouter()\\nprint(\"in global scope:\", x)', 'x = \"global\"\\n\\ndef outer():\\n    x = \"enclosing\"\\n    \\n    def inner():\\n        x = \"local\"\\n        \\n        print(\"inside inner function :\", x)\\n    \\n    inner()\\n    print(\"inside outer function :\", x)\\n\\nouter()\\nprint(\"in global scope :\", x)', 'x = \"global\"\\n\\ndef outer():\\n    x = \"enclosing\"\\n    \\n    def inner():\\n        print(\"inside inner function :\", x)\\n    \\n    inner()\\n    print(\"inside outer function :\", x)\\n\\nouter()\\nprint(\"in global scope :\", x)', 'x = \"global\"\\n\\ndef outer():\\n    def inner():\\n        x = \"local\"\\n        \\n        print(\"inside inner function :\", x)\\n    \\n    inner()\\n    print(\"inside outer function :\", x)\\n\\nouter()\\nprint(\"in global scope :\", x)', 'x = \"global\"\\n\\ndef outer():\\n    def inner():\\n        print(\"inside inner function :\", x)\\n    \\n    inner()\\n    print(\"inside outer function :\", x)\\n\\nouter()\\nprint(\"in global scope :\", x)', 'def outer():\\n    def inner():\\n        print(\"inside inner function :\", y)\\n    \\n    inner()\\n    print(\"inside outer function :\", y)\\n\\nouter()\\nprint(\"in global scope :\", y)', '# example: without using <global>\\nx = 10\\n\\ndef change_x():\\n    x = 5\\n    print(\"Inside function:\", x)\\n\\nchange_x()\\n\\nprint(\"Outside function:\", x)', '# with <global>\\nx = 10\\n\\ndef change_x():\\n    global x\\n    x = 5\\n    print(\"Inside function:\", x)\\n\\nchange_x()\\n\\nprint(\"Outside function:\", x)', '# with <global>\\nx = 10\\n\\ndef change_x():\\n    global x  # using global here is mandatory\\n    x += 1\\n\\nchange_x()\\n\\nprint(\"Outside function:\", x)', '# with <global>\\nx = 10\\n\\ndef change_x():\\n    # global x  # using global here is mandatory\\n    x += 1\\n\\nchange_x()\\n\\nprint(\"Outside function:\", x)', '# with <global>\\nx = 10\\n\\ndef change_x():\\n    global x  # using global here is mandatory otherwise UnboundLocalError happens\\n    x += 1\\n\\nchange_x()\\n\\nprint(\"Outside function:\", x)', 'x = 10\\n\\ndef change_x():\\n    global x  # using global to modify x is mandatory otherwise UnboundLocalError happens\\n    x += 1\\n\\nchange_x()\\n\\nprint(\"outside function:\", x)', '# with <global>\\nx = 10\\n\\ndef change_x():\\n    global x\\n    x = 5\\n    print(\"inside function:\", x)\\n\\nchange_x()\\n\\nprint(\"outside function:\", x)', '# without <nonlocal>\\ndef outer():\\n    x = \"outer variable\"\\n    \\n    def inner():\\n        x = \"inner variable\"\\n        print(\"inside inner:\", x)\\n    \\n    inner()\\n    print(\"inside outer:\", x)\\n\\nouter()', '# with <nonlocal>\\ndef outer():\\n    x = \"outer variable\"\\n    \\n    def inner():\\n        nonlocal x\\n        x = \"inner variable\"\\n        print(\"inside inner:\", x)\\n    \\n    inner()\\n    print(\"inside outer:\", x)\\n\\nouter()', '# with <nonlocal>\\ndef outer():\\n    x = \"outer variable\"\\n    \\n    def inner():\\n        # nonlocal x\\n        x += \".\"\\n        print(\"inside inner:\", x)\\n    \\n    inner()\\n    print(\"inside outer:\", x)\\n\\nouter()', '# with <nonlocal>\\ndef outer():\\n    x = \"outer variable\"\\n    \\n    def inner():\\n        nonlocal x  # using nonlocal to modify x is mandatory otherwise UnboundLocalError happens\\n        x += \".\"\\n        print(\"inside inner:\", x)\\n    \\n    inner()\\n    print(\"inside outer:\", x)\\n\\nouter()', '### global identifiers', 'print(__builtins__)', 'print(dir(__builtins__))', 'print(dir(globals))', 'print(dir(globals))\\nprint(globals())', 'print(__builtins__())', 'print(__builtins__', 'print(__builtins__)', 'print(dir(locals))\\nprint(locals())', 'def foo():\\n    x = 10\\n    print(dir(locals))\\n    print(locals())\\n\\nfoo()', \"def foo():\\n    x = 10\\n    print('x' in dir(locals))\\n    print(locals())\\n\\nfoo()\", 'def foo():\\n    x = 10\\n    print(locals())\\n\\nfoo()', 'def foo():\\n    x = 10\\n    y = 20\\n    print(locals())\\n\\nfoo()', 'x = 10\\ndef foo():\\n    y = 20\\n    print(locals())\\n\\nfoo()', 'x = 10\\ndef foo():\\n    y = 20\\n    print(locals())\\n\\nfoo()\\nprint(globals())', \"x = 10\\ndef foo():\\n    y = 20\\n    print(locals())\\n\\nfoo()\\nprint(globals()['y'])\", \"x = 10\\ndef foo():\\n    y = 20\\n    print(locals())\\n\\nfoo()\\nprint(globals()['x'])\", 'x = 10\\ndef foo():\\n    y = 20\\n    print(locals())\\n\\nfoo()\\nprint(globals())', 'x = 10\\ndef foo():\\n    y = 20\\n    print(f\"locals : {locals()}\")\\n\\nfoo()\\nprint(globals: {globals()})', 'x = 10\\ndef foo():\\n    y = 20\\n    print(f\"locals : {locals()}\")\\n\\nfoo()\\nprint(f\"globals: {globals()}\")', \"# built-in namespace\\nprint(len([1, 2, 3]))  # 'print' and 'len' belong to the built-in namespace\", '# global namespace\\nx = 10  # x is in the global namespace', 'def foo():\\n    # local namespace\\n    y = 5  # y is in the local namespace of the function foo()\\n    print(y)', 'print(dir(__builtins__))', 'x = 10\\ndef foo():\\n    y = 20\\n    print(f\"locals : {locals()}\")\\n\\nfoo()\\nprint(f\"globals: {globals()}\")'], 'Out': {}, 'get_ipython': <bound method InteractiveShell.get_ipython of <ipykernel.zmqshell.ZMQInteractiveShell object at 0x0000023CDDF23200>>, 'exit': <IPython.core.autocall.ZMQExitAutocall object at 0x0000023CDDF236B0>, 'quit': <IPython.core.autocall.ZMQExitAutocall object at 0x0000023CDDF236B0>, 'open': <function open at 0x0000023CDC0976A0>, '_': '', '__': '', '___': '', '__vsc_ipynb_file__': 'c:\\\\Users\\\\amirh\\\\Desktop\\\\GitHub\\\\python-workshop\\\\codes\\\\13_namespace-&-scope.ipynb', '_i': 'print(dir(__builtins__))', '_ii': 'def foo():\\n    # local namespace\\n    y = 5  # y is in the local namespace of the function foo()\\n    print(y)', '_iii': '# global namespace\\nx = 10  # x is in the global namespace', '_i1': 'x = \"global\"\\n\\ndef outer():\\n    x = \"enclosing\"\\n    \\n    def inner():\\n        x = \"local\"\\n        \\n        print(\"inside inner function:\", x)\\n    \\n    inner()\\n    print(\"inside outer function:\", x)\\n\\nouter()\\nprint(\"in global scope:\", x)', 'x': 10, 'outer': <function outer at 0x0000023CDE202B60>, '_i2': 'x = \"global\"\\n\\ndef outer():\\n    x = \"enclosing\"\\n    \\n    def inner():\\n        x = \"local\"\\n        \\n        print(\"inside inner function :\", x)\\n    \\n    inner()\\n    print(\"inside outer function :\", x)\\n\\nouter()\\nprint(\"in global scope :\", x)', '_i3': 'x = \"global\"\\n\\ndef outer():\\n    x = \"enclosing\"\\n    \\n    def inner():\\n        print(\"inside inner function :\", x)\\n    \\n    inner()\\n    print(\"inside outer function :\", x)\\n\\nouter()\\nprint(\"in global scope :\", x)', '_i4': 'x = \"global\"\\n\\ndef outer():\\n    def inner():\\n        x = \"local\"\\n        \\n        print(\"inside inner function :\", x)\\n    \\n    inner()\\n    print(\"inside outer function :\", x)\\n\\nouter()\\nprint(\"in global scope :\", x)', '_i5': 'x = \"global\"\\n\\ndef outer():\\n    def inner():\\n        print(\"inside inner function :\", x)\\n    \\n    inner()\\n    print(\"inside outer function :\", x)\\n\\nouter()\\nprint(\"in global scope :\", x)', '_i6': 'def outer():\\n    def inner():\\n        print(\"inside inner function :\", y)\\n    \\n    inner()\\n    print(\"inside outer function :\", y)\\n\\nouter()\\nprint(\"in global scope :\", y)', '_i7': '# example: without using <global>\\nx = 10\\n\\ndef change_x():\\n    x = 5\\n    print(\"Inside function:\", x)\\n\\nchange_x()\\n\\nprint(\"Outside function:\", x)', 'change_x': <function change_x at 0x0000023CDE201940>, '_i8': '# with <global>\\nx = 10\\n\\ndef change_x():\\n    global x\\n    x = 5\\n    print(\"Inside function:\", x)\\n\\nchange_x()\\n\\nprint(\"Outside function:\", x)', '_i9': '# with <global>\\nx = 10\\n\\ndef change_x():\\n    global x  # using global here is mandatory\\n    x += 1\\n\\nchange_x()\\n\\nprint(\"Outside function:\", x)', '_i10': '# with <global>\\nx = 10\\n\\ndef change_x():\\n    # global x  # using global here is mandatory\\n    x += 1\\n\\nchange_x()\\n\\nprint(\"Outside function:\", x)', '_i11': '# with <global>\\nx = 10\\n\\ndef change_x():\\n    global x  # using global here is mandatory otherwise UnboundLocalError happens\\n    x += 1\\n\\nchange_x()\\n\\nprint(\"Outside function:\", x)', '_i12': 'x = 10\\n\\ndef change_x():\\n    global x  # using global to modify x is mandatory otherwise UnboundLocalError happens\\n    x += 1\\n\\nchange_x()\\n\\nprint(\"outside function:\", x)', '_i13': '# with <global>\\nx = 10\\n\\ndef change_x():\\n    global x\\n    x = 5\\n    print(\"inside function:\", x)\\n\\nchange_x()\\n\\nprint(\"outside function:\", x)', '_i14': '# without <nonlocal>\\ndef outer():\\n    x = \"outer variable\"\\n    \\n    def inner():\\n        x = \"inner variable\"\\n        print(\"inside inner:\", x)\\n    \\n    inner()\\n    print(\"inside outer:\", x)\\n\\nouter()', '_i15': '# with <nonlocal>\\ndef outer():\\n    x = \"outer variable\"\\n    \\n    def inner():\\n        nonlocal x\\n        x = \"inner variable\"\\n        print(\"inside inner:\", x)\\n    \\n    inner()\\n    print(\"inside outer:\", x)\\n\\nouter()', '_i16': '# with <nonlocal>\\ndef outer():\\n    x = \"outer variable\"\\n    \\n    def inner():\\n        # nonlocal x\\n        x += \".\"\\n        print(\"inside inner:\", x)\\n    \\n    inner()\\n    print(\"inside outer:\", x)\\n\\nouter()', '_i17': '# with <nonlocal>\\ndef outer():\\n    x = \"outer variable\"\\n    \\n    def inner():\\n        nonlocal x  # using nonlocal to modify x is mandatory otherwise UnboundLocalError happens\\n        x += \".\"\\n        print(\"inside inner:\", x)\\n    \\n    inner()\\n    print(\"inside outer:\", x)\\n\\nouter()', '_i18': '### global identifiers', '_i19': 'print(__builtins__)', '_i20': 'print(dir(__builtins__))', '_i21': 'print(dir(globals))', '_i22': 'print(dir(globals))\\nprint(globals())', '_i23': 'print(__builtins__())', '_i24': 'print(__builtins__', '_i25': 'print(__builtins__)', '_i26': 'print(dir(locals))\\nprint(locals())', '_i27': 'def foo():\\n    x = 10\\n    print(dir(locals))\\n    print(locals())\\n\\nfoo()', 'foo': <function foo at 0x0000023CDE203CE0>, '_i28': \"def foo():\\n    x = 10\\n    print('x' in dir(locals))\\n    print(locals())\\n\\nfoo()\", '_i29': 'def foo():\\n    x = 10\\n    print(locals())\\n\\nfoo()', '_i30': 'def foo():\\n    x = 10\\n    y = 20\\n    print(locals())\\n\\nfoo()', '_i31': 'x = 10\\ndef foo():\\n    y = 20\\n    print(locals())\\n\\nfoo()', '_i32': 'x = 10\\ndef foo():\\n    y = 20\\n    print(locals())\\n\\nfoo()\\nprint(globals())', '_i33': \"x = 10\\ndef foo():\\n    y = 20\\n    print(locals())\\n\\nfoo()\\nprint(globals()['y'])\", '_i34': \"x = 10\\ndef foo():\\n    y = 20\\n    print(locals())\\n\\nfoo()\\nprint(globals()['x'])\", '_i35': 'x = 10\\ndef foo():\\n    y = 20\\n    print(locals())\\n\\nfoo()\\nprint(globals())', '_i36': 'x = 10\\ndef foo():\\n    y = 20\\n    print(f\"locals : {locals()}\")\\n\\nfoo()\\nprint(globals: {globals()})', '_i37': 'x = 10\\ndef foo():\\n    y = 20\\n    print(f\"locals : {locals()}\")\\n\\nfoo()\\nprint(f\"globals: {globals()}\")', '_i38': \"# built-in namespace\\nprint(len([1, 2, 3]))  # 'print' and 'len' belong to the built-in namespace\", '_i39': '# global namespace\\nx = 10  # x is in the global namespace', '_i40': 'def foo():\\n    # local namespace\\n    y = 5  # y is in the local namespace of the function foo()\\n    print(y)', '_i41': 'print(dir(__builtins__))', '_i42': 'x = 10\\ndef foo():\\n    y = 20\\n    print(f\"locals : {locals()}\")\\n\\nfoo()\\nprint(f\"globals: {globals()}\")'}\n"
     ]
    }
   ],
   "source": [
    "x = 10\n",
    "\n",
    "\n",
    "def foo():\n",
    "    y = 20\n",
    "    print(f\"locals : {locals()}\")\n",
    "\n",
    "\n",
    "foo()\n",
    "print(f\"globals: {globals()}\")"
   ]
  },
  {
   "cell_type": "markdown",
   "metadata": {},
   "source": [
    "### local identifiers"
   ]
  },
  {
   "cell_type": "markdown",
   "metadata": {},
   "source": [
    "# Scope\n",
    "   - It is the region of the code where a namespace is directly accessible.\n",
    "   - It defines where you can access a particular name (variable, function, ...)\n",
    "\n",
    "**Types of Scopes (LEGB Rule)**:\n",
    "   - Local Scope: Inside the function.\n",
    "   - Enclosing Scope: Inside nested functions (the function that contains another function).\n",
    "   - Global Scope: Variables declared in the global scope (outside all functions).\n",
    "   - Built-in Scope: Variables in Python's built-in namespace (like `len()`, `print()`).\n",
    "\n",
    "📝 **Doc**:\n",
    "   - Scopes and Namespaces: [docs.python.org/3/tutorial/classes.html#python-scopes-and-namespaces](https://docs.python.org/3/tutorial/classes.html#python-scopes-and-namespaces)"
   ]
  },
  {
   "cell_type": "code",
   "execution_count": 43,
   "metadata": {},
   "outputs": [
    {
     "name": "stdout",
     "output_type": "stream",
     "text": [
      "local\n",
      "enclosing\n",
      "global\n"
     ]
    }
   ],
   "source": [
    "x = \"global\"\n",
    "\n",
    "\n",
    "def outer():\n",
    "    x = \"enclosing\"\n",
    "\n",
    "    def inner():\n",
    "        x = \"local\"\n",
    "        print(x)  # accessing local scope\n",
    "\n",
    "    inner()\n",
    "    print(x)  # accessing enclosing scope\n",
    "\n",
    "\n",
    "outer()\n",
    "print(x)  # accessing global scope"
   ]
  },
  {
   "cell_type": "markdown",
   "metadata": {},
   "source": [
    "### How Python Searches For An Identifier\n",
    "   - Local: Python looks in the innermost function (local scope).\n",
    "   - Enclosing: If not found in local, it looks in the enclosing function (nested function) scope.\n",
    "   - Global: If not found in enclosing, it checks the global scope (module level).\n",
    "   - Built-in: If nothing is found, it checks Python's built-in namespace.\n",
    "\n",
    "<figure style=\"text-align: center;\">\n",
    "    <img src=\"../assets/images/svgs/scope.svg\" alt=\"scope.svg\" style=\"width: 75%;\">\n",
    "    <figcaption>Scope</figcaption>\n",
    "</figure>"
   ]
  },
  {
   "cell_type": "code",
   "execution_count": 44,
   "metadata": {},
   "outputs": [
    {
     "name": "stdout",
     "output_type": "stream",
     "text": [
      "inside inner function : local\n",
      "inside outer function : enclosing\n",
      "in global scope : global\n"
     ]
    }
   ],
   "source": [
    "x = \"global\"\n",
    "\n",
    "\n",
    "def outer():\n",
    "    x = \"enclosing\"\n",
    "\n",
    "    def inner():\n",
    "        x = \"local\"\n",
    "\n",
    "        print(\"inside inner function :\", x)\n",
    "\n",
    "    inner()\n",
    "    print(\"inside outer function :\", x)\n",
    "\n",
    "\n",
    "outer()\n",
    "print(\"in global scope :\", x)"
   ]
  },
  {
   "cell_type": "code",
   "execution_count": 45,
   "metadata": {},
   "outputs": [
    {
     "name": "stdout",
     "output_type": "stream",
     "text": [
      "inside inner function : enclosing\n",
      "inside outer function : enclosing\n",
      "in global scope : global\n"
     ]
    }
   ],
   "source": [
    "x = \"global\"\n",
    "\n",
    "\n",
    "def outer():\n",
    "    x = \"enclosing\"\n",
    "\n",
    "    def inner():\n",
    "        print(\"inside inner function :\", x)\n",
    "\n",
    "    inner()\n",
    "    print(\"inside outer function :\", x)\n",
    "\n",
    "\n",
    "outer()\n",
    "print(\"in global scope :\", x)"
   ]
  },
  {
   "cell_type": "code",
   "execution_count": 46,
   "metadata": {},
   "outputs": [
    {
     "name": "stdout",
     "output_type": "stream",
     "text": [
      "inside inner function : local\n",
      "inside outer function : global\n",
      "in global scope : global\n"
     ]
    }
   ],
   "source": [
    "x = \"global\"\n",
    "\n",
    "\n",
    "def outer():\n",
    "    def inner():\n",
    "        x = \"local\"\n",
    "\n",
    "        print(\"inside inner function :\", x)\n",
    "\n",
    "    inner()\n",
    "    print(\"inside outer function :\", x)\n",
    "\n",
    "\n",
    "outer()\n",
    "print(\"in global scope :\", x)"
   ]
  },
  {
   "cell_type": "code",
   "execution_count": 47,
   "metadata": {},
   "outputs": [
    {
     "name": "stdout",
     "output_type": "stream",
     "text": [
      "inside inner function : global\n",
      "inside outer function : global\n",
      "in global scope : global\n"
     ]
    }
   ],
   "source": [
    "x = \"global\"\n",
    "\n",
    "\n",
    "def outer():\n",
    "    def inner():\n",
    "        print(\"inside inner function :\", x)\n",
    "\n",
    "    inner()\n",
    "    print(\"inside outer function :\", x)\n",
    "\n",
    "\n",
    "outer()\n",
    "print(\"in global scope :\", x)"
   ]
  },
  {
   "cell_type": "code",
   "execution_count": 48,
   "metadata": {},
   "outputs": [
    {
     "ename": "NameError",
     "evalue": "name 'y' is not defined",
     "output_type": "error",
     "traceback": [
      "\u001b[1;31m---------------------------------------------------------------------------\u001b[0m",
      "\u001b[1;31mNameError\u001b[0m                                 Traceback (most recent call last)",
      "Cell \u001b[1;32mIn[48], line 8\u001b[0m\n\u001b[0;32m      5\u001b[0m     inner()\n\u001b[0;32m      6\u001b[0m     \u001b[38;5;28mprint\u001b[39m(\u001b[38;5;124m\"\u001b[39m\u001b[38;5;124minside outer function :\u001b[39m\u001b[38;5;124m\"\u001b[39m, y)\n\u001b[1;32m----> 8\u001b[0m \u001b[43mouter\u001b[49m\u001b[43m(\u001b[49m\u001b[43m)\u001b[49m\n\u001b[0;32m      9\u001b[0m \u001b[38;5;28mprint\u001b[39m(\u001b[38;5;124m\"\u001b[39m\u001b[38;5;124min global scope :\u001b[39m\u001b[38;5;124m\"\u001b[39m, y)\n",
      "Cell \u001b[1;32mIn[48], line 5\u001b[0m, in \u001b[0;36mouter\u001b[1;34m()\u001b[0m\n\u001b[0;32m      2\u001b[0m \u001b[38;5;28;01mdef\u001b[39;00m \u001b[38;5;21minner\u001b[39m():\n\u001b[0;32m      3\u001b[0m     \u001b[38;5;28mprint\u001b[39m(\u001b[38;5;124m\"\u001b[39m\u001b[38;5;124minside inner function :\u001b[39m\u001b[38;5;124m\"\u001b[39m, y)\n\u001b[1;32m----> 5\u001b[0m \u001b[43minner\u001b[49m\u001b[43m(\u001b[49m\u001b[43m)\u001b[49m\n\u001b[0;32m      6\u001b[0m \u001b[38;5;28mprint\u001b[39m(\u001b[38;5;124m\"\u001b[39m\u001b[38;5;124minside outer function :\u001b[39m\u001b[38;5;124m\"\u001b[39m, y)\n",
      "Cell \u001b[1;32mIn[48], line 3\u001b[0m, in \u001b[0;36mouter.<locals>.inner\u001b[1;34m()\u001b[0m\n\u001b[0;32m      2\u001b[0m \u001b[38;5;28;01mdef\u001b[39;00m \u001b[38;5;21minner\u001b[39m():\n\u001b[1;32m----> 3\u001b[0m     \u001b[38;5;28mprint\u001b[39m(\u001b[38;5;124m\"\u001b[39m\u001b[38;5;124minside inner function :\u001b[39m\u001b[38;5;124m\"\u001b[39m, \u001b[43my\u001b[49m)\n",
      "\u001b[1;31mNameError\u001b[0m: name 'y' is not defined"
     ]
    }
   ],
   "source": [
    "def outer():\n",
    "    def inner():\n",
    "        print(\"inside inner function :\", y)\n",
    "\n",
    "    inner()\n",
    "    print(\"inside outer function :\", y)\n",
    "\n",
    "\n",
    "outer()\n",
    "print(\"in global scope :\", y)"
   ]
  },
  {
   "cell_type": "markdown",
   "metadata": {},
   "source": [
    "# Global and Nonlocal Keywords"
   ]
  },
  {
   "cell_type": "markdown",
   "metadata": {},
   "source": [
    "### Global Keyword\n",
    "   - The `global` keyword is used to refer to a variable that is defined in the global scope from within a function.\n",
    "   - It allows you to **modify** a global variable inside a function, rather than creating a local one.\n",
    "   - Be cautious with `global` as overusing it can make your code harder to manage.\n",
    "\n",
    "📝 **Doc**:\n",
    "   - The global statement: [docs.python.org/3.12/reference/simple_stmts.html#the-global-statement](https://docs.python.org/3.12/reference/simple_stmts.html#the-global-statement)"
   ]
  },
  {
   "cell_type": "code",
   "execution_count": 49,
   "metadata": {},
   "outputs": [
    {
     "name": "stdout",
     "output_type": "stream",
     "text": [
      "inside function: 5\n",
      "outside function: 10\n"
     ]
    }
   ],
   "source": [
    "# without <global>\n",
    "x = 10\n",
    "\n",
    "\n",
    "def change_x():\n",
    "    x = 5\n",
    "    print(\"inside function:\", x)\n",
    "\n",
    "\n",
    "change_x()\n",
    "print(\"outside function:\", x)"
   ]
  },
  {
   "cell_type": "code",
   "execution_count": 50,
   "metadata": {},
   "outputs": [
    {
     "name": "stdout",
     "output_type": "stream",
     "text": [
      "inside function: 5\n",
      "outside function: 5\n"
     ]
    }
   ],
   "source": [
    "# with <global>\n",
    "x = 10\n",
    "\n",
    "\n",
    "def change_x():\n",
    "    global x\n",
    "    x = 5\n",
    "    print(\"inside function:\", x)\n",
    "\n",
    "\n",
    "change_x()\n",
    "print(\"outside function:\", x)"
   ]
  },
  {
   "cell_type": "code",
   "execution_count": 51,
   "metadata": {},
   "outputs": [
    {
     "name": "stdout",
     "output_type": "stream",
     "text": [
      "outside function: 11\n"
     ]
    }
   ],
   "source": [
    "x = 10\n",
    "\n",
    "\n",
    "def change_x():\n",
    "    global x  # using global to modify x is mandatory otherwise UnboundLocalError happens\n",
    "    x += 1\n",
    "\n",
    "\n",
    "change_x()\n",
    "print(\"outside function:\", x)"
   ]
  },
  {
   "cell_type": "markdown",
   "metadata": {},
   "source": [
    "### Nonlocal Keyword\n",
    "   - The `nonlocal` keyword is used in nested functions.\n",
    "   - It allows you to modify a variable that is not local to the current function but is found in the enclosing (outer) function's scope.\n",
    "   - It does not affect the global scope.\n",
    "\n",
    "📝 **Doc**:\n",
    "   - The nonlocal statement: [docs.python.org/3.12/reference/simple_stmts.html#the-nonlocal-statement](https://docs.python.org/3.12/reference/simple_stmts.html#the-nonlocal-statement)\n",
    "\n",
    "🐍 **PEP**:\n",
    "   - Access to Names in Outer Scopes [[PEP 3104](https://peps.python.org/pep-3104/)]"
   ]
  },
  {
   "cell_type": "code",
   "execution_count": 52,
   "metadata": {},
   "outputs": [
    {
     "name": "stdout",
     "output_type": "stream",
     "text": [
      "inside inner: inner variable\n",
      "inside outer: outer variable\n"
     ]
    }
   ],
   "source": [
    "# without <nonlocal>\n",
    "def outer():\n",
    "    x = \"outer variable\"\n",
    "\n",
    "    def inner():\n",
    "        x = \"inner variable\"\n",
    "        print(\"inside inner:\", x)\n",
    "\n",
    "    inner()\n",
    "    print(\"inside outer:\", x)\n",
    "\n",
    "\n",
    "outer()"
   ]
  },
  {
   "cell_type": "code",
   "execution_count": 53,
   "metadata": {},
   "outputs": [
    {
     "name": "stdout",
     "output_type": "stream",
     "text": [
      "inside inner: inner variable\n",
      "inside outer: inner variable\n"
     ]
    }
   ],
   "source": [
    "# with <nonlocal>\n",
    "def outer():\n",
    "    x = \"outer variable\"\n",
    "\n",
    "    def inner():\n",
    "        nonlocal x\n",
    "        x = \"inner variable\"\n",
    "        print(\"inside inner:\", x)\n",
    "\n",
    "    inner()\n",
    "    print(\"inside outer:\", x)\n",
    "\n",
    "\n",
    "outer()"
   ]
  },
  {
   "cell_type": "code",
   "execution_count": 54,
   "metadata": {},
   "outputs": [
    {
     "name": "stdout",
     "output_type": "stream",
     "text": [
      "inside outer: outer variable.\n"
     ]
    }
   ],
   "source": [
    "# with <nonlocal>\n",
    "def outer():\n",
    "    x = \"outer variable\"\n",
    "\n",
    "    def inner():\n",
    "        nonlocal x  # using nonlocal to modify x is mandatory otherwise UnboundLocalError happens\n",
    "        x += \".\"\n",
    "\n",
    "    inner()\n",
    "    print(\"inside outer:\", x)\n",
    "\n",
    "\n",
    "outer()"
   ]
  }
 ],
 "metadata": {
  "author_email": "AmirhosseinHeydari78@gmail.com",
  "author_github": "https://github.com/mr-pylin",
  "author_name": "Amirhossein Heydari",
  "kernelspec": {
   "display_name": "Python 3",
   "language": "python",
   "name": "python3"
  },
  "language_info": {
   "codemirror_mode": {
    "name": "ipython",
    "version": 3
   },
   "file_extension": ".py",
   "mimetype": "text/x-python",
   "name": "python",
   "nbconvert_exporter": "python",
   "pygments_lexer": "ipython3",
   "version": "3.12.3"
  },
  "origin_repo": "https://github.com/mr-pylin/python-workshop"
 },
 "nbformat": 4,
 "nbformat_minor": 2
}
