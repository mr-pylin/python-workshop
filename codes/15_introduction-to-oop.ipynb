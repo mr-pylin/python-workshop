{
 "cells": [
  {
   "cell_type": "markdown",
   "metadata": {},
   "source": [
    "📝 **Author:** Amirhossein Heydari - 📧 **Email:** AmirhosseinHeydari78@gmail.com - 📍 **Linktree:** [linktr.ee/mr_pylin](https://linktr.ee/mr_pylin)\n",
    "\n",
    "---"
   ]
  },
  {
   "cell_type": "markdown",
   "metadata": {},
   "source": [
    "# Introduction to Object-Oriented Programming (OOP)\n",
    "   - It is a [programming paradigm](ttps://en.wikipedia.org/wiki/Programming_paradigm) based on the concept of objects, which contain both data (attributes) and functions (methods).\n",
    "   - It emphasizes concepts such as [encapsulation](https://en.wikipedia.org/wiki/Encapsulation_(computer_programming)), [inheritance](https://en.wikipedia.org/wiki/Inheritance_(object-oriented_programming)), [abstraction](https://en.wikipedia.org/wiki/Abstraction_(computer_science)), and [polymorphism](https://en.wikipedia.org/wiki/Polymorphism_(computer_science)).\n",
    "\n",
    "✍️ **Key Advantages of OOP**:\n",
    "   - Code is divided into objects, making it reusable and easier to maintain (Modularity).\n",
    "   - Combines data and methods in a single unit (class).\n",
    "   - New classes can inherit from existing classes.\n",
    "\n",
    "📝 **Docs**:\n",
    "   - Classes: [docs.python.org/3/tutorial/classes.html](https://docs.python.org/3/tutorial/classes.html)\n",
    "   - Data model: [docs.python.org/3/reference/datamodel.html#data-model](https://docs.python.org/3/reference/datamodel.html#data-model)\n",
    "   - \\_\\_init\\_\\_: [docs.python.org/3/reference/datamodel.html#object.__init__](https://docs.python.org/3/reference/datamodel.html#object.__init__)\n",
    "   - @classmethod: [docs.python.org/3/library/functions.html#classmethod](https://docs.python.org/3/library/functions.html#classmethod)\n",
    "   - @staticmethod: [docs.python.org/3/library/functions.html#staticmethod](https://docs.python.org/3/library/functions.html#staticmethod)\n",
    "\n",
    "🐍 **PEP**:\n",
    "   - Style Guide for Python Code [[PEP 8](https://peps.python.org/pep-0008/)]\n",
    "   - Docstring Conventions [[PEP 257](https://peps.python.org/pep-0257/)]\n",
    "   - Decorators for Functions and Methods [[PEP 318](https://peps.python.org/pep-0318/)]"
   ]
  },
  {
   "cell_type": "markdown",
   "metadata": {},
   "source": [
    "## Classes and Objects\n",
    "   - A class is a blueprint for creating objects.\n",
    "   - It defines a set of attributes and methods that the created objects will have.\n",
    "   - You can define some **modifiers** (such as variables and methods) that are bound to a class.\n",
    "   - the `self` parameter refers to the instance of the class and is used to access instance variables and methods.\n",
    "   - the `self`, **must** be the first parameter of any method defined in a class but is not explicitly passed when calling methods on an object.\n",
    "\n",
    "✍️ **Naming Convention**:\n",
    "   - Use `CamelCase` for class names (e.g., MyClass, Car, Circle).\n",
    "   - Use `snake_case` for method and instance variable names (e.g., start_engine(), radius).\n",
    "   - Use `UPPER_CASE` for constants defined within a class or module (e.g., MAX_SPEED).\n",
    "   - Private methods and attributes should start with a single underscore `_` (e.g., _private_method).\n",
    "   - Avoid using double underscores (`__`) at the beginning of names unless necessary for name mangling (used to avoid conflicts in inheritance).\n",
    "\n",
    "🙏 **Special Thanks**:\n",
    "   - Thanks to [Corey Schafer](https://www.youtube.com/playlist?list=PL-osiE80TeTsqhIuOqKhwlXsIBIdSeYtc) for his useful youtube examples in OOP concepts."
   ]
  },
  {
   "cell_type": "markdown",
   "metadata": {},
   "source": [
    "### Coding to understand better\n",
    "   - Note: It’s not recommended to code in this style ⚠️."
   ]
  },
  {
   "cell_type": "code",
   "execution_count": 17,
   "metadata": {},
   "outputs": [],
   "source": [
    "# the simplest class ever existed (aka empty class)\n",
    "class Employee:\n",
    "    pass"
   ]
  },
  {
   "cell_type": "code",
   "execution_count": 23,
   "metadata": {},
   "outputs": [
    {
     "name": "stdout",
     "output_type": "stream",
     "text": [
      "emp_1 : <__main__.Employee object at 0x000001F51DAE2EA0>\n",
      "emp_2 : <__main__.Employee object at 0x000001F51DAE1580>\n",
      "emp_3 : <__main__.Employee object at 0x000001F51DAA0BC0>\n",
      "\n",
      "emp_1 == emp_2              : False\n",
      "emp_1 is emp_2              : False\n",
      "isinstance(emp_1, Employee) : True\n"
     ]
    }
   ],
   "source": [
    "# creating several objects (instances)\n",
    "emp_1 = Employee()\n",
    "emp_2 = Employee()\n",
    "emp_3 = Employee()\n",
    "\n",
    "# log\n",
    "print(f\"emp_1 : {emp_1}\")\n",
    "print(f\"emp_2 : {emp_2}\")\n",
    "print(f\"emp_3 : {emp_3}\\n\")\n",
    "print(f\"emp_1 == emp_2              : {emp_1 == emp_2}\")\n",
    "print(f\"emp_1 is emp_2              : {emp_1 is emp_2}\")\n",
    "print(f\"isinstance(emp_1, Employee) : {isinstance(emp_1, Employee)}\")"
   ]
  },
  {
   "cell_type": "code",
   "execution_count": 28,
   "metadata": {},
   "outputs": [
    {
     "name": "stdout",
     "output_type": "stream",
     "text": [
      "emp_1.first : Marshall\n",
      "emp_1.last  : Wall\n",
      "emp_2.first : Jerry\n",
      "emp_2.last  : Odom\n"
     ]
    }
   ],
   "source": [
    "# adding attributes to the objects [manually⚠️]\n",
    "emp_1.first = \"Marshall\"\n",
    "emp_1.last  = \"Wall\"\n",
    "\n",
    "emp_2.first = \"Jerry\"\n",
    "emp_2.last  = \"Odom\"\n",
    "\n",
    "# log\n",
    "print(f\"emp_1.first : {emp_1.first}\")\n",
    "print(f\"emp_1.last  : {emp_1.last}\")\n",
    "print(f\"emp_2.first : {emp_2.first}\")\n",
    "print(f\"emp_2.last  : {emp_2.last}\")\n",
    "print(f\"emp_3.first : {emp_3.first}\")  # AttributeError: 'Employee' object has no attribute 'first'"
   ]
  },
  {
   "cell_type": "code",
   "execution_count": 38,
   "metadata": {},
   "outputs": [
    {
     "name": "stdout",
     "output_type": "stream",
     "text": [
      "Employee.get_info(emp_1) : Marshall - Wall\n",
      "Employee.get_info(emp_2) : Jerry - Odom\n",
      "\n",
      "emp_1.get_info() : Marshall - Wall\n",
      "emp_2.get_info() : Jerry - Odom\n"
     ]
    }
   ],
   "source": [
    "# adding methods to the class Employee [manually⚠️]\n",
    "def get_info(self):\n",
    "    return f\"{self.first} - {self.last}\"\n",
    "\n",
    "# bind above function to the class Employee\n",
    "Employee.get_info = get_info\n",
    "\n",
    "# explicit method call\n",
    "print(f\"Employee.get_info(emp_1) : {Employee.get_info(emp_1)}\")\n",
    "print(f\"Employee.get_info(emp_2) : {Employee.get_info(emp_2)}\\n\")\n",
    "\n",
    "# implicit method call\n",
    "print(f\"emp_1.get_info() : {emp_1.get_info()}\")\n",
    "print(f\"emp_2.get_info() : {emp_2.get_info()}\")\n",
    "print(f\"emp_3.get_info() : {emp_3.get_info()}\")  # AttributeError: 'Employee' object has no attribute 'first'"
   ]
  },
  {
   "cell_type": "markdown",
   "metadata": {},
   "source": [
    "### The \\_\\_init\\_\\_() Method (Constructor)\n",
    "   - It is the class constructor that is automatically called when an object is created.\n",
    "   - \\_\\_init\\_\\_ always returns None!\n",
    "   - Note: It’s recommended to code in this style ✅."
   ]
  },
  {
   "cell_type": "code",
   "execution_count": 40,
   "metadata": {},
   "outputs": [],
   "source": [
    "# create the same Employee class\n",
    "class Employee:\n",
    "    def __init__(self, first, last) -> None:\n",
    "        self.first = first\n",
    "        self.last = last\n",
    "\n",
    "    def get_info(self):\n",
    "        return f\"{self.first} - {self.last}\""
   ]
  },
  {
   "cell_type": "code",
   "execution_count": 43,
   "metadata": {},
   "outputs": [
    {
     "name": "stdout",
     "output_type": "stream",
     "text": [
      "emp_1.first      : Marshall\n",
      "emp_1.last       : Wall\n",
      "emp_1.get_info() : Marshall - Wall\n"
     ]
    }
   ],
   "source": [
    "# creating several objects (instances)\n",
    "emp_1 = Employee(\"Marshall\", \"Wall\")\n",
    "emp_2 = Employee(\"Jerry\", \"Odom\")\n",
    "emp_3 = Employee(first=\"Kye\", last=\"Raymond\")\n",
    "\n",
    "# log\n",
    "print(f\"emp_1.first      : {emp_1.first}\")\n",
    "print(f\"emp_1.last       : {emp_1.last}\")\n",
    "print(f\"emp_1.get_info() : {emp_1.get_info()}\")"
   ]
  },
  {
   "cell_type": "markdown",
   "metadata": {},
   "source": [
    "### Class Attributes vs. Instance Attributes\n",
    "   - Class Attributes are `shared` by all instances of the class.\n",
    "   - Instance Attributes are `unique` to each instance."
   ]
  },
  {
   "cell_type": "code",
   "execution_count": 45,
   "metadata": {},
   "outputs": [
    {
     "name": "stdout",
     "output_type": "stream",
     "text": [
      "number of employees : 2\n",
      "number of employees : 2\n",
      "number of employees : 2\n"
     ]
    }
   ],
   "source": [
    "class Employee:\n",
    "    num_of_emps = 0\n",
    "\n",
    "    def __init__(self, first, last):\n",
    "        self.first = first\n",
    "        self.last = last\n",
    "\n",
    "        # update number of employees\n",
    "        Employee.num_of_emps += 1\n",
    "\n",
    "# create instances\n",
    "emp_1 = Employee(\"Marshall\", \"Wall\")\n",
    "emp_2 = Employee(\"Jerry\", \"Odom\")\n",
    "\n",
    "# log\n",
    "print(f\"number of employees : {Employee.num_of_emps}\")\n",
    "print(f\"number of employees : {emp_1.num_of_emps}\")\n",
    "print(f\"number of employees : {emp_2.num_of_emps}\")"
   ]
  },
  {
   "cell_type": "markdown",
   "metadata": {},
   "source": [
    "### Types of Methods\n",
    "   - Instance Methods\n",
    "      - Instance methods are the most common methods in classes.\n",
    "      - They take `self` as the first parameter and can access `instance` attributes.\n",
    "   - Class Methods\n",
    "      - Class methods operate on the class itself rather than an instance.\n",
    "      - They are marked with the `@classmethod` [decorator]() and take `cls` as the first argument.\n",
    "   - Static Methods\n",
    "      - Static methods don't access class or instance attributes.\n",
    "      - They are utility functions within a class and are marked with the `@staticmethod` decorator.\n",
    "\n",
    "✍️ **Notes**:\n",
    "   - Decorators are covered along with closures in the future lectures."
   ]
  },
  {
   "cell_type": "code",
   "execution_count": 62,
   "metadata": {},
   "outputs": [],
   "source": [
    "class Employee:\n",
    "    raise_amount = 1.05\n",
    "    def __init__(self, first, last, salary):\n",
    "        self.first = first\n",
    "        self.last = last\n",
    "        self.salary = salary\n",
    "\n",
    "    def apply_raise(self):\n",
    "         self.salary *= Employee.raise_amount\n",
    "\n",
    "    @classmethod\n",
    "    def set_amount(cls, value):\n",
    "        cls.raise_amount = value\n",
    "\n",
    "    @classmethod\n",
    "    def from_string(cls, value):\n",
    "        return cls(*Employee.splitter(value))\n",
    "\n",
    "    @staticmethod\n",
    "    def splitter(value):\n",
    "        return value.split(\"-\")"
   ]
  },
  {
   "cell_type": "code",
   "execution_count": 63,
   "metadata": {},
   "outputs": [],
   "source": [
    "# create instance\n",
    "emp_1 = Employee(\"James\", \"Bond\", 100)\n",
    "emp_2 = Employee.from_string(\"Rick-Sanchez-100\")"
   ]
  },
  {
   "cell_type": "code",
   "execution_count": 64,
   "metadata": {},
   "outputs": [
    {
     "name": "stdout",
     "output_type": "stream",
     "text": [
      "2\n",
      "2\n"
     ]
    }
   ],
   "source": [
    "# update raise amount\n",
    "emp_1.set_amount(2)\n",
    "\n",
    "# log\n",
    "print(emp_1.raise_amount)\n",
    "print(emp_2.raise_amount)"
   ]
  },
  {
   "cell_type": "code",
   "execution_count": 65,
   "metadata": {},
   "outputs": [
    {
     "name": "stdout",
     "output_type": "stream",
     "text": [
      "emp_1.salary : 100\n",
      "emp_1.salary : 100\n",
      "\n",
      "emp_1.salary : 200\n",
      "emp_1.salary : 200\n"
     ]
    }
   ],
   "source": [
    "print(f\"emp_1.salary : {emp_1.salary}\")\n",
    "print(f\"emp_1.salary : {emp_1.salary}\\n\")\n",
    "\n",
    "# apply raise amount\n",
    "emp_1.apply_raise()\n",
    "\n",
    "# log\n",
    "print(f\"emp_1.salary : {emp_1.salary}\")\n",
    "print(f\"emp_1.salary : {emp_1.salary}\")"
   ]
  }
 ],
 "metadata": {
  "author_name": "Amirhossein Heydari",
  "author_email": "AmirhosseinHeydari78@gmail.com",
  "author_github": "https://github.com/mr-pylin",
  "origin_repo": "https://github.com/mr-pylin/python-workshop",
  "kernelspec": {
   "display_name": "Python 3",
   "language": "python",
   "name": "python3"
  },
  "language_info": {
   "codemirror_mode": {
    "name": "ipython",
    "version": 3
   },
   "file_extension": ".py",
   "mimetype": "text/x-python",
   "name": "python",
   "nbconvert_exporter": "python",
   "pygments_lexer": "ipython3",
   "version": "3.12.3"
  }
 },
 "nbformat": 4,
 "nbformat_minor": 2
}
