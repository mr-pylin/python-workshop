{
 "cells": [
  {
   "cell_type": "markdown",
   "metadata": {},
   "source": [
    "📝 **Author:** Amirhossein Heydari - 📧 **Email:** AmirhosseinHeydari78@gmail.com - 📍 **Linktree:** [linktr.ee/mr_pylin](https://linktr.ee/mr_pylin)\n",
    "\n",
    "---"
   ]
  },
  {
   "cell_type": "markdown",
   "metadata": {},
   "source": [
    "# Packing and Unpacking\n",
    "   - packing and unpacking are concepts related to managing collections of values such as `lists`, `tuples`, or `dictionaries`.\n",
    "   - They allow for more flexible and readable code when dealing with multiple values\n",
    "\n",
    "📝 **Docs**:\n",
    "   - Arbitrary Argument Lists: [docs.python.org/3/tutorial/controlflow.html#arbitrary-argument-lists](https://docs.python.org/3/tutorial/controlflow.html#arbitrary-argument-lists)\n",
    "   - Keyword Arguments: [docs.python.org/3/tutorial/controlflow.html#keyword-arguments](https://docs.python.org/3/tutorial/controlflow.html#keyword-arguments)\n",
    "   - Unpacking Argument Lists: [docs.python.org/3/tutorial/controlflow.html#unpacking-argument-lists](https://docs.python.org/3/tutorial/controlflow.html#unpacking-argument-lists)\n",
    "   - Tuples and Sequences: [docs.python.org/3/tutorial/datastructures.html#tuples-and-sequences](https://docs.python.org/3/tutorial/datastructures.html#tuples-and-sequences)\n",
    "\n",
    "🐍 **PEPs**:\n",
    "   - Additional Unpacking Generalizations [[PEP 448](https://peps.python.org/pep-0448/)]"
   ]
  },
  {
   "cell_type": "markdown",
   "metadata": {},
   "source": [
    "## Packing [Grouping Multiple Values into a Collection]\n",
    "- Packing occurs when multiple values are assigned to a single variable, typically in the form of a `tuple`, `list`, or `dictionary`.\n",
    "- Packing can happen in different ways:\n",
    "  - **Using `*args`**: Collects all positional arguments into a `tuple`.\n",
    "  - **Using `**kwargs`**: Collects all keyword arguments into a `dictionary`.\n",
    "  - **Direct Assignment**: Multiple values can also be packed into a single variable, like packing values into a `tuple` or `list`."
   ]
  },
  {
   "cell_type": "markdown",
   "metadata": {},
   "source": [
    "###  Packing in Assignment (Tuples and Lists)"
   ]
  },
  {
   "cell_type": "code",
   "execution_count": 2,
   "metadata": {},
   "outputs": [
    {
     "name": "stdout",
     "output_type": "stream",
     "text": [
      "(1, 2, 3, 4)\n"
     ]
    }
   ],
   "source": [
    "packed_tuple = 1, 2, 3, 4\n",
    "\n",
    "# log\n",
    "print(packed_tuple)"
   ]
  },
  {
   "cell_type": "code",
   "execution_count": 1,
   "metadata": {},
   "outputs": [
    {
     "name": "stdout",
     "output_type": "stream",
     "text": [
      "[1, 2, 3, 4, 5]\n"
     ]
    }
   ],
   "source": [
    "packed_list = [1, 2, 3, 4, 5]\n",
    "\n",
    "# log\n",
    "print(packed_list)"
   ]
  },
  {
   "cell_type": "markdown",
   "metadata": {},
   "source": [
    "### Packing in Functions (`*args` and `**kwargs`)"
   ]
  },
  {
   "cell_type": "code",
   "execution_count": 6,
   "metadata": {},
   "outputs": [
    {
     "name": "stdout",
     "output_type": "stream",
     "text": [
      "args       : (1, 2, 3)\n",
      "type(args) : <class 'tuple'>\n"
     ]
    }
   ],
   "source": [
    "def pack_args(*args):\n",
    "    print(f\"args       : {args}\")\n",
    "    print(f\"type(args) : {type(args)}\")\n",
    "\n",
    "pack_args(1, 2, 3)"
   ]
  },
  {
   "cell_type": "code",
   "execution_count": 7,
   "metadata": {},
   "outputs": [
    {
     "name": "stdout",
     "output_type": "stream",
     "text": [
      "kwargs       : {'a': 1, 'b': 2, 'c': 3}\n",
      "type(kwargs) : <class 'dict'>\n"
     ]
    }
   ],
   "source": [
    "def pack_kwargs(**kwargs):\n",
    "    print(f\"kwargs       : {kwargs}\")\n",
    "    print(f\"type(kwargs) : {type(kwargs)}\")\n",
    "\n",
    "# log\n",
    "pack_kwargs(a=1, b=2, c=3)"
   ]
  },
  {
   "cell_type": "markdown",
   "metadata": {},
   "source": [
    "### Packing in Function Return Values"
   ]
  },
  {
   "cell_type": "code",
   "execution_count": 8,
   "metadata": {},
   "outputs": [
    {
     "name": "stdout",
     "output_type": "stream",
     "text": [
      "(1, 2, 3)\n"
     ]
    }
   ],
   "source": [
    "def pack_return():\n",
    "    return 1, 2, 3\n",
    "\n",
    "result = pack_return()\n",
    "\n",
    "# log\n",
    "print(result)"
   ]
  },
  {
   "cell_type": "markdown",
   "metadata": {},
   "source": [
    "### Packing with List Comprehensions"
   ]
  },
  {
   "cell_type": "code",
   "execution_count": 9,
   "metadata": {},
   "outputs": [
    {
     "name": "stdout",
     "output_type": "stream",
     "text": [
      "[0, 1, 2, 3, 4]\n"
     ]
    }
   ],
   "source": [
    "packed_list = [x for x in range(5)]\n",
    "\n",
    "# log\n",
    "print(packed_list)"
   ]
  },
  {
   "cell_type": "markdown",
   "metadata": {},
   "source": [
    "### Packing in Loops"
   ]
  },
  {
   "cell_type": "code",
   "execution_count": 11,
   "metadata": {},
   "outputs": [
    {
     "name": "stdout",
     "output_type": "stream",
     "text": [
      "[1, 2] 3\n",
      "[4, 5] 6\n",
      "[7, 8] 9\n"
     ]
    }
   ],
   "source": [
    "pairs = [(1, 2, 3), (4, 5, 6), (7, 8, 9)]\n",
    "for *packed, last in pairs:\n",
    "    print(packed, last)"
   ]
  },
  {
   "cell_type": "markdown",
   "metadata": {},
   "source": [
    "### Packing in Dictionary Merging"
   ]
  },
  {
   "cell_type": "code",
   "execution_count": 12,
   "metadata": {},
   "outputs": [
    {
     "name": "stdout",
     "output_type": "stream",
     "text": [
      "{'a': 1, 'b': 2, 'c': 3, 'd': 4}\n"
     ]
    }
   ],
   "source": [
    "dict1 = {\"a\": 1, \"b\": 2}\n",
    "dict2 = {\"c\": 3, \"d\": 4}\n",
    "\n",
    "# unpacking two dictionaries and pack it together\n",
    "packed_dict = {**dict1, **dict2}\n",
    "print(packed_dict)"
   ]
  },
  {
   "cell_type": "markdown",
   "metadata": {},
   "source": [
    "### Packing Arbitrary Number of Variables into a List"
   ]
  },
  {
   "cell_type": "code",
   "execution_count": 13,
   "metadata": {},
   "outputs": [
    {
     "name": "stdout",
     "output_type": "stream",
     "text": [
      "[2, 3, 4]\n"
     ]
    }
   ],
   "source": [
    "a, *b = 1, 2, 3, 4\n",
    "\n",
    "# log\n",
    "print(b)"
   ]
  },
  {
   "cell_type": "markdown",
   "metadata": {},
   "source": [
    "## Unpacking [Extracting Values from a Collection]\n",
    "- Unpacking allows you to assign elements from a collection (like a `tuple`, `list`, or `dictionary`) to individual variables.\n",
    "- Python supports unpacking with the `*` and `**` operators:\n",
    "  - **Using `*`**: Can unpack elements from a list/tuple, and collect remaining elements into a list.\n",
    "  - **Using `**`**: Unpacks key-value pairs from a dictionary into named arguments in function calls."
   ]
  },
  {
   "cell_type": "markdown",
   "metadata": {},
   "source": [
    "### Unpacking in Assignment (Tuples and Lists)"
   ]
  },
  {
   "cell_type": "code",
   "execution_count": 14,
   "metadata": {},
   "outputs": [
    {
     "name": "stdout",
     "output_type": "stream",
     "text": [
      "1 2 3\n"
     ]
    }
   ],
   "source": [
    "packed_tuple = (1, 2, 3)\n",
    "a, b, c = packed_tuple\n",
    "\n",
    "# log\n",
    "print(a, b, c)"
   ]
  },
  {
   "cell_type": "code",
   "execution_count": 15,
   "metadata": {},
   "outputs": [
    {
     "name": "stdout",
     "output_type": "stream",
     "text": [
      "1 2 3 4\n"
     ]
    }
   ],
   "source": [
    "packed_list = [1, 2, 3, 4]\n",
    "a, b, c, d = packed_list\n",
    "\n",
    "# log\n",
    "print(a, b, c, d)"
   ]
  },
  {
   "cell_type": "markdown",
   "metadata": {},
   "source": [
    "### Unpacking in Functions (Passing Arguments)"
   ]
  },
  {
   "cell_type": "code",
   "execution_count": 16,
   "metadata": {},
   "outputs": [
    {
     "name": "stdout",
     "output_type": "stream",
     "text": [
      "6\n"
     ]
    }
   ],
   "source": [
    "def add(a, b, c):\n",
    "    return a + b + c\n",
    "\n",
    "values = [1, 2, 3]\n",
    "result = add(*values)\n",
    "\n",
    "# log\n",
    "print(result)"
   ]
  },
  {
   "cell_type": "code",
   "execution_count": 17,
   "metadata": {},
   "outputs": [
    {
     "name": "stdout",
     "output_type": "stream",
     "text": [
      "Hello, Alice. You are 25 years old.\n"
     ]
    }
   ],
   "source": [
    "def greet(name, age):\n",
    "    print(f\"Hello, {name}. You are {age} years old.\")\n",
    "\n",
    "person = {\"name\": \"Alice\", \"age\": 25}\n",
    "\n",
    "# log\n",
    "greet(**person)"
   ]
  },
  {
   "cell_type": "markdown",
   "metadata": {},
   "source": [
    "### Unpacking Function Return Values"
   ]
  },
  {
   "cell_type": "code",
   "execution_count": 18,
   "metadata": {},
   "outputs": [
    {
     "name": "stdout",
     "output_type": "stream",
     "text": [
      "1 2 3\n"
     ]
    }
   ],
   "source": [
    "def return_values():\n",
    "    return 1, 2, 3\n",
    "\n",
    "a, b, c = return_values()\n",
    "\n",
    "# log\n",
    "print(a, b, c)"
   ]
  },
  {
   "cell_type": "markdown",
   "metadata": {},
   "source": [
    "### Unpacking in Loops"
   ]
  },
  {
   "cell_type": "code",
   "execution_count": 22,
   "metadata": {},
   "outputs": [
    {
     "name": "stdout",
     "output_type": "stream",
     "text": [
      "1 2\n",
      "3 4\n",
      "5 6\n"
     ]
    }
   ],
   "source": [
    "pairs = [(1, 2), (3, 4), (5, 6)]\n",
    "for a, b in pairs:\n",
    "    print(a, b)"
   ]
  },
  {
   "cell_type": "markdown",
   "metadata": {},
   "source": [
    "### Unpacking with `*` Operator (Extended Unpacking)"
   ]
  },
  {
   "cell_type": "code",
   "execution_count": 23,
   "metadata": {},
   "outputs": [
    {
     "name": "stdout",
     "output_type": "stream",
     "text": [
      "1\n",
      "[2, 3, 4]\n",
      "5\n"
     ]
    }
   ],
   "source": [
    "numbers = [1, 2, 3, 4, 5]\n",
    "a, *rest, b = numbers\n",
    "\n",
    "# log\n",
    "print(a)\n",
    "print(rest)\n",
    "print(b)"
   ]
  },
  {
   "cell_type": "markdown",
   "metadata": {},
   "source": [
    "### Unpacking Nested Data Structures"
   ]
  },
  {
   "cell_type": "code",
   "execution_count": 24,
   "metadata": {},
   "outputs": [
    {
     "name": "stdout",
     "output_type": "stream",
     "text": [
      "1 2 3 4\n"
     ]
    }
   ],
   "source": [
    "nested_tuple = (1, (2, 3), 4)\n",
    "a, (b, c), d = nested_tuple\n",
    "\n",
    "# log\n",
    "print(a, b, c, d)"
   ]
  },
  {
   "cell_type": "markdown",
   "metadata": {},
   "source": [
    "### Unpacking for Multiple Assignment"
   ]
  },
  {
   "cell_type": "code",
   "execution_count": 25,
   "metadata": {},
   "outputs": [
    {
     "name": "stdout",
     "output_type": "stream",
     "text": [
      "1 2 3\n"
     ]
    }
   ],
   "source": [
    "a, b, c = 1, 2, 3\n",
    "\n",
    "# log\n",
    "print(a, b, c)"
   ]
  },
  {
   "cell_type": "markdown",
   "metadata": {},
   "source": [
    "### Dictionary Unpacking with `**` Operator"
   ]
  },
  {
   "cell_type": "code",
   "execution_count": 26,
   "metadata": {},
   "outputs": [
    {
     "name": "stdout",
     "output_type": "stream",
     "text": [
      "{'a': 1, 'b': 2, 'c': 3, 'd': 4}\n"
     ]
    }
   ],
   "source": [
    "dict1 = {\"a\": 1, \"b\": 2}\n",
    "dict2 = {\"c\": 3, \"d\": 4}\n",
    "\n",
    "merged_dict = {**dict1, **dict2}\n",
    "\n",
    "# log\n",
    "print(merged_dict)"
   ]
  }
 ],
 "metadata": {
  "author_name": "Amirhossein Heydari",
  "author_email": "AmirhosseinHeydari78@gmail.com",
  "author_github": "https://github.com/mr-pylin",
  "origin_repo": "https://github.com/mr-pylin/python-workshop",
  "kernelspec": {
   "display_name": "Python 3",
   "language": "python",
   "name": "python3"
  },
  "language_info": {
   "codemirror_mode": {
    "name": "ipython",
    "version": 3
   },
   "file_extension": ".py",
   "mimetype": "text/x-python",
   "name": "python",
   "nbconvert_exporter": "python",
   "pygments_lexer": "ipython3",
   "version": "3.12.3"
  }
 },
 "nbformat": 4,
 "nbformat_minor": 2
}
