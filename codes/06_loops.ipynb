{
 "cells": [
  {
   "cell_type": "markdown",
   "metadata": {},
   "source": [
    "📝 **Author:** Amirhossein Heydari - 📧 **Email:** AmirhosseinHeydari78@gmail.com - 📍 **Linktree:** [linktr.ee/mr_pylin](https://linktr.ee/mr_pylin)\n",
    "\n",
    "---"
   ]
  },
  {
   "cell_type": "markdown",
   "metadata": {},
   "source": [
    "# Loops\n",
    "Loops in Python allow you to execute a block of code repeatedly, either `for` a specific number of iterations or `while` a condition remains true.\n",
    "\n",
    "Python supports two main types of loops:\n",
    "\n",
    "   - `for` loop: Iterates over a sequence of elements.\n",
    "   - `while` loop: Repeats as long as a specified condition is `True`.\n",
    "\n",
    "---\n",
    "\n",
    "📝 **Docs**:\n",
    "   - `for` Loops: [docs.python.org/3/tutorial/controlflow.html#for-statements](https://docs.python.org/3/tutorial/controlflow.html#for-statements)\n",
    "   - `while` Loops: [docs.python.org/3/tutorial/controlflow.html#while-statements](https://docs.python.org/3/tutorial/controlflow.html#while-statements)\n",
    "   - `break`, `continue`, `else` clauses: [docs.python.org/3/tutorial/controlflow.html#break-and-continue-statements-and-else-clauses-on-loops](https://docs.python.org/3/tutorial/controlflow.html#break-and-continue-statements-and-else-clauses-on-loops)\n",
    "   - Compound statements:\n",
    "      - [docs.python.org/3/reference/compound_stmts.html#the-for-statement](https://docs.python.org/3/reference/compound_stmts.html#the-for-statement)\n",
    "      - [docs.python.org/3/reference/compound_stmts.html#the-while-statement](https://docs.python.org/3/reference/compound_stmts.html#the-while-statement)\n"
   ]
  },
  {
   "cell_type": "markdown",
   "metadata": {},
   "source": [
    "## `for` Loops\n",
    "   - A `for` loop is used to iterate over an iterable (e.g., `list`, `tuple`, `string`, or `range`) and execute a block of code for each element.\n",
    "\n",
    "<figure style=\"text-align: center;\">\n",
    "    <img src=\"../assets/images/SVGs/loop-for.svg\" alt=\"loop-for.svg\" style=\"width: 75%;\">\n",
    "    <figcaption>for statement</figcaption>\n",
    "</figure>"
   ]
  },
  {
   "cell_type": "code",
   "execution_count": null,
   "metadata": {},
   "outputs": [],
   "source": [
    "# iterating over a list of numbers\n",
    "numbers = [1, 2, 3, 4, 5]\n",
    "\n",
    "for num in numbers:\n",
    "    print(num)"
   ]
  },
  {
   "cell_type": "code",
   "execution_count": null,
   "metadata": {},
   "outputs": [],
   "source": [
    "# using range() to iterate over a sequence of numbers\n",
    "for i in range(5):\n",
    "    print(\"iteration:\", i)"
   ]
  },
  {
   "cell_type": "code",
   "execution_count": null,
   "metadata": {},
   "outputs": [],
   "source": [
    "# iterating over characters in a string\n",
    "message = \"Hello\"\n",
    "\n",
    "for char in message:\n",
    "    print(char)"
   ]
  },
  {
   "cell_type": "code",
   "execution_count": 1,
   "metadata": {},
   "outputs": [
    {
     "name": "stdout",
     "output_type": "stream",
     "text": [
      "('Alice', 90)\n",
      "('Bob', 85)\n",
      "('Charlie', 88)\n"
     ]
    }
   ],
   "source": [
    "# iterating over a dictionary\n",
    "student_scores = {\"Alice\": 90, \"Bob\": 85, \"Charlie\": 88}\n",
    "\n",
    "for dct in student_scores.items():\n",
    "    print(dct)"
   ]
  },
  {
   "cell_type": "code",
   "execution_count": 2,
   "metadata": {},
   "outputs": [
    {
     "name": "stdout",
     "output_type": "stream",
     "text": [
      "Alice scored 90\n",
      "Bob scored 85\n",
      "Charlie scored 88\n"
     ]
    }
   ],
   "source": [
    "# iterating over dictionary keys and values\n",
    "student_scores = {\"Alice\": 90, \"Bob\": 85, \"Charlie\": 88}\n",
    "\n",
    "for student, score in student_scores.items():\n",
    "    print(f\"{student} scored {score}\")"
   ]
  },
  {
   "cell_type": "code",
   "execution_count": 4,
   "metadata": {},
   "outputs": [
    {
     "name": "stdout",
     "output_type": "stream",
     "text": [
      "[1, 2, 3]\n",
      "[4, 5, 6]\n",
      "[7, 8, 9]\n"
     ]
    }
   ],
   "source": [
    "# iterate over a matrix (2D list)\n",
    "matrix = [\n",
    "    [1, 2, 3],\n",
    "    [4, 5, 6],\n",
    "    [7, 8, 9]\n",
    "]\n",
    "\n",
    "for row in matrix:\n",
    "    print(row)"
   ]
  },
  {
   "cell_type": "code",
   "execution_count": 5,
   "metadata": {},
   "outputs": [
    {
     "name": "stdout",
     "output_type": "stream",
     "text": [
      "1 2 3 \n",
      "4 5 6 \n",
      "7 8 9 \n"
     ]
    }
   ],
   "source": [
    "# nested for loops to iterate over a matrix (2D list)\n",
    "matrix = [\n",
    "    [1, 2, 3],\n",
    "    [4, 5, 6],\n",
    "    [7, 8, 9]\n",
    "]\n",
    "\n",
    "for row in matrix:\n",
    "    for element in row:\n",
    "        print(element, end=' ')\n",
    "    print()  # to add a new line after each row"
   ]
  },
  {
   "cell_type": "code",
   "execution_count": 6,
   "metadata": {},
   "outputs": [
    {
     "name": "stdout",
     "output_type": "stream",
     "text": [
      "[0, 1, 4, 9, 16, 25]\n"
     ]
    }
   ],
   "source": [
    "# using list comprehension to create a list of squares\n",
    "squares = [x**2 for x in range(6)]\n",
    "print(squares)"
   ]
  },
  {
   "cell_type": "code",
   "execution_count": null,
   "metadata": {},
   "outputs": [],
   "source": [
    "# using enumerate() to get the index along with the value\n",
    "colors = [\"red\", \"green\", \"blue\"]\n",
    "\n",
    "for index, color in enumerate(colors):\n",
    "    print(f\"color {index + 1}: {color}\")\n"
   ]
  },
  {
   "cell_type": "markdown",
   "metadata": {},
   "source": [
    "### How `for` Loop Works\n",
    "   - **Creates an Iterator**\n",
    "      - `for` loop first converts the *iterable* (like a `list`, `tuple`, etc.) into an *iterator* object using the `iter()` function.\n",
    "      - An *iterator* is an object that implements the iterator protocol, which consists of the methods `__iter__()` and `__next__()`.\n",
    "   - **Calls `next()` on the Iterator**\n",
    "      - The loop then repeatedly calls the `next()` function on the iterator to get the next item in the sequence.\n",
    "      - When there are no more items to retrieve, `StopIteration` exception is raised, signaling that the loop should stop.\n",
    "\n",
    "✍️ **Notes**:\n",
    "   - The `for` loop in Python doesn’t explicitly use a `while` loop with a `try-except` block internally.\n",
    "   - Python's internal mechanism for `for` loops is more optimized than a simple `while` loop with exception handling."
   ]
  },
  {
   "cell_type": "code",
   "execution_count": 1,
   "metadata": {},
   "outputs": [],
   "source": [
    "fruits = [\"apple\", \"banana\", \"cherry\"]"
   ]
  },
  {
   "cell_type": "code",
   "execution_count": 2,
   "metadata": {},
   "outputs": [
    {
     "name": "stdout",
     "output_type": "stream",
     "text": [
      "apple\n",
      "banana\n",
      "cherry\n"
     ]
    }
   ],
   "source": [
    "for fruit in fruits:\n",
    "    print(fruit)"
   ]
  },
  {
   "cell_type": "code",
   "execution_count": 3,
   "metadata": {},
   "outputs": [
    {
     "name": "stdout",
     "output_type": "stream",
     "text": [
      "apple\n",
      "banana\n",
      "cherry\n"
     ]
    }
   ],
   "source": [
    "# implementing the same logic as above\n",
    "iterator = iter(fruits)\n",
    "while True:\n",
    "    try:\n",
    "        fruit = next(iterator)  # get the next item from the iterator\n",
    "        print(fruit)\n",
    "    except StopIteration:\n",
    "        break  # when StopIteration is raised, break out of the loop"
   ]
  },
  {
   "cell_type": "markdown",
   "metadata": {},
   "source": [
    "## `while` Loops\n",
    "   - A `while` loop repeats a block of code as long as the specified condition is `True`.\n",
    "\n",
    "<figure style=\"text-align: center;\">\n",
    "    <img src=\"../assets/images/SVGs/loop-while.svg\" alt=\"loop-while.svg\" style=\"width: 75%;\">\n",
    "    <figcaption>while statement</figcaption>\n",
    "</figure>"
   ]
  },
  {
   "cell_type": "code",
   "execution_count": 7,
   "metadata": {},
   "outputs": [
    {
     "name": "stdout",
     "output_type": "stream",
     "text": [
      "Counter: 0\n",
      "Counter: 1\n",
      "Counter: 2\n",
      "Counter: 3\n",
      "Counter: 4\n"
     ]
    }
   ],
   "source": [
    "# simple while loop that runs as long as a condition is true\n",
    "counter = 0\n",
    "\n",
    "while counter < 5:\n",
    "    print(f\"counter: {counter}\")\n",
    "    counter += 1"
   ]
  },
  {
   "cell_type": "code",
   "execution_count": null,
   "metadata": {},
   "outputs": [],
   "source": [
    "# while loop to repeatedly ask for valid input\n",
    "user_input = \"\"\n",
    "\n",
    "while user_input.lower() != \"exit\":\n",
    "    user_input = input(\"type 'exit' to stop the loop: \")\n",
    "    print(f\"you typed: {user_input}\")"
   ]
  },
  {
   "cell_type": "code",
   "execution_count": 1,
   "metadata": {},
   "outputs": [
    {
     "name": "stdout",
     "output_type": "stream",
     "text": [
      "Counting down: 5\n",
      "Counting down: 4\n",
      "Counting down: 3\n",
      "Counting down: 2\n",
      "Counting down: 1\n",
      "Blast off!\n"
     ]
    }
   ],
   "source": [
    "# countdown using a while loop\n",
    "count = 5\n",
    "\n",
    "while count > 0:\n",
    "    print(f\"counting down: {count}\")\n",
    "    count -= 1\n",
    "print(\"blast off!\")"
   ]
  },
  {
   "cell_type": "code",
   "execution_count": null,
   "metadata": {},
   "outputs": [],
   "source": [
    "# summing numbers until the user enters 0\n",
    "total = 0\n",
    "number = int(input(\"enter a number (0 to stop): \"))\n",
    "\n",
    "while number != 0:\n",
    "    total += number\n",
    "    number = int(input(\"enter a number (0 to stop): \"))\n",
    "\n",
    "print(f\"the total sum is: {total}\")"
   ]
  },
  {
   "cell_type": "code",
   "execution_count": null,
   "metadata": {},
   "outputs": [],
   "source": [
    "# calculating the factorial of a number\n",
    "number = 5\n",
    "factorial = 1\n",
    "\n",
    "while number > 0:\n",
    "    factorial *= number\n",
    "    number -= 1\n",
    "\n",
    "print(f\"the factorial is: {factorial}\")"
   ]
  },
  {
   "cell_type": "markdown",
   "metadata": {},
   "source": [
    "## More Advanced Loops"
   ]
  },
  {
   "cell_type": "markdown",
   "metadata": {},
   "source": [
    "### `break` Statement\n",
    "   - The `break` statement is used to exit a loop prematurely, regardless of whether the loop condition is still true. It can be used in both `for` and `while` loops.\n",
    "\n",
    "<figure style=\"text-align: center;\">\n",
    "    <img src=\"../assets/images/SVGs/loop-break.svg\" alt=\"loop-break.svg\" style=\"width: 75%;\">\n",
    "    <figcaption>break a loop</figcaption>\n",
    "</figure>"
   ]
  },
  {
   "cell_type": "code",
   "execution_count": null,
   "metadata": {},
   "outputs": [],
   "source": [
    "# exit the loop when a certain condition is met\n",
    "for i in range(10):\n",
    "    if i == 5:\n",
    "        break  # exit the loop when i == 5\n",
    "    print(i)"
   ]
  },
  {
   "cell_type": "code",
   "execution_count": null,
   "metadata": {},
   "outputs": [],
   "source": [
    "# exit the loop when a condition is met\n",
    "i = 0\n",
    "while i < 10:\n",
    "    if i == 5:\n",
    "        break  # exit the loop when i == 5\n",
    "    print(i)\n",
    "    i += 1"
   ]
  },
  {
   "cell_type": "markdown",
   "metadata": {},
   "source": [
    "### `continue` Statement\n",
    "The `continue` statement is used to skip the current iteration of the loop and move to the next one, without exiting the loop entirely.\n",
    "\n",
    "<figure style=\"text-align: center;\">\n",
    "    <img src=\"../assets/images/SVGs/loop-continue.svg\" alt=\"loop-continue.svg\" style=\"width: 75%;\">\n",
    "    <figcaption>continue a loop</figcaption>\n",
    "</figure>"
   ]
  },
  {
   "cell_type": "code",
   "execution_count": null,
   "metadata": {},
   "outputs": [],
   "source": [
    "# skip the current iteration when a condition is met\n",
    "for i in range(5):\n",
    "    if i == 3:\n",
    "        continue  # skip the iteration when i == 3\n",
    "    print(i)"
   ]
  },
  {
   "cell_type": "code",
   "execution_count": null,
   "metadata": {},
   "outputs": [],
   "source": [
    "# skip the current iteration when a condition is met\n",
    "i = 0\n",
    "while i < 5:\n",
    "    i += 1\n",
    "    if i == 3:\n",
    "        continue  # skip the rest of the loop when i == 3\n",
    "    print(i)"
   ]
  },
  {
   "cell_type": "markdown",
   "metadata": {},
   "source": [
    "### `break` and `continue` Statement"
   ]
  },
  {
   "cell_type": "code",
   "execution_count": null,
   "metadata": {},
   "outputs": [],
   "source": [
    "# skip the iteration when i equals 2, but break the loop at 4\n",
    "for i in range(6):\n",
    "    if i == 2:\n",
    "        continue  # skip the iteration when i == 2\n",
    "    if i == 4:\n",
    "        break  # exit the loop when i == 4\n",
    "    print(i)"
   ]
  },
  {
   "cell_type": "code",
   "execution_count": null,
   "metadata": {},
   "outputs": [],
   "source": [
    "# skip the iteration when i equals 2, but break the loop at 4\n",
    "i = 0\n",
    "while i < 6:\n",
    "    i += 1\n",
    "    if i == 2:\n",
    "        continue  # skip the iteration when i equals 2\n",
    "    if i == 4:\n",
    "        break  # exit the loop when i equals 4\n",
    "    print(i)\n"
   ]
  },
  {
   "cell_type": "markdown",
   "metadata": {},
   "source": [
    "### `else` Clause in Loops\n",
    "   - In Python, loops can have an optional `else` clause. The `else` block is executed when the loop completes normally (i.e., it doesn't exit due to a `break` statement).\n",
    "\n",
    "<figure style=\"text-align: center;\">\n",
    "    <img src=\"../assets/images/SVGs/loop-else.svg\" alt=\"loop-else.svg\" style=\"width: 75%;\">\n",
    "    <figcaption>else statement</figcaption>\n",
    "</figure>"
   ]
  },
  {
   "cell_type": "code",
   "execution_count": null,
   "metadata": {},
   "outputs": [],
   "source": [
    "for i in range(7):\n",
    "    if i == 2:\n",
    "        continue  # skip iteration when i == 2\n",
    "    if i == 5:\n",
    "        break  # exit loop when i == 5\n",
    "    print(f\"i = {i}\")\n",
    "else:\n",
    "    print(\"Loop completed without break\")"
   ]
  },
  {
   "cell_type": "code",
   "execution_count": null,
   "metadata": {},
   "outputs": [],
   "source": [
    "i = 0\n",
    "while i < 7:\n",
    "    i += 1\n",
    "    if i == 3:\n",
    "        continue  # skip iteration when i == 3\n",
    "    if i == 6:\n",
    "        break  # exit loop when i == 6\n",
    "    print(f\"i = {i}\")\n",
    "else:\n",
    "    print(\"Loop completed without break\")"
   ]
  },
  {
   "cell_type": "markdown",
   "metadata": {},
   "source": [
    "## More Examples"
   ]
  },
  {
   "cell_type": "code",
   "execution_count": null,
   "metadata": {},
   "outputs": [],
   "source": [
    "# using a while loop to find the first even number\n",
    "numbers = [1, 3, 5, 8, 11, 14]\n",
    "index = 0\n",
    "\n",
    "while index < len(numbers):\n",
    "    if numbers[index] % 2 == 0:\n",
    "        print(f\"first even number is: {numbers[index]}\")\n",
    "        break  # Exit loop when the first even number is found\n",
    "    index += 1"
   ]
  },
  {
   "cell_type": "code",
   "execution_count": null,
   "metadata": {},
   "outputs": [],
   "source": [
    "# simulating a simple password check with limited attempts\n",
    "password = \"python123\"\n",
    "attempts = 3\n",
    "\n",
    "while attempts > 0:\n",
    "    user_input = input(\"enter password: \")\n",
    "    if user_input == password:\n",
    "        print(\"access granted!\")\n",
    "        break\n",
    "    else:\n",
    "        attempts -= 1\n",
    "        print(f\"incorrect! You have {attempts} attempts left.\")\n",
    "else:\n",
    "    print(\"access denied. No attempts left.\")"
   ]
  },
  {
   "cell_type": "markdown",
   "metadata": {},
   "source": [
    "## Summary\n",
    "   - `for` Loops: Ideal for iterating over sequences.\n",
    "   - `while` Loops: Useful when the number of iterations depends on a condition.\n",
    "   - `break`: Exits a loop prematurely.\n",
    "   - `continue`: Skips the current iteration and continues with the next one.\n",
    "   - `else` Clauses on Loops: Executed when the loop completes normally, but skipped if the loop exits via break."
   ]
  }
 ],
 "metadata": {
  "kernelspec": {
   "display_name": "Python 3",
   "language": "python",
   "name": "python3"
  },
  "language_info": {
   "codemirror_mode": {
    "name": "ipython",
    "version": 3
   },
   "file_extension": ".py",
   "mimetype": "text/x-python",
   "name": "python",
   "nbconvert_exporter": "python",
   "pygments_lexer": "ipython3",
   "version": "3.12.3"
  }
 },
 "nbformat": 4,
 "nbformat_minor": 2
}
