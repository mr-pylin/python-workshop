{
 "cells": [
  {
   "cell_type": "markdown",
   "metadata": {},
   "source": [
    "📝 **Author:** Amirhossein Heydari - 📧 **Email:** AmirhosseinHeydari78@gmail.com - 📍 **Linktree:** [linktr.ee/mr_pylin](https://linktr.ee/mr_pylin)\n",
    "\n",
    "---"
   ]
  },
  {
   "cell_type": "markdown",
   "metadata": {},
   "source": [
    "# Comprehensions\n",
    "   - Comprehensions provide a concise way to create lists, dictionaries, sets, or even generators using an elegant syntax.\n",
    "   - They allow us to replace traditional loops with a single line that is both readable and efficient.\n",
    "\n",
    "❓ **Why Use Comprehensions?**\n",
    "   - **Conciseness**: They allow you to write code in a single line instead of multiple loops.\n",
    "   - **Readability**: A well-structured comprehension can be easier to understand than a loop with nested conditions.\n",
    "   - **Performance**: Comprehensions are optimized for performance and can be more efficient in terms of both time and space than equivalent loops.\n",
    "\n",
    "✍️ **Tips and Tricks**:\n",
    "   - Avoid overly complex comprehensions\n",
    "      - They can become unreadable if you try to fit too much logic into a single line.\n",
    "      - In those cases, it's better to use traditional `for` loops for clarity.\n",
    "   - Use comprehensions for small-to-medium sized data\n",
    "      - Comprehensions create a list in memory.\n",
    "      - If you're working with very large datasets, consider using `generator` expressions instead for better memory efficiency.\n",
    "\n",
    "📝 **Docs**:\n",
    "   - List Comprehensions: [docs.python.org/3/tutorial/datastructures.html#list-comprehensions](https://docs.python.org/3/tutorial/datastructures.html#list-comprehensions)\n",
    "   - Nested List Comprehensions: [docs.python.org/3/tutorial/datastructures.html#nested-list-comprehensions](https://docs.python.org/3/tutorial/datastructures.html#nested-list-comprehensions)\n",
    "   - Generator expressions: [docs.python.org/3/reference/expressions.html#generator-expressions](https://docs.python.org/3/reference/expressions.html#generator-expressions)\n",
    "   - Displays for lists, sets and dictionaries: [docs.python.org/3/reference/expressions.html#displays-for-lists-sets-and-dictionaries](https://docs.python.org/3/reference/expressions.html#displays-for-lists-sets-and-dictionaries)\n",
    "\n",
    "🐍 **PEP**:\n",
    "   - List Comprehensions [[PEP 202](https://peps.python.org/pep-0202/)]\n",
    "   - Inlined comprehensions [[PEP 709](https://peps.python.org/pep-0709/)]"
   ]
  },
  {
   "cell_type": "markdown",
   "metadata": {},
   "source": [
    "## List Comprehensions"
   ]
  },
  {
   "cell_type": "markdown",
   "metadata": {},
   "source": [
    "### Simple List Comprehension\n",
    "\n",
    "**Syntax**:\n",
    "```python\n",
    "    [expression for item in iterable]\n",
    "```"
   ]
  },
  {
   "cell_type": "code",
   "execution_count": 16,
   "metadata": {},
   "outputs": [
    {
     "name": "stdout",
     "output_type": "stream",
     "text": [
      "squares : [0, 1, 4, 9, 16, 25, 36, 49, 64, 81]\n"
     ]
    }
   ],
   "source": [
    "squares = [x**2 for x in range(10)]\n",
    "\n",
    "# log\n",
    "print(f\"squares : {squares}\")"
   ]
  },
  {
   "cell_type": "markdown",
   "metadata": {},
   "source": [
    "### List Comprehension With If Condition\n",
    "\n",
    "**Syntax**:\n",
    "```python\n",
    "    [expression for item in iterable if condition]\n",
    "```"
   ]
  },
  {
   "cell_type": "code",
   "execution_count": 17,
   "metadata": {},
   "outputs": [
    {
     "name": "stdout",
     "output_type": "stream",
     "text": [
      "[0, 4, 16, 36, 64]\n"
     ]
    }
   ],
   "source": [
    "even_squares = [x**2 for x in range(10) if x % 2 == 0]\n",
    "\n",
    "# log\n",
    "print(even_squares)"
   ]
  },
  {
   "cell_type": "markdown",
   "metadata": {},
   "source": [
    "### List Comprehension With If-Else Condition\n",
    "**Syntax**:\n",
    "```python\n",
    "    [expression_if_true if condition else expression_if_false for item in iterable]\n",
    "```"
   ]
  },
  {
   "cell_type": "code",
   "execution_count": 18,
   "metadata": {},
   "outputs": [
    {
     "name": "stdout",
     "output_type": "stream",
     "text": [
      "[0, -1, 4, -3, 16, -5, 36, -7, 64, -9]\n"
     ]
    }
   ],
   "source": [
    "squares_or_negatives = [x**2 if x % 2 == 0 else -x for x in range(10)]\n",
    "\n",
    "# log\n",
    "print(squares_or_negatives)"
   ]
  },
  {
   "cell_type": "markdown",
   "metadata": {},
   "source": [
    "### Nested List Comprehension"
   ]
  },
  {
   "cell_type": "code",
   "execution_count": 19,
   "metadata": {},
   "outputs": [
    {
     "name": "stdout",
     "output_type": "stream",
     "text": [
      "[1, 2, 3, 4, 5, 6, 7, 8, 9]\n"
     ]
    }
   ],
   "source": [
    "matrix = [[1, 2, 3], [4, 5, 6], [7, 8, 9]]\n",
    "flat_list = [num for row in matrix for num in row]\n",
    "\n",
    "# log\n",
    "print(flat_list)"
   ]
  },
  {
   "cell_type": "markdown",
   "metadata": {},
   "source": [
    "## Set Comprehensions\n",
    "Same as List Comprehension but using `{}` rather than `[]`."
   ]
  },
  {
   "cell_type": "code",
   "execution_count": 20,
   "metadata": {},
   "outputs": [
    {
     "name": "stdout",
     "output_type": "stream",
     "text": [
      "{0, 1, 64, 4, 36, 9, 16, 49, 81, 25}\n"
     ]
    }
   ],
   "source": [
    "squares = {x**2 for x in range(10)}\n",
    "\n",
    "# log\n",
    "print(squares)"
   ]
  },
  {
   "cell_type": "code",
   "execution_count": 21,
   "metadata": {},
   "outputs": [
    {
     "name": "stdout",
     "output_type": "stream",
     "text": [
      "{'i', 'a', 'o', 'e', 'u'}\n"
     ]
    }
   ],
   "source": [
    "sentence = \"Python comprehensions are powerful\"\n",
    "vowels = {char for char in sentence.lower() if char in 'aeiou'}\n",
    "\n",
    "# log\n",
    "print(vowels)"
   ]
  },
  {
   "cell_type": "code",
   "execution_count": 22,
   "metadata": {},
   "outputs": [
    {
     "name": "stdout",
     "output_type": "stream",
     "text": [
      "{0, 64, 4, 36, 16, -9, -7, -5, -3, -1}\n"
     ]
    }
   ],
   "source": [
    "squares_or_negatives = {x**2 if x % 2 == 0 else -x for x in range(10)}\n",
    "\n",
    "# log\n",
    "print(squares_or_negatives)"
   ]
  },
  {
   "cell_type": "markdown",
   "metadata": {},
   "source": [
    "## Dictionary Comprehensions\n",
    "Same as List Comprehension but using `{}` rather than `[]`."
   ]
  },
  {
   "cell_type": "code",
   "execution_count": null,
   "metadata": {},
   "outputs": [],
   "source": [
    "original_dict = {'a': 1, 'b': 2, 'c': 3}\n",
    "reversed_dict = {v: k for k, v in original_dict.items()}\n",
    "\n",
    "# log\n",
    "print(reversed_dict)"
   ]
  },
  {
   "cell_type": "code",
   "execution_count": 27,
   "metadata": {},
   "outputs": [
    {
     "name": "stdout",
     "output_type": "stream",
     "text": [
      "{1: (1, 1), 2: (4, 8), 3: (9, 27), 4: (16, 64), 5: (25, 125)}\n"
     ]
    }
   ],
   "source": [
    "num_dict = {x: (x**2, x**3) for x in range(1, 6)}\n",
    "\n",
    "# log\n",
    "print(num_dict)"
   ]
  },
  {
   "cell_type": "code",
   "execution_count": 29,
   "metadata": {},
   "outputs": [
    {
     "name": "stdout",
     "output_type": "stream",
     "text": [
      "{0: 0, 2: 4, 4: 16, 6: 36, 8: 64}\n"
     ]
    }
   ],
   "source": [
    "even_squares = {x: x**2 for x in range(10) if x % 2 == 0}\n",
    "\n",
    "# log\n",
    "print(even_squares)"
   ]
  },
  {
   "cell_type": "code",
   "execution_count": 30,
   "metadata": {},
   "outputs": [
    {
     "name": "stdout",
     "output_type": "stream",
     "text": [
      "{0: 0, 1: None, 2: 4, 3: None, 4: 16, 5: None, 6: 36, 7: None, 8: 64, 9: None}\n"
     ]
    }
   ],
   "source": [
    "even_or_none = {x: x**2 if x % 2 == 0 else None for x in range(10)}\n",
    "\n",
    "# log\n",
    "print(even_or_none)"
   ]
  },
  {
   "cell_type": "code",
   "execution_count": 31,
   "metadata": {},
   "outputs": [
    {
     "name": "stdout",
     "output_type": "stream",
     "text": [
      "{0: {0: 0}, 1: {0: 0, 1: 1}, 2: {0: 0, 1: 1, 2: 4}}\n"
     ]
    }
   ],
   "source": [
    "nested_dict = {x: {y: y**2 for y in range(x+1)} for x in range(3)}\n",
    "\n",
    "# log\n",
    "print(nested_dict)"
   ]
  },
  {
   "cell_type": "markdown",
   "metadata": {},
   "source": [
    "## Generator Comprehensions\n",
    "   - Generator expressions provide a compact and memory-efficient way to generate items on the fly, one at a time, rather than storing them all in memory.\n",
    "   - Generators are typically used in a loop or with functions that consume iterators like `sum()`, `max()`, `min()`, etc.\n",
    "   - They are similar to list comprehensions but use `()` instead of `[]`.\n",
    "\n",
    "✍️ **Key Features**:\n",
    "   - Lazy Evaluation:\n",
    "      - Items are produced one at a time when requested, which makes generator expressions memory-efficient.\n",
    "      - This is ideal for large datasets or streams of data.\n",
    "   - No Intermediate Data Structure:\n",
    "      - Generator expressions don’t create the entire data in memory.\n",
    "      - They return an iterator-like object that produces values on demand.\n",
    "\n",
    "❓ **When to Use**:\n",
    "   - Large Data:\n",
    "      - When you're working with a large amount of data or data streams, use generator expressions to avoid loading everything into memory.\n",
    "   - Infinite Sequences:\n",
    "      - If the iterable has an unbounded size (e.g., an infinite sequence), use a generator expression since it can process items on-demand."
   ]
  },
  {
   "cell_type": "code",
   "execution_count": 37,
   "metadata": {},
   "outputs": [
    {
     "name": "stdout",
     "output_type": "stream",
     "text": [
      "gen : <generator object <genexpr> at 0x00000231B26D41E0>\n"
     ]
    }
   ],
   "source": [
    "gen = (x ** 2 for x in range(5))\n",
    "\n",
    "# log\n",
    "print(f\"gen : {gen}\")"
   ]
  },
  {
   "cell_type": "code",
   "execution_count": 38,
   "metadata": {},
   "outputs": [],
   "source": [
    "gen = (x ** 2 for x in range(5))\n",
    "\n",
    "# log\n",
    "for value in gen:\n",
    "    print(value)"
   ]
  },
  {
   "cell_type": "code",
   "execution_count": 44,
   "metadata": {},
   "outputs": [
    {
     "name": "stdout",
     "output_type": "stream",
     "text": [
      "0\n",
      "1\n",
      "4\n",
      "9\n",
      "16\n"
     ]
    }
   ],
   "source": [
    "gen = (x ** 2 for x in range(5))\n",
    "\n",
    "# manual iterating over an iterable\n",
    "print(next(gen))\n",
    "print(next(gen))\n",
    "print(next(gen))\n",
    "print(next(gen))\n",
    "print(next(gen))"
   ]
  },
  {
   "cell_type": "markdown",
   "metadata": {},
   "source": [
    "### Passing to Functions"
   ]
  },
  {
   "cell_type": "code",
   "execution_count": 45,
   "metadata": {},
   "outputs": [
    {
     "name": "stdout",
     "output_type": "stream",
     "text": [
      "45\n"
     ]
    }
   ],
   "source": [
    "total = sum(x for x in range(10))\n",
    "\n",
    "# log\n",
    "print(total)"
   ]
  },
  {
   "cell_type": "markdown",
   "metadata": {},
   "source": [
    "### Converting to Other Data Structures"
   ]
  },
  {
   "cell_type": "code",
   "execution_count": 46,
   "metadata": {},
   "outputs": [
    {
     "name": "stdout",
     "output_type": "stream",
     "text": [
      "<generator object <genexpr> at 0x00000231B271F920>\n",
      "[0, 1, 4, 9, 16]\n"
     ]
    }
   ],
   "source": [
    "gen = (x * x for x in range(5))\n",
    "list_gen = list(gen)\n",
    "\n",
    "# log\n",
    "print(gen)\n",
    "print(list_gen)"
   ]
  }
 ],
 "metadata": {
  "kernelspec": {
   "display_name": "Python 3",
   "language": "python",
   "name": "python3"
  },
  "language_info": {
   "codemirror_mode": {
    "name": "ipython",
    "version": 3
   },
   "file_extension": ".py",
   "mimetype": "text/x-python",
   "name": "python",
   "nbconvert_exporter": "python",
   "pygments_lexer": "ipython3",
   "version": "3.12.3"
  }
 },
 "nbformat": 4,
 "nbformat_minor": 2
}
