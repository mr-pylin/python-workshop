{
 "cells": [
  {
   "cell_type": "markdown",
   "metadata": {},
   "source": [
    "📝 **Author:** Amirhossein Heydari - 📧 **Email:** amirhosseinheydari78@gmail.com - 📍 **Linktree:** [linktr.ee/mr_pylin](https://linktr.ee/mr_pylin)\n",
    "\n",
    "---"
   ]
  },
  {
   "cell_type": "markdown",
   "metadata": {},
   "source": [
    "# Data Structures\n",
    "   - A data structure is a specialized format for organizing, processing, retrieving, and storing data."
   ]
  },
  {
   "cell_type": "markdown",
   "metadata": {},
   "source": [
    "## Primitive Data Structures\n",
    "   - Primitive data structures are the most basic data types available in Python"
   ]
  },
  {
   "cell_type": "markdown",
   "metadata": {},
   "source": [
    "### Integer (`int`)\n",
    "   - Whole numbers without a fractional part\n",
    "   - Example: `int_var = 5`\n",
    "   - Doc: [docs.python.org/3/library/functions.html#int](https://docs.python.org/3/library/functions.html#int)"
   ]
  },
  {
   "cell_type": "code",
   "execution_count": 22,
   "metadata": {},
   "outputs": [
    {
     "name": "stdout",
     "output_type": "stream",
     "text": [
      "age  : 25\n",
      "year : 2024\n"
     ]
    }
   ],
   "source": [
    "# integer (int)\n",
    "age = 25\n",
    "year = 2024\n",
    "\n",
    "# log\n",
    "print(f\"age  : {age}\")\n",
    "print(f\"year : {year}\")"
   ]
  },
  {
   "cell_type": "markdown",
   "metadata": {},
   "source": [
    "### Float (`float`)\n",
    "   - Numbers with a fractional part\n",
    "   - Example: `float_var = 5.7`\n",
    "   - Doc: [docs.python.org/3/library/functions.html#float](https://docs.python.org/3/library/functions.html#float)"
   ]
  },
  {
   "cell_type": "code",
   "execution_count": 23,
   "metadata": {},
   "outputs": [
    {
     "name": "stdout",
     "output_type": "stream",
     "text": [
      "temperature : 36.6\n",
      "pi          : 3.14159\n"
     ]
    }
   ],
   "source": [
    "# float (float)\n",
    "temperature = 36.6\n",
    "pi = 3.14159\n",
    "\n",
    "# log\n",
    "print(f\"temperature : {temperature}\")\n",
    "print(f\"pi          : {pi}\")"
   ]
  },
  {
   "cell_type": "markdown",
   "metadata": {},
   "source": [
    "### Complex (`complex`)\n",
    "   - Represents complex numbers\n",
    "   - Example: `complex_var = 3 + 4j`\n",
    "   - Doc: [docs.python.org/3/library/functions.html#complex](https://docs.python.org/3/library/functions.html#complex)"
   ]
  },
  {
   "cell_type": "code",
   "execution_count": null,
   "metadata": {},
   "outputs": [
    {
     "name": "stdout",
     "output_type": "stream",
     "text": [
      "complex_number  : (2+3j)\n",
      "another_complex : (5-2j)\n"
     ]
    }
   ],
   "source": [
    "# complex (complex)\n",
    "complex_number = 2 + 3j\n",
    "another_complex = 5 - 2j\n",
    "\n",
    "# log\n",
    "print(f\"complex_number  : {complex_number}\")\n",
    "print(f\"another_complex : {another_complex}\")"
   ]
  },
  {
   "cell_type": "markdown",
   "metadata": {},
   "source": [
    "### Boolean (`bool`)\n",
    "   - Represents `True` or `False`\n",
    "   - Example: `bool_var = True`\n",
    "   - Doc: [docs.python.org/3/c-api/bool.html#boolean-objects](https://docs.python.org/3/c-api/bool.html#boolean-objects)"
   ]
  },
  {
   "cell_type": "code",
   "execution_count": 24,
   "metadata": {},
   "outputs": [
    {
     "name": "stdout",
     "output_type": "stream",
     "text": [
      "is_student : True\n",
      "has_passed : False\n"
     ]
    }
   ],
   "source": [
    "# boolean (bool)\n",
    "is_student = True\n",
    "has_passed = False\n",
    "\n",
    "# log\n",
    "print(f\"is_student : {is_student}\")\n",
    "print(f\"has_passed : {has_passed}\")"
   ]
  },
  {
   "cell_type": "markdown",
   "metadata": {},
   "source": [
    "### String (`str`)\n",
    "   - Sequence of characters\n",
    "   - Example: `str_var = \"Hello\"`\n",
    "   - Doc: [docs.python.org/3/library/string.html#module-string](https://docs.python.org/3/library/string.html#module-string)"
   ]
  },
  {
   "cell_type": "code",
   "execution_count": 25,
   "metadata": {},
   "outputs": [
    {
     "name": "stdout",
     "output_type": "stream",
     "text": [
      "name     : Alice\n",
      "greeting : Hello, World!\n"
     ]
    }
   ],
   "source": [
    "# string (str)\n",
    "name = \"Alice\"\n",
    "greeting = 'Hello, World!'\n",
    "\n",
    "# log\n",
    "print(f\"name     : {name}\")\n",
    "print(f\"greeting : {greeting}\")"
   ]
  },
  {
   "cell_type": "markdown",
   "metadata": {},
   "source": [
    "#### Escape Characters\n",
    "   - Escape sequences are used in strings to represent characters that are difficult or impossible to express directly\n",
    "   - They are preceded by a backslash (`\\`) to indicate that the following character or sequence of characters has a special meaning\n",
    "   - Doc: [docs.python.org/3/reference/lexical_analysis.html#escape-sequences](https://docs.python.org/3/reference/lexical_analysis.html#escape-sequences)\n",
    "<table style=\"margin-left:auto;margin-right:auto;\">\n",
    "    <thead>\n",
    "        <tr>\n",
    "            <th>Escape Sequence</th>\n",
    "            <th>Meaning</th>\n",
    "        </tr>\n",
    "    </thead>\n",
    "    <tbody>\n",
    "        <tr>\n",
    "            <td style=\"font-family: monospace;\">\\</td>\n",
    "            <td>Backslash and newline ignored</td>\n",
    "        </tr>\n",
    "        <tr>\n",
    "            <td style=\"font-family: monospace;\">\\\\</td>\n",
    "            <td>Backslash (<span style=\"font-family: monospace;\">\\</span>)</td>\n",
    "        </tr>\n",
    "        <tr>\n",
    "            <td style=\"font-family: monospace;\">\\'</td>\n",
    "            <td>Single quote (<span style=\"font-family: monospace;\">'</span>)</td>\n",
    "        </tr>\n",
    "        <tr>\n",
    "            <td style=\"font-family: monospace;\">\\\"</td>\n",
    "            <td>Double quote (<span style=\"font-family: monospace;\">\"</span>)</td>\n",
    "        </tr>\n",
    "        <tr>\n",
    "            <td style=\"font-family: monospace;\">\\a</td>\n",
    "            <td>ASCII Bell (BEL)</td>\n",
    "        </tr>\n",
    "        <tr>\n",
    "            <td style=\"font-family: monospace;\">\\b</td>\n",
    "            <td>ASCII Backspace (BS)</td>\n",
    "        </tr>\n",
    "        <tr>\n",
    "            <td style=\"font-family: monospace;\">\\f</td>\n",
    "            <td>ASCII Formfeed (FF)</td>\n",
    "        </tr>\n",
    "        <tr>\n",
    "            <td style=\"font-family: monospace;\">\\n</td>\n",
    "            <td>ASCII Linefeed (LF)</td>\n",
    "        </tr>\n",
    "        <tr>\n",
    "            <td style=\"font-family: monospace;\">\\r</td>\n",
    "            <td>ASCII Carriage Return (CR)</td>\n",
    "        </tr>\n",
    "        <tr>\n",
    "            <td style=\"font-family: monospace;\">\\t</td>\n",
    "            <td>ASCII Horizontal Tab (TAB)</td>\n",
    "        </tr>\n",
    "        <tr>\n",
    "            <td style=\"font-family: monospace;\">\\v</td>\n",
    "            <td>ASCII Vertical Tab (VT)</td>\n",
    "        </tr>\n",
    "        <tr>\n",
    "            <td style=\"font-family: monospace;\">\\ooo</td>\n",
    "            <td>Character with octal value ooo</td>\n",
    "        </tr>\n",
    "        <tr>\n",
    "            <td style=\"font-family: monospace;\">\\xhh</td>\n",
    "            <td>Character with hex value hh</td>\n",
    "        </tr>\n",
    "        <tr>\n",
    "            <td style=\"font-family: monospace;\">\\N{name}</td>\n",
    "            <td>Character named name in the Unicode database</td>\n",
    "        </tr>\n",
    "        <tr>\n",
    "            <td style=\"font-family: monospace;\">\\uxxxx</td>\n",
    "            <td>Character with 16-bit hex value xxxx</td>\n",
    "        </tr>\n",
    "        <tr>\n",
    "            <td style=\"font-family: monospace;\">\\Uxxxxxxxx</td>\n",
    "            <td>Character with 32-bit hex value xxxxxxxx</td>\n",
    "        </tr>\n",
    "    </tbody>\n",
    "</table>"
   ]
  },
  {
   "cell_type": "code",
   "execution_count": 26,
   "metadata": {},
   "outputs": [
    {
     "name": "stdout",
     "output_type": "stream",
     "text": [
      "She said, \"Hello, how are you?\"\n",
      "It's a beautiful day!\n"
     ]
    }
   ],
   "source": [
    "quote_example1 = \"She said, \\\"Hello, how are you?\\\"\"\n",
    "quote_example2 = 'It\\'s a beautiful day!'\n",
    "\n",
    "# log\n",
    "print(quote_example1)\n",
    "print(quote_example2)"
   ]
  },
  {
   "cell_type": "code",
   "execution_count": 27,
   "metadata": {},
   "outputs": [
    {
     "name": "stdout",
     "output_type": "stream",
     "text": [
      "First line\n",
      "Second line\n",
      "Third line\n"
     ]
    }
   ],
   "source": [
    "multiline_string = \"First line\\nSecond line\\nThird line\"\n",
    "\n",
    "# log\n",
    "print(multiline_string)"
   ]
  },
  {
   "cell_type": "code",
   "execution_count": 28,
   "metadata": {},
   "outputs": [
    {
     "name": "stdout",
     "output_type": "stream",
     "text": [
      "Name\tAge\tLocation\n",
      "Alice\t30\tNew York\n",
      "Bob\t25\tSan Francisco\n"
     ]
    }
   ],
   "source": [
    "tabbed_string = \"Name\\tAge\\tLocation\\nAlice\\t30\\tNew York\\nBob\\t25\\tSan Francisco\"\n",
    "\n",
    "# log\n",
    "print(tabbed_string)"
   ]
  },
  {
   "cell_type": "code",
   "execution_count": 29,
   "metadata": {},
   "outputs": [
    {
     "name": "stdout",
     "output_type": "stream",
     "text": [
      "C:\\Users\\Username\\Documents\\file.txt\n"
     ]
    }
   ],
   "source": [
    "file_path = \"C:\\\\Users\\\\Username\\\\Documents\\\\file.txt\"\n",
    "\n",
    "# log\n",
    "print(file_path)"
   ]
  },
  {
   "cell_type": "code",
   "execution_count": 30,
   "metadata": {},
   "outputs": [
    {
     "name": "stdout",
     "output_type": "stream",
     "text": [
      "Alert! \u0007\n"
     ]
    }
   ],
   "source": [
    "alert_example = \"Alert! \\a\"\n",
    "\n",
    "# log (the system may produce a beep sound)\n",
    "print(alert_example)"
   ]
  },
  {
   "cell_type": "code",
   "execution_count": 31,
   "metadata": {},
   "outputs": [
    {
     "name": "stdout",
     "output_type": "stream",
     "text": [
      "Caféé\n"
     ]
    }
   ],
   "source": [
    "unicode_hex = \"Café\\u00E9\"\n",
    "\n",
    "# log\n",
    "print(unicode_hex)"
   ]
  },
  {
   "cell_type": "code",
   "execution_count": 32,
   "metadata": {},
   "outputs": [
    {
     "name": "stdout",
     "output_type": "stream",
     "text": [
      "Smile: 😀\n"
     ]
    }
   ],
   "source": [
    "emoji_example = \"Smile: \\U0001F600\"\n",
    "\n",
    "# log\n",
    "print(emoji_example)"
   ]
  },
  {
   "cell_type": "markdown",
   "metadata": {},
   "source": [
    "## Non-Primitive Data Structures\n",
    "   - Non-primitive data structures are more complex and are built using primitive data structures"
   ]
  },
  {
   "cell_type": "markdown",
   "metadata": {},
   "source": [
    "### List\n",
    "   - Ordered and mutable collection of items\n",
    "   - Example: `list_var = [1, 2, 3]`\n",
    "   - Doc: [docs.python.org/3/library/stdtypes.html#lists](https://docs.python.org/3/library/stdtypes.html#lists)\n",
    "   - Tutorial: [docs.python.org/3/tutorial/datastructures.html#more-on-lists](https://docs.python.org/3/tutorial/datastructures.html#more-on-lists)"
   ]
  },
  {
   "cell_type": "code",
   "execution_count": 34,
   "metadata": {},
   "outputs": [
    {
     "name": "stdout",
     "output_type": "stream",
     "text": [
      "numbers    : [1, 2, 3, 4, 5]\n",
      "fruits     : ['apple', 'banana', 'cherry']\n",
      "mixed_list : [1, 'hello', 3.14, True]\n",
      "matrix     : [[1, 2, 3], [4, 5, 6], [7, 8, 9]]\n"
     ]
    }
   ],
   "source": [
    "numbers = [1, 2, 3, 4, 5]\n",
    "fruits = ['apple', 'banana', 'cherry']\n",
    "mixed_list = [1, 'hello', 3.14, True]\n",
    "matrix = [[1, 2, 3], [4, 5, 6], [7, 8, 9]]\n",
    "\n",
    "# log\n",
    "print(f\"numbers    : {numbers}\")\n",
    "print(f\"fruits     : {fruits}\")\n",
    "print(f\"mixed_list : {mixed_list}\")\n",
    "print(f\"matrix     : {matrix}\")"
   ]
  },
  {
   "cell_type": "markdown",
   "metadata": {},
   "source": [
    "### Tuple\n",
    "   - Ordered and immutable collection of items\n",
    "   - Example: `tuple_var = (1, 2, 3)`\n",
    "   - Doc: [docs.python.org/3/library/stdtypes.html#tuples](https://docs.python.org/3/library/stdtypes.html#tuples)\n",
    "   - Tutorial: [docs.python.org/3/tutorial/datastructures.html#tuples-and-sequences](https://docs.python.org/3/tutorial/datastructures.html#tuples-and-sequences)"
   ]
  },
  {
   "cell_type": "code",
   "execution_count": 35,
   "metadata": {},
   "outputs": [
    {
     "name": "stdout",
     "output_type": "stream",
     "text": [
      "point        : (1, 2)\n",
      "colors       : ('red', 'green', 'blue')\n",
      "data         : (1, 'hello', 3.14, False)\n",
      "nested_tuple : ((1, 2), (3, 4), (5, 6))\n"
     ]
    }
   ],
   "source": [
    "point = (1, 2)\n",
    "colors = ('red', 'green', 'blue')\n",
    "data = (1, 'hello', 3.14, False)\n",
    "nested_tuple = ((1, 2), (3, 4), (5, 6))\n",
    "\n",
    "# log\n",
    "print(f\"point        : {point}\")\n",
    "print(f\"colors       : {colors}\")\n",
    "print(f\"data         : {data}\")\n",
    "print(f\"nested_tuple : {nested_tuple}\")"
   ]
  },
  {
   "cell_type": "markdown",
   "metadata": {},
   "source": [
    "### Set\n",
    "   - Unordered collection of unique items\n",
    "   - Example: `set_var = {1, 2, 3}`\n",
    "   - Doc: [docs.python.org/3/library/stdtypes.html#set](https://docs.python.org/3/library/stdtypes.html#set)\n",
    "   - Tutorial: [docs.python.org/3/tutorial/datastructures.html#sets](https://docs.python.org/3/tutorial/datastructures.html#sets)"
   ]
  },
  {
   "cell_type": "code",
   "execution_count": 36,
   "metadata": {},
   "outputs": [
    {
     "name": "stdout",
     "output_type": "stream",
     "text": [
      "numbers       : {1, 2, 3, 4, 5}\n",
      "unique_fruits : {'banana', 'cherry', 'apple'}\n",
      "mixed_set     : {(1, 2), 1, 'hello', 3.14}\n"
     ]
    }
   ],
   "source": [
    "numbers = {1, 2, 3, 4, 5}\n",
    "unique_fruits = {'apple', 'banana', 'cherry'}\n",
    "mixed_set = {1, 'hello', 3.14, (1, 2)}\n",
    "\n",
    "# log\n",
    "print(f\"numbers       : {numbers}\")\n",
    "print(f\"unique_fruits : {unique_fruits}\")\n",
    "print(f\"mixed_set     : {mixed_set}\")"
   ]
  },
  {
   "cell_type": "markdown",
   "metadata": {},
   "source": [
    "### Dictionary\n",
    "   - Collections of key-value pairs, ordered from Python v3.7+\n",
    "   - Example: `dict_var = {\"key1\": \"value1\", \"key2\": \"value2\"}`\n",
    "   - Doc: [docs.python.org/3/library/stdtypes.html#mapping-types-dict](https://docs.python.org/3/library/stdtypes.html#mapping-types-dict)\n",
    "   - Tutorial: [docs.python.org/3/tutorial/datastructures.html#dictionaries](https://docs.python.org/3/tutorial/datastructures.html#dictionaries)"
   ]
  },
  {
   "cell_type": "code",
   "execution_count": 37,
   "metadata": {},
   "outputs": [
    {
     "name": "stdout",
     "output_type": "stream",
     "text": [
      "ages            : {'Alice': 30, 'Bob': 25, 'Charlie': 35}\n",
      "info            : {1: 'one', 'two': 2, 3.0: 'three'}\n",
      "nested_dict     : {'person': {'name': 'Alice', 'age': 30}, 'city': 'New York'}\n",
      "student_courses : {'Alice': ['Math', 'Science'], 'Bob': ['English', 'History']}\n"
     ]
    }
   ],
   "source": [
    "ages = {'Alice': 30, 'Bob': 25, 'Charlie': 35}\n",
    "info = {1: 'one', 'two': 2, 3.0: 'three'}\n",
    "nested_dict = {'person': {'name': 'Alice', 'age': 30}, 'city': 'New York'}\n",
    "student_courses = {'Alice': ['Math', 'Science'], 'Bob': ['English', 'History']}\n",
    "\n",
    "# log\n",
    "print(f\"ages            : {ages}\")\n",
    "print(f\"info            : {info}\")\n",
    "print(f\"nested_dict     : {nested_dict}\")\n",
    "print(f\"student_courses : {student_courses}\")"
   ]
  },
  {
   "cell_type": "markdown",
   "metadata": {},
   "source": [
    "### Frozen Set (`frozenset`)\n",
    "   - Immutable sets\n",
    "   - Example: `frozenset_var = frozenset([1, 2, 3])`\n",
    "   - Doc: [docs.python.org/3/library/stdtypes.html#frozenset](https://docs.python.org/3/library/stdtypes.html#frozenset)"
   ]
  },
  {
   "cell_type": "code",
   "execution_count": 38,
   "metadata": {},
   "outputs": [
    {
     "name": "stdout",
     "output_type": "stream",
     "text": [
      "frozenset1: frozenset({1, 2, 3, 4, 5})\n",
      "frozenset2: frozenset({'banana', 'cherry', 'apple'})\n",
      "frozenset3: frozenset({(1, 2), 1, 'hello', 3.14})\n"
     ]
    }
   ],
   "source": [
    "frozenset1 = frozenset([1, 2, 3, 4, 5])\n",
    "frozenset2 = frozenset(['apple', 'banana', 'cherry'])\n",
    "frozenset3 = frozenset([1, 'hello', 3.14, (1, 2)])\n",
    "\n",
    "# log\n",
    "print(f\"frozenset1: {frozenset1}\")\n",
    "print(f\"frozenset2: {frozenset2}\")\n",
    "print(f\"frozenset3: {frozenset3}\")"
   ]
  },
  {
   "cell_type": "markdown",
   "metadata": {},
   "source": [
    "### Byte Array (`bytearray`)\n",
    "   - Mutable sequences of bytes\n",
    "   - Example: `bytearray_var = bytearray(b\"Hello\")`\n",
    "   - Doc: [docs.python.org/3/library/stdtypes.html#bytearray](https://docs.python.org/3/library/stdtypes.html#bytearray)"
   ]
  },
  {
   "cell_type": "code",
   "execution_count": 39,
   "metadata": {},
   "outputs": [
    {
     "name": "stdout",
     "output_type": "stream",
     "text": [
      "byte_array1: bytearray(b'ABC')\n",
      "byte_array2: bytearray(b'hello')\n",
      "byte_array3: bytearray(b'\\x00\\x00\\x00\\x00\\x00\\x00\\x00\\x00\\x00\\x00')\n"
     ]
    }
   ],
   "source": [
    "byte_array1 = bytearray([65, 66, 67])  # corresponds to ASCII 'A', 'B', 'C'\n",
    "byte_array2 = bytearray('hello', 'utf-8')\n",
    "byte_array3 = bytearray(10)  # creates a bytearray with 10 zero bytes\n",
    "\n",
    "# log\n",
    "print(f\"byte_array1: {byte_array1}\")\n",
    "print(f\"byte_array2: {byte_array2}\")\n",
    "print(f\"byte_array3: {byte_array3}\")"
   ]
  },
  {
   "cell_type": "markdown",
   "metadata": {},
   "source": [
    "### Bytes (`bytes`)\n",
    "   - Immutable sequences of bytes\n",
    "   - Example: `bytes_var = b\"Hello\"`\n",
    "   - Doc: [docs.python.org/3/library/stdtypes.html#bytes](https://docs.python.org/3/library/stdtypes.html#bytes)"
   ]
  },
  {
   "cell_type": "code",
   "execution_count": 40,
   "metadata": {},
   "outputs": [
    {
     "name": "stdout",
     "output_type": "stream",
     "text": [
      "bytes1: b'hello'\n",
      "bytes2: b'ABC'\n",
      "bytes3: b''\n"
     ]
    }
   ],
   "source": [
    "bytes1 = bytes('hello', 'utf-8')\n",
    "bytes2 = bytes([65, 66, 67])  # corresponds to ASCII 'A', 'B', 'C'\n",
    "bytes3 = bytes()  # creates an empty bytes object\n",
    "\n",
    "# log\n",
    "print(f\"bytes1: {bytes1}\")\n",
    "print(f\"bytes2: {bytes2}\")\n",
    "print(f\"bytes3: {bytes3}\")"
   ]
  }
 ],
 "metadata": {
  "kernelspec": {
   "display_name": "Python 3",
   "language": "python",
   "name": "python3"
  },
  "language_info": {
   "codemirror_mode": {
    "name": "ipython",
    "version": 3
   },
   "file_extension": ".py",
   "mimetype": "text/x-python",
   "name": "python",
   "nbconvert_exporter": "python",
   "pygments_lexer": "ipython3",
   "version": "3.12.3"
  }
 },
 "nbformat": 4,
 "nbformat_minor": 2
}
