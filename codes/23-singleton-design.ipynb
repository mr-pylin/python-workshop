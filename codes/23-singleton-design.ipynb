{
 "cells": [
  {
   "cell_type": "markdown",
   "metadata": {},
   "source": [
    "📝 **Author:** Amirhossein Heydari - 📧 **Email:** <amirhosseinheydari78@gmail.com> - 📍 **Origin:** [mr-pylin/python-workshop](https://github.com/mr-pylin/python-workshop)\n",
    "\n",
    "---\n"
   ]
  },
  {
   "cell_type": "markdown",
   "metadata": {},
   "source": [
    "**Table of contents**<a id='toc0_'></a>    \n",
    "- [Singleton Design](#toc1_)    \n",
    "  - [Method 1: Implementing Singleton (Basic Singleton)](#toc1_1_)    \n",
    "  - [Method 2: Using a Decorator (Thread-safe Singleton)](#toc1_2_)    \n",
    "  - [Method 3: Using a Metaclass (Advanced Singleton)](#toc1_3_)    \n",
    "  - [Examples](#toc1_4_)    \n",
    "    - [Example 1: Logger](#toc1_4_1_)    \n",
    "    - [Example 2: DatabaseConnection](#toc1_4_2_)    \n",
    "\n",
    "<!-- vscode-jupyter-toc-config\n",
    "\tnumbering=false\n",
    "\tanchor=true\n",
    "\tflat=false\n",
    "\tminLevel=1\n",
    "\tmaxLevel=6\n",
    "\t/vscode-jupyter-toc-config -->\n",
    "<!-- THIS CELL WILL BE REPLACED ON TOC UPDATE. DO NOT WRITE YOUR TEXT IN THIS CELL -->"
   ]
  },
  {
   "cell_type": "markdown",
   "metadata": {},
   "source": [
    "# <a id='toc1_'></a>[Singleton Design](#toc0_)\n",
    "\n",
    "- A Singleton is a design pattern that ensures a class has only one instance and provides a global point of access to that instance.\n",
    "\n",
    "❓ **Why Use Singleton**:\n",
    "\n",
    "- To restrict object creation to one instance.\n",
    "- Useful in scenarios where a single shared resource (e.g., database connection, logging system) is required.\n",
    "\n",
    "💡 **Real-world Example**:\n",
    "\n",
    "- Database Connection\n",
    "  - Only one connection should exist to a database throughout the application.\n",
    "- Logging\n",
    "  - Centralized logging service to write log messages from different parts of the application.\n",
    "\n",
    "📝 **Docs**:\n",
    "\n",
    "- `object.__new__`: [docs.python.org/3/reference/datamodel.html#object.**new**](https://docs.python.org/3/reference/datamodel.html#object.__new__)\n",
    "- `object.__init__`: [docs.python.org/3/reference/datamodel.html#object.**init**](https://docs.python.org/3/reference/datamodel.html#object.__init__)\n"
   ]
  },
  {
   "cell_type": "markdown",
   "metadata": {},
   "source": [
    "## <a id='toc1_1_'></a>[Method 1: Implementing Singleton (Basic Singleton)](#toc0_)\n",
    "\n",
    "- `__new__` is overridden to control the instance creation.\n",
    "- The first time the class is instantiated, it creates an instance and stores it in `_instance`.\n",
    "- Subsequent calls return the same instance\n"
   ]
  },
  {
   "cell_type": "code",
   "execution_count": null,
   "metadata": {},
   "outputs": [
    {
     "name": "stdout",
     "output_type": "stream",
     "text": [
      "s1 is s2 ? True\n"
     ]
    }
   ],
   "source": [
    "class Singleton:\n",
    "    _instance = None\n",
    "\n",
    "    def __new__(cls, *args, **kwargs):\n",
    "        if not cls._instance:\n",
    "            cls._instance = super(Singleton, cls).__new__(cls)\n",
    "        return cls._instance\n",
    "\n",
    "\n",
    "# test the Singleton\n",
    "s1 = Singleton()\n",
    "s2 = Singleton()\n",
    "\n",
    "# log\n",
    "print(f\"s1 is s2 ? {s1 is s2}\")"
   ]
  },
  {
   "cell_type": "markdown",
   "metadata": {},
   "source": [
    "## <a id='toc1_2_'></a>[Method 2: Using a Decorator (Thread-safe Singleton)](#toc0_)\n",
    "\n",
    "- The decorator ensures that only one instance of the class is created, no matter how many times it is instantiated.\n"
   ]
  },
  {
   "cell_type": "code",
   "execution_count": null,
   "metadata": {},
   "outputs": [
    {
     "name": "stdout",
     "output_type": "stream",
     "text": [
      "s1 is s2 ? True\n"
     ]
    }
   ],
   "source": [
    "def singleton(cls):\n",
    "    instances = {}\n",
    "\n",
    "    def wrapper(*args, **kwargs):\n",
    "        if cls not in instances:\n",
    "            instances[cls] = cls(*args, **kwargs)\n",
    "        return instances[cls]\n",
    "\n",
    "    return wrapper\n",
    "\n",
    "\n",
    "@singleton\n",
    "class Singleton:\n",
    "    pass\n",
    "\n",
    "\n",
    "# test the Singleton\n",
    "s1 = Singleton()\n",
    "s2 = Singleton()\n",
    "\n",
    "# log\n",
    "print(f\"s1 is s2 ? {s1 is s2}\")"
   ]
  },
  {
   "cell_type": "markdown",
   "metadata": {},
   "source": [
    "## <a id='toc1_3_'></a>[Method 3: Using a Metaclass (Advanced Singleton)](#toc0_)\n",
    "\n",
    "- A metaclass controls the instance creation process.\n",
    "- Ensures that only one instance exists for each class.\n"
   ]
  },
  {
   "cell_type": "code",
   "execution_count": null,
   "metadata": {},
   "outputs": [
    {
     "name": "stdout",
     "output_type": "stream",
     "text": [
      "s1 is s2 ? True\n"
     ]
    }
   ],
   "source": [
    "class SingletonMeta(type):\n",
    "    _instances = {}\n",
    "\n",
    "    def __call__(cls, *args, **kwargs):\n",
    "        if cls not in cls._instances:\n",
    "            cls._instances[cls] = super(SingletonMeta, cls).__call__(*args, **kwargs)\n",
    "        return cls._instances[cls]\n",
    "\n",
    "\n",
    "class Singleton(metaclass=SingletonMeta):\n",
    "    pass\n",
    "\n",
    "\n",
    "# test the Singleton\n",
    "s1 = Singleton()\n",
    "s2 = Singleton()\n",
    "\n",
    "# log\n",
    "print(f\"s1 is s2 ? {s1 is s2}\")"
   ]
  },
  {
   "cell_type": "markdown",
   "metadata": {},
   "source": [
    "## <a id='toc1_4_'></a>[Examples](#toc0_)\n"
   ]
  },
  {
   "cell_type": "markdown",
   "metadata": {},
   "source": [
    "### <a id='toc1_4_1_'></a>[Example 1: Logger](#toc0_)\n"
   ]
  },
  {
   "cell_type": "code",
   "execution_count": null,
   "metadata": {},
   "outputs": [
    {
     "name": "stdout",
     "output_type": "stream",
     "text": [
      "logger1 is logger2 ? True\n"
     ]
    }
   ],
   "source": [
    "class Logger:\n",
    "    _instance = None\n",
    "\n",
    "    def __new__(cls, file_path: str, *args, **kwargs):\n",
    "        if cls._instance is None:\n",
    "            cls._instance = super(Logger, cls).__new__(cls)\n",
    "            cls._instance._log_file = open(file_path, \"w\")  # open log file once\n",
    "        return cls._instance\n",
    "\n",
    "    def log(self, message: str) -> None:\n",
    "        self._log_file.write(message + \"\\n\")\n",
    "        self._log_file.flush()  # ensure the message is written to the file\n",
    "\n",
    "\n",
    "# usage\n",
    "logger1 = Logger(file_path=\"../assets/logs/app.log\")\n",
    "logger1.log(\"First log message.\")\n",
    "\n",
    "logger2 = Logger(file_path=\"../assets/logs/app.log\")\n",
    "logger2.log(\"Second log message.\")\n",
    "\n",
    "# log\n",
    "print(f\"logger1 is logger2 ? {logger1 is logger2}\")"
   ]
  },
  {
   "cell_type": "markdown",
   "metadata": {},
   "source": [
    "### <a id='toc1_4_2_'></a>[Example 2: DatabaseConnection](#toc0_)\n"
   ]
  },
  {
   "cell_type": "code",
   "execution_count": null,
   "metadata": {},
   "outputs": [
    {
     "name": "stdout",
     "output_type": "stream",
     "text": [
      "Connected to database with Server=myServerAddress;Database=myDataBase;User_Id=myUsername;Password=myPassword;\n",
      "Executing query: SELECT * FROM users\n",
      "Connected to database with Server=myServerAddress;Database=myDataBase;User_Id=myUsername;Password=myPassword;\n",
      "Executing query: SELECT * FROM products\n",
      "db1 is db2 ? True\n"
     ]
    }
   ],
   "source": [
    "def singleton(cls):\n",
    "    instances = {}\n",
    "\n",
    "    def get_instance(*args, **kwargs):\n",
    "        if cls not in instances:\n",
    "            instances[cls] = cls(*args, **kwargs)\n",
    "        return instances[cls]\n",
    "\n",
    "    return get_instance\n",
    "\n",
    "\n",
    "@singleton\n",
    "class DatabaseConnection:\n",
    "    def __init__(self, connection_string: str):\n",
    "        self.connection_string = connection_string\n",
    "        self.connection = self.connect_to_database()\n",
    "\n",
    "    def connect_to_database(self):\n",
    "        # simulate a database connection\n",
    "        return f\"Connected to database with {self.connection_string}\"\n",
    "\n",
    "    def query(self, sql: str):\n",
    "        # simulate a database query\n",
    "        return f\"Executing query: {sql}\"\n",
    "\n",
    "\n",
    "# usage\n",
    "db1 = DatabaseConnection(connection_string=\"Server=myServerAddress;Database=myDataBase;User_Id=myUsername;Password=myPassword;\")\n",
    "print(db1.connection)\n",
    "print(db1.query(\"SELECT * FROM users\"))\n",
    "\n",
    "db2 = DatabaseConnection(connection_string=\"Server=myServerAddress;Database=myDataBase;User_Id=myUsername;Password=myPassword;\")\n",
    "print(db2.connection)\n",
    "print(db2.query(\"SELECT * FROM products\"))\n",
    "\n",
    "# log\n",
    "print(f\"db1 is db2 ? {db1 is db2}\")"
   ]
  }
 ],
 "metadata": {
  "author_email": "AmirhosseinHeydari78@gmail.com",
  "author_github": "https://github.com/mr-pylin",
  "author_name": "Amirhossein Heydari",
  "kernelspec": {
   "display_name": "Python 3",
   "language": "python",
   "name": "python3"
  },
  "language_info": {
   "codemirror_mode": {
    "name": "ipython",
    "version": 3
   },
   "file_extension": ".py",
   "mimetype": "text/x-python",
   "name": "python",
   "nbconvert_exporter": "python",
   "pygments_lexer": "ipython3",
   "version": "3.12.3"
  },
  "origin_repo": "https://github.com/mr-pylin/python-workshop"
 },
 "nbformat": 4,
 "nbformat_minor": 2
}
