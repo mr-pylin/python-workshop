{
 "cells": [
  {
   "cell_type": "markdown",
   "metadata": {},
   "source": [
    "📝 **Author:** Amirhossein Heydari - 📧 **Email:** AmirhosseinHeydari78@gmail.com - 📍 **Linktree:** [linktr.ee/mr_pylin](https://linktr.ee/mr_pylin)\n",
    "\n",
    "---"
   ]
  },
  {
   "cell_type": "markdown",
   "metadata": {},
   "source": [
    "# Closure\n",
    "   - It is a function object that **remembers** values in **enclosing** scopes even if the **outer** function has finished executing.\n",
    "\n",
    "✍️ **Key Concepts**:\n",
    "   - **Nested Functions**: A closure involves nested functions, where an inner function is defined inside an outer function.\n",
    "   - **Free Variables**: The inner function references variables from the outer function (but not global variables).\n",
    "   - **Persistent State**: Even after the outer function finishes execution, the inner function (closure) retains access to the variables of the outer function.\n",
    "\n",
    "🐍 **PEP**:\n",
    "   - Statically Nested Scopes [[PEP 227](https://peps.python.org/pep-0227/)]\n",
    "   - Access to Names in Outer Scopes [[PEP 3104](https://peps.python.org/pep-3104/)]"
   ]
  },
  {
   "cell_type": "code",
   "execution_count": 1,
   "metadata": {},
   "outputs": [
    {
     "name": "stdout",
     "output_type": "stream",
     "text": [
      "outer(1) : 3\n"
     ]
    }
   ],
   "source": [
    "def outer_function(x):\n",
    "    def inner_function(y):\n",
    "        return x + y  # x is a free variable\n",
    "    return inner_function\n",
    "\n",
    "# \n",
    "outer = outer_function(2)\n",
    "\n",
    "# log\n",
    "print(f\"outer(1) : {outer(1)}\")"
   ]
  },
  {
   "cell_type": "code",
   "execution_count": 2,
   "metadata": {},
   "outputs": [
    {
     "name": "stdout",
     "output_type": "stream",
     "text": [
      "show() : 0\n",
      "show() : 1\n",
      "show() : 3\n",
      "\n",
      "show.__closure__                  : (<cell at 0x000001AEDFFB2890: int object at 0x00007FFD12ED19F8>,)\n",
      "incr.__closure__                  : (<cell at 0x000001AEDFFB2890: int object at 0x00007FFD12ED19F8>,)\n",
      "show.__closure__[0].cell_contents : 3\n"
     ]
    }
   ],
   "source": [
    "def outer():\n",
    "    num = 0\n",
    "\n",
    "    def incr():\n",
    "        nonlocal num\n",
    "        num += 1\n",
    "\n",
    "    def show():\n",
    "        return num\n",
    "\n",
    "    return incr, show\n",
    "\n",
    "\n",
    "# call the outer function\n",
    "incr, show = outer()\n",
    "\n",
    "# log\n",
    "print(f\"show() : {show()}\")\n",
    "incr()\n",
    "print(f\"show() : {show()}\")\n",
    "incr()\n",
    "incr()\n",
    "print(f\"show() : {show()}\\n\")\n",
    "\n",
    "print(f\"show.__closure__                  : {show.__closure__}\")\n",
    "print(f\"incr.__closure__                  : {incr.__closure__}\")\n",
    "print(f\"show.__closure__[0].cell_contents : {show.__closure__[0].cell_contents}\")"
   ]
  },
  {
   "cell_type": "markdown",
   "metadata": {},
   "source": [
    "✍️ closures can sometimes replace classes for specific tasks like maintaining state without explicitly using objects."
   ]
  },
  {
   "cell_type": "code",
   "execution_count": 3,
   "metadata": {},
   "outputs": [
    {
     "name": "stdout",
     "output_type": "stream",
     "text": [
      "30\n"
     ]
    }
   ],
   "source": [
    "# using class\n",
    "class MultiplyBy:\n",
    "    def __init__(self, n):\n",
    "        self.n = n\n",
    "\n",
    "    def __call__(self, x):\n",
    "        return self.n * x\n",
    "\n",
    "# initialization\n",
    "multiply_by_3 = MultiplyBy(3)\n",
    "\n",
    "# log\n",
    "print(multiply_by_3(10))"
   ]
  },
  {
   "cell_type": "code",
   "execution_count": 4,
   "metadata": {},
   "outputs": [
    {
     "name": "stdout",
     "output_type": "stream",
     "text": [
      "30\n"
     ]
    }
   ],
   "source": [
    "# using a closure\n",
    "def multiply_by(n):\n",
    "    def multiplier(x):\n",
    "        return n * x\n",
    "    return multiplier\n",
    "\n",
    "# calling the outer function\n",
    "multiply_by_3 = multiply_by(3)\n",
    "\n",
    "# log\n",
    "print(multiply_by_3(10))"
   ]
  },
  {
   "cell_type": "markdown",
   "metadata": {},
   "source": [
    "# Decorator\n",
    "   - It is a callable (usually a function) that takes another function as an argument, extends or alters its behavior, and returns a new function.\n",
    "   - The original function's behavior can be modified without modifying its structure directly.\n",
    "   - It allows you to modify or enhance the behavior of functions or methods without changing the code.\n",
    "\n",
    "**Basic Syntax**:\n",
    "```python\n",
    "   def my_decorator(func):\n",
    "      def wrapper():\n",
    "         print(\"something is happening before the function is called.\")\n",
    "         func()\n",
    "         print(\"something is happening after the function is called.\")\n",
    "      return wrapper\n",
    "```\n",
    "\n",
    "**Apply Decorators**:\n",
    "   - You can apply this decorator to a function using the `@decorator_name` syntax.\n",
    "\n",
    "📝 **Docs**:\n",
    "   - decorator: [docs.python.org/3/glossary.html#term-decorator](https://docs.python.org/3/glossary.html#term-decorator)\n",
    "   - Function definitions: [docs.python.org/3/reference/compound_stmts.html#function-definitions](https://docs.python.org/3/reference/compound_stmts.html#function-definitions)\n",
    "   - Class definitions: [docs.python.org/3/reference/compound_stmts.html#class-definitions](https://docs.python.org/3/reference/compound_stmts.html#class-definitions)\n",
    "   - `@classmethod`: [docs.python.org/3/library/functions.html#classmethod](https://docs.python.org/3/library/functions.html#classmethod)\n",
    "   - `@staticmethod`: [docs.python.org/3/library/functions.html#staticmethod](https://docs.python.org/3/library/functions.html#staticmethod)\n",
    "   - `@functools.wraps`: [docs.python.org/3/library/functools.html#functools.wraps](https://docs.python.org/3/library/functools.html#functools.wraps)\n",
    "\n",
    "🐍 **PEP**:\n",
    "   - Decorators for Functions and Methods [[PEP 318](https://peps.python.org/pep-0318/)]\n",
    "   - Class Decorators [[PEP 3129](https://peps.python.org/pep-3129/)]"
   ]
  },
  {
   "cell_type": "code",
   "execution_count": 5,
   "metadata": {},
   "outputs": [
    {
     "name": "stdout",
     "output_type": "stream",
     "text": [
      "something is happening before the function is called.\n",
      "Hello, Alice!\n",
      "something is happening after the function is called.\n"
     ]
    }
   ],
   "source": [
    "def my_decorator(func):\n",
    "    def wrapper(*args, **kwargs):\n",
    "        print(\"something is happening before the function is called.\")\n",
    "        result = func(*args, **kwargs)  # call the original function\n",
    "        print(\"something is happening after the function is called.\")\n",
    "        return result\n",
    "    return wrapper\n",
    "\n",
    "# decorate <greet> function with <my_decorator>\n",
    "@my_decorator\n",
    "def greet(name):\n",
    "    print(f\"Hello, {name}!\")\n",
    "\n",
    "# equivalent to: greet = my_decorator(greet)\n",
    "\n",
    "# log\n",
    "greet(\"Alice\")"
   ]
  },
  {
   "cell_type": "code",
   "execution_count": 6,
   "metadata": {},
   "outputs": [
    {
     "name": "stdout",
     "output_type": "stream",
     "text": [
      "Hello, Bob!\n",
      "Hello, Bob!\n",
      "Hello, Bob!\n"
     ]
    }
   ],
   "source": [
    "# decorator with arguments\n",
    "def repeat(num_times):\n",
    "    def decorator_repeat(func):\n",
    "        def wrapper(*args, **kwargs):\n",
    "            for _ in range(num_times):\n",
    "                func(*args, **kwargs)\n",
    "        return wrapper\n",
    "    return decorator_repeat\n",
    "\n",
    "# decorate <say_hello> function with <decorator>\n",
    "@repeat(3)\n",
    "def say_hello(name):\n",
    "    print(f\"Hello, {name}!\")\n",
    "\n",
    "# equivalent to: say_hello = repeat(3)(say_hello)\n",
    "\n",
    "# log\n",
    "say_hello(\"Bob\")"
   ]
  },
  {
   "cell_type": "markdown",
   "metadata": {},
   "source": [
    "## Chaining Decorators\n",
    "   - Multiple decorators can be applied to a single function.\n",
    "   - They are executed from the innermost to the outermost decorator."
   ]
  },
  {
   "cell_type": "code",
   "execution_count": 7,
   "metadata": {},
   "outputs": [],
   "source": [
    "def decorator_a(func):\n",
    "    def wrapper():\n",
    "        print('a')\n",
    "        func()\n",
    "    return wrapper\n",
    "\n",
    "def decorator_b(func):\n",
    "    def wrapper():\n",
    "        print('b')\n",
    "        func()\n",
    "    return wrapper"
   ]
  },
  {
   "cell_type": "code",
   "execution_count": 8,
   "metadata": {},
   "outputs": [
    {
     "name": "stdout",
     "output_type": "stream",
     "text": [
      "a\n",
      "b\n",
      "Function execution\n"
     ]
    }
   ],
   "source": [
    "@decorator_a\n",
    "@decorator_b\n",
    "def my_function():\n",
    "    print(\"Function execution\")\n",
    "\n",
    "# equivalent to: my_function = decorator_a(decorator_b(my_function))\n",
    "\n",
    "# log\n",
    "my_function()"
   ]
  },
  {
   "cell_type": "markdown",
   "metadata": {},
   "source": [
    "## Decorators for Classes"
   ]
  },
  {
   "cell_type": "code",
   "execution_count": 2,
   "metadata": {},
   "outputs": [],
   "source": [
    "def add_greeting(cls):\n",
    "    \"\"\"Decorator that adds a greet method to the class.\"\"\"\n",
    "    \n",
    "    def greet(self):\n",
    "        return f\"Hello, my name is {self.name}!\"\n",
    "\n",
    "    # Add the new method to the class\n",
    "    cls.greet = greet\n",
    "    return cls"
   ]
  },
  {
   "cell_type": "code",
   "execution_count": 3,
   "metadata": {},
   "outputs": [],
   "source": [
    "@add_greeting\n",
    "class Person:\n",
    "    def __init__(self, name):\n",
    "        self.name = name"
   ]
  },
  {
   "cell_type": "code",
   "execution_count": 4,
   "metadata": {},
   "outputs": [
    {
     "name": "stdout",
     "output_type": "stream",
     "text": [
      "person.greet() : Hello, my name is Alice!\n"
     ]
    }
   ],
   "source": [
    "# log\n",
    "person = Person(\"Alice\")\n",
    "print(f\"person.greet() : {person.greet()}\")"
   ]
  },
  {
   "cell_type": "markdown",
   "metadata": {},
   "source": [
    "## Debugging Decorators\n",
    "   - When using decorators, the original function’s metadata (like its name and docstring) is replaced by the wrapper’s metadata.\n",
    "   - To preserve the original function's metadata, you can use `functools.wraps`."
   ]
  },
  {
   "cell_type": "code",
   "execution_count": 9,
   "metadata": {},
   "outputs": [],
   "source": [
    "# a basic function\n",
    "def example_function(x: int) -> int:\n",
    "    \"\"\"This is a sample function.\"\"\"\n",
    "    return x * 2"
   ]
  },
  {
   "cell_type": "code",
   "execution_count": 10,
   "metadata": {},
   "outputs": [
    {
     "name": "stdout",
     "output_type": "stream",
     "text": [
      "original annotations : {'x': <class 'int'>, 'return': <class 'int'>}\n",
      "original docstring   : This is a sample function.\n",
      "wrapped  annotations : {}\n",
      "wrapped  docstring   : None\n"
     ]
    }
   ],
   "source": [
    "# metadata is not preserved in this situation\n",
    "def debug_wrapper_1(func):\n",
    "    def wrapper(*args, **kwargs):\n",
    "        print(f\"Calling {func.__name__} with args: {args}, kwargs: {kwargs}\")\n",
    "        return func(*args, **kwargs)\n",
    "    return wrapper\n",
    "\n",
    "# wrapping the example function\n",
    "wrapped_function = debug_wrapper_1(example_function)\n",
    "\n",
    "# log\n",
    "print(f\"original annotations : {example_function.__annotations__}\")\n",
    "print(f\"original docstring   : {example_function.__doc__}\")\n",
    "print(f\"wrapped  annotations : {wrapped_function.__annotations__}\")\n",
    "print(f\"wrapped  docstring   : {wrapped_function.__doc__}\")"
   ]
  },
  {
   "cell_type": "code",
   "execution_count": 11,
   "metadata": {},
   "outputs": [
    {
     "name": "stdout",
     "output_type": "stream",
     "text": [
      "original annotations : {'x': <class 'int'>, 'return': <class 'int'>}\n",
      "original docstring   : This is a sample function.\n",
      "wrapped  annotations : {'x': <class 'int'>, 'return': <class 'int'>}\n",
      "wrapped  docstring   : This is a sample function.\n"
     ]
    }
   ],
   "source": [
    "from functools import wraps\n",
    "\n",
    "# metadata is preserved in this situation\n",
    "def debug_wrapper_2(func):\n",
    "    @wraps(func)  # If this line is missing, metadata won't be preserved\n",
    "    def wrapper(*args, **kwargs):\n",
    "        print(f\"Calling {func.__name__} with args: {args}, kwargs: {kwargs}\")\n",
    "        return func(*args, **kwargs)\n",
    "    return wrapper\n",
    "\n",
    "# wrapping the example function\n",
    "wrapped_function = debug_wrapper_2(example_function)\n",
    "\n",
    "# log\n",
    "print(f\"original annotations : {example_function.__annotations__}\")\n",
    "print(f\"original docstring   : {example_function.__doc__}\")\n",
    "print(f\"wrapped  annotations : {wrapped_function.__annotations__}\")\n",
    "print(f\"wrapped  docstring   : {wrapped_function.__doc__}\")"
   ]
  }
 ],
 "metadata": {
  "kernelspec": {
   "display_name": "Python 3",
   "language": "python",
   "name": "python3"
  },
  "language_info": {
   "codemirror_mode": {
    "name": "ipython",
    "version": 3
   },
   "file_extension": ".py",
   "mimetype": "text/x-python",
   "name": "python",
   "nbconvert_exporter": "python",
   "pygments_lexer": "ipython3",
   "version": "3.12.3"
  }
 },
 "nbformat": 4,
 "nbformat_minor": 2
}
