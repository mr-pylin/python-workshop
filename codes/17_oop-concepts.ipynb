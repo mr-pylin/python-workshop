{
 "cells": [
  {
   "cell_type": "markdown",
   "metadata": {},
   "source": [
    "📝 **Author:** Amirhossein Heydari - 📧 **Email:** AmirhosseinHeydari78@gmail.com - 📍 **Linktree:** [linktr.ee/mr_pylin](https://linktr.ee/mr_pylin)\n",
    "\n",
    "---"
   ]
  },
  {
   "cell_type": "markdown",
   "metadata": {},
   "source": [
    "# OOP Concepts"
   ]
  },
  {
   "cell_type": "markdown",
   "metadata": {},
   "source": [
    "## Inheritance\n",
    "   - It allows a class **(subclass / child class)** to inherit *attributes* and *methods* from another class **(superclass / parent class)**.\n",
    "   - Inheritance provides a way to reuse code, extend functionality, and improve the organization of complex programs.\n",
    "   \n",
    "✍️ **Key Concepts**:\n",
    "   - **Superclass/Parent Class**: The class whose properties and methods are inherited by another class.\n",
    "   - **Subclass/Child Class**: The class that inherits the properties and methods from the superclass.\n",
    "   - **Method Overriding**: The ability to redefine methods in the subclass that were inherited from the superclass.\n",
    "   - **`super()`**: A function that allows you to call methods from the superclass inside the subclass.\n",
    "\n",
    "🆚 **Other Concepts**:\n",
    "   - Composition\n",
    "      - Strong \"Has-A\" Relationship\n",
    "      - The lifecycle of the contained object (the part) depends on the lifecycle of the containing object (the whole).\n",
    "      - In other words, If the container object is destroyed, the part object is also destroyed.\n",
    "      - The contained object cannot exist independently of the container.\n",
    "   - Aggregation\n",
    "      - Weak \"Has-A\" Relationship\n",
    "      - The lifecycle of the contained object (the part) is independent of the lifecycle of the containing object (the whole).\n",
    "      - In other words, the contained object can exist on its own even if the container object is destroyed.\n",
    "\n",
    "😲 **Special class called `object`**:\n",
    "   - `object` is a special class that serves as the **base class** for all classes.\n",
    "   - This means that every class in Python implicitly inherits from `object`.\n",
    "   - More details are in [Special Methods]() notebook.\n",
    "\n",
    "<figure style=\"text-align: center;\">\n",
    "    <img src=\"../assets/images/SVGs/oop-composition-aggregation-inheritance.svg\" alt=\"oop-composition-aggregation-inheritance.svg\" style=\"width: 75%;\">\n",
    "    <figcaption>Inheritance vs. Composition vs. Aggregation</figcaption>\n",
    "</figure>\n",
    "\n",
    "📝 **Docs**:\n",
    "   - Inheritance: [docs.python.org/3/tutorial/classes.html#inheritance](https://docs.python.org/3/tutorial/classes.html#inheritance)\n",
    "   - Private Variables: [docs.python.org/3/tutorial/classes.html#private-variables](https://docs.python.org/3/tutorial/classes.html#private-variables)\n",
    "   - `type.mro()`: [docs.python.org/3/reference/datamodel.html#type.mro](https://docs.python.org/3/reference/datamodel.html#type.mro)\n",
    "   - class `super`: [docs.python.org/3.12/library/functions.html#super](https://docs.python.org/3.12/library/functions.html#super)\n",
    "   - `isinstance()`: [docs.python.org/3/library/functions.html#isinstance](https://docs.python.org/3/library/functions.html#isinstance)\n",
    "   - `issubclass()`: [docs.python.org/3/library/functions.html#issubclass](https://docs.python.org/3/library/functions.html#issubclass)"
   ]
  },
  {
   "cell_type": "markdown",
   "metadata": {},
   "source": [
    "### Overriding Methods\n",
    "   - A subclass can override a method from its superclass to provide a specific implementation.\n",
    "   - This is one of the most important features of inheritance.\n",
    "\n",
    "✍️ **Notes**:\n",
    "   - If you still want to access the parent class’s method, you can use `super()`.\n",
    "   - `super()` is used to call a method from the parent class.\n",
    "   - In multiple inheritance, `super()` follows the **MRO**, allowing you to call the next method in the hierarchy rather than referencing the immediate parent."
   ]
  },
  {
   "cell_type": "code",
   "execution_count": 112,
   "metadata": {},
   "outputs": [
    {
     "name": "stdout",
     "output_type": "stream",
     "text": [
      "Animal sound\n"
     ]
    }
   ],
   "source": [
    "# parent class\n",
    "class Animal:\n",
    "    def speak(self):\n",
    "        return \"Animal sound\"\n",
    "\n",
    "# initialization\n",
    "animal_1 = Animal()\n",
    "\n",
    "# log\n",
    "print(animal_1.speak())"
   ]
  },
  {
   "cell_type": "code",
   "execution_count": 113,
   "metadata": {},
   "outputs": [
    {
     "name": "stdout",
     "output_type": "stream",
     "text": [
      "Bark!\n"
     ]
    }
   ],
   "source": [
    "# child class (inherited from Animal class)\n",
    "class Dog(Animal):\n",
    "\n",
    "    # override <speak> method\n",
    "    def speak(self):\n",
    "        return \"Bark!\"\n",
    "\n",
    "# initialization\n",
    "dog_1 = Dog()\n",
    "\n",
    "# log\n",
    "print(dog_1.speak())"
   ]
  },
  {
   "cell_type": "code",
   "execution_count": 114,
   "metadata": {},
   "outputs": [
    {
     "name": "stdout",
     "output_type": "stream",
     "text": [
      "Animal sound , Bark!\n"
     ]
    }
   ],
   "source": [
    "# using super() to call the overridden method of the parent class\n",
    "class Dog(Animal):\n",
    "\n",
    "    # override <speak> method\n",
    "    def speak(self):\n",
    "        return f\"{super().speak()} , Bark!\"\n",
    "\n",
    "# initialization\n",
    "dog_1 = Dog()\n",
    "\n",
    "# log\n",
    "print(dog_1.speak())"
   ]
  },
  {
   "cell_type": "markdown",
   "metadata": {},
   "source": [
    "### Method Resolution Order (MRO)\n",
    "   - In cases where multiple inheritance is used, Python uses **MRO** to determine the order in which parent classes are searched when executing a method.\n",
    "   - Python uses the [C3 Linearization Algorithm](https://en.wikipedia.org/wiki/C3_linearization) to decide the MRO, which ensures a consistent and predictable order.\n",
    "   - The `mro()` method or the `__mro__` attribute shows the order in which methods are resolved.\n",
    "\n",
    "✍️ **Notes**:\n",
    "   - A chain of inheritance has a linear order."
   ]
  },
  {
   "cell_type": "code",
   "execution_count": 115,
   "metadata": {},
   "outputs": [
    {
     "name": "stdout",
     "output_type": "stream",
     "text": [
      "A.mro() : [<class '__main__.A'>, <class 'object'>]\n",
      "B.mro() : [<class '__main__.B'>, <class '__main__.A'>, <class 'object'>]\n",
      "C.mro() : [<class '__main__.C'>, <class '__main__.A'>, <class 'object'>]\n"
     ]
    }
   ],
   "source": [
    "# parent class\n",
    "class A:\n",
    "    pass\n",
    "\n",
    "# child class\n",
    "class B(A):\n",
    "    pass\n",
    "\n",
    "# child class\n",
    "class C(A):\n",
    "    pass\n",
    "\n",
    "# log\n",
    "print(f\"A.mro() : {A.mro()}\")\n",
    "print(f\"B.mro() : {B.mro()}\")\n",
    "print(f\"C.mro() : {C.mro()}\")"
   ]
  },
  {
   "cell_type": "markdown",
   "metadata": {},
   "source": [
    "### Composition and Aggregation"
   ]
  },
  {
   "cell_type": "code",
   "execution_count": 116,
   "metadata": {},
   "outputs": [],
   "source": [
    "class Salary:\n",
    "    def __init__(self, pay):\n",
    "        self.pay = pay\n",
    "    def get_total(self):\n",
    "        return self.pay * 12"
   ]
  },
  {
   "cell_type": "code",
   "execution_count": 117,
   "metadata": {},
   "outputs": [
    {
     "data": {
      "text/plain": [
       "'Salary: 12100'"
      ]
     },
     "execution_count": 117,
     "metadata": {},
     "output_type": "execute_result"
    }
   ],
   "source": [
    "# composition: Salary is a part of Employee\n",
    "class Employee:\n",
    "    def __init__(self, pay, bonus):\n",
    "        self.pay = pay\n",
    "        self.bonus = bonus\n",
    "        self.obj_salary = Salary(self.pay)\n",
    "    def annual_salary(self):\n",
    "        return f\"Salary: {self.obj_salary.get_total() + self.bonus}\"\n",
    "\n",
    "# initialization\n",
    "obj_emp = Employee(1000, 100)\n",
    "\n",
    "# log\n",
    "obj_emp.annual_salary()"
   ]
  },
  {
   "cell_type": "code",
   "execution_count": 118,
   "metadata": {},
   "outputs": [
    {
     "data": {
      "text/plain": [
       "'Salary: 12100'"
      ]
     },
     "execution_count": 118,
     "metadata": {},
     "output_type": "execute_result"
    }
   ],
   "source": [
    "# aggregation: Salary is NOT a part of Employee\n",
    "class Employee:\n",
    "    def __init__(self, pay, bonus):\n",
    "        self.pay = pay\n",
    "        self.bonus = bonus\n",
    "    def annual_salary(self):\n",
    "        return f\"Salary: {self.pay.get_total() + self.bonus}\"\n",
    "\n",
    "# initialization\n",
    "salary = Salary(1000)\n",
    "emp1 = Employee(salary, 100)\n",
    "\n",
    "# log\n",
    "emp1.annual_salary()"
   ]
  },
  {
   "cell_type": "markdown",
   "metadata": {},
   "source": [
    "### Types of Inheritance\n",
    "<figure style=\"text-align: center;\">\n",
    "    <img src=\"../assets/images/SVGs/oop-inheritance-types.svg\" alt=\"oop-inheritance-types.svg\" style=\"width: 75%;\">\n",
    "    <figcaption>Types of Inheritance</figcaption>\n",
    "</figure>"
   ]
  },
  {
   "cell_type": "markdown",
   "metadata": {},
   "source": [
    "#### Single Inheritance\n",
    "   - A subclass inherits from only one superclass."
   ]
  },
  {
   "cell_type": "code",
   "execution_count": 119,
   "metadata": {},
   "outputs": [
    {
     "name": "stdout",
     "output_type": "stream",
     "text": [
      "Jack\n",
      "Mack\n",
      "Jack - Mack\n"
     ]
    }
   ],
   "source": [
    "# parent class\n",
    "class Person:\n",
    "    def __init__(self, first, last) -> None:\n",
    "        self.first = first\n",
    "        self.last = last\n",
    "\n",
    "    def get_info(self) -> str:\n",
    "        return f\"{self.first} - {self.last}\"\n",
    "\n",
    "# initialization\n",
    "person_1 = Person('Jack', 'Mack')\n",
    "\n",
    "# log\n",
    "print(person_1.first)\n",
    "print(person_1.last)\n",
    "print(person_1.get_info())"
   ]
  },
  {
   "cell_type": "code",
   "execution_count": 120,
   "metadata": {},
   "outputs": [
    {
     "data": {
      "text/plain": [
       "'Morty - Smith'"
      ]
     },
     "execution_count": 120,
     "metadata": {},
     "output_type": "execute_result"
    }
   ],
   "source": [
    "# child class [not recommended]\n",
    "class Student(Person):\n",
    "    def __init__(self, first, last, age) -> None:\n",
    "        self.first = first  # ❌\n",
    "        self.last = last    # ❌\n",
    "        self.age = age\n",
    "\n",
    "# initialization\n",
    "student_1 = Student(\"Morty\", \"Smith\", 14)\n",
    "\n",
    "# log\n",
    "student_1.get_info()"
   ]
  },
  {
   "cell_type": "code",
   "execution_count": 121,
   "metadata": {},
   "outputs": [
    {
     "data": {
      "text/plain": [
       "'Morty - Smith'"
      ]
     },
     "execution_count": 121,
     "metadata": {},
     "output_type": "execute_result"
    }
   ],
   "source": [
    "# child class [not recommended]\n",
    "class Student(Person):\n",
    "    def __init__(self, first, last, age) -> None:\n",
    "        Person.__init__(self, first, last)  # Directly Calling the Parent Class is a kind of hard coding ❌\n",
    "        self.age = age\n",
    "\n",
    "# initialization\n",
    "student_1 = Student(\"Morty\", \"Smith\", 14)\n",
    "\n",
    "# log\n",
    "student_1.get_info()"
   ]
  },
  {
   "cell_type": "code",
   "execution_count": 122,
   "metadata": {},
   "outputs": [
    {
     "data": {
      "text/plain": [
       "'Morty - Smith'"
      ]
     },
     "execution_count": 122,
     "metadata": {},
     "output_type": "execute_result"
    }
   ],
   "source": [
    "# child class [recommended]\n",
    "class Student(Person):\n",
    "    def __init__(self, first, last, age) -> None:\n",
    "        super().__init__(first, last)  # compatible, cleaner, maintainable and flexible ✅\n",
    "        self.age = age\n",
    "\n",
    "# initialization\n",
    "student_2 = Student(\"Morty\", \"Smith\", 14)\n",
    "\n",
    "# log\n",
    "student_2.get_info()"
   ]
  },
  {
   "cell_type": "code",
   "execution_count": 123,
   "metadata": {},
   "outputs": [
    {
     "name": "stdout",
     "output_type": "stream",
     "text": [
      "polygon_1.sides         : (3, 3, 3, 3, 3, 3)\n",
      "polygon_1.who_am_i()    : Regular Polygon\n",
      "polygon_1.area()        : 4.164789146964769\n",
      "polygon_1.perimeter()   : 18\n",
      "\n",
      "rectangle_1.sides       : (4, 4, 7, 7)\n",
      "rectangle_1.who_am_i()  : Irregular Quadrilateral\n",
      "rectangle_1.area()      : 28\n",
      "rectangle_1.perimeter() : 22\n",
      "\n",
      "square_1.sides          : (3, 3, 3, 3)\n",
      "square_1.who_am_i()     : Regular Quadrilateral\n",
      "square_1.area()         : 9\n",
      "square_1.perimeter()    : 12\n",
      "\n",
      "square_2.sides          : (3, 3, 3, 3)\n",
      "square_2.who_am_i()     : Regular Quadrilateral\n",
      "square_2.area()         : 9.0\n",
      "square_2.perimeter()    : 12\n"
     ]
    }
   ],
   "source": [
    "# a comprehensive example\n",
    "from math import sin\n",
    "\n",
    "class Polygon:\n",
    "    def __init__(self, *sides: float) -> None:\n",
    "        self.sides = sides\n",
    "        self.total_sides = len(sides)\n",
    "\n",
    "        if len(set(sides)) == 1:\n",
    "            self.type = \"Regular\"\n",
    "        else:\n",
    "            self.type = \"Irregular\"\n",
    "\n",
    "        if len(sides) < 3:\n",
    "            raise ValueError(f\"{self.total_sides} < 3\")\n",
    "    \n",
    "    \n",
    "    def who_am_i(self):\n",
    "        match self.total_sides:\n",
    "            case 3:\n",
    "                return f\"{self.type} Triangle\"\n",
    "            case 4:\n",
    "                return f\"{self.type} Quadrilateral\"\n",
    "            case _:\n",
    "                return f\"{self.type} Polygon\"\n",
    "\n",
    "    def area(self):\n",
    "        if self.type == \"Regular\":\n",
    "            base = self.sides[0]\n",
    "            deg = 360 / self.total_sides / 2\n",
    "            deg_2 = 180 - 90 - deg\n",
    "            apothem = (base*sin(deg_2)) / (sin(deg)*2)\n",
    "            return (apothem * self.perimeter()) / 2\n",
    "        else:\n",
    "            return \"ERROR: area cannot be calculated.\"\n",
    "\n",
    "    def perimeter(self):\n",
    "        return sum(self.sides)\n",
    "\n",
    "\n",
    "class Rectangle(Polygon):\n",
    "    def __init__(self, length, width) -> None:\n",
    "        super().__init__(length, length, width, width)\n",
    "        self.length = length\n",
    "        self.width = width\n",
    "\n",
    "    def area(self):\n",
    "        return self.length * self.width\n",
    "\n",
    "class Square(Rectangle):\n",
    "    def __init__(self, side: float) -> None:\n",
    "        super().__init__(side, side)\n",
    "\n",
    "# initialization\n",
    "polygon_1   = Polygon(3, 3, 3, 3, 3, 3)\n",
    "rectangle_1 = Rectangle(4, 7)\n",
    "square_1    = Square(3)\n",
    "square_2    = Polygon(3, 3, 3, 3)\n",
    "\n",
    "# log\n",
    "print(f\"polygon_1.sides         : {polygon_1.sides}\")\n",
    "print(f\"polygon_1.who_am_i()    : {polygon_1.who_am_i()}\")\n",
    "print(f\"polygon_1.area()        : {polygon_1.area()}\")\n",
    "print(f\"polygon_1.perimeter()   : {polygon_1.perimeter()}\\n\")\n",
    "\n",
    "print(f\"rectangle_1.sides       : {rectangle_1.sides}\")\n",
    "print(f\"rectangle_1.who_am_i()  : {rectangle_1.who_am_i()}\")\n",
    "print(f\"rectangle_1.area()      : {rectangle_1.area()}\")\n",
    "print(f\"rectangle_1.perimeter() : {rectangle_1.perimeter()}\\n\")\n",
    "\n",
    "print(f\"square_1.sides          : {square_1.sides}\")\n",
    "print(f\"square_1.who_am_i()     : {square_1.who_am_i()}\")\n",
    "print(f\"square_1.area()         : {square_1.area()}\")\n",
    "print(f\"square_1.perimeter()    : {square_1.perimeter()}\\n\")\n",
    "\n",
    "print(f\"square_2.sides          : {square_2.sides}\")\n",
    "print(f\"square_2.who_am_i()     : {square_2.who_am_i()}\")\n",
    "print(f\"square_2.area()         : {square_2.area()}\")\n",
    "print(f\"square_2.perimeter()    : {square_2.perimeter()}\")"
   ]
  },
  {
   "cell_type": "markdown",
   "metadata": {},
   "source": [
    "#### Multilevel Inheritance\n",
    "   - A subclass inherits from another subclass, creating a chain of inheritance."
   ]
  },
  {
   "cell_type": "code",
   "execution_count": 124,
   "metadata": {},
   "outputs": [],
   "source": [
    "# base class (grandparent)\n",
    "class LivingBeing:\n",
    "    def __init__(self, name):\n",
    "        self.name = name\n",
    "    \n",
    "    def breathe(self):\n",
    "        return f\"{self.name} is breathing.\""
   ]
  },
  {
   "cell_type": "code",
   "execution_count": 125,
   "metadata": {},
   "outputs": [],
   "source": [
    "# Derived class (parent) inherits from LivingBeing\n",
    "class Animal(LivingBeing):\n",
    "    def __init__(self, name, species):\n",
    "        super().__init__(name)  # call the parent class (LivingBeing) constructor\n",
    "        self.species = species\n",
    "    \n",
    "    def move(self):\n",
    "        return f\"{self.name}, the {self.species}, is moving.\""
   ]
  },
  {
   "cell_type": "code",
   "execution_count": 126,
   "metadata": {},
   "outputs": [],
   "source": [
    "# further derived class (child) inherits from Animal\n",
    "class Dog(Animal):\n",
    "    def __init__(self, name, breed):\n",
    "        super().__init__(name, \"Dog\")  # call the parent class (Animal) constructor\n",
    "        self.breed = breed\n",
    "    \n",
    "    def bark(self):\n",
    "        return f\"{self.name}, the {self.breed}, is barking.\""
   ]
  },
  {
   "cell_type": "code",
   "execution_count": 127,
   "metadata": {},
   "outputs": [
    {
     "name": "stdout",
     "output_type": "stream",
     "text": [
      "dog.breathe() : Buddy is breathing.\n",
      "dog.move()    : Buddy, the Dog, is moving.\n",
      "dog.bark()    : Buddy, the Golden Retriever, is barking.\n"
     ]
    }
   ],
   "source": [
    "# creating an instance of the Dog class\n",
    "dog = Dog(\"Buddy\", \"Golden Retriever\")\n",
    "\n",
    "# log\n",
    "print(f\"dog.breathe() : {dog.breathe()}\")\n",
    "print(f\"dog.move()    : {dog.move()}\")\n",
    "print(f\"dog.bark()    : {dog.bark()}\")"
   ]
  },
  {
   "cell_type": "markdown",
   "metadata": {},
   "source": [
    "#### Multiple Inheritance\n",
    "   - A subclass can inherit from more than one superclass.\n",
    "\n",
    "⚠️ **Potential Issues**:\n",
    "   - In multiple inheritance, determining the order in which classes are searched when a method or attribute is accessed can be complicated (MRO).\n",
    "   - Deadly diamond of death (diamond problem)\n",
    "      - This occurs when a class inherits from two classes that both inherit from the same base class.\n",
    "      - The ambiguity arises when both parent classes define a method with the same name."
   ]
  },
  {
   "cell_type": "code",
   "execution_count": 128,
   "metadata": {},
   "outputs": [],
   "source": [
    "# grandparent class\n",
    "class Person:\n",
    "    def __init__(self, name, age):\n",
    "        self.name = name\n",
    "        self.age = age\n",
    "    \n",
    "    def introduce(self):\n",
    "        return f\"Hi, I'm {self.name}, and I'm {self.age} years old.\""
   ]
  },
  {
   "cell_type": "code",
   "execution_count": 129,
   "metadata": {},
   "outputs": [],
   "source": [
    "# parent class 1\n",
    "class Employee(Person):\n",
    "    def __init__(self, name, age, employee_id, position):\n",
    "        Person.__init__(self, name, age)  # call the constructor of Person\n",
    "        self.employee_id = employee_id\n",
    "        self.position = position\n",
    "\n",
    "    def work(self):\n",
    "        return f\"{self.name} is working as a {self.position}.\""
   ]
  },
  {
   "cell_type": "code",
   "execution_count": 130,
   "metadata": {},
   "outputs": [],
   "source": [
    "# parent class 2\n",
    "class Student(Person):\n",
    "    def __init__(self, name, age, student_id, major):\n",
    "        Person.__init__(self, name, age)  # call the constructor of Person\n",
    "        self.student_id = student_id\n",
    "        self.major = major\n",
    "    \n",
    "    def study(self):\n",
    "        return f\"{self.name} is studying {self.major}.\""
   ]
  },
  {
   "cell_type": "code",
   "execution_count": 131,
   "metadata": {},
   "outputs": [],
   "source": [
    "# subclass (inherits from both parents)\n",
    "class Intern(Employee, Student):\n",
    "    def __init__(self, name, age, employee_id, position, student_id, major):\n",
    "        Employee.__init__(self, name, age, employee_id, position)  # initialize Employee (which calls Person internally)\n",
    "        Student.__init__(self, name, age, student_id, major)       # initialize Student  (which also calls Person internally)\n",
    "\n",
    "    def intern_details(self):\n",
    "        return f\"Intern {self.name} is a {self.major} student and works as a {self.position}.\""
   ]
  },
  {
   "cell_type": "code",
   "execution_count": 132,
   "metadata": {},
   "outputs": [
    {
     "name": "stdout",
     "output_type": "stream",
     "text": [
      "intern.introduce()      : Hi, I'm John, and I'm 21 years old.\n",
      "intern.work()           : John is working as a Software Engineer.\n",
      "intern.study()          : John is studying Computer Science.\n",
      "intern.intern_details() : Intern John is a Computer Science student and works as a Software Engineer.\n",
      "Intern.mro()            : [<class '__main__.Intern'>, <class '__main__.Employee'>, <class '__main__.Student'>, <class '__main__.Person'>, <class 'object'>]\n"
     ]
    }
   ],
   "source": [
    "# creating an instance of Intern\n",
    "intern = Intern(\"John\", 21, \"E123\", \"Software Engineer\", \"S456\", \"Computer Science\")\n",
    "\n",
    "# log\n",
    "print(f\"intern.introduce()      : {intern.introduce()}\")\n",
    "print(f\"intern.work()           : {intern.work()}\")\n",
    "print(f\"intern.study()          : {intern.study()}\")\n",
    "print(f\"intern.intern_details() : {intern.intern_details()}\")\n",
    "print(f\"Intern.mro()            : {Intern.mro()}\")"
   ]
  },
  {
   "cell_type": "markdown",
   "metadata": {},
   "source": [
    "##### Mixins\n",
    "   - Mixins are lightweight, reusable classes that provide methods and functionality to other classes but are not intended to **stand alone**.\n",
    "   - It is intended to be mixed into other classes to add specific functionality without modifying or deeply coupling with the base class."
   ]
  },
  {
   "cell_type": "code",
   "execution_count": 133,
   "metadata": {},
   "outputs": [],
   "source": [
    "# base class\n",
    "class Person:\n",
    "    def __init__(self, name, age):\n",
    "        self.name = name\n",
    "        self.age = age\n",
    "    \n",
    "    def introduce(self):\n",
    "        return f\"Hi, I'm {self.name}, and I'm {self.age} years old.\""
   ]
  },
  {
   "cell_type": "code",
   "execution_count": 134,
   "metadata": {},
   "outputs": [],
   "source": [
    "# mixin for work behavior\n",
    "class WorkMixin:\n",
    "    def __init__(self, employee_id, position):\n",
    "        self.employee_id = employee_id\n",
    "        self.position = position\n",
    "\n",
    "    def work(self):\n",
    "        return f\"{self.name} is working as a {self.position}.\""
   ]
  },
  {
   "cell_type": "code",
   "execution_count": 135,
   "metadata": {},
   "outputs": [],
   "source": [
    "# mixin for study behavior\n",
    "class StudyMixin:\n",
    "    def __init__(self, student_id, major):\n",
    "        self.student_id = student_id\n",
    "        self.major = major\n",
    "\n",
    "    def study(self):\n",
    "        return f\"{self.name} is studying {self.major}.\""
   ]
  },
  {
   "cell_type": "code",
   "execution_count": 136,
   "metadata": {},
   "outputs": [],
   "source": [
    "# subclass combining Person with mixins\n",
    "class Intern(Person, WorkMixin, StudyMixin):\n",
    "    def __init__(self, name, age, employee_id, position, student_id, major):\n",
    "        Person.__init__(self, name, age)  # initialize Person\n",
    "        WorkMixin.__init__(self, employee_id, position)  # initialize WorkMixin\n",
    "        StudyMixin.__init__(self, student_id, major)  # initialize StudyMixin\n",
    "\n",
    "    def intern_details(self):\n",
    "        return f\"Intern {self.name} is a {self.major} student and works as a {self.position}.\""
   ]
  },
  {
   "cell_type": "code",
   "execution_count": 137,
   "metadata": {},
   "outputs": [
    {
     "name": "stdout",
     "output_type": "stream",
     "text": [
      "intern.introduce()      : Hi, I'm John, and I'm 21 years old.\n",
      "intern.work()           : John is working as a Software Engineer.\n",
      "intern.study()          : John is studying Computer Science.\n",
      "intern.intern_details() : Intern John is a Computer Science student and works as a Software Engineer.\n"
     ]
    }
   ],
   "source": [
    "# initialization\n",
    "intern = Intern(\"John\", 21, \"E123\", \"Software Engineer\", \"S456\", \"Computer Science\")\n",
    "\n",
    "# log\n",
    "print(f\"intern.introduce()      : {intern.introduce()}\")\n",
    "print(f\"intern.work()           : {intern.work()}\")\n",
    "print(f\"intern.study()          : {intern.study()}\")\n",
    "print(f\"intern.intern_details() : {intern.intern_details()}\")"
   ]
  },
  {
   "cell_type": "markdown",
   "metadata": {},
   "source": [
    "##### Diamond Problem"
   ]
  },
  {
   "cell_type": "code",
   "execution_count": 138,
   "metadata": {},
   "outputs": [],
   "source": [
    "# base class\n",
    "class Animal:\n",
    "    def speak(self):\n",
    "        return \"Animal speaks\"\n",
    "\n",
    "# first derived class\n",
    "class Dog(Animal):\n",
    "    def speak(self):\n",
    "        return \"Bark\"\n",
    "\n",
    "# second derived class\n",
    "class Cat(Animal):\n",
    "    def speak(self):\n",
    "        return \"Meow\""
   ]
  },
  {
   "cell_type": "code",
   "execution_count": 139,
   "metadata": {},
   "outputs": [
    {
     "name": "stdout",
     "output_type": "stream",
     "text": [
      "Bark\n"
     ]
    }
   ],
   "source": [
    "# diamond problem ⚠️\n",
    "class Hybrid(Dog, Cat):\n",
    "    pass\n",
    "\n",
    "# creating an instance of Hybrid\n",
    "hybrid = Hybrid()\n",
    "\n",
    "# log\n",
    "print(hybrid.speak())  # which method will be called?"
   ]
  },
  {
   "cell_type": "code",
   "execution_count": 140,
   "metadata": {},
   "outputs": [
    {
     "name": "stdout",
     "output_type": "stream",
     "text": [
      "Bark and Meow\n"
     ]
    }
   ],
   "source": [
    "# solution for diamond problem\n",
    "class Hybrid(Dog, Cat):\n",
    "    def speak(self):\n",
    "        # explicitly call the method from the desired superclass\n",
    "        dog_sound = Dog.speak(self)\n",
    "        cat_sound = Cat.speak(self)\n",
    "        return f\"{dog_sound} and {cat_sound}\"\n",
    "\n",
    "# creating an instance of Hybrid\n",
    "hybrid = Hybrid()\n",
    "\n",
    "# log\n",
    "print(hybrid.speak())"
   ]
  },
  {
   "cell_type": "markdown",
   "metadata": {},
   "source": [
    "#### Hierarchical Inheritance\n",
    "   - Multiple subclasses inherit from the same superclass."
   ]
  },
  {
   "cell_type": "code",
   "execution_count": 141,
   "metadata": {},
   "outputs": [],
   "source": [
    "# base class (parent)\n",
    "class Vehicle:\n",
    "    def __init__(self, brand, model):\n",
    "        self.brand = brand\n",
    "        self.model = model\n",
    "    \n",
    "    def start(self):\n",
    "        return f\"{self.brand} {self.model} is starting.\"\n",
    "\n",
    "    def stop(self):\n",
    "        return f\"{self.brand} {self.model} is stopping.\""
   ]
  },
  {
   "cell_type": "code",
   "execution_count": 142,
   "metadata": {},
   "outputs": [],
   "source": [
    "# derived class 1 (child) inherits from Vehicle\n",
    "class Car(Vehicle):\n",
    "    def __init__(self, brand, model, doors):\n",
    "        super().__init__(brand, model)  # call parent constructor (Vehicle)\n",
    "        self.doors = doors\n",
    "    \n",
    "    def honk(self):\n",
    "        return f\"{self.brand} {self.model} is honking. It has {self.doors} doors.\""
   ]
  },
  {
   "cell_type": "code",
   "execution_count": 143,
   "metadata": {},
   "outputs": [],
   "source": [
    "# derived class 2 (child) inherits from Vehicle\n",
    "class Bike(Vehicle):\n",
    "    def __init__(self, brand, model, type_of_bike):\n",
    "        super().__init__(brand, model)  # call parent constructor (Vehicle)\n",
    "        self.type_of_bike = type_of_bike\n",
    "    \n",
    "    def ring_bell(self):\n",
    "        return f\"{self.brand} {self.model} is ringing its bell. It's a {self.type_of_bike} bike.\""
   ]
  },
  {
   "cell_type": "code",
   "execution_count": 144,
   "metadata": {},
   "outputs": [
    {
     "name": "stdout",
     "output_type": "stream",
     "text": [
      "car.start()      : Toyota Corolla is starting.\n",
      "car.honk()       : Toyota Corolla is honking. It has 4 doors.\n",
      "car.stop()       : Toyota Corolla is stopping.\n",
      "\n",
      "bike.start()     : Giant Escape 3 is starting.\n",
      "bike.ring_bell() : Giant Escape 3 is ringing its bell. It's a Mountain bike.\n",
      "bike.stop()      : Giant Escape 3 is stopping.\n"
     ]
    }
   ],
   "source": [
    "# initializing\n",
    "car = Car(\"Toyota\", \"Corolla\", 4)\n",
    "bike = Bike(\"Giant\", \"Escape 3\", \"Mountain\")\n",
    "\n",
    "# log\n",
    "print(f\"car.start()      : {car.start()}\")\n",
    "print(f\"car.honk()       : {car.honk()}\")\n",
    "print(f\"car.stop()       : {car.stop()}\\n\")\n",
    "\n",
    "print(f\"bike.start()     : {bike.start()}\")\n",
    "print(f\"bike.ring_bell() : {bike.ring_bell()}\")\n",
    "print(f\"bike.stop()      : {bike.stop()}\")"
   ]
  },
  {
   "cell_type": "markdown",
   "metadata": {},
   "source": [
    "#### Hybrid Inheritance\n",
    "   - A combination of two or more types of inheritance (e.g., multiple and multilevel)."
   ]
  },
  {
   "cell_type": "code",
   "execution_count": 145,
   "metadata": {},
   "outputs": [],
   "source": [
    "# base class\n",
    "class Animal:\n",
    "    def __init__(self, species):\n",
    "        self.species = species\n",
    "    \n",
    "    def eat(self):\n",
    "        return f\"{self.species} is eating.\""
   ]
  },
  {
   "cell_type": "code",
   "execution_count": 146,
   "metadata": {},
   "outputs": [],
   "source": [
    "# derived class (single Inheritance)\n",
    "class Mammal(Animal):\n",
    "    def __init__(self, species, habitat):\n",
    "        super().__init__(species)  # Call the constructor of Animal\n",
    "        self.habitat = habitat\n",
    "    \n",
    "    def give_birth(self):\n",
    "        return f\"{self.species} gives live birth.\"\n",
    "\n",
    "# derived class (single Inheritance)\n",
    "class Bird(Animal):\n",
    "    def __init__(self, species, wing_span):\n",
    "        super().__init__(species)  # Call the constructor of Animal\n",
    "        self.wing_span = wing_span\n",
    "    \n",
    "    def lay_eggs(self):\n",
    "        return f\"{self.species} lays eggs.\""
   ]
  },
  {
   "cell_type": "code",
   "execution_count": 147,
   "metadata": {},
   "outputs": [],
   "source": [
    "# mixins for additional functionality\n",
    "class FlyingMixin:\n",
    "    def fly(self):\n",
    "        return f\"{self.species} is flying.\"\n",
    "\n",
    "class SwimmingMixin:\n",
    "    def swim(self):\n",
    "        return f\"{self.species} is swimming.\""
   ]
  },
  {
   "cell_type": "code",
   "execution_count": 148,
   "metadata": {},
   "outputs": [],
   "source": [
    "# derived class using multiple inheritance\n",
    "class Bat(Mammal, FlyingMixin):\n",
    "    def __init__(self, species, habitat, wing_span):\n",
    "        Mammal.__init__(self, species, habitat)  # call Mammal constructor\n",
    "        self.wing_span = wing_span  # additional attribute specific to Bat\n",
    "\n",
    "# derived class using multiple inheritance\n",
    "class Penguin(Bird, SwimmingMixin):\n",
    "    def __init__(self, species, wing_span, habitat):\n",
    "        Bird.__init__(self, species, wing_span)  # call Bird constructor\n",
    "        self.habitat = habitat  # additional attribute specific to Penguin"
   ]
  },
  {
   "cell_type": "code",
   "execution_count": 149,
   "metadata": {},
   "outputs": [
    {
     "name": "stdout",
     "output_type": "stream",
     "text": [
      "Bat is eating.\n",
      "Bat gives live birth.\n",
      "Bat is flying.\n",
      "Bat lives in a Cave.\n",
      "\n",
      "Penguin is eating.\n",
      "Penguin lays eggs.\n",
      "Penguin is swimming.\n",
      "Penguin lives in Antarctica.\n",
      "\n",
      "Bat.mro()     : [<class '__main__.Bat'>, <class '__main__.Mammal'>, <class '__main__.Animal'>, <class '__main__.FlyingMixin'>, <class 'object'>]\n",
      "Penguin.mro() : [<class '__main__.Penguin'>, <class '__main__.Bird'>, <class '__main__.Animal'>, <class '__main__.SwimmingMixin'>, <class 'object'>]\n"
     ]
    }
   ],
   "source": [
    "# creating instances\n",
    "bat = Bat(\"Bat\", \"Cave\", \"1 meter\")\n",
    "penguin = Penguin(\"Penguin\", \"0.5 meters\", \"Antarctica\")\n",
    "\n",
    "# log\n",
    "print(bat.eat())\n",
    "print(bat.give_birth())\n",
    "print(bat.fly())\n",
    "print(f\"{bat.species} lives in a {bat.habitat}.\\n\")\n",
    "print(penguin.eat())\n",
    "print(penguin.lay_eggs())\n",
    "print(penguin.swim())\n",
    "print(f\"{penguin.species} lives in {penguin.habitat}.\\n\")\n",
    "print(f\"Bat.mro()     : {Bat.mro()}\")\n",
    "print(f\"Penguin.mro() : {Penguin.mro()}\")"
   ]
  },
  {
   "cell_type": "markdown",
   "metadata": {},
   "source": [
    "## Encapsulation\n",
    "   - Encapsulation is the concept of wrapping data (variables) and methods (functions) together into a single unit, i.e., a class.\n",
    "   - It helps to restrict access to certain details of an object and only expose the necessary parts."
   ]
  },
  {
   "cell_type": "markdown",
   "metadata": {},
   "source": [
    "### Types of Modifiers\n",
    "   - **Public**\n",
    "      - Public members are accessible from anywhere (inside the class, subclasses, and even outside the class).\n",
    "      - By default, all attributes and methods in Python are public unless explicitly stated otherwise.\n",
    "      - Syntax: No leading underscores.\n",
    "   - **Protected**\n",
    "      - Protected members are accessible within the class and its subclasses\n",
    "      - It’s not recommended to access them from outside the class.\n",
    "      - This is more of a convention than strict enforcement.\n",
    "      - Syntax: Single leading underscore (`_`).\n",
    "   - **Private**\n",
    "      - Private members can only be accessed within the class where they are defined and not in subclasses or from outside.\n",
    "      - Python achieves this using **name mangling** (used to make class attributes and methods private).\n",
    "      - The attribute name is altered to include the class name as a prefix (e.g., __attribute becomes _ClassName__attribute).\n",
    "      - Syntax: Double leading underscore (`__`).\n",
    "\n",
    "✍️ **Notes**:\n",
    "   - Python doesn’t have **strict** access control like languages such as `Java` or `C++`, it follows certain **conventions** using modifiers.\n",
    "\n",
    "📝 **Docs**:\n",
    "   - Private variables: [docs.python.org/3/tutorial/classes.html#private-variables](https://docs.python.org/3/tutorial/classes.html#private-variables)\n",
    "   - Private name mangling: [docs.python.org/3/reference/expressions.html#index-5](https://docs.python.org/3/reference/expressions.html#index-5)\n",
    "   - Customizing attribute access: [docs.python.org/3.12/reference/datamodel.html#customizing-attribute-access](https://docs.python.org/3.12/reference/datamodel.html#customizing-attribute-access)\n",
    "   - class `property`: [docs.python.org/3.12/library/functions.html#property](https://docs.python.org/3.12/library/functions.html#property)\n",
    "\n",
    "🐍 **PEP**:\n",
    "   - Instance Descriptors [[PEP 549](https://peps.python.org/pep-0549/)]"
   ]
  },
  {
   "cell_type": "code",
   "execution_count": 150,
   "metadata": {},
   "outputs": [
    {
     "name": "stdout",
     "output_type": "stream",
     "text": [
      "Toyota\n",
      "Corolla\n"
     ]
    }
   ],
   "source": [
    "class Car:\n",
    "    def __init__(self, make, model):\n",
    "        self._make = make     # protected attribute\n",
    "        self.__model = model  # private attribute\n",
    "\n",
    "    def get_model(self):\n",
    "        return self.__model  # accessor for private attribute\n",
    "\n",
    "car = Car(\"Toyota\", \"Corolla\")\n",
    "print(car._make)   # Access allowed (though protected by convention)\n",
    "# print(car.__model)  # Error: Attribute is private\n",
    "print(car.get_model())  # Correct way to access private attribute"
   ]
  },
  {
   "cell_type": "markdown",
   "metadata": {},
   "source": [
    "### Access Controllers\n",
    "   - Methods that allow controlled access to an object's attributes.\n",
    "   - They provide a way to read and modify private or protected attributes indirectly.\n",
    "\n",
    "✍️ **Types**:\n",
    "   - **Getter**: A method that retrieves the value of a private or protected attribute.\n",
    "   - **Setter**: A method that sets or modifies the value of a private or protected attribute.\n",
    "   - **deleter**: A method that deletes or removes the value of a private or protected attribute."
   ]
  },
  {
   "cell_type": "code",
   "execution_count": 151,
   "metadata": {},
   "outputs": [
    {
     "name": "stdout",
     "output_type": "stream",
     "text": [
      "student_1.first     : Morty\n",
      "student_1.last      : Smith\n",
      "student_1.get_age() : 14\n"
     ]
    }
   ],
   "source": [
    "class Student:\n",
    "    def __init__(self, first, last, age):\n",
    "        self.first = first\n",
    "        self.last = last\n",
    "        self.set_age(age) # to use setter in __init__\n",
    "\n",
    "    # getter\n",
    "    def get_age(self):\n",
    "        return self.__age\n",
    "\n",
    "    # setter\n",
    "    def set_age(self, value):\n",
    "        if value >= 7:\n",
    "            self.__age = value\n",
    "        else:\n",
    "            raise ValueError\n",
    "\n",
    "# initializing\n",
    "student_1 = Student(\"Morty\", \"Smith\", 14)\n",
    "# student_2 = Student(\"Judith\", \"Grimes\", 6)  # ValueError\n",
    "\n",
    "# log\n",
    "print(f\"student_1.first     : {student_1.first}\")\n",
    "print(f\"student_1.last      : {student_1.last}\")\n",
    "print(f\"student_1.get_age() : {student_1.get_age()}\")"
   ]
  },
  {
   "cell_type": "code",
   "execution_count": 152,
   "metadata": {},
   "outputs": [
    {
     "name": "stdout",
     "output_type": "stream",
     "text": [
      "student_1.first     : Morty\n",
      "student_1.last      : Smith\n",
      "student_1.age       : 14\n"
     ]
    }
   ],
   "source": [
    "# using decorators for getter, setter, deleter\n",
    "class Student:\n",
    "    def __init__(self, first, last, age):\n",
    "        self.first = first\n",
    "        self.last = last\n",
    "        \n",
    "        # self.age is an interface for getting and setting the value\n",
    "        # behind the scenes, Python automatically calls the getter or setter method.\n",
    "        # private variable __age is created.\n",
    "        self.age = age\n",
    "\n",
    "    # getter\n",
    "    @property\n",
    "    def age(self):\n",
    "        return self.__age\n",
    "\n",
    "    # setter\n",
    "    @age.setter\n",
    "    def age(self, value):\n",
    "        if value >= 7:\n",
    "            self.__age = value\n",
    "        else:\n",
    "            raise ValueError\n",
    "\n",
    "# Initializing students\n",
    "student_1 = Student(\"Morty\", \"Smith\", 14)\n",
    "# student_2 = Student(\"Judith\", \"Grimes\", 6)  # Raises ValueError\n",
    "\n",
    "# Log\n",
    "print(f\"student_1.first     : {student_1.first}\")\n",
    "print(f\"student_1.last      : {student_1.last}\")\n",
    "print(f\"student_1.age       : {student_1.age}\")  # No need for get_age()\n"
   ]
  },
  {
   "cell_type": "markdown",
   "metadata": {},
   "source": [
    "## Abstraction\n",
    "   - Abstraction focuses on hiding the implementation details and exposing only the necessary parts of an object to the outside world.\n",
    "   - By doing this, abstraction reduces complexity and allows the programmer to work with higher-level interfaces.\n",
    "   - Abstraction can be achieved through the use of *abstract classes* and *interfaces* provided by the `abc` (Abstract Base Class) module.\n",
    "\n",
    "✍️ **Key Elements of Abstract Classes**:\n",
    "   - `ABC` class\n",
    "      - All abstract classes inherit from the `ABC` class in the `abc` module.\n",
    "   - `abstractmethod` decorator\n",
    "      - This decorator is used to declare methods that must be implemented by any subclass.\n",
    "   - Instantiation\n",
    "      - Abstract classes cannot be instantiated directly.\n",
    "\n",
    "🆚 **Abstract Methods vs Concrete Methods**:\n",
    "   - Abstract Methods\n",
    "      - Defined using the `@abstractmethod` decorator.\n",
    "      - Must be overridden in derived classes.\n",
    "   - Concrete Methods\n",
    "      - Defined like normal methods in the abstract class.\n",
    "      - Can have a default implementation and may be overridden by subclasses.\n",
    "\n",
    "📝 **Docs**:\n",
    "   - Abstract Base Classes: [docs.python.org/3/library/abc.html](https://docs.python.org/3/library/abc.html)\n",
    "\n",
    "🐍 **PEP**:\n",
    "   - Introducing Abstract Base Classes [[PEP 3119](https://peps.python.org/pep-3119/)]\n",
    "   - A Type Hierarchy for Numbers: [[PEP 3141](https://peps.python.org/pep-3141/)]"
   ]
  },
  {
   "cell_type": "code",
   "execution_count": 153,
   "metadata": {},
   "outputs": [],
   "source": [
    "from abc import ABC, abstractmethod"
   ]
  },
  {
   "cell_type": "code",
   "execution_count": 154,
   "metadata": {},
   "outputs": [],
   "source": [
    "class Shape(ABC):\n",
    "    @abstractmethod\n",
    "    def area(self):\n",
    "        pass\n",
    "\n",
    "    @abstractmethod\n",
    "    def perimeter(self):\n",
    "        pass\n",
    "\n",
    "# shape = Shape()  # raises TypeError: Can't instantiate abstract class"
   ]
  },
  {
   "cell_type": "code",
   "execution_count": 155,
   "metadata": {},
   "outputs": [
    {
     "name": "stdout",
     "output_type": "stream",
     "text": [
      "200\n",
      "60\n"
     ]
    }
   ],
   "source": [
    "class Rectangle(Shape):\n",
    "    def __init__(self, width, height):\n",
    "        self.width = width\n",
    "        self.height = height\n",
    "\n",
    "    def area(self):\n",
    "        return self.width * self.height\n",
    "\n",
    "    def perimeter(self):\n",
    "        return 2 * (self.width + self.height)\n",
    "\n",
    "# log\n",
    "rect = Rectangle(10, 20)\n",
    "print(rect.area())\n",
    "print(rect.perimeter())"
   ]
  },
  {
   "cell_type": "code",
   "execution_count": 156,
   "metadata": {},
   "outputs": [
    {
     "name": "stdout",
     "output_type": "stream",
     "text": [
      "78.5\n",
      "31.400000000000002\n"
     ]
    }
   ],
   "source": [
    "class Circle(Shape):\n",
    "    def __init__(self, radius):\n",
    "        self.radius = radius\n",
    "\n",
    "    def area(self):\n",
    "        return 3.14 * self.radius ** 2\n",
    "\n",
    "    def perimeter(self):\n",
    "        return 2 * 3.14 * self.radius\n",
    "\n",
    "# log\n",
    "circ = Circle(5)\n",
    "print(circ.area())\n",
    "print(circ.perimeter())"
   ]
  },
  {
   "cell_type": "markdown",
   "metadata": {},
   "source": [
    "## Polymorphism\n",
    "   - Polymorphism means \"many forms.\" In Python.\n",
    "   - It allows objects of different classes to be treated as objects of a common superclass.\n",
    "\n",
    "✍️ **Types of Polymorphism**:\n",
    "   - **Compile-time Polymorphism (Method Overloading)**:\n",
    "      - Method overloading allows the same method name to be defined with different parameters.\n",
    "      - Not natively supported in Python but can be mimicked.\n",
    "      - Python allows only the last method definition to be recognized, so this form of polymorphism isn't used directly.\n",
    "   - **Run-time Polymorphism (Method Overriding)**:\n",
    "      - Achieved through inheritance, where a child class can provide its own implementation of a method already defined in its parent class.\n",
    "      - This is the most common form of polymorphism in Python."
   ]
  },
  {
   "cell_type": "markdown",
   "metadata": {},
   "source": [
    "### Polymorphism with Functions\n",
    "   - A function can take objects of different types as arguments and perform specific operations depending on the object type."
   ]
  },
  {
   "cell_type": "code",
   "execution_count": 157,
   "metadata": {},
   "outputs": [
    {
     "name": "stdout",
     "output_type": "stream",
     "text": [
      "Woof!\n",
      "Meow!\n"
     ]
    }
   ],
   "source": [
    "class Dog:\n",
    "    def speak(self):\n",
    "        return \"Woof!\"\n",
    "\n",
    "class Cat:\n",
    "    def speak(self):\n",
    "        return \"Meow!\"\n",
    "\n",
    "# in this case, animal_sound() works with any object that implements the speak() method, demonstrating polymorphism.\n",
    "def animal_sound(animal):\n",
    "    print(animal.speak())\n",
    "\n",
    "# initialization\n",
    "dog = Dog()\n",
    "cat = Cat()\n",
    "\n",
    "# log\n",
    "animal_sound(dog)\n",
    "animal_sound(cat)"
   ]
  },
  {
   "cell_type": "markdown",
   "metadata": {},
   "source": [
    "### Polymorphism with Classes (Method Overriding)\n",
    "   - Inheritance-based polymorphism allows a subclass to override a method in its parent class while maintaining the method signature."
   ]
  },
  {
   "cell_type": "code",
   "execution_count": 158,
   "metadata": {},
   "outputs": [
    {
     "name": "stdout",
     "output_type": "stream",
     "text": [
      "Flying in the sky.\n",
      "I can't fly!\n"
     ]
    }
   ],
   "source": [
    "class Bird:\n",
    "    def fly(self):\n",
    "        print(\"Flying in the sky.\")\n",
    "\n",
    "class Penguin(Bird):\n",
    "    def fly(self):\n",
    "        print(\"I can't fly!\")\n",
    "\n",
    "# initialization\n",
    "bird = Bird()\n",
    "penguin = Penguin()\n",
    "\n",
    "# log\n",
    "bird.fly()\n",
    "penguin.fly()"
   ]
  },
  {
   "cell_type": "markdown",
   "metadata": {},
   "source": [
    "### Polymorphism with Abstract Base Classes\n",
    "   - Python provides the `abc` (Abstract Base Class) module to define interfaces and enforce certain methods that must be implemented by subclasses."
   ]
  },
  {
   "cell_type": "code",
   "execution_count": 159,
   "metadata": {},
   "outputs": [
    {
     "name": "stdout",
     "output_type": "stream",
     "text": [
      "Woof!\n",
      "Meow!\n"
     ]
    }
   ],
   "source": [
    "from abc import ABC, abstractmethod\n",
    "\n",
    "class Animal(ABC):\n",
    "    @abstractmethod\n",
    "    def speak(self):\n",
    "        pass\n",
    "\n",
    "class Dog(Animal):\n",
    "    def speak(self):\n",
    "        return \"Woof!\"\n",
    "\n",
    "class Cat(Animal):\n",
    "    def speak(self):\n",
    "        return \"Meow!\"\n",
    "\n",
    "# initialization\n",
    "animals = [Dog(), Cat()]\n",
    "\n",
    "# log\n",
    "for animal in animals:\n",
    "    print(animal.speak())"
   ]
  },
  {
   "cell_type": "markdown",
   "metadata": {},
   "source": [
    "### Duck Typing in Python\n",
    "   - Python is dynamically typed and supports \"duck typing,\" meaning it doesn't require objects to inherit from a specific class to be treated polymorphically.\n",
    "   - Instead, it relies on the presence of methods or attributes in the object."
   ]
  },
  {
   "cell_type": "code",
   "execution_count": 160,
   "metadata": {},
   "outputs": [
    {
     "name": "stdout",
     "output_type": "stream",
     "text": [
      "Quack quack\n",
      "I'm quacking like a duck!\n"
     ]
    }
   ],
   "source": [
    "class Duck:\n",
    "    def quack(self):\n",
    "        print(\"Quack quack\")\n",
    "\n",
    "class Person:\n",
    "    def quack(self):\n",
    "        print(\"I'm quacking like a duck!\")\n",
    "\n",
    "def quack_it(obj):\n",
    "    obj.quack()\n",
    "\n",
    "# initialization\n",
    "# if it looks like a duck and quacks like a duck, it must be a duck.\n",
    "duck = Duck()\n",
    "person = Person()\n",
    "\n",
    "# log\n",
    "quack_it(duck)\n",
    "quack_it(person)"
   ]
  }
 ],
 "metadata": {
  "kernelspec": {
   "display_name": "Python 3",
   "language": "python",
   "name": "python3"
  },
  "language_info": {
   "codemirror_mode": {
    "name": "ipython",
    "version": 3
   },
   "file_extension": ".py",
   "mimetype": "text/x-python",
   "name": "python",
   "nbconvert_exporter": "python",
   "pygments_lexer": "ipython3",
   "version": "3.12.3"
  }
 },
 "nbformat": 4,
 "nbformat_minor": 2
}
