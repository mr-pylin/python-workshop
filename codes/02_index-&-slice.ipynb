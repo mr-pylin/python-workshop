{
 "cells": [
  {
   "cell_type": "markdown",
   "metadata": {},
   "source": [
    "📝 **Author:** Amirhossein Heydari - 📧 **Email:** amirhosseinheydari78@gmail.com - 📍 **Linktree:** [linktr.ee/mr_pylin](https://linktr.ee/mr_pylin)\n",
    "\n",
    "---"
   ]
  },
  {
   "cell_type": "markdown",
   "metadata": {},
   "source": [
    "# Iterables\n",
    "   - An iterable is an object in Python that can be iterated (looped) over\n",
    "   - This means it can return its members one at a time\n",
    "   - Common Iterables:\n",
    "       - Strings: e.g., `\"hello\"`\n",
    "       - Lists: e.g., `[1, 2, 3]`\n",
    "       - Tuples: e.g., `(4, 5, 6)`\n",
    "       - Dictionaries: `{'yek': 'one'}`\n",
    "       - Sets: e.g., `{7, 8, 9}`"
   ]
  },
  {
   "cell_type": "markdown",
   "metadata": {},
   "source": [
    "# Indexing\n",
    "   - Indexing is the process of accessing individual elements of an iterable using their position or index, starting from 0"
   ]
  },
  {
   "cell_type": "code",
   "execution_count": 9,
   "metadata": {},
   "outputs": [
    {
     "name": "stdout",
     "output_type": "stream",
     "text": [
      "my_list[0]  : 10\n",
      "my_list[1]  : 20\n",
      "my_list[2]  : 30\n",
      "my_list[3]  : 40\n",
      "my_list[-4] : 10\n",
      "my_list[-3] : 20\n",
      "my_list[-2] : 30\n",
      "my_list[-1] : 40\n"
     ]
    }
   ],
   "source": [
    "my_list = [10, 20, 30, 40]\n",
    "\n",
    "# index\n",
    "index_1 = my_list[0]\n",
    "index_2 = my_list[1]\n",
    "index_3 = my_list[2]\n",
    "index_4 = my_list[3]\n",
    "index_5 = my_list[-4]\n",
    "index_6 = my_list[-3]\n",
    "index_7 = my_list[-2]\n",
    "index_8 = my_list[-1]\n",
    "\n",
    "# log\n",
    "print(f\"my_list[0]  : {index_1}\")\n",
    "print(f\"my_list[1]  : {index_2}\")\n",
    "print(f\"my_list[2]  : {index_3}\")\n",
    "print(f\"my_list[3]  : {index_4}\")\n",
    "print(f\"my_list[-4] : {index_5}\")\n",
    "print(f\"my_list[-3] : {index_6}\")\n",
    "print(f\"my_list[-2] : {index_7}\")\n",
    "print(f\"my_list[-1] : {index_8}\")"
   ]
  },
  {
   "cell_type": "code",
   "execution_count": 10,
   "metadata": {},
   "outputs": [
    {
     "name": "stdout",
     "output_type": "stream",
     "text": [
      "my_list_2[0]     : [1, 2, 3]\n",
      "my_list_2[1]     : [4, 5, 6]\n",
      "my_list_2[0][0]  : 1\n",
      "my_list_2[1][0]  : 4\n",
      "my_list_2[2][2]  : 9\n",
      "my_list_2[-1][1] : 8\n",
      "my_list_2[-2][0] : 4\n"
     ]
    }
   ],
   "source": [
    "my_list_2 = [[1, 2, 3], [4, 5, 6], [7, 8, 9]]\n",
    "\n",
    "# index\n",
    "index_1 = my_list_2[0]\n",
    "index_2 = my_list_2[1]\n",
    "index_3 = my_list_2[0][0]\n",
    "index_4 = my_list_2[1][0]\n",
    "index_5 = my_list_2[2][2]\n",
    "index_6 = my_list_2[-1][1]\n",
    "index_7 = my_list_2[-2][0]\n",
    "\n",
    "# log\n",
    "print(f\"my_list_2[0]     : {index_1}\")\n",
    "print(f\"my_list_2[1]     : {index_2}\")\n",
    "print(f\"my_list_2[0][0]  : {index_3}\")\n",
    "print(f\"my_list_2[1][0]  : {index_4}\")\n",
    "print(f\"my_list_2[2][2]  : {index_5}\")\n",
    "print(f\"my_list_2[-1][1] : {index_6}\")\n",
    "print(f\"my_list_2[-2][0] : {index_7}\")"
   ]
  },
  {
   "cell_type": "code",
   "execution_count": 11,
   "metadata": {},
   "outputs": [
    {
     "name": "stdout",
     "output_type": "stream",
     "text": [
      "my_tuple[0]  : a\n",
      "my_tuple[-4] : a\n",
      "my_tuple[1]  : b\n",
      "my_tuple[3]  : d\n"
     ]
    }
   ],
   "source": [
    "my_tuple = ('a', 'b', 'c', 'd')\n",
    "\n",
    "# index\n",
    "index_1 = my_tuple[0]\n",
    "index_2 = my_tuple[-4]\n",
    "index_3 = my_tuple[1]\n",
    "index_4 = my_tuple[3]\n",
    "\n",
    "# log\n",
    "print(f\"my_tuple[0]  : {index_1}\")\n",
    "print(f\"my_tuple[-4] : {index_2}\")\n",
    "print(f\"my_tuple[1]  : {index_3}\")\n",
    "print(f\"my_tuple[3]  : {index_4}\")"
   ]
  },
  {
   "cell_type": "code",
   "execution_count": 12,
   "metadata": {},
   "outputs": [
    {
     "name": "stdout",
     "output_type": "stream",
     "text": [
      "my_string[0]  : P\n",
      "my_string[1]  : y\n",
      "my_string[2]  : t\n",
      "my_string[-2] : o\n"
     ]
    }
   ],
   "source": [
    "my_string = \"Python\"\n",
    "\n",
    "# index\n",
    "index_1 = my_string[0]\n",
    "index_2 = my_string[1]\n",
    "index_3 = my_string[2]\n",
    "index_4 = my_string[-2]\n",
    "\n",
    "# log\n",
    "print(f\"my_string[0]  : {index_1}\")\n",
    "print(f\"my_string[1]  : {index_2}\")\n",
    "print(f\"my_string[2]  : {index_3}\")\n",
    "print(f\"my_string[-2] : {index_4}\")"
   ]
  },
  {
   "cell_type": "markdown",
   "metadata": {},
   "source": [
    "# Slicing\n",
    "   - Slicing is the process of accessing a subset or a \"slice\" of an iterable\n",
    "   - It allows you to extract a portion of the iterable by specifying a start, stop, and optionally a step"
   ]
  },
  {
   "cell_type": "code",
   "execution_count": 13,
   "metadata": {},
   "outputs": [
    {
     "name": "stdout",
     "output_type": "stream",
     "text": [
      "my_list[1:4]  : [20, 30, 40]\n",
      "my_list[:3]   : [10, 20, 30]\n",
      "my_list[3:]   : [40, 50, 60]\n",
      "my_list[::2]  : [10, 30, 50]\n",
      "my_list[::-1] : [60, 50, 40, 30, 20, 10]\n"
     ]
    }
   ],
   "source": [
    "my_list = [10, 20, 30, 40, 50, 60]\n",
    "\n",
    "# slice\n",
    "slice_1 = my_list[1:4]\n",
    "slice_2 = my_list[:3]\n",
    "slice_3 = my_list[3:]\n",
    "slice_4 = my_list[::2]\n",
    "slice_5 = my_list[::-1]\n",
    "\n",
    "# log\n",
    "print(f\"my_list[1:4]  : {slice_1}\")\n",
    "print(f\"my_list[:3]   : {slice_2}\")\n",
    "print(f\"my_list[3:]   : {slice_3}\")\n",
    "print(f\"my_list[::2]  : {slice_4}\")\n",
    "print(f\"my_list[::-1] : {slice_5}\")"
   ]
  },
  {
   "cell_type": "code",
   "execution_count": 14,
   "metadata": {},
   "outputs": [
    {
     "name": "stdout",
     "output_type": "stream",
     "text": [
      "my_list_2[0:2]        : [[1, 2, 3], [4, 5, 6]]\n",
      "my_list_2[0][0:2]     : [1, 2]\n",
      "my_list_2[0][1:]      : [2, 3]\n",
      "my_list_2[-1][:1]     : [7]\n",
      "my_list_2[::-1][::-1] : [[7, 8, 9], [4, 5, 6], [1, 2, 3]]\n"
     ]
    }
   ],
   "source": [
    "my_list_2 = [[1, 2, 3], [4, 5, 6], [7, 8, 9]]\n",
    "\n",
    "# slice\n",
    "slice_1 = my_list_2[0:2]\n",
    "slice_2 = my_list_2[0][0:2]\n",
    "slice_3 = my_list_2[0][1:]\n",
    "slice_4 = my_list_2[-1][:1]\n",
    "slice_5 = my_list_2[::-1]\n",
    "\n",
    "# log\n",
    "print(f\"my_list_2[0:2]        : {slice_1}\")\n",
    "print(f\"my_list_2[0][0:2]     : {slice_2}\")\n",
    "print(f\"my_list_2[0][1:]      : {slice_3}\")\n",
    "print(f\"my_list_2[-1][:1]     : {slice_4}\")\n",
    "print(f\"my_list_2[::-1][::-1] : {slice_5}\")"
   ]
  },
  {
   "cell_type": "code",
   "execution_count": 15,
   "metadata": {},
   "outputs": [
    {
     "name": "stdout",
     "output_type": "stream",
     "text": [
      "my_tuple[1:4]  : (2, 3, 4)\n",
      "my_tuple[:3]   : (1, 2, 3)\n",
      "my_tuple[3:]   : (4, 5, 6)\n",
      "my_tuple[::2]  : (1, 3, 5)\n",
      "my_tuple[::-1] : (6, 5, 4, 3, 2, 1)\n"
     ]
    }
   ],
   "source": [
    "my_tuple = (1, 2, 3, 4, 5, 6)\n",
    "\n",
    "# slice\n",
    "slice_1 = my_tuple[1:4]\n",
    "slice_2 = my_tuple[:3]\n",
    "slice_3 = my_tuple[3:]\n",
    "slice_4 = my_tuple[::2]\n",
    "slice_5 = my_tuple[::-1]\n",
    "\n",
    "# log\n",
    "print(f\"my_tuple[1:4]  : {slice_1}\")\n",
    "print(f\"my_tuple[:3]   : {slice_2}\")\n",
    "print(f\"my_tuple[3:]   : {slice_3}\")\n",
    "print(f\"my_tuple[::2]  : {slice_4}\")\n",
    "print(f\"my_tuple[::-1] : {slice_5}\")"
   ]
  },
  {
   "cell_type": "code",
   "execution_count": 16,
   "metadata": {},
   "outputs": [
    {
     "name": "stdout",
     "output_type": "stream",
     "text": [
      "my_string[1:5]  : ream\n",
      "my_string[:6]   : Dreami\n",
      "my_string[7:]   : g, after all, is a form of planning.\n",
      "my_string[::2]  : Demn,atral safr fpann.\n",
      "my_string[::-1] : .gninnalp fo mrof a si ,lla retfa ,gnimaerD\n"
     ]
    }
   ],
   "source": [
    "my_string = \"Dreaming, after all, is a form of planning.\"\n",
    "\n",
    "# slice\n",
    "slice_1 = my_string[1:5]\n",
    "slice_2 = my_string[:6]\n",
    "slice_3 = my_string[7:]\n",
    "slice_4 = my_string[::2]\n",
    "slice_5 = my_string[::-1]\n",
    "\n",
    "# log\n",
    "print(f\"my_string[1:5]  : {slice_1}\")\n",
    "print(f\"my_string[:6]   : {slice_2}\")\n",
    "print(f\"my_string[7:]   : {slice_3}\")\n",
    "print(f\"my_string[::2]  : {slice_4}\")\n",
    "print(f\"my_string[::-1] : {slice_5}\")"
   ]
  }
 ],
 "metadata": {
  "kernelspec": {
   "display_name": "Python 3",
   "language": "python",
   "name": "python3"
  },
  "language_info": {
   "codemirror_mode": {
    "name": "ipython",
    "version": 3
   },
   "file_extension": ".py",
   "mimetype": "text/x-python",
   "name": "python",
   "nbconvert_exporter": "python",
   "pygments_lexer": "ipython3",
   "version": "3.12.3"
  }
 },
 "nbformat": 4,
 "nbformat_minor": 2
}
