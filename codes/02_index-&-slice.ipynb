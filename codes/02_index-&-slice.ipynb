{
 "cells": [
  {
   "cell_type": "markdown",
   "metadata": {},
   "source": [
    "📝 **Author:** Amirhossein Heydari - 📧 **Email:** AmirhosseinHeydari78@gmail.com - 📍 **Linktree:** [linktr.ee/mr_pylin](https://linktr.ee/mr_pylin)\n",
    "\n",
    "---"
   ]
  },
  {
   "cell_type": "markdown",
   "metadata": {},
   "source": [
    "# Iterables\n",
    "   - An iterable is an object in Python that can be iterated (looped) over\n",
    "   - This means it can return its members one at a time\n",
    "   - Common Iterables:\n",
    "       - Strings: e.g., `\"hello\"`\n",
    "       - Lists: e.g., `[1, 2, 3]`\n",
    "       - Tuples: e.g., `(4, 5, 6)`\n",
    "       - Dictionaries: `{'yek': 'one'}`\n",
    "       - Sets: e.g., `{7, 8, 9}`"
   ]
  },
  {
   "cell_type": "markdown",
   "metadata": {},
   "source": [
    "# Indexing\n",
    "   - Indexing is the process of accessing individual elements of an iterable using their position or index, starting from 0"
   ]
  },
  {
   "cell_type": "code",
   "execution_count": 9,
   "metadata": {},
   "outputs": [
    {
     "name": "stdout",
     "output_type": "stream",
     "text": [
      "my_list[0]  : 10\n",
      "my_list[1]  : 20\n",
      "my_list[2]  : 30\n",
      "my_list[3]  : 40\n",
      "my_list[-4] : 10\n",
      "my_list[-3] : 20\n",
      "my_list[-2] : 30\n",
      "my_list[-1] : 40\n"
     ]
    }
   ],
   "source": [
    "my_list = [10, 20, 30, 40]\n",
    "\n",
    "# index\n",
    "index_1 = my_list[0]\n",
    "index_2 = my_list[1]\n",
    "index_3 = my_list[2]\n",
    "index_4 = my_list[3]\n",
    "index_5 = my_list[-4]\n",
    "index_6 = my_list[-3]\n",
    "index_7 = my_list[-2]\n",
    "index_8 = my_list[-1]\n",
    "\n",
    "# log\n",
    "print(f\"my_list[0]  : {index_1}\")\n",
    "print(f\"my_list[1]  : {index_2}\")\n",
    "print(f\"my_list[2]  : {index_3}\")\n",
    "print(f\"my_list[3]  : {index_4}\")\n",
    "print(f\"my_list[-4] : {index_5}\")\n",
    "print(f\"my_list[-3] : {index_6}\")\n",
    "print(f\"my_list[-2] : {index_7}\")\n",
    "print(f\"my_list[-1] : {index_8}\")"
   ]
  },
  {
   "cell_type": "code",
   "execution_count": 10,
   "metadata": {},
   "outputs": [
    {
     "name": "stdout",
     "output_type": "stream",
     "text": [
      "my_list_2[0]     : [1, 2, 3]\n",
      "my_list_2[1]     : [4, 5, 6]\n",
      "my_list_2[0][0]  : 1\n",
      "my_list_2[1][0]  : 4\n",
      "my_list_2[2][2]  : 9\n",
      "my_list_2[-1][1] : 8\n",
      "my_list_2[-2][0] : 4\n"
     ]
    }
   ],
   "source": [
    "my_list_2 = [[1, 2, 3], [4, 5, 6], [7, 8, 9]]\n",
    "\n",
    "# index\n",
    "index_1 = my_list_2[0]\n",
    "index_2 = my_list_2[1]\n",
    "index_3 = my_list_2[0][0]\n",
    "index_4 = my_list_2[1][0]\n",
    "index_5 = my_list_2[2][2]\n",
    "index_6 = my_list_2[-1][1]\n",
    "index_7 = my_list_2[-2][0]\n",
    "\n",
    "# log\n",
    "print(f\"my_list_2[0]     : {index_1}\")\n",
    "print(f\"my_list_2[1]     : {index_2}\")\n",
    "print(f\"my_list_2[0][0]  : {index_3}\")\n",
    "print(f\"my_list_2[1][0]  : {index_4}\")\n",
    "print(f\"my_list_2[2][2]  : {index_5}\")\n",
    "print(f\"my_list_2[-1][1] : {index_6}\")\n",
    "print(f\"my_list_2[-2][0] : {index_7}\")"
   ]
  },
  {
   "cell_type": "code",
   "execution_count": 11,
   "metadata": {},
   "outputs": [
    {
     "name": "stdout",
     "output_type": "stream",
     "text": [
      "my_tuple[0]  : a\n",
      "my_tuple[-4] : a\n",
      "my_tuple[1]  : b\n",
      "my_tuple[3]  : d\n"
     ]
    }
   ],
   "source": [
    "my_tuple = ('a', 'b', 'c', 'd')\n",
    "\n",
    "# index\n",
    "index_1 = my_tuple[0]\n",
    "index_2 = my_tuple[-4]\n",
    "index_3 = my_tuple[1]\n",
    "index_4 = my_tuple[3]\n",
    "\n",
    "# log\n",
    "print(f\"my_tuple[0]  : {index_1}\")\n",
    "print(f\"my_tuple[-4] : {index_2}\")\n",
    "print(f\"my_tuple[1]  : {index_3}\")\n",
    "print(f\"my_tuple[3]  : {index_4}\")"
   ]
  },
  {
   "cell_type": "code",
   "execution_count": 12,
   "metadata": {},
   "outputs": [
    {
     "name": "stdout",
     "output_type": "stream",
     "text": [
      "my_string[0]  : P\n",
      "my_string[1]  : y\n",
      "my_string[2]  : t\n",
      "my_string[-2] : o\n"
     ]
    }
   ],
   "source": [
    "my_string = \"Python\"\n",
    "\n",
    "# index\n",
    "index_1 = my_string[0]\n",
    "index_2 = my_string[1]\n",
    "index_3 = my_string[2]\n",
    "index_4 = my_string[-2]\n",
    "\n",
    "# log\n",
    "print(f\"my_string[0]  : {index_1}\")\n",
    "print(f\"my_string[1]  : {index_2}\")\n",
    "print(f\"my_string[2]  : {index_3}\")\n",
    "print(f\"my_string[-2] : {index_4}\")"
   ]
  },
  {
   "cell_type": "markdown",
   "metadata": {},
   "source": [
    "## Manipulate Elements using Indexing\n",
    "   - Only mutable objects can be modified using indexing."
   ]
  },
  {
   "cell_type": "code",
   "execution_count": 1,
   "metadata": {},
   "outputs": [
    {
     "name": "stdout",
     "output_type": "stream",
     "text": [
      "new my_list_3 : [9, 2, 3, 4, 9, 6]\n"
     ]
    }
   ],
   "source": [
    "# list is a mutable object\n",
    "my_list_3 = [1, 2, 3, 4, 5, 6]\n",
    "\n",
    "# manipulate elements\n",
    "my_list_3[0]  = 9\n",
    "my_list_3[-2] = 9\n",
    "\n",
    "# log\n",
    "print(f\"new my_list_3 : {my_list_3}\")"
   ]
  },
  {
   "cell_type": "code",
   "execution_count": 2,
   "metadata": {},
   "outputs": [
    {
     "ename": "TypeError",
     "evalue": "'str' object does not support item assignment",
     "output_type": "error",
     "traceback": [
      "\u001b[1;31m---------------------------------------------------------------------------\u001b[0m",
      "\u001b[1;31mTypeError\u001b[0m                                 Traceback (most recent call last)",
      "Cell \u001b[1;32mIn[2], line 5\u001b[0m\n\u001b[0;32m      2\u001b[0m my_string_2 \u001b[38;5;241m=\u001b[39m \u001b[38;5;124m\"\u001b[39m\u001b[38;5;124mHello\u001b[39m\u001b[38;5;124m\"\u001b[39m\n\u001b[0;32m      4\u001b[0m \u001b[38;5;66;03m# manipulating elements\u001b[39;00m\n\u001b[1;32m----> 5\u001b[0m \u001b[43mmy_string_2\u001b[49m\u001b[43m[\u001b[49m\u001b[38;5;241;43m0\u001b[39;49m\u001b[43m]\u001b[49m \u001b[38;5;241m=\u001b[39m \u001b[38;5;124m\"\u001b[39m\u001b[38;5;124mA\u001b[39m\u001b[38;5;124m\"\u001b[39m\n",
      "\u001b[1;31mTypeError\u001b[0m: 'str' object does not support item assignment"
     ]
    }
   ],
   "source": [
    "# string is an immutable object\n",
    "my_string_2 = \"Hello\"\n",
    "\n",
    "# manipulating elements\n",
    "my_string_2[0] = \"A\"  # TypeError: 'str' object does not support item assignment"
   ]
  },
  {
   "cell_type": "markdown",
   "metadata": {},
   "source": [
    "# Slicing\n",
    "   - Slicing is the process of accessing a subset or a \"slice\" of an iterable\n",
    "   - It allows you to extract a portion of the iterable by specifying a start, stop, and optionally a step"
   ]
  },
  {
   "cell_type": "code",
   "execution_count": 13,
   "metadata": {},
   "outputs": [
    {
     "name": "stdout",
     "output_type": "stream",
     "text": [
      "my_list[1:4]  : [20, 30, 40]\n",
      "my_list[:3]   : [10, 20, 30]\n",
      "my_list[3:]   : [40, 50, 60]\n",
      "my_list[::2]  : [10, 30, 50]\n",
      "my_list[::-1] : [60, 50, 40, 30, 20, 10]\n"
     ]
    }
   ],
   "source": [
    "my_list = [10, 20, 30, 40, 50, 60]\n",
    "\n",
    "# slice\n",
    "slice_1 = my_list[1:4]\n",
    "slice_2 = my_list[:3]\n",
    "slice_3 = my_list[3:]\n",
    "slice_4 = my_list[::2]\n",
    "slice_5 = my_list[::-1]\n",
    "\n",
    "# log\n",
    "print(f\"my_list[1:4]  : {slice_1}\")\n",
    "print(f\"my_list[:3]   : {slice_2}\")\n",
    "print(f\"my_list[3:]   : {slice_3}\")\n",
    "print(f\"my_list[::2]  : {slice_4}\")\n",
    "print(f\"my_list[::-1] : {slice_5}\")"
   ]
  },
  {
   "cell_type": "code",
   "execution_count": 14,
   "metadata": {},
   "outputs": [
    {
     "name": "stdout",
     "output_type": "stream",
     "text": [
      "my_list_2[0:2]        : [[1, 2, 3], [4, 5, 6]]\n",
      "my_list_2[0][0:2]     : [1, 2]\n",
      "my_list_2[0][1:]      : [2, 3]\n",
      "my_list_2[-1][:1]     : [7]\n",
      "my_list_2[::-1][::-1] : [[7, 8, 9], [4, 5, 6], [1, 2, 3]]\n"
     ]
    }
   ],
   "source": [
    "my_list_2 = [[1, 2, 3], [4, 5, 6], [7, 8, 9]]\n",
    "\n",
    "# slice\n",
    "slice_1 = my_list_2[0:2]\n",
    "slice_2 = my_list_2[0][0:2]\n",
    "slice_3 = my_list_2[0][1:]\n",
    "slice_4 = my_list_2[-1][:1]\n",
    "slice_5 = my_list_2[::-1]\n",
    "\n",
    "# log\n",
    "print(f\"my_list_2[0:2]        : {slice_1}\")\n",
    "print(f\"my_list_2[0][0:2]     : {slice_2}\")\n",
    "print(f\"my_list_2[0][1:]      : {slice_3}\")\n",
    "print(f\"my_list_2[-1][:1]     : {slice_4}\")\n",
    "print(f\"my_list_2[::-1][::-1] : {slice_5}\")"
   ]
  },
  {
   "cell_type": "code",
   "execution_count": 15,
   "metadata": {},
   "outputs": [
    {
     "name": "stdout",
     "output_type": "stream",
     "text": [
      "my_tuple[1:4]  : (2, 3, 4)\n",
      "my_tuple[:3]   : (1, 2, 3)\n",
      "my_tuple[3:]   : (4, 5, 6)\n",
      "my_tuple[::2]  : (1, 3, 5)\n",
      "my_tuple[::-1] : (6, 5, 4, 3, 2, 1)\n"
     ]
    }
   ],
   "source": [
    "my_tuple = (1, 2, 3, 4, 5, 6)\n",
    "\n",
    "# slice\n",
    "slice_1 = my_tuple[1:4]\n",
    "slice_2 = my_tuple[:3]\n",
    "slice_3 = my_tuple[3:]\n",
    "slice_4 = my_tuple[::2]\n",
    "slice_5 = my_tuple[::-1]\n",
    "\n",
    "# log\n",
    "print(f\"my_tuple[1:4]  : {slice_1}\")\n",
    "print(f\"my_tuple[:3]   : {slice_2}\")\n",
    "print(f\"my_tuple[3:]   : {slice_3}\")\n",
    "print(f\"my_tuple[::2]  : {slice_4}\")\n",
    "print(f\"my_tuple[::-1] : {slice_5}\")"
   ]
  },
  {
   "cell_type": "code",
   "execution_count": 16,
   "metadata": {},
   "outputs": [
    {
     "name": "stdout",
     "output_type": "stream",
     "text": [
      "my_string[1:5]  : ream\n",
      "my_string[:6]   : Dreami\n",
      "my_string[7:]   : g, after all, is a form of planning.\n",
      "my_string[::2]  : Demn,atral safr fpann.\n",
      "my_string[::-1] : .gninnalp fo mrof a si ,lla retfa ,gnimaerD\n"
     ]
    }
   ],
   "source": [
    "my_string = \"Dreaming, after all, is a form of planning.\"\n",
    "\n",
    "# slice\n",
    "slice_1 = my_string[1:5]\n",
    "slice_2 = my_string[:6]\n",
    "slice_3 = my_string[7:]\n",
    "slice_4 = my_string[::2]\n",
    "slice_5 = my_string[::-1]\n",
    "\n",
    "# log\n",
    "print(f\"my_string[1:5]  : {slice_1}\")\n",
    "print(f\"my_string[:6]   : {slice_2}\")\n",
    "print(f\"my_string[7:]   : {slice_3}\")\n",
    "print(f\"my_string[::2]  : {slice_4}\")\n",
    "print(f\"my_string[::-1] : {slice_5}\")"
   ]
  },
  {
   "cell_type": "markdown",
   "metadata": {},
   "source": [
    "## Manipulate Elements using Slicing\n",
    "   - Only mutable objects can be modified using slicing."
   ]
  },
  {
   "cell_type": "code",
   "execution_count": 5,
   "metadata": {},
   "outputs": [
    {
     "name": "stdout",
     "output_type": "stream",
     "text": [
      "new my_list_3 : [0, 0, 1]\n"
     ]
    }
   ],
   "source": [
    "# list is a mutable object\n",
    "my_list_3 = [1, 2, 3, 4, 5, 6]\n",
    "\n",
    "# manipulate elements\n",
    "my_list_3[:2] = (0, 0)\n",
    "my_list_3[2:] = [1]\n",
    "\n",
    "# log\n",
    "print(f\"new my_list_3 : {my_list_3}\")"
   ]
  },
  {
   "cell_type": "code",
   "execution_count": 6,
   "metadata": {},
   "outputs": [
    {
     "ename": "TypeError",
     "evalue": "'str' object does not support item assignment",
     "output_type": "error",
     "traceback": [
      "\u001b[1;31m---------------------------------------------------------------------------\u001b[0m",
      "\u001b[1;31mTypeError\u001b[0m                                 Traceback (most recent call last)",
      "Cell \u001b[1;32mIn[6], line 5\u001b[0m\n\u001b[0;32m      2\u001b[0m my_string_2 \u001b[38;5;241m=\u001b[39m \u001b[38;5;124m\"\u001b[39m\u001b[38;5;124mHello\u001b[39m\u001b[38;5;124m\"\u001b[39m\n\u001b[0;32m      4\u001b[0m \u001b[38;5;66;03m# manipulating elements\u001b[39;00m\n\u001b[1;32m----> 5\u001b[0m \u001b[43mmy_string_2\u001b[49m\u001b[43m[\u001b[49m\u001b[43m:\u001b[49m\u001b[38;5;241;43m2\u001b[39;49m\u001b[43m]\u001b[49m \u001b[38;5;241m=\u001b[39m \u001b[38;5;124m\"\u001b[39m\u001b[38;5;124mA\u001b[39m\u001b[38;5;124m\"\u001b[39m  \u001b[38;5;66;03m# TypeError: 'str' object does not support item assignment\u001b[39;00m\n",
      "\u001b[1;31mTypeError\u001b[0m: 'str' object does not support item assignment"
     ]
    }
   ],
   "source": [
    "# string is an immutable object\n",
    "my_string_2 = \"Hello\"\n",
    "\n",
    "# manipulating elements\n",
    "my_string_2[:2] = \"A\"  # TypeError: 'str' object does not support item assignment"
   ]
  }
 ],
 "metadata": {
  "kernelspec": {
   "display_name": "Python 3",
   "language": "python",
   "name": "python3"
  },
  "language_info": {
   "codemirror_mode": {
    "name": "ipython",
    "version": 3
   },
   "file_extension": ".py",
   "mimetype": "text/x-python",
   "name": "python",
   "nbconvert_exporter": "python",
   "pygments_lexer": "ipython3",
   "version": "3.12.3"
  }
 },
 "nbformat": 4,
 "nbformat_minor": 2
}
