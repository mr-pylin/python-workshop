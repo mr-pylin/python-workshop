{
 "cells": [
  {
   "cell_type": "markdown",
   "metadata": {},
   "source": [
    "📝 **Author:** Amirhossein Heydari - 📧 **Email:** AmirhosseinHeydari78@gmail.com - 📍 **Linktree:** [linktr.ee/mr_pylin](https://linktr.ee/mr_pylin)\n",
    "\n",
    "---"
   ]
  },
  {
   "cell_type": "markdown",
   "metadata": {},
   "source": [
    "# Expression vs. Statement\n",
    "   - An expression is a piece of code that evaluates to a value\n",
    "   - Expressions can be as simple as a single value or as complex as a combination of values and operators\n",
    "   - A statement is a piece of code that performs an action\n",
    "   - Statements do not produce values but instead execute a command or instruction\n",
    "\n",
    "---\n",
    "\n",
    "📝 **Docs**:\n",
    "   - Expressions: [docs.python.org/3/reference/expressions.html](https://docs.python.org/3/reference/expressions.html)"
   ]
  },
  {
   "cell_type": "code",
   "execution_count": 20,
   "metadata": {},
   "outputs": [],
   "source": [
    "# statement\n",
    "num = 2"
   ]
  },
  {
   "cell_type": "code",
   "execution_count": 21,
   "metadata": {},
   "outputs": [
    {
     "data": {
      "text/plain": [
       "2"
      ]
     },
     "execution_count": 21,
     "metadata": {},
     "output_type": "execute_result"
    }
   ],
   "source": [
    "# expression\n",
    "num"
   ]
  },
  {
   "cell_type": "code",
   "execution_count": 22,
   "metadata": {},
   "outputs": [
    {
     "data": {
      "text/plain": [
       "2"
      ]
     },
     "execution_count": 22,
     "metadata": {},
     "output_type": "execute_result"
    }
   ],
   "source": [
    "# expression\n",
    "2"
   ]
  },
  {
   "cell_type": "code",
   "execution_count": 23,
   "metadata": {},
   "outputs": [
    {
     "name": "stdout",
     "output_type": "stream",
     "text": [
      "2\n"
     ]
    }
   ],
   "source": [
    "# expression\n",
    "print(num)"
   ]
  },
  {
   "cell_type": "markdown",
   "metadata": {},
   "source": [
    "# Conditional Statemetns\n",
    "   - Conditional statements in Python are used to execute different blocks of code based on certain conditions\n",
    "   - Conditional statements:\n",
    "      - `if-elif-else` Statements\n",
    "         - Use `if-else` statements when you need to execute different blocks of code based on simple conditions\n",
    "      - `match-case` Statements (python `v3.10+`)\n",
    "         - Use `match-case` when you need to perform conditional logic based on the structure of data rather than just simple values\n",
    "\n",
    "---\n",
    "\n",
    "📝 **Docs**:\n",
    "   - `if-elif-else` Statements: [docs.python.org/3/tutorial/controlflow.html#if-statements](https://docs.python.org/3/tutorial/controlflow.html#if-statements)\n",
    "   - `match` Statements: [docs.python.org/3/tutorial/controlflow.html#match-statements](https://docs.python.org/3/tutorial/controlflow.html#match-statements)\n",
    "   - Compound statements: [docs.python.org/3/reference/compound_stmts.html#the-if-statement](https://docs.python.org/3/reference/compound_stmts.html#the-if-statement)"
   ]
  },
  {
   "cell_type": "markdown",
   "metadata": {},
   "source": [
    "## `if` Statement\n",
    "   - The `if` statement checks a condition, and if it evaluates to `True`, the indented block of code under it is executed\n",
    "\n",
    "<figure style=\"text-align: center;\">\n",
    "    <img src=\"../assets/images/svgs/if-statement.svg\" alt=\"if-statement.svg\" style=\"width: 75%;\">\n",
    "    <figcaption>If statement</figcaption>\n",
    "</figure>\n",
    "\n",
    "**Syntax**:\n",
    "```python\n",
    "if condition:\n",
    "    # code to execute if condition is True\n",
    "```"
   ]
  },
  {
   "cell_type": "code",
   "execution_count": 24,
   "metadata": {},
   "outputs": [
    {
     "name": "stdout",
     "output_type": "stream",
     "text": [
      "x is greater than 5\n"
     ]
    }
   ],
   "source": [
    "x = 10\n",
    "if x > 5:\n",
    "    print(\"x is greater than 5\")"
   ]
  },
  {
   "cell_type": "code",
   "execution_count": 25,
   "metadata": {},
   "outputs": [
    {
     "name": "stdout",
     "output_type": "stream",
     "text": [
      "You are eligible for a special discount.\n"
     ]
    }
   ],
   "source": [
    "age = 65\n",
    "membership_status = \"gold\"\n",
    "is_student = False\n",
    "\n",
    "if (age >= 65 or is_student) and membership_status == \"gold\":\n",
    "    print(\"You are eligible for a special discount.\")"
   ]
  },
  {
   "cell_type": "markdown",
   "metadata": {},
   "source": [
    "## `elif` Statement\n",
    "   - The `elif` statement (short for \"else if\") is used to check multiple conditions\n",
    "   - It comes after an `if` statement and only runs if the preceding `if` condition is `False` and the `elif` condition is `True`\n",
    "\n",
    "<figure style=\"text-align: center;\">\n",
    "    <img src=\"../assets/images/svgs/if-elif-statement.svg\" alt=\"if-elif-statement.svg\" style=\"width: 75%;\">\n",
    "    <figcaption>If-elif statement</figcaption>\n",
    "</figure>\n",
    "\n",
    "**Syntax**:\n",
    "```python\n",
    "if condition1:\n",
    "    # code to execute if condition1 is True\n",
    "elif condition2:\n",
    "    # code to execute if condition2 is True\n",
    "```"
   ]
  },
  {
   "cell_type": "code",
   "execution_count": 26,
   "metadata": {},
   "outputs": [
    {
     "name": "stdout",
     "output_type": "stream",
     "text": [
      "x is equal to 10\n"
     ]
    }
   ],
   "source": [
    "x = 10\n",
    "if x > 10:\n",
    "    print(\"x is greater than 10\")\n",
    "elif x == 10:\n",
    "    print(\"x is equal to 10\")"
   ]
  },
  {
   "cell_type": "markdown",
   "metadata": {},
   "source": [
    "## `else` Statement\n",
    "   - The `else` statement is used to catch anything that wasn't caught by the preceding `if` and `elif` statements\n",
    "   - It is executed when all the previous conditions are `False`\n",
    "\n",
    "<figure style=\"text-align: center;\">\n",
    "    <img src=\"../assets/images/svgs/if-else-statement.svg\" alt=\"if-else-statement.svg\" style=\"width: 75%;\">\n",
    "    <figcaption>If-Else statement</figcaption>\n",
    "</figure>\n",
    "\n",
    "<figure style=\"text-align: center;\">\n",
    "    <img src=\"../assets/images/svgs/if-elif-else-statement.svg\" alt=\"if-elif-else-statement.svg\" style=\"width: 75%;\">\n",
    "    <figcaption>If-Elif-Else statement</figcaption>\n",
    "</figure>\n",
    "\n",
    "**Syntax**:\n",
    "```python\n",
    "if condition1:\n",
    "    # code to execute if condition1 is True\n",
    "elif condition2:\n",
    "    # code to execute if condition2 is True\n",
    "else:\n",
    "    # code to execute if all conditions are False\n",
    "```\n",
    "\n",
    "**✍️ Notes**:\n",
    "   - the `elif` statement in this syntax is optional"
   ]
  },
  {
   "cell_type": "code",
   "execution_count": 27,
   "metadata": {},
   "outputs": [
    {
     "name": "stdout",
     "output_type": "stream",
     "text": [
      "The number is negative\n"
     ]
    }
   ],
   "source": [
    "number = -10\n",
    "\n",
    "if number > 0:\n",
    "    print(\"The number is positive\")\n",
    "elif number == 0:\n",
    "    print(\"The number is zero\")\n",
    "else:\n",
    "    print(\"The number is negative\")"
   ]
  },
  {
   "cell_type": "code",
   "execution_count": 28,
   "metadata": {},
   "outputs": [
    {
     "name": "stdout",
     "output_type": "stream",
     "text": [
      "B\n"
     ]
    }
   ],
   "source": [
    "grade = 85\n",
    "\n",
    "if grade >= 90:\n",
    "    print(\"A\")\n",
    "elif grade >= 80:\n",
    "    print(\"B\")\n",
    "elif grade >= 70:\n",
    "    print(\"C\")\n",
    "elif grade >= 60:\n",
    "    print(\"D\")\n",
    "else:\n",
    "    print(\"F\")"
   ]
  },
  {
   "cell_type": "code",
   "execution_count": 29,
   "metadata": {},
   "outputs": [
    {
     "name": "stdout",
     "output_type": "stream",
     "text": [
      "It's a perfect day for a walk.\n"
     ]
    }
   ],
   "source": [
    "temperature = 25\n",
    "is_sunny = True\n",
    "\n",
    "if temperature > 20 and is_sunny:\n",
    "    print(\"It's a perfect day for a walk.\")\n",
    "elif temperature > 20 and not is_sunny:\n",
    "    print(\"It's warm but cloudy.\")\n",
    "else:\n",
    "    print(\"It might be too cold to enjoy a walk.\")"
   ]
  },
  {
   "cell_type": "code",
   "execution_count": 30,
   "metadata": {},
   "outputs": [
    {
     "name": "stdout",
     "output_type": "stream",
     "text": [
      "Banana is in the list.\n"
     ]
    }
   ],
   "source": [
    "fruits = [\"apple\", \"banana\", \"cherry\"]\n",
    "\n",
    "if \"banana\" in fruits:\n",
    "    print(\"Banana is in the list.\")\n",
    "else:\n",
    "    print(\"Banana is not in the list.\")"
   ]
  },
  {
   "cell_type": "markdown",
   "metadata": {},
   "source": [
    "## Nested Conditional Statements\n",
    "   - You can nest `if`, `elif`, and `else` statements inside one another to check for more complex conditions"
   ]
  },
  {
   "cell_type": "code",
   "execution_count": 31,
   "metadata": {},
   "outputs": [
    {
     "name": "stdout",
     "output_type": "stream",
     "text": [
      "x is greater than 5 and y is greater than 15\n"
     ]
    }
   ],
   "source": [
    "x = 10\n",
    "y = 20\n",
    "if x > 5:\n",
    "    if y > 15:\n",
    "        print(\"x is greater than 5 and y is greater than 15\")"
   ]
  },
  {
   "cell_type": "code",
   "execution_count": 32,
   "metadata": {},
   "outputs": [
    {
     "name": "stdout",
     "output_type": "stream",
     "text": [
      "You can enter the concert.\n"
     ]
    }
   ],
   "source": [
    "age = 20\n",
    "has_ticket = True\n",
    "\n",
    "if age >= 18:\n",
    "    if has_ticket:\n",
    "        print(\"You can enter the concert.\")\n",
    "    else:\n",
    "        print(\"You need a ticket to enter.\")\n",
    "else:\n",
    "    print(\"You must be 18 or older to enter.\")"
   ]
  },
  {
   "cell_type": "markdown",
   "metadata": {},
   "source": [
    "##  Ternary Conditional (Conditional Expression)\n",
    "   - A shorthand way of writing a simple `if-else` statement is using a ternary conditional, also known as a conditional expression\n",
    "   - It is considered Pythonic when it is used appropriately\n",
    "   - the term Pythonic refers to writing code that is clean, readable, and follows the conventions and best practices of the Python language\n",
    "\n",
    "**Syntax**:\n",
    "```python\n",
    "result = value_if_true if condition else value_if_false\n",
    "```"
   ]
  },
  {
   "cell_type": "code",
   "execution_count": 33,
   "metadata": {},
   "outputs": [
    {
     "name": "stdout",
     "output_type": "stream",
     "text": [
      "x is 10\n"
     ]
    }
   ],
   "source": [
    "x = 10\n",
    "\n",
    "# from previous knowledge\n",
    "if x == 10:\n",
    "    result = \"x is 10\"\n",
    "else:\n",
    "    result = \"x is not 10\"\n",
    "\n",
    "# equivalent code\n",
    "result = \"x is 10\" if x == 10 else \"x is not 10\"\n",
    "\n",
    "# log\n",
    "print(result)"
   ]
  },
  {
   "cell_type": "code",
   "execution_count": 34,
   "metadata": {},
   "outputs": [
    {
     "name": "stdout",
     "output_type": "stream",
     "text": [
      "Odd\n"
     ]
    }
   ],
   "source": [
    "number = 7\n",
    "\n",
    "result = \"Even\" if number % 2 == 0 else \"Odd\"\n",
    "print(result)"
   ]
  },
  {
   "cell_type": "markdown",
   "metadata": {},
   "source": [
    "## `match-case` Statement\n",
    "   - It was introduced in Python 3.10 as a structural pattern matching feature\n",
    "   - Similar to the switch-case statements found in other programming languages\n",
    "   - The match-case statement allows for more expressive and readable code when dealing with multiple conditions based on the value of a single variable or complex data structures\n",
    "\n",
    "**Basic Syntax**:\n",
    "```python\n",
    "match variable:\n",
    "    case pattern1:\n",
    "        # code to execute if variable matches pattern1\n",
    "    case pattern2:\n",
    "        # code to execute if variable matches pattern2\n",
    "    case _:\n",
    "        # code to execute if no patterns match"
   ]
  },
  {
   "cell_type": "markdown",
   "metadata": {},
   "source": [
    "### Matching Constants\n",
    "   - A constant value can be matched using a simple pattern."
   ]
  },
  {
   "cell_type": "code",
   "execution_count": 35,
   "metadata": {},
   "outputs": [
    {
     "name": "stdout",
     "output_type": "stream",
     "text": [
      "Not Found\n"
     ]
    }
   ],
   "source": [
    "status_code = 404\n",
    "\n",
    "match status_code:\n",
    "    case 200:\n",
    "        print(\"OK\")\n",
    "    case 404:\n",
    "        print(\"Not Found\")\n",
    "    case 500:\n",
    "        print(\"Server Error\")\n",
    "    case _:\n",
    "        print(\"Unknown Code\")"
   ]
  },
  {
   "cell_type": "markdown",
   "metadata": {},
   "source": [
    "### Matching with Conditions (Guards)\n",
    "   - A case can be further refined with a condition using an `if` guard."
   ]
  },
  {
   "cell_type": "code",
   "execution_count": 36,
   "metadata": {},
   "outputs": [
    {
     "name": "stdout",
     "output_type": "stream",
     "text": [
      "Positive\n"
     ]
    }
   ],
   "source": [
    "x = 123\n",
    "\n",
    "match x:\n",
    "    case n if n < 0:\n",
    "        print(\"Negative\")\n",
    "    case n if n == 0:\n",
    "        print(\"Zero\")\n",
    "    case n if n > 0:\n",
    "        print(\"Positive\")"
   ]
  },
  {
   "cell_type": "markdown",
   "metadata": {},
   "source": [
    "### Matching Sequences\n",
    "   - You can match sequences such as lists or tuples and even [unpack](https://github.com/mr-pylin/python-workshop/blob/main/codes/11_pack-unpack.ipynb) them."
   ]
  },
  {
   "cell_type": "code",
   "execution_count": 37,
   "metadata": {},
   "outputs": [
    {
     "name": "stdout",
     "output_type": "stream",
     "text": [
      "First: 1, Rest: [2, 3, 4]\n"
     ]
    }
   ],
   "source": [
    "seq = [1, 2, 3, 4]\n",
    "\n",
    "match seq:\n",
    "    case []:\n",
    "        print(\"Empty list\")\n",
    "    case [a, b, c]:\n",
    "        print(f\"List of three elements: {a}, {b}, {c}\")\n",
    "    case [first, *rest]:\n",
    "        print(f\"First: {first}, Rest: {rest}\")\n",
    "    case _:\n",
    "        print(\"Unknown sequence\")"
   ]
  },
  {
   "cell_type": "markdown",
   "metadata": {},
   "source": [
    "### Matching Dictionaries (Mappings)\n",
    "   - Dictionaries can also be matched by specifying the keys and values you want to match."
   ]
  },
  {
   "cell_type": "code",
   "execution_count": 38,
   "metadata": {},
   "outputs": [
    {
     "name": "stdout",
     "output_type": "stream",
     "text": [
      "Name: Alice, Age: 30\n"
     ]
    }
   ],
   "source": [
    "dct = {\"name\": \"Alice\", \"age\": 30}\n",
    "\n",
    "match dct:\n",
    "    case {\"name\": name, \"age\": age}:\n",
    "        print(f\"Name: {name}, Age: {age}\")\n",
    "    case {\"name\": name}:\n",
    "        print(f\"Name: {name}\")\n",
    "    case _:\n",
    "        print(\"Unknown dictionary structure\")"
   ]
  },
  {
   "cell_type": "markdown",
   "metadata": {},
   "source": [
    "### Class Matching\n",
    "   - You can match objects of a specific class and even unpack their attributes directly.\n",
    "   - Classes are covered in [introduction-to-oop](https://github.com/mr-pylin/python-workshop/blob/main/codes/15_introduction-to-oop.ipynb) notebook.\n",
    "\n",
    "✍️ **Notes**:\n",
    "   - To use pattern matching effectively with class instances, you need to define your class with `__match_args__`.\n",
    "   - It is a special attribute that indicates which attributes should be considered for pattern matching.\n",
    "   - This attribute should be a tuple of the names of the attributes you want to match."
   ]
  },
  {
   "cell_type": "code",
   "execution_count": 39,
   "metadata": {},
   "outputs": [],
   "source": [
    "class Point:\n",
    "    __match_args__ = (\"x\", \"y\")  # Define attributes to match\n",
    "\n",
    "    def __init__(self, x, y):\n",
    "        self.x = x\n",
    "        self.y = y\n",
    "\n",
    "\n",
    "# initialization\n",
    "point = Point(2, 3)"
   ]
  },
  {
   "cell_type": "code",
   "execution_count": 40,
   "metadata": {},
   "outputs": [
    {
     "name": "stdout",
     "output_type": "stream",
     "text": [
      "Point with x=2, y=3\n"
     ]
    }
   ],
   "source": [
    "match point:\n",
    "    case Point(x, y):\n",
    "        print(f\"Point with x={x}, y={y}\")\n",
    "    case _:\n",
    "        print(\"Not a point\")"
   ]
  },
  {
   "cell_type": "markdown",
   "metadata": {},
   "source": [
    "### Nested Patterns\n",
    "   - You can have deeply nested patterns that match complex data structures."
   ]
  },
  {
   "cell_type": "code",
   "execution_count": 42,
   "metadata": {},
   "outputs": [
    {
     "name": "stdout",
     "output_type": "stream",
     "text": [
      "Found a nested dict with: 42, value\n"
     ]
    }
   ],
   "source": [
    "data = {\"key\": [42, {\"nested\": \"value\"}]}\n",
    "\n",
    "match data:\n",
    "    case {\"key\": [a, {\"nested\": b}]}:\n",
    "        print(f\"Found a nested dict with: {a}, {b}\")\n",
    "    case _:\n",
    "        print(\"No match\")"
   ]
  }
 ],
 "metadata": {
  "author_email": "AmirhosseinHeydari78@gmail.com",
  "author_github": "https://github.com/mr-pylin",
  "author_name": "Amirhossein Heydari",
  "kernelspec": {
   "display_name": "Python 3",
   "language": "python",
   "name": "python3"
  },
  "language_info": {
   "codemirror_mode": {
    "name": "ipython",
    "version": 3
   },
   "file_extension": ".py",
   "mimetype": "text/x-python",
   "name": "python",
   "nbconvert_exporter": "python",
   "pygments_lexer": "ipython3",
   "version": "3.12.3"
  },
  "origin_repo": "https://github.com/mr-pylin/python-workshop"
 },
 "nbformat": 4,
 "nbformat_minor": 2
}
