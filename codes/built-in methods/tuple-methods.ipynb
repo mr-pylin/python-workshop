{
 "cells": [
  {
   "cell_type": "markdown",
   "metadata": {},
   "source": [
    "📝 **Author:** Amirhossein Heydari - 📧 **Email:** AmirhosseinHeydari78@gmail.com - 📍 **Linktree:** [linktr.ee/mr_pylin](https://linktr.ee/mr_pylin)\n",
    "\n",
    "---"
   ]
  },
  {
   "cell_type": "markdown",
   "metadata": {},
   "source": [
    "# Tuple Methods\n",
    "   - Tuples are fundamental data structures in Python that allow you to store collections of items.\n",
    "   - Tuples can store heterogeneous data types.\n",
    "   - Tuples are [immutable](https://docs.python.org/3/library/stdtypes.html#immutable-sequence-types) objects whose state or contents cannot be changed after they are created.\n",
    "\n",
    "🔢 **Table of Methods**\n",
    "<table style=\"font-family: monospace; margin: 0 auto;\">\n",
    "   <tbody>\n",
    "      <tr>\n",
    "         <td>tuple.index()</td>\n",
    "         <td>tuple.count()</td>\n",
    "      </tr>\n",
    "   </tbody>\n",
    "</table>\n",
    "\n",
    "---\n",
    "\n",
    "📝 **Docs**:\n",
    "   - Tuple: [docs.python.org/3/library/stdtypes.html#tuple](https://docs.python.org/3/library/stdtypes.html#tuple)\n",
    "   - Tuples and Sequences: [docs.python.org/3/tutorial/datastructures.html#tuples-and-sequences](https://docs.python.org/3/tutorial/datastructures.html#tuples-and-sequences)"
   ]
  },
  {
   "cell_type": "code",
   "execution_count": 12,
   "metadata": {},
   "outputs": [
    {
     "name": "stdout",
     "output_type": "stream",
     "text": [
      "1\n"
     ]
    }
   ],
   "source": [
    "my_tuple = (1, 2, 3, 2)\n",
    "index = my_tuple.index(2)\n",
    "\n",
    "# log\n",
    "print(index)"
   ]
  },
  {
   "cell_type": "code",
   "execution_count": 13,
   "metadata": {},
   "outputs": [
    {
     "name": "stdout",
     "output_type": "stream",
     "text": [
      "3\n"
     ]
    }
   ],
   "source": [
    "my_tuple = (1, 2, 3, 2, 2)\n",
    "count = my_tuple.count(2)\n",
    "\n",
    "# log\n",
    "print(count)"
   ]
  }
 ],
 "metadata": {
  "kernelspec": {
   "display_name": "Python 3",
   "language": "python",
   "name": "python3"
  },
  "language_info": {
   "codemirror_mode": {
    "name": "ipython",
    "version": 3
   },
   "file_extension": ".py",
   "mimetype": "text/x-python",
   "name": "python",
   "nbconvert_exporter": "python",
   "pygments_lexer": "ipython3",
   "version": "3.12.3"
  }
 },
 "nbformat": 4,
 "nbformat_minor": 2
}
