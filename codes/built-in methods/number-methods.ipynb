{
 "cells": [
  {
   "cell_type": "markdown",
   "metadata": {},
   "source": [
    "📝 **Author:** Amirhossein Heydari - 📧 **Email:** AmirhosseinHeydari78@gmail.com - 📍 **Linktree:** [linktr.ee/mr_pylin](https://linktr.ee/mr_pylin)\n",
    "\n",
    "---"
   ]
  },
  {
   "cell_type": "markdown",
   "metadata": {},
   "source": [
    "# Number Methods\n",
    "   - Numbers in Python are a fundamental data type that can represent integers, floating-point numbers, and complex numbers.\n",
    "   - Python supports a variety of methods and functions for mathematical operations and numerical manipulations.\n",
    "\n",
    "🗂️ **Types of Numbers**\n",
    "   - Integers (`int`): Whole numbers, both positive and negative.\n",
    "   - Floating-point numbers (`float`): Numbers with decimal points.\n",
    "   - Complex numbers (`complex`): Numbers with a real and imaginary part, written in the form `a + bj`.\n",
    "   - Booleans (`bool`): Represents `True` or `False`, which are internally treated as `1` and `0` (subclass of `int`).\n",
    "\n",
    "🔢 **Table of Methods**\n",
    "<table style=\"font-family: monospace; margin: 0 auto;\">\n",
    "   <tbody>\n",
    "      <tr>\n",
    "         <th>integer</th>\n",
    "         <th>float</th>\n",
    "         <th>complex</th>\n",
    "         <th>Boolean</th>\n",
    "      </tr>\n",
    "      <tr>\n",
    "         <td>int.bit_length()</td>\n",
    "         <td>float.hex()</td>\n",
    "         <td></td>\n",
    "         <td>bool.bit_length()</td>\n",
    "      </tr>\n",
    "      <tr>\n",
    "         <td>int.bit_count()</td>\n",
    "         <td>float.fromhex()</td>\n",
    "         <td></td>\n",
    "         <td>bool.bit_count()</td>\n",
    "      </tr>\n",
    "      <tr>\n",
    "         <td>int.to_bytes()</td>\n",
    "         <td></td>\n",
    "         <td></td>\n",
    "         <td>bool.to_bytes()</td>\n",
    "      </tr>\n",
    "      <tr>\n",
    "         <td>int.from_bytes()</td>\n",
    "         <td></td>\n",
    "         <td></td>\n",
    "         <td>bool.from_bytes()</td>\n",
    "      </tr>\n",
    "      <tr>\n",
    "         <td>int.as_integer_ratio()</td>\n",
    "         <td>float.as_integer_ratio()</td>\n",
    "         <td></td>\n",
    "         <td>bool.as_integer_ratio()</td>\n",
    "      </tr>\n",
    "      <tr>\n",
    "         <td>int.is_integer()</td>\n",
    "         <td>float.is_integer()</td>\n",
    "         <td></td>\n",
    "         <td>bool.is_integer()</td>\n",
    "      </tr>\n",
    "      <tr>\n",
    "         <td>int.conjugate()</td>\n",
    "         <td>float.conjugate()</td>\n",
    "         <td>complex.conjugate()</td>\n",
    "         <td>bool.conjugate()</td>\n",
    "      </tr>\n",
    "      <tr>\n",
    "         <td>int.numerator</td>\n",
    "         <td></td>\n",
    "         <td></td>\n",
    "         <td>bool.numerator</td>\n",
    "      </tr>\n",
    "      <tr>\n",
    "         <td>int.denominator</td>\n",
    "         <td></td>\n",
    "         <td></td>\n",
    "         <td>bool.denominator</td>\n",
    "      </tr>\n",
    "      <tr>\n",
    "         <td>int.real</td>\n",
    "         <td>float.real</td>\n",
    "         <td>complex.real</td>\n",
    "         <td>bool.real</td>\n",
    "      </tr>\n",
    "      <tr>\n",
    "         <td>int.imag</td>\n",
    "         <td>float.imag</td>\n",
    "         <td>complex.imag</td>\n",
    "         <td>bool.imag</td>\n",
    "      </tr>\n",
    "   </tbody>\n",
    "</table>\n",
    "\n",
    "---\n",
    "\n",
    "📝 **Docs**:\n",
    "   - Integers: [docs.python.org/3/library/functions.html#int](https://docs.python.org/3/library/functions.html#int)\n",
    "   - Floats: [docs.python.org/3/library/functions.html#float](https://docs.python.org/3/library/functions.html#float)\n",
    "   - Complex: [docs.python.org/3/library/functions.html#complex](https://docs.python.org/3/library/functions.html#complex)\n",
    "   - Numeric Types: [docs.python.org/3/library/stdtypes.html#numeric-types-int-float-complex](https://docs.python.org/3/library/stdtypes.html#numeric-types-int-float-complex)\n",
    "   - Integer Methods: [docs.python.org/3/library/stdtypes.html#additional-methods-on-integer-types](https://docs.python.org/3/library/stdtypes.html#additional-methods-on-integer-types)\n",
    "   - Float Methods: [docs.python.org/3/library/stdtypes.html#additional-methods-on-float](https://docs.python.org/3/library/stdtypes.html#additional-methods-on-float)"
   ]
  },
  {
   "cell_type": "markdown",
   "metadata": {},
   "source": [
    "## Integer Methods and Attributes"
   ]
  },
  {
   "cell_type": "code",
   "execution_count": 1,
   "metadata": {},
   "outputs": [
    {
     "name": "stdout",
     "output_type": "stream",
     "text": [
      "4\n"
     ]
    }
   ],
   "source": [
    "num = 10  # binary: 1010\n",
    "\n",
    "# log\n",
    "print(num.bit_length())"
   ]
  },
  {
   "cell_type": "code",
   "execution_count": 2,
   "metadata": {},
   "outputs": [
    {
     "name": "stdout",
     "output_type": "stream",
     "text": [
      "b'\\x04\\x00'\n"
     ]
    }
   ],
   "source": [
    "num = 1024\n",
    "byte_array = num.to_bytes(2, byteorder='big')\n",
    "\n",
    "# log\n",
    "print(byte_array)"
   ]
  },
  {
   "cell_type": "code",
   "execution_count": 3,
   "metadata": {},
   "outputs": [
    {
     "name": "stdout",
     "output_type": "stream",
     "text": [
      "1024\n"
     ]
    }
   ],
   "source": [
    "byte_array = b'\\x04\\x00'  # binary: 00000100 00000000\n",
    "num = int.from_bytes(byte_array, byteorder='big')\n",
    "\n",
    "# log\n",
    "print(num)"
   ]
  },
  {
   "cell_type": "code",
   "execution_count": 4,
   "metadata": {},
   "outputs": [
    {
     "name": "stdout",
     "output_type": "stream",
     "text": [
      "5\n"
     ]
    }
   ],
   "source": [
    "num = 5\n",
    "\n",
    "# log\n",
    "print(num.conjugate())"
   ]
  },
  {
   "cell_type": "code",
   "execution_count": 5,
   "metadata": {},
   "outputs": [
    {
     "name": "stdout",
     "output_type": "stream",
     "text": [
      "1\n"
     ]
    }
   ],
   "source": [
    "num = 7\n",
    "\n",
    "# log\n",
    "print(num.denominator)"
   ]
  },
  {
   "cell_type": "code",
   "execution_count": 6,
   "metadata": {},
   "outputs": [
    {
     "name": "stdout",
     "output_type": "stream",
     "text": [
      "7\n"
     ]
    }
   ],
   "source": [
    "num = 7\n",
    "\n",
    "# log\n",
    "print(num.numerator)"
   ]
  },
  {
   "cell_type": "code",
   "execution_count": 7,
   "metadata": {},
   "outputs": [
    {
     "name": "stdout",
     "output_type": "stream",
     "text": [
      "8\n",
      "0\n"
     ]
    }
   ],
   "source": [
    "num = 8\n",
    "\n",
    "# log\n",
    "print(num.real)\n",
    "print(num.imag)"
   ]
  },
  {
   "cell_type": "markdown",
   "metadata": {},
   "source": [
    "## Float Methods and Attributes"
   ]
  },
  {
   "cell_type": "code",
   "execution_count": 8,
   "metadata": {},
   "outputs": [
    {
     "name": "stdout",
     "output_type": "stream",
     "text": [
      "(5, 2)\n"
     ]
    }
   ],
   "source": [
    "num = 2.5\n",
    "\n",
    "# log\n",
    "print(num.as_integer_ratio())"
   ]
  },
  {
   "cell_type": "code",
   "execution_count": 9,
   "metadata": {},
   "outputs": [
    {
     "name": "stdout",
     "output_type": "stream",
     "text": [
      "True\n",
      "False\n"
     ]
    }
   ],
   "source": [
    "num1 = 3.0\n",
    "num2 = 3.14\n",
    "\n",
    "# log\n",
    "print(num1.is_integer())\n",
    "print(num2.is_integer())"
   ]
  },
  {
   "cell_type": "code",
   "execution_count": 10,
   "metadata": {},
   "outputs": [
    {
     "name": "stdout",
     "output_type": "stream",
     "text": [
      "0x1.91eb851eb851fp+1\n"
     ]
    }
   ],
   "source": [
    "num = 3.14\n",
    "\n",
    "# log\n",
    "print(num.hex())"
   ]
  },
  {
   "cell_type": "code",
   "execution_count": 11,
   "metadata": {},
   "outputs": [
    {
     "name": "stdout",
     "output_type": "stream",
     "text": [
      "3.14\n"
     ]
    }
   ],
   "source": [
    "num = float.fromhex('0x1.91eb851eb851fp+1')\n",
    "\n",
    "# log\n",
    "print(num)"
   ]
  },
  {
   "cell_type": "code",
   "execution_count": 12,
   "metadata": {},
   "outputs": [
    {
     "name": "stdout",
     "output_type": "stream",
     "text": [
      "3.14\n"
     ]
    }
   ],
   "source": [
    "num = 3.14\n",
    "\n",
    "# log\n",
    "print(num.conjugate())"
   ]
  },
  {
   "cell_type": "code",
   "execution_count": 13,
   "metadata": {},
   "outputs": [
    {
     "name": "stdout",
     "output_type": "stream",
     "text": [
      "3.14\n",
      "0.0\n"
     ]
    }
   ],
   "source": [
    "num = 3.14\n",
    "\n",
    "# log\n",
    "print(num.real)\n",
    "print(num.imag)"
   ]
  },
  {
   "cell_type": "markdown",
   "metadata": {},
   "source": [
    "## Complex Methods and Attributes"
   ]
  },
  {
   "cell_type": "code",
   "execution_count": 14,
   "metadata": {},
   "outputs": [
    {
     "name": "stdout",
     "output_type": "stream",
     "text": [
      "2.0\n",
      "3.0\n"
     ]
    }
   ],
   "source": [
    "num = 2 + 3j\n",
    "\n",
    "# log\n",
    "print(num.real)\n",
    "print(num.imag)"
   ]
  },
  {
   "cell_type": "code",
   "execution_count": 15,
   "metadata": {},
   "outputs": [
    {
     "name": "stdout",
     "output_type": "stream",
     "text": [
      "(2-3j)\n"
     ]
    }
   ],
   "source": [
    "num = 2 + 3j\n",
    "\n",
    "# log\n",
    "print(num.conjugate())"
   ]
  }
 ],
 "metadata": {
  "kernelspec": {
   "display_name": "Python 3",
   "language": "python",
   "name": "python3"
  },
  "language_info": {
   "codemirror_mode": {
    "name": "ipython",
    "version": 3
   },
   "file_extension": ".py",
   "mimetype": "text/x-python",
   "name": "python",
   "nbconvert_exporter": "python",
   "pygments_lexer": "ipython3",
   "version": "3.12.3"
  }
 },
 "nbformat": 4,
 "nbformat_minor": 2
}
