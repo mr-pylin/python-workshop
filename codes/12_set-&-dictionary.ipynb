{
 "cells": [
  {
   "cell_type": "markdown",
   "metadata": {},
   "source": [
    "📝 **Author:** Amirhossein Heydari - 📧 **Email:** amirhosseinheydari78@gmail.com - 📍 **Linktree:** [linktr.ee/mr_pylin](https://linktr.ee/mr_pylin)\n",
    "\n",
    "---"
   ]
  },
  {
   "cell_type": "markdown",
   "metadata": {},
   "source": [
    "# Set and Dictionary Methods\n",
    "   - Sets and dictionaries are key data structures in Python. Sets are unordered collections of unique items, while dictionaries are key-value pairs.\n",
    "   - Both sets and dictionaries support fast lookups, but dictionaries allow you to associate values with unique keys.\n",
    "\n",
    "🔢 **Set & Dictionary Methods**\n",
    "<table style=\"font-family: monospace; display: flex; justify-content: center;\">\n",
    "    <tr>\n",
    "        <th colspan=\"3\">set</th>\n",
    "        <th colspan=\"2\">dictionary</th>\n",
    "    </tr>\n",
    "    <tr>\n",
    "        <td>set.add()</td>\n",
    "        <td>set.clear()</td>\n",
    "        <td>set.copy()</td>\n",
    "        <td>dict.clear()</td>\n",
    "        <td>dict.copy()</td>\n",
    "    </tr>\n",
    "    <tr>\n",
    "        <td>set.difference()</td>\n",
    "        <td>set.difference_update()</td>\n",
    "        <td>set.discard()</td>\n",
    "        <td>dict.fromkeys()</td>\n",
    "        <td>dict.get()</td>\n",
    "    </tr>\n",
    "    <tr>\n",
    "        <td>set.intersection()</td>\n",
    "        <td>set.intersection_update()</td>\n",
    "        <td>set.isdisjoint()</td>\n",
    "        <td>dict.items()</td>\n",
    "        <td>dict.keys()</td>\n",
    "    </tr>\n",
    "    <tr>\n",
    "        <td>set.issubset()</td>\n",
    "        <td>set.issuperset()</td>\n",
    "        <td>set.pop()</td>\n",
    "        <td>dict.pop()</td>\n",
    "        <td>dict.popitem()</td>\n",
    "    </tr>\n",
    "    <tr>\n",
    "        <td>set.remove()</td>\n",
    "        <td>set.symmetric_difference()</td>\n",
    "        <td>set.symmetric_difference_update()</td>\n",
    "        <td>dict.setdefault()</td>\n",
    "        <td>dict.update()</td>\n",
    "    </tr>\n",
    "    <tr>\n",
    "        <td>set.union()</td>\n",
    "        <td>set.update()</td>\n",
    "        <td></td>\n",
    "        <td>dict.values()</td>\n",
    "        <td></td>\n",
    "    </tr>\n",
    "</table>\n",
    "\n",
    "✍️ **Key Points**:\n",
    "   - Sets are unordered collections of unique elements, and support set theory operations like union, intersection, difference, etc.\n",
    "   - Dictionaries map keys to values and allow you to retrieve, update, or delete data using keys.\n",
    "\n",
    "---\n",
    "\n",
    "📝 **Docs**:\n",
    "   - Set: [docs.python.org/3/library/stdtypes.html#set](https://docs.python.org/3/library/stdtypes.html#set)\n",
    "   - Dictionary: [docs.python.org/3/library/stdtypes.html#dict](https://docs.python.org/3/library/stdtypes.html#dict)\n",
    "   - Set Methods: [docs.python.org/3/tutorial/datastructures.html#sets](https://docs.python.org/3/tutorial/datastructures.html#sets)\n",
    "   - Dictionary Methods: [docs.python.org/3/tutorial/datastructures.html#dictionaries](https://docs.python.org/3/tutorial/datastructures.html#dictionaries)"
   ]
  },
  {
   "cell_type": "markdown",
   "metadata": {},
   "source": [
    "## Set Methods"
   ]
  },
  {
   "cell_type": "code",
   "execution_count": 1,
   "metadata": {},
   "outputs": [],
   "source": [
    "my_set = {1, 2, 3, 4}"
   ]
  },
  {
   "cell_type": "code",
   "execution_count": 2,
   "metadata": {},
   "outputs": [
    {
     "name": "stdout",
     "output_type": "stream",
     "text": [
      "{1, 2, 3, 4, 5}\n"
     ]
    }
   ],
   "source": [
    "# add(): add an element to the set\n",
    "my_set.add(5)\n",
    "\n",
    "# log\n",
    "print(my_set)"
   ]
  },
  {
   "cell_type": "code",
   "execution_count": 3,
   "metadata": {},
   "outputs": [
    {
     "name": "stdout",
     "output_type": "stream",
     "text": [
      "{1, 2, 3, 4, 5, 6, 7}\n"
     ]
    }
   ],
   "source": [
    "# update(): add multiple elements to the set\n",
    "my_set.update([6, 7])\n",
    "\n",
    "# log\n",
    "print(my_set)"
   ]
  },
  {
   "cell_type": "code",
   "execution_count": 4,
   "metadata": {},
   "outputs": [
    {
     "name": "stdout",
     "output_type": "stream",
     "text": [
      "{1, 2, 4, 5, 6, 7}\n"
     ]
    }
   ],
   "source": [
    "# remove(): remove an element, raises KeyError if not found\n",
    "my_set.remove(3)\n",
    "\n",
    "# log\n",
    "print(my_set)"
   ]
  },
  {
   "cell_type": "code",
   "execution_count": 5,
   "metadata": {},
   "outputs": [
    {
     "name": "stdout",
     "output_type": "stream",
     "text": [
      "{1, 2, 4, 5, 6, 7}\n"
     ]
    }
   ],
   "source": [
    "# discard(): remove an element, does not raise an error if not found\n",
    "my_set.discard(10)  # No error raised\n",
    "\n",
    "# log\n",
    "print(my_set)"
   ]
  },
  {
   "cell_type": "code",
   "execution_count": 6,
   "metadata": {},
   "outputs": [
    {
     "name": "stdout",
     "output_type": "stream",
     "text": [
      "{1, 2, 3, 4, 5}\n"
     ]
    }
   ],
   "source": [
    "# union(): combine two sets (returns a new set)\n",
    "set1 = {1, 2, 3}\n",
    "set2 = {3, 4, 5}\n",
    "union_set = set1.union(set2)\n",
    "\n",
    "# log\n",
    "print(union_set)"
   ]
  },
  {
   "cell_type": "code",
   "execution_count": 7,
   "metadata": {},
   "outputs": [
    {
     "name": "stdout",
     "output_type": "stream",
     "text": [
      "{3}\n"
     ]
    }
   ],
   "source": [
    "# intersection(): find common elements between two sets\n",
    "intersection_set = set1.intersection(set2)\n",
    "\n",
    "# log\n",
    "print(intersection_set)"
   ]
  },
  {
   "cell_type": "code",
   "execution_count": 8,
   "metadata": {},
   "outputs": [
    {
     "name": "stdout",
     "output_type": "stream",
     "text": [
      "{1, 2}\n"
     ]
    }
   ],
   "source": [
    "# difference(): elements in the first set but not in the second\n",
    "difference_set = set1.difference(set2)\n",
    "\n",
    "# log\n",
    "print(difference_set)"
   ]
  },
  {
   "cell_type": "code",
   "execution_count": 9,
   "metadata": {},
   "outputs": [
    {
     "name": "stdout",
     "output_type": "stream",
     "text": [
      "True\n"
     ]
    }
   ],
   "source": [
    "# issubset(): check if one set is a subset of another\n",
    "print(set1.issubset({1, 2, 3, 4}))"
   ]
  },
  {
   "cell_type": "code",
   "execution_count": 10,
   "metadata": {},
   "outputs": [
    {
     "name": "stdout",
     "output_type": "stream",
     "text": [
      "True\n"
     ]
    }
   ],
   "source": [
    "# issuperset(): check if one set is a superset of another\n",
    "print({1, 2, 3, 4}.issuperset(set1))"
   ]
  },
  {
   "cell_type": "markdown",
   "metadata": {},
   "source": [
    "## Dictionary Methods"
   ]
  },
  {
   "cell_type": "code",
   "execution_count": 11,
   "metadata": {},
   "outputs": [],
   "source": [
    "my_dict = {'name': 'Alice', 'age': 25, 'city': 'New York'}"
   ]
  },
  {
   "cell_type": "code",
   "execution_count": 12,
   "metadata": {},
   "outputs": [
    {
     "name": "stdout",
     "output_type": "stream",
     "text": [
      "dict_keys(['name', 'age', 'city'])\n"
     ]
    }
   ],
   "source": [
    "# keys(): return all keys of the dictionary\n",
    "keys = my_dict.keys()\n",
    "\n",
    "# log\n",
    "print(keys)"
   ]
  },
  {
   "cell_type": "code",
   "execution_count": 13,
   "metadata": {},
   "outputs": [
    {
     "name": "stdout",
     "output_type": "stream",
     "text": [
      "dict_values(['Alice', 25, 'New York'])\n"
     ]
    }
   ],
   "source": [
    "# values(): return all values of the dictionary\n",
    "values = my_dict.values()\n",
    "\n",
    "# log\n",
    "print(values)"
   ]
  },
  {
   "cell_type": "code",
   "execution_count": 14,
   "metadata": {},
   "outputs": [
    {
     "name": "stdout",
     "output_type": "stream",
     "text": [
      "dict_items([('name', 'Alice'), ('age', 25), ('city', 'New York')])\n"
     ]
    }
   ],
   "source": [
    "# items(): return all key-value pairs\n",
    "items = my_dict.items()\n",
    "\n",
    "# log\n",
    "print(items)"
   ]
  },
  {
   "cell_type": "code",
   "execution_count": 15,
   "metadata": {},
   "outputs": [
    {
     "name": "stdout",
     "output_type": "stream",
     "text": [
      "25\n",
      "Not Available\n"
     ]
    }
   ],
   "source": [
    "# get(): retrieve a value by key, returns None if key not found\n",
    "age = my_dict.get('age')\n",
    "print(age)\n",
    "nonexistent_value = my_dict.get('salary', 'Not Available')\n",
    "print(nonexistent_value)"
   ]
  },
  {
   "cell_type": "code",
   "execution_count": 16,
   "metadata": {},
   "outputs": [
    {
     "name": "stdout",
     "output_type": "stream",
     "text": [
      "25\n",
      "{'name': 'Alice', 'city': 'New York'}\n"
     ]
    }
   ],
   "source": [
    "# pop(): remove a key and return its value\n",
    "age = my_dict.pop('age')\n",
    "\n",
    "# log\n",
    "print(age)\n",
    "print(my_dict)"
   ]
  },
  {
   "cell_type": "code",
   "execution_count": 17,
   "metadata": {},
   "outputs": [
    {
     "name": "stdout",
     "output_type": "stream",
     "text": [
      "{'name': 'Alice', 'city': 'San Francisco', 'age': 26}\n"
     ]
    }
   ],
   "source": [
    "# update(): update the dictionary with another dictionary or key-value pairs\n",
    "my_dict.update({'age': 26, 'city': 'San Francisco'})\n",
    "\n",
    "# log\n",
    "print(my_dict)"
   ]
  },
  {
   "cell_type": "code",
   "execution_count": 18,
   "metadata": {},
   "outputs": [
    {
     "name": "stdout",
     "output_type": "stream",
     "text": [
      "Unknown\n",
      "{'name': 'Alice', 'city': 'San Francisco', 'age': 26, 'location': 'Unknown'}\n"
     ]
    }
   ],
   "source": [
    "# setdefault(): get the value of a key, set it if key does not exist\n",
    "location = my_dict.setdefault('location', 'Unknown')\n",
    "\n",
    "# log\n",
    "print(location)\n",
    "print(my_dict)"
   ]
  },
  {
   "cell_type": "code",
   "execution_count": 19,
   "metadata": {},
   "outputs": [
    {
     "name": "stdout",
     "output_type": "stream",
     "text": [
      "('location', 'Unknown')\n"
     ]
    }
   ],
   "source": [
    "# popitem(): remove and return the last key-value pair (insertion order)\n",
    "last_item = my_dict.popitem()\n",
    "\n",
    "# log\n",
    "print(last_item)"
   ]
  },
  {
   "cell_type": "code",
   "execution_count": 20,
   "metadata": {},
   "outputs": [
    {
     "name": "stdout",
     "output_type": "stream",
     "text": [
      "{}\n"
     ]
    }
   ],
   "source": [
    "# clear(): remove all items from the dictionary\n",
    "my_dict.clear()\n",
    "\n",
    "# log\n",
    "print(my_dict)"
   ]
  }
 ],
 "metadata": {
  "kernelspec": {
   "display_name": "Python 3",
   "language": "python",
   "name": "python3"
  },
  "language_info": {
   "codemirror_mode": {
    "name": "ipython",
    "version": 3
   },
   "file_extension": ".py",
   "mimetype": "text/x-python",
   "name": "python",
   "nbconvert_exporter": "python",
   "pygments_lexer": "ipython3",
   "version": "3.12.3"
  }
 },
 "nbformat": 4,
 "nbformat_minor": 2
}
