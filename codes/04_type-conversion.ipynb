{
 "cells": [
  {
   "cell_type": "markdown",
   "metadata": {},
   "source": [
    "📝 **Author:** Amirhossein Heydari - 📧 **Email:** AmirhosseinHeydari78@gmail.com - 📍 **Linktree:** [linktr.ee/mr_pylin](https://linktr.ee/mr_pylin)\n",
    "\n",
    "---"
   ]
  },
  {
   "cell_type": "markdown",
   "metadata": {},
   "source": [
    "# Type Conversion\n",
    "   - Type conversion refers to the process of converting one data type into another\n",
    "   - Types of conversion:\n",
    "      - ⚠️ Implicit Type Conversion (Automatic)\n",
    "         - Python automatically converts one data type to another without the need for user intervention\n",
    "         - This usually happens when performing operations between different data types where one type can be safely converted to another\n",
    "      - ✅ Explicit Type Conversion (Manual)\n",
    "         - In explicit type conversion (also called `type casting`), the user manually converts one data type to another using predefined functions.\n",
    "\n",
    "<table style=\"margin: 0 auto;\">\n",
    "   <thead>\n",
    "      <tr>\n",
    "         <th>Function</th>\n",
    "         <th>Description</th>\n",
    "         <th>Example</th>\n",
    "      </tr>\n",
    "   </thead>\n",
    "   <tbody>\n",
    "      <tr>\n",
    "         <td><code>int()</code></td>\n",
    "         <td>Converts to integer (from float, string)</td>\n",
    "         <td><code>int(3.8)</code> → <code>3</code></td>\n",
    "      </tr>\n",
    "      <tr>\n",
    "         <td><code>float()</code></td>\n",
    "         <td>Converts to float (from int, string)</td>\n",
    "         <td><code>float('10.5')</code> → <code>10.5</code></td>\n",
    "      </tr>\n",
    "      <tr>\n",
    "         <td><code>str()</code></td>\n",
    "         <td>Converts to string (from int, float, list)</td>\n",
    "         <td><code>str(15)</code> → <code>'15'</code></td>\n",
    "      </tr>\n",
    "      <tr>\n",
    "         <td><code>list()</code></td>\n",
    "         <td>Converts to a list (from tuple, string)</td>\n",
    "         <td><code>list('abc')</code> → <code>['a', 'b', 'c']</code></td>\n",
    "      </tr>\n",
    "      <tr>\n",
    "         <td><code>tuple()</code></td>\n",
    "         <td>Converts to a tuple (from list, string)</td>\n",
    "         <td><code>tuple([1, 2])</code> → <code>(1, 2)</code></td>\n",
    "      </tr>\n",
    "      <tr>\n",
    "         <td><code>bool()</code></td>\n",
    "         <td>Converts to a boolean (from any type)</td>\n",
    "         <td><code>bool(0)</code> → <code>False</code></td>\n",
    "      </tr>\n",
    "   </tbody>\n",
    "</table>\n",
    "\n",
    "---\n",
    "\n",
    "✍️ **Key Considerations:**\n",
    "   - Data loss:\n",
    "      - Explicit type conversion might lead to data loss, such as when converting from a float to an integer (the decimal part is truncated).\n",
    "   - TypeErrors:\n",
    "      - Incompatible types might raise errors during type casting, e.g., trying to convert a string containing letters to an integer.\n",
    "\n",
    "📝 **Docs**:\n",
    "   - Functions: [docs.python.org/3/library/functions.html](https://docs.python.org/3/library/functions.html)\n",
    "   - stdtypes: [docs.python.org/3/library/stdtypes.html](https://docs.python.org/3/library/stdtypes.html)"
   ]
  },
  {
   "cell_type": "markdown",
   "metadata": {},
   "source": [
    "## Implicit Type Conversion"
   ]
  },
  {
   "cell_type": "code",
   "execution_count": 1,
   "metadata": {},
   "outputs": [
    {
     "name": "stdout",
     "output_type": "stream",
     "text": [
      "result       : 7.5\n",
      "type(result) : <class 'float'>\n"
     ]
    }
   ],
   "source": [
    "# integer to float\n",
    "a = 5\n",
    "b = 2.5\n",
    "result = a + b\n",
    "\n",
    "# log\n",
    "print(f\"result       : {result}\")\n",
    "print(f\"type(result) : {type(result)}\")"
   ]
  },
  {
   "cell_type": "code",
   "execution_count": 2,
   "metadata": {},
   "outputs": [
    {
     "name": "stdout",
     "output_type": "stream",
     "text": [
      "result       : 1\n",
      "type(result) : <class 'int'>\n"
     ]
    }
   ],
   "source": [
    "# boolean to integer\n",
    "a = True\n",
    "b = False\n",
    "result = a + b\n",
    "\n",
    "# log\n",
    "print(f\"result       : {result}\")\n",
    "print(f\"type(result) : {type(result)}\")"
   ]
  },
  {
   "cell_type": "code",
   "execution_count": 3,
   "metadata": {},
   "outputs": [
    {
     "name": "stdout",
     "output_type": "stream",
     "text": [
      "result       : I am 25 years old.\n",
      "type(result) : <class 'str'>\n"
     ]
    }
   ],
   "source": [
    "# integer to string (during string concatenation)\n",
    "age = 25\n",
    "result = f\"I am {age} years old.\"\n",
    "\n",
    "# log\n",
    "print(f\"result       : {result}\")\n",
    "print(f\"type(result) : {type(result)}\")"
   ]
  },
  {
   "cell_type": "markdown",
   "metadata": {},
   "source": [
    "## Explicit Type Conversion"
   ]
  },
  {
   "cell_type": "code",
   "execution_count": 9,
   "metadata": {},
   "outputs": [
    {
     "name": "stdout",
     "output_type": "stream",
     "text": [
      "num           : 100\n",
      "type(num)     : <class 'int'>\n",
      "num_str       : 100\n",
      "type(num_str) : <class 'str'>\n"
     ]
    }
   ],
   "source": [
    "# integer to string\n",
    "num = 100\n",
    "num_str = str(num)\n",
    "\n",
    "# log\n",
    "print(f\"num           : {num}\")\n",
    "print(f\"type(num)     : {type(num)}\")\n",
    "print(f\"num_str       : {num_str}\")\n",
    "print(f\"type(num_str) : {type(num_str)}\")"
   ]
  },
  {
   "cell_type": "code",
   "execution_count": 10,
   "metadata": {},
   "outputs": [
    {
     "name": "stdout",
     "output_type": "stream",
     "text": [
      "num_str       : 50\n",
      "type(num_str) : <class 'str'>\n",
      "num           : 50\n",
      "type(num)     : <class 'int'>\n"
     ]
    }
   ],
   "source": [
    "# string to integer\n",
    "# conversion works if the string represents a valid number. otherwise, it raises a `ValueError`\n",
    "num_str = \"50\"\n",
    "num = int(num_str)\n",
    "\n",
    "# log\n",
    "print(f\"num_str       : {num_str}\")\n",
    "print(f\"type(num_str) : {type(num_str)}\")\n",
    "print(f\"num           : {num}\")\n",
    "print(f\"type(num)     : {type(num)}\")"
   ]
  },
  {
   "cell_type": "code",
   "execution_count": 11,
   "metadata": {},
   "outputs": [
    {
     "name": "stdout",
     "output_type": "stream",
     "text": [
      "num_float       : 12.76\n",
      "type(num_float) : <class 'float'>\n",
      "num_int         : 12\n",
      "type(num_int)   : <class 'int'>\n"
     ]
    }
   ],
   "source": [
    "# float to int (decimal part is truncated)\n",
    "num_float = 12.76\n",
    "num_int = int(num_float)  \n",
    "\n",
    "# log\n",
    "print(f\"num_float       : {num_float}\")\n",
    "print(f\"type(num_float) : {type(num_float)}\")\n",
    "print(f\"num_int         : {num_int}\")\n",
    "print(f\"type(num_int)   : {type(num_int)}\")"
   ]
  },
  {
   "cell_type": "code",
   "execution_count": 13,
   "metadata": {},
   "outputs": [
    {
     "name": "stdout",
     "output_type": "stream",
     "text": [
      "num             : 5\n",
      "type(num)       : <class 'int'>\n",
      "num_float       : 5.0\n",
      "type(num_float) : <class 'float'>\n"
     ]
    }
   ],
   "source": [
    "# integer to float\n",
    "num = 5\n",
    "num_float = float(num)\n",
    "\n",
    "# log\n",
    "print(f\"num             : {num}\")\n",
    "print(f\"type(num)       : {type(num)}\")\n",
    "print(f\"num_float       : {num_float}\")\n",
    "print(f\"type(num_float) : {type(num_float)}\")"
   ]
  },
  {
   "cell_type": "code",
   "execution_count": 23,
   "metadata": {},
   "outputs": [
    {
     "name": "stdout",
     "output_type": "stream",
     "text": [
      "items           : ['apple', 'banana', 'cherry']\n",
      "type(items)     : <class 'list'>\n",
      "len(items)      : 3\n",
      "items_str       : apple, banana, cherry\n",
      "type(items_str) : <class 'str'>\n",
      "len(items_str)  : 21\n"
     ]
    }
   ],
   "source": [
    "# join list elements into a string with separator\n",
    "items = ['apple', 'banana', 'cherry']\n",
    "items_str = ', '.join(items)  \n",
    "\n",
    "# log\n",
    "print(f\"items           : {items}\")\n",
    "print(f\"type(items)     : {type(items)}\")\n",
    "print(f\"len(items)      : {len(items)}\")\n",
    "print(f\"items_str       : {items_str}\")\n",
    "print(f\"type(items_str) : {type(items_str)}\")\n",
    "print(f\"len(items_str)  : {len(items_str)}\")"
   ]
  },
  {
   "cell_type": "code",
   "execution_count": 24,
   "metadata": {},
   "outputs": [
    {
     "name": "stdout",
     "output_type": "stream",
     "text": [
      "sentence         : Hello world\n",
      "type(sentence)   : <class 'str'>\n",
      "len(sentence)    : 11\n",
      "chars_list       : ['H', 'e', 'l', 'l', 'o', ' ', 'w', 'o', 'r', 'l', 'd']\n",
      "type(chars_list) : <class 'list'>\n",
      "len(chars_list)  : 11\n"
     ]
    }
   ],
   "source": [
    "# string to list of characters\n",
    "sentence = \"Hello world\"\n",
    "chars_list = list(sentence)\n",
    "\n",
    "# log\n",
    "print(f\"sentence         : {sentence}\")\n",
    "print(f\"type(sentence)   : {type(sentence)}\")\n",
    "print(f\"len(sentence)    : {len(sentence)}\")\n",
    "print(f\"chars_list       : {chars_list}\")\n",
    "print(f\"type(chars_list) : {type(chars_list)}\")\n",
    "print(f\"len(chars_list)  : {len(chars_list)}\")"
   ]
  },
  {
   "cell_type": "code",
   "execution_count": 25,
   "metadata": {},
   "outputs": [
    {
     "name": "stdout",
     "output_type": "stream",
     "text": [
      "my_list        : [1, 2, 3]\n",
      "type(my_list)  : <class 'list'>\n",
      "len(my_list)   : 3\n",
      "my_tuple       : (1, 2, 3)\n",
      "type(my_tuple) : <class 'tuple'>\n",
      "len(my_tuple)  : 3\n"
     ]
    }
   ],
   "source": [
    "# list to tuple\n",
    "my_list = [1, 2, 3]\n",
    "my_tuple = tuple(my_list)\n",
    "\n",
    "# log\n",
    "print(f\"my_list        : {my_list}\")\n",
    "print(f\"type(my_list)  : {type(my_list)}\")\n",
    "print(f\"len(my_list)   : {len(my_list)}\")\n",
    "print(f\"my_tuple       : {my_tuple}\")\n",
    "print(f\"type(my_tuple) : {type(my_tuple)}\")\n",
    "print(f\"len(my_tuple)  : {len(my_tuple)}\")"
   ]
  },
  {
   "cell_type": "code",
   "execution_count": 26,
   "metadata": {},
   "outputs": [
    {
     "name": "stdout",
     "output_type": "stream",
     "text": [
      "my_tuple       : (10, 20, 30)\n",
      "type(my_tuple) : <class 'tuple'>\n",
      "len(my_tuple)  : 3\n",
      "my_list        : [10, 20, 30]\n",
      "type(my_list)  : <class 'list'>\n",
      "len(my_list)   : 3\n"
     ]
    }
   ],
   "source": [
    "# tuple to list\n",
    "my_tuple = (10, 20, 30)\n",
    "my_list = list(my_tuple)  \n",
    "\n",
    "# log\n",
    "print(f\"my_tuple       : {my_tuple}\")\n",
    "print(f\"type(my_tuple) : {type(my_tuple)}\")\n",
    "print(f\"len(my_tuple)  : {len(my_tuple)}\")\n",
    "print(f\"my_list        : {my_list}\")\n",
    "print(f\"type(my_list)  : {type(my_list)}\")\n",
    "print(f\"len(my_list)   : {len(my_list)}\")"
   ]
  },
  {
   "cell_type": "code",
   "execution_count": 17,
   "metadata": {},
   "outputs": [
    {
     "name": "stdout",
     "output_type": "stream",
     "text": [
      "num_str         : 3.14159\n",
      "type(num_str)   : <class 'str'>\n",
      "num_float       : 3.14159\n",
      "type(num_float) : <class 'float'>\n"
     ]
    }
   ],
   "source": [
    "# string to float\n",
    "num_str = \"3.14159\"\n",
    "num_float = float(num_str)\n",
    "\n",
    "# log\n",
    "print(f\"num_str         : {num_str}\")\n",
    "print(f\"type(num_str)   : {type(num_str)}\")\n",
    "print(f\"num_float       : {num_float}\")\n",
    "print(f\"type(num_float) : {type(num_float)}\")"
   ]
  },
  {
   "cell_type": "code",
   "execution_count": 18,
   "metadata": {},
   "outputs": [
    {
     "name": "stdout",
     "output_type": "stream",
     "text": [
      "is_valid       : True\n",
      "type(is_valid) : <class 'bool'>\n",
      "num            : 1\n",
      "type(num)      : <class 'int'>\n"
     ]
    }
   ],
   "source": [
    "# boolean to integer (True → 1, False → 0)\n",
    "is_valid = True\n",
    "num = int(is_valid)\n",
    "\n",
    "# log\n",
    "print(f\"is_valid       : {is_valid}\")\n",
    "print(f\"type(is_valid) : {type(is_valid)}\")\n",
    "print(f\"num            : {num}\")\n",
    "print(f\"type(num)      : {type(num)}\")"
   ]
  },
  {
   "cell_type": "code",
   "execution_count": 21,
   "metadata": {},
   "outputs": [
    {
     "name": "stdout",
     "output_type": "stream",
     "text": [
      "num          : 0\n",
      "type(num)    : <class 'int'>\n",
      "result       : False\n",
      "type(result) : <class 'bool'>\n"
     ]
    }
   ],
   "source": [
    "# 0 is False, non-zero values are True\n",
    "num = 0\n",
    "result = bool(num)  \n",
    "\n",
    "# log\n",
    "print(f\"num          : {num}\")\n",
    "print(f\"type(num)    : {type(num)}\")\n",
    "print(f\"result       : {result}\")\n",
    "print(f\"type(result) : {type(result)}\")"
   ]
  },
  {
   "cell_type": "code",
   "execution_count": 30,
   "metadata": {},
   "outputs": [
    {
     "name": "stdout",
     "output_type": "stream",
     "text": [
      "my_dict           : {'a': 1, 'b': 2, 'c': 3}\n",
      "my_dict.keys()    : dict_keys(['a', 'b', 'c'])\n",
      "my_dict.values()  : dict_values([1, 2, 3])\n",
      "type(my_dict)     : <class 'dict'>\n",
      "len(my_dict)      : 3\n",
      "--------------------------------------------------\n",
      "keys_list         : ['a', 'b', 'c']\n",
      "type(keys_list)   : <class 'list'>\n",
      "len(keys_list)    : 3\n",
      "values_list       : [1, 2, 3]\n",
      "type(values_list) : <class 'list'>\n",
      "len(values_list)  : 3\n"
     ]
    }
   ],
   "source": [
    "my_dict = {'a': 1, 'b': 2, 'c': 3}\n",
    "\n",
    "# dictionary keys to list\n",
    "keys_list = list(my_dict.keys())\n",
    "\n",
    "# dictionary values to list\n",
    "values_list = list(my_dict.values())\n",
    "\n",
    "# log\n",
    "print(f\"my_dict           : {my_dict}\")\n",
    "print(f\"my_dict.keys()    : {my_dict.keys()}\")\n",
    "print(f\"my_dict.values()  : {my_dict.values()}\")\n",
    "print(f\"type(my_dict)     : {type(my_dict)}\")\n",
    "print(f\"len(my_dict)      : {len(my_dict)}\")\n",
    "print('-' * 50)\n",
    "print(f\"keys_list         : {keys_list}\")\n",
    "print(f\"type(keys_list)   : {type(keys_list)}\")\n",
    "print(f\"len(keys_list)    : {len(keys_list)}\")\n",
    "print(f\"values_list       : {values_list}\")\n",
    "print(f\"type(values_list) : {type(values_list)}\")\n",
    "print(f\"len(values_list)  : {len(values_list)}\")"
   ]
  },
  {
   "cell_type": "code",
   "execution_count": 34,
   "metadata": {},
   "outputs": [
    {
     "name": "stdout",
     "output_type": "stream",
     "text": [
      "complex_num       : (3+4j)\n",
      "type(complex_num) : <class 'complex'>\n",
      "complex_str       : (3+4j)\n",
      "type(complex_str) : <class 'str'>\n"
     ]
    }
   ],
   "source": [
    "# complex number to string\n",
    "complex_num = complex(3, 4)  # complex_num = 3+4j\n",
    "complex_str = str(complex_num)\n",
    "\n",
    "# log\n",
    "print(f\"complex_num       : {complex_num}\")\n",
    "print(f\"type(complex_num) : {type(complex_num)}\")\n",
    "print(f\"complex_str       : {complex_str}\")\n",
    "print(f\"type(complex_str) : {type(complex_str)}\")"
   ]
  },
  {
   "cell_type": "code",
   "execution_count": 36,
   "metadata": {},
   "outputs": [
    {
     "name": "stdout",
     "output_type": "stream",
     "text": [
      "byte_data       : b'Hello'\n",
      "type(byte_data) : <class 'bytes'>\n",
      "len(byte_data)  : 5\n",
      "str_data        : Hello\n",
      "type(str_data)  : <class 'str'>\n",
      "len(str_data)   : 5\n"
     ]
    }
   ],
   "source": [
    "# bytes to string\n",
    "byte_data = b'Hello'\n",
    "str_data = byte_data.decode('utf-8')\n",
    "\n",
    "# log\n",
    "print(f\"byte_data       : {byte_data}\")\n",
    "print(f\"type(byte_data) : {type(byte_data)}\")\n",
    "print(f\"len(byte_data)  : {len(byte_data)}\")\n",
    "print(f\"str_data        : {str_data}\")\n",
    "print(f\"type(str_data)  : {type(str_data)}\")\n",
    "print(f\"len(str_data)   : {len(str_data)}\")"
   ]
  },
  {
   "cell_type": "code",
   "execution_count": 37,
   "metadata": {},
   "outputs": [
    {
     "name": "stdout",
     "output_type": "stream",
     "text": [
      "str_data        : Hello\n",
      "type(str_data)  : <class 'str'>\n",
      "len(str_data)   : 5\n",
      "byte_data       : b'Hello'\n",
      "type(byte_data) : <class 'bytes'>\n",
      "len(byte_data)  : 5\n"
     ]
    }
   ],
   "source": [
    "# string to bytes\n",
    "str_data = \"Hello\"\n",
    "byte_data = str_data.encode('utf-8')\n",
    "\n",
    "# log\n",
    "print(f\"str_data        : {str_data}\")\n",
    "print(f\"type(str_data)  : {type(str_data)}\")\n",
    "print(f\"len(str_data)   : {len(str_data)}\")\n",
    "print(f\"byte_data       : {byte_data}\")\n",
    "print(f\"type(byte_data) : {type(byte_data)}\")\n",
    "print(f\"len(byte_data)  : {len(byte_data)}\")"
   ]
  }
 ],
 "metadata": {
  "author_email": "AmirhosseinHeydari78@gmail.com",
  "author_github": "https://github.com/mr-pylin",
  "author_name": "Amirhossein Heydari",
  "kernelspec": {
   "display_name": "Python 3",
   "language": "python",
   "name": "python3"
  },
  "language_info": {
   "codemirror_mode": {
    "name": "ipython",
    "version": 3
   },
   "file_extension": ".py",
   "mimetype": "text/x-python",
   "name": "python",
   "nbconvert_exporter": "python",
   "pygments_lexer": "ipython3",
   "version": "3.12.3"
  },
  "origin_repo": "https://github.com/mr-pylin/python-workshop"
 },
 "nbformat": 4,
 "nbformat_minor": 2
}
