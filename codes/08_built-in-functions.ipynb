{
 "cells": [
  {
   "cell_type": "markdown",
   "metadata": {},
   "source": [
    "📝 **Author:** Amirhossein Heydari - 📧 **Email:** AmirhosseinHeydari78@gmail.com - 📍 **Linktree:** [linktr.ee/mr_pylin](https://linktr.ee/mr_pylin)\n",
    "\n",
    "---"
   ]
  },
  {
   "cell_type": "markdown",
   "metadata": {},
   "source": [
    "# Built-in Functions\n",
    "   - A collection of built-in functions that are always available and can be used without any import or setup\n",
    "   - These functions perform a wide range of tasks, from data type conversions to input/output operations\n",
    "\n",
    "🔢 **All Built-in Functions**\n",
    "<table style=\"font-family: monospace; margin: 0 auto;\">\n",
    "   <tbody>\n",
    "      <tr>\n",
    "         <td>abs()</td>\n",
    "         <td>aiter()</td>\n",
    "         <td>all()</td>\n",
    "         <td>anext()</td>\n",
    "         <td>any()</td>\n",
    "         <td>ascii()</td>\n",
    "         <td>bin()</td>\n",
    "      </tr>\n",
    "      <tr>\n",
    "         <td>bool()</td>\n",
    "         <td>breakpoint()</td>\n",
    "         <td>bytearray()</td>\n",
    "         <td>bytes()</td>\n",
    "         <td>callable()</td>\n",
    "         <td>chr()</td>\n",
    "         <td>classmethod()</td>\n",
    "      </tr>\n",
    "      <tr>\n",
    "         <td>compile()</td>\n",
    "         <td>complex()</td>\n",
    "         <td>delattr()</td>\n",
    "         <td>dict()</td>\n",
    "         <td>dir()</td>\n",
    "         <td>divmod()</td>\n",
    "         <td>enumerate()</td>\n",
    "      </tr>\n",
    "      <tr>\n",
    "         <td>eval()</td>\n",
    "         <td>exec()</td>\n",
    "         <td>filter()</td>\n",
    "         <td>float()</td>\n",
    "         <td>format()</td>\n",
    "         <td>frozenset()</td>\n",
    "         <td>getattr()</td>\n",
    "      </tr>\n",
    "      <tr>\n",
    "         <td>globals()</td>\n",
    "         <td>hasattr()</td>\n",
    "         <td>hash()</td>\n",
    "         <td>help()</td>\n",
    "         <td>hex()</td>\n",
    "         <td>id()</td>\n",
    "         <td>input()</td>\n",
    "      </tr>\n",
    "      <tr>\n",
    "         <td>int()</td>\n",
    "         <td>isinstance()</td>\n",
    "         <td>issubclass()</td>\n",
    "         <td>iter()</td>\n",
    "         <td>len()</td>\n",
    "         <td>list()</td>\n",
    "         <td>locals()</td>\n",
    "      </tr>\n",
    "      <tr>\n",
    "         <td>map()</td>\n",
    "         <td>max()</td>\n",
    "         <td>memoryview()</td>\n",
    "         <td>min()</td>\n",
    "         <td>next()</td>\n",
    "         <td>object()</td>\n",
    "         <td>oct()</td>\n",
    "      </tr>\n",
    "      <tr>\n",
    "         <td>open()</td>\n",
    "         <td>ord()</td>\n",
    "         <td>pow()</td>\n",
    "         <td>print()</td>\n",
    "         <td>property()</td>\n",
    "         <td>range()</td>\n",
    "         <td>repr()</td>\n",
    "      </tr>\n",
    "      <tr>\n",
    "         <td>reversed()</td>\n",
    "         <td>round()</td>\n",
    "         <td>set()</td>\n",
    "         <td>setattr()</td>\n",
    "         <td>slice()</td>\n",
    "         <td>sorted()</td>\n",
    "         <td>staticmethod()</td>\n",
    "      </tr>\n",
    "      <tr>\n",
    "         <td>str()</td>\n",
    "         <td>sum()</td>\n",
    "         <td>super()</td>\n",
    "         <td>tuple()</td>\n",
    "         <td>type()</td>\n",
    "         <td>vars()</td>\n",
    "         <td>zip()</td>\n",
    "      </tr>\n",
    "      <tr>\n",
    "         <td>__import__()</td>\n",
    "         <td></td>\n",
    "         <td></td>\n",
    "         <td></td>\n",
    "         <td></td>\n",
    "         <td></td>\n",
    "         <td></td>\n",
    "      </tr>\n",
    "   </tbody>\n",
    "</table>\n",
    "\n",
    "---\n",
    "\n",
    "📝 **Docs**:\n",
    "   - Built-in Functions: [docs.python.org/3/library/functions.html#built-in-functions](https://docs.python.org/3/library/functions.html#built-in-functions)\n",
    "   - Built-in Types: [docs.python.org/3/library/stdtypes.html](https://docs.python.org/3/library/stdtypes.html)"
   ]
  },
  {
   "cell_type": "markdown",
   "metadata": {},
   "source": [
    "## Types of Built-in Functions"
   ]
  },
  {
   "cell_type": "markdown",
   "metadata": {},
   "source": [
    "### Type Conversion\n",
    "   - Convert between different data types\n",
    "   - Examples: `int()`, `float()`, `str()`, `list()`, ..."
   ]
  },
  {
   "cell_type": "code",
   "execution_count": 1,
   "metadata": {},
   "outputs": [
    {
     "name": "stdout",
     "output_type": "stream",
     "text": [
      "123\n"
     ]
    }
   ],
   "source": [
    "result = int(\"123\")\n",
    "\n",
    "# log\n",
    "print(result)"
   ]
  },
  {
   "cell_type": "code",
   "execution_count": 2,
   "metadata": {},
   "outputs": [
    {
     "name": "stdout",
     "output_type": "stream",
     "text": [
      "3.14\n"
     ]
    }
   ],
   "source": [
    "result = float(\"3.14\")\n",
    "\n",
    "# log\n",
    "print(result)"
   ]
  },
  {
   "cell_type": "code",
   "execution_count": 3,
   "metadata": {},
   "outputs": [
    {
     "name": "stdout",
     "output_type": "stream",
     "text": [
      "123\n"
     ]
    }
   ],
   "source": [
    "result = str(123)\n",
    "\n",
    "# log\n",
    "print(result)"
   ]
  },
  {
   "cell_type": "markdown",
   "metadata": {},
   "source": [
    "### Mathematical Operations:\n",
    "   - Perform basic math and numerical operations\n",
    "   - Examples: `abs()`, `sum()`, `round()`, `min()`, `max()`, `pow()`, ..."
   ]
  },
  {
   "cell_type": "code",
   "execution_count": 4,
   "metadata": {},
   "outputs": [
    {
     "name": "stdout",
     "output_type": "stream",
     "text": [
      "5\n"
     ]
    }
   ],
   "source": [
    "result = abs(-5)\n",
    "\n",
    "# log\n",
    "print(result)"
   ]
  },
  {
   "cell_type": "code",
   "execution_count": 5,
   "metadata": {},
   "outputs": [
    {
     "name": "stdout",
     "output_type": "stream",
     "text": [
      "10\n"
     ]
    }
   ],
   "source": [
    "result = sum([1, 2, 3, 4])\n",
    "\n",
    "# log\n",
    "print(result)"
   ]
  },
  {
   "cell_type": "code",
   "execution_count": 7,
   "metadata": {},
   "outputs": [
    {
     "name": "stdout",
     "output_type": "stream",
     "text": [
      "8\n"
     ]
    }
   ],
   "source": [
    "result = pow(2, 3)  # 2 ** 3\n",
    "\n",
    "# log\n",
    "print(result)"
   ]
  },
  {
   "cell_type": "markdown",
   "metadata": {},
   "source": [
    "### String Operations:\n",
    "   - Perform operations on strings\n",
    "   - Examples: `len()`, `ord()`, `chr()`, `format()`, ..."
   ]
  },
  {
   "cell_type": "code",
   "execution_count": 8,
   "metadata": {},
   "outputs": [
    {
     "name": "stdout",
     "output_type": "stream",
     "text": [
      "13\n"
     ]
    }
   ],
   "source": [
    "result = len(\"Hello, World!\")\n",
    "\n",
    "# log\n",
    "print(result)"
   ]
  },
  {
   "cell_type": "code",
   "execution_count": 9,
   "metadata": {},
   "outputs": [
    {
     "name": "stdout",
     "output_type": "stream",
     "text": [
      "65\n"
     ]
    }
   ],
   "source": [
    "result = ord('A')\n",
    "\n",
    "# log\n",
    "print(result)"
   ]
  },
  {
   "cell_type": "code",
   "execution_count": 10,
   "metadata": {},
   "outputs": [
    {
     "name": "stdout",
     "output_type": "stream",
     "text": [
      "A\n"
     ]
    }
   ],
   "source": [
    "result = chr(65)\n",
    "\n",
    "# log\n",
    "print(result)"
   ]
  },
  {
   "cell_type": "markdown",
   "metadata": {},
   "source": [
    "### Iterables and Collections:\n",
    "   - Handle and manipulate iterables like lists, tuples, and sets\n",
    "   - Examples: `len()`, `range()`, `enumerate()`, `map()`, `zip()`, `zip()`, ..."
   ]
  },
  {
   "cell_type": "code",
   "execution_count": 11,
   "metadata": {},
   "outputs": [
    {
     "name": "stdout",
     "output_type": "stream",
     "text": [
      "1\n",
      "2\n",
      "3\n",
      "4\n",
      "5\n"
     ]
    }
   ],
   "source": [
    "for i in range(1, 6):\n",
    "    print(i)"
   ]
  },
  {
   "cell_type": "code",
   "execution_count": 12,
   "metadata": {},
   "outputs": [
    {
     "name": "stdout",
     "output_type": "stream",
     "text": [
      "0 apple\n",
      "1 banana\n",
      "2 cherry\n"
     ]
    }
   ],
   "source": [
    "for index, value in enumerate([\"apple\", \"banana\", \"cherry\"]):\n",
    "    print(index, value)"
   ]
  },
  {
   "cell_type": "code",
   "execution_count": 13,
   "metadata": {},
   "outputs": [
    {
     "name": "stdout",
     "output_type": "stream",
     "text": [
      "[('Alice', 85), ('Bob', 90), ('Charlie', 95)]\n"
     ]
    }
   ],
   "source": [
    "names = [\"Alice\", \"Bob\", \"Charlie\"]\n",
    "scores = [85, 90, 95]\n",
    "\n",
    "result = list(zip(names, scores))\n",
    "\n",
    "# log\n",
    "print(result)"
   ]
  },
  {
   "cell_type": "markdown",
   "metadata": {},
   "source": [
    "### Input/Output Operations:\n",
    "   - Handle input/output operations\n",
    "   - Examples: `print()`, `input()`, `open()`"
   ]
  },
  {
   "cell_type": "code",
   "execution_count": 14,
   "metadata": {},
   "outputs": [
    {
     "name": "stdout",
     "output_type": "stream",
     "text": [
      "Hello, World!\n"
     ]
    }
   ],
   "source": [
    "print(\"Hello, World!\")"
   ]
  },
  {
   "cell_type": "code",
   "execution_count": 15,
   "metadata": {},
   "outputs": [
    {
     "name": "stdout",
     "output_type": "stream",
     "text": [
      "Hello, Jack!\n"
     ]
    }
   ],
   "source": [
    "name = input(\"Enter your name: \")\n",
    "print(f\"Hello, {name}!\")"
   ]
  },
  {
   "cell_type": "code",
   "execution_count": 16,
   "metadata": {},
   "outputs": [],
   "source": [
    "with open('../assets/texts/file1.txt', 'w') as f:\n",
    "    f.write(\"Hello, File!\")"
   ]
  },
  {
   "cell_type": "markdown",
   "metadata": {},
   "source": [
    "### Logical/Comparison Operations:\n",
    "   - Perform logical and comparison checks\n",
    "   - Examples: `all()`, `any()`, `isinstance()`, `issubclass()`"
   ]
  },
  {
   "cell_type": "code",
   "execution_count": 17,
   "metadata": {},
   "outputs": [
    {
     "name": "stdout",
     "output_type": "stream",
     "text": [
      "False\n"
     ]
    }
   ],
   "source": [
    "result = all([True, True, False])\n",
    "\n",
    "# log\n",
    "print(result)"
   ]
  },
  {
   "cell_type": "code",
   "execution_count": 18,
   "metadata": {},
   "outputs": [
    {
     "name": "stdout",
     "output_type": "stream",
     "text": [
      "True\n"
     ]
    }
   ],
   "source": [
    "result = any([False, False, True])\n",
    "\n",
    "# log\n",
    "print(result)"
   ]
  },
  {
   "cell_type": "code",
   "execution_count": 19,
   "metadata": {},
   "outputs": [
    {
     "name": "stdout",
     "output_type": "stream",
     "text": [
      "True\n"
     ]
    }
   ],
   "source": [
    "result = isinstance(5, int)\n",
    "\n",
    "# log\n",
    "print(result)"
   ]
  },
  {
   "cell_type": "markdown",
   "metadata": {},
   "source": [
    "### Object and Attribute Management:\n",
    "   - Work with objects and attributes\n",
    "   - Examples: `getattr`, `setattr`, `hasattr`, `dir`"
   ]
  },
  {
   "cell_type": "code",
   "execution_count": 20,
   "metadata": {},
   "outputs": [
    {
     "name": "stdout",
     "output_type": "stream",
     "text": [
      "John\n"
     ]
    }
   ],
   "source": [
    "class Person:\n",
    "    name = \"John\"\n",
    "\n",
    "\n",
    "p = Person()\n",
    "result = getattr(p, \"name\")\n",
    "print(result)"
   ]
  },
  {
   "cell_type": "code",
   "execution_count": 21,
   "metadata": {},
   "outputs": [
    {
     "name": "stdout",
     "output_type": "stream",
     "text": [
      "30\n"
     ]
    }
   ],
   "source": [
    "class Person:\n",
    "    pass\n",
    "\n",
    "\n",
    "p = Person()\n",
    "setattr(p, \"age\", 30)\n",
    "print(p.age)"
   ]
  },
  {
   "cell_type": "code",
   "execution_count": 22,
   "metadata": {},
   "outputs": [
    {
     "name": "stdout",
     "output_type": "stream",
     "text": [
      "['__add__', '__class__', '__class_getitem__', '__contains__', '__delattr__', '__delitem__', '__dir__', '__doc__', '__eq__', '__format__', '__ge__', '__getattribute__', '__getitem__', '__getstate__', '__gt__', '__hash__', '__iadd__', '__imul__', '__init__', '__init_subclass__', '__iter__', '__le__', '__len__', '__lt__', '__mul__', '__ne__', '__new__', '__reduce__', '__reduce_ex__', '__repr__', '__reversed__', '__rmul__', '__setattr__', '__setitem__', '__sizeof__', '__str__', '__subclasshook__', 'append', 'clear', 'copy', 'count', 'extend', 'index', 'insert', 'pop', 'remove', 'reverse', 'sort']\n"
     ]
    }
   ],
   "source": [
    "result = dir(list)\n",
    "print(result)"
   ]
  }
 ],
 "metadata": {
  "author_email": "AmirhosseinHeydari78@gmail.com",
  "author_github": "https://github.com/mr-pylin",
  "author_name": "Amirhossein Heydari",
  "kernelspec": {
   "display_name": "Python 3",
   "language": "python",
   "name": "python3"
  },
  "language_info": {
   "codemirror_mode": {
    "name": "ipython",
    "version": 3
   },
   "file_extension": ".py",
   "mimetype": "text/x-python",
   "name": "python",
   "nbconvert_exporter": "python",
   "pygments_lexer": "ipython3",
   "version": "3.12.3"
  },
  "origin_repo": "https://github.com/mr-pylin/python-workshop"
 },
 "nbformat": 4,
 "nbformat_minor": 2
}
